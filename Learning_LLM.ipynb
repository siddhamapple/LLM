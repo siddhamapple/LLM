{
  "nbformat": 4,
  "nbformat_minor": 0,
  "metadata": {
    "colab": {
      "provenance": [],
      "gpuType": "T4",
      "toc_visible": true,
      "collapsed_sections": [
        "A8JExWA9KrgU",
        "52Hm2TdhvkMT"
      ],
      "include_colab_link": true
    },
    "kernelspec": {
      "name": "python3",
      "display_name": "Python 3"
    },
    "language_info": {
      "name": "python"
    },
    "accelerator": "GPU",
    "widgets": {
      "application/vnd.jupyter.widget-state+json": {
        "2fa36ffff58d40139357d7ee184004e1": {
          "model_module": "@jupyter-widgets/controls",
          "model_name": "HBoxModel",
          "model_module_version": "1.5.0",
          "state": {
            "_dom_classes": [],
            "_model_module": "@jupyter-widgets/controls",
            "_model_module_version": "1.5.0",
            "_model_name": "HBoxModel",
            "_view_count": null,
            "_view_module": "@jupyter-widgets/controls",
            "_view_module_version": "1.5.0",
            "_view_name": "HBoxView",
            "box_style": "",
            "children": [
              "IPY_MODEL_90c7a2bcb974434aaaf6166852ab35eb",
              "IPY_MODEL_0cb89d748443481598b75195559aee27",
              "IPY_MODEL_019b8e37b0b64d688f56d48ad454bc8f"
            ],
            "layout": "IPY_MODEL_3c216db498b748079f8597d9f7561bae"
          }
        },
        "90c7a2bcb974434aaaf6166852ab35eb": {
          "model_module": "@jupyter-widgets/controls",
          "model_name": "HTMLModel",
          "model_module_version": "1.5.0",
          "state": {
            "_dom_classes": [],
            "_model_module": "@jupyter-widgets/controls",
            "_model_module_version": "1.5.0",
            "_model_name": "HTMLModel",
            "_view_count": null,
            "_view_module": "@jupyter-widgets/controls",
            "_view_module_version": "1.5.0",
            "_view_name": "HTMLView",
            "description": "",
            "description_tooltip": null,
            "layout": "IPY_MODEL_b913b3dba4024b02985d8e2887b21ae9",
            "placeholder": "​",
            "style": "IPY_MODEL_ac0ebe0cdd774aada6beda4cdb479de1",
            "value": "config.json: 100%"
          }
        },
        "0cb89d748443481598b75195559aee27": {
          "model_module": "@jupyter-widgets/controls",
          "model_name": "FloatProgressModel",
          "model_module_version": "1.5.0",
          "state": {
            "_dom_classes": [],
            "_model_module": "@jupyter-widgets/controls",
            "_model_module_version": "1.5.0",
            "_model_name": "FloatProgressModel",
            "_view_count": null,
            "_view_module": "@jupyter-widgets/controls",
            "_view_module_version": "1.5.0",
            "_view_name": "ProgressView",
            "bar_style": "success",
            "description": "",
            "description_tooltip": null,
            "layout": "IPY_MODEL_21701c8457ad4811851a8bf643a7f619",
            "max": 1596,
            "min": 0,
            "orientation": "horizontal",
            "style": "IPY_MODEL_8c4e375c9e4140a7b20c505a69a4f353",
            "value": 1596
          }
        },
        "019b8e37b0b64d688f56d48ad454bc8f": {
          "model_module": "@jupyter-widgets/controls",
          "model_name": "HTMLModel",
          "model_module_version": "1.5.0",
          "state": {
            "_dom_classes": [],
            "_model_module": "@jupyter-widgets/controls",
            "_model_module_version": "1.5.0",
            "_model_name": "HTMLModel",
            "_view_count": null,
            "_view_module": "@jupyter-widgets/controls",
            "_view_module_version": "1.5.0",
            "_view_name": "HTMLView",
            "description": "",
            "description_tooltip": null,
            "layout": "IPY_MODEL_4d48877e554e459b91a041fdcc2369e6",
            "placeholder": "​",
            "style": "IPY_MODEL_fc494196bf5e4a67bda983adc34efcc6",
            "value": " 1.60k/1.60k [00:00&lt;00:00, 123kB/s]"
          }
        },
        "3c216db498b748079f8597d9f7561bae": {
          "model_module": "@jupyter-widgets/base",
          "model_name": "LayoutModel",
          "model_module_version": "1.2.0",
          "state": {
            "_model_module": "@jupyter-widgets/base",
            "_model_module_version": "1.2.0",
            "_model_name": "LayoutModel",
            "_view_count": null,
            "_view_module": "@jupyter-widgets/base",
            "_view_module_version": "1.2.0",
            "_view_name": "LayoutView",
            "align_content": null,
            "align_items": null,
            "align_self": null,
            "border": null,
            "bottom": null,
            "display": null,
            "flex": null,
            "flex_flow": null,
            "grid_area": null,
            "grid_auto_columns": null,
            "grid_auto_flow": null,
            "grid_auto_rows": null,
            "grid_column": null,
            "grid_gap": null,
            "grid_row": null,
            "grid_template_areas": null,
            "grid_template_columns": null,
            "grid_template_rows": null,
            "height": null,
            "justify_content": null,
            "justify_items": null,
            "left": null,
            "margin": null,
            "max_height": null,
            "max_width": null,
            "min_height": null,
            "min_width": null,
            "object_fit": null,
            "object_position": null,
            "order": null,
            "overflow": null,
            "overflow_x": null,
            "overflow_y": null,
            "padding": null,
            "right": null,
            "top": null,
            "visibility": null,
            "width": null
          }
        },
        "b913b3dba4024b02985d8e2887b21ae9": {
          "model_module": "@jupyter-widgets/base",
          "model_name": "LayoutModel",
          "model_module_version": "1.2.0",
          "state": {
            "_model_module": "@jupyter-widgets/base",
            "_model_module_version": "1.2.0",
            "_model_name": "LayoutModel",
            "_view_count": null,
            "_view_module": "@jupyter-widgets/base",
            "_view_module_version": "1.2.0",
            "_view_name": "LayoutView",
            "align_content": null,
            "align_items": null,
            "align_self": null,
            "border": null,
            "bottom": null,
            "display": null,
            "flex": null,
            "flex_flow": null,
            "grid_area": null,
            "grid_auto_columns": null,
            "grid_auto_flow": null,
            "grid_auto_rows": null,
            "grid_column": null,
            "grid_gap": null,
            "grid_row": null,
            "grid_template_areas": null,
            "grid_template_columns": null,
            "grid_template_rows": null,
            "height": null,
            "justify_content": null,
            "justify_items": null,
            "left": null,
            "margin": null,
            "max_height": null,
            "max_width": null,
            "min_height": null,
            "min_width": null,
            "object_fit": null,
            "object_position": null,
            "order": null,
            "overflow": null,
            "overflow_x": null,
            "overflow_y": null,
            "padding": null,
            "right": null,
            "top": null,
            "visibility": null,
            "width": null
          }
        },
        "ac0ebe0cdd774aada6beda4cdb479de1": {
          "model_module": "@jupyter-widgets/controls",
          "model_name": "DescriptionStyleModel",
          "model_module_version": "1.5.0",
          "state": {
            "_model_module": "@jupyter-widgets/controls",
            "_model_module_version": "1.5.0",
            "_model_name": "DescriptionStyleModel",
            "_view_count": null,
            "_view_module": "@jupyter-widgets/base",
            "_view_module_version": "1.2.0",
            "_view_name": "StyleView",
            "description_width": ""
          }
        },
        "21701c8457ad4811851a8bf643a7f619": {
          "model_module": "@jupyter-widgets/base",
          "model_name": "LayoutModel",
          "model_module_version": "1.2.0",
          "state": {
            "_model_module": "@jupyter-widgets/base",
            "_model_module_version": "1.2.0",
            "_model_name": "LayoutModel",
            "_view_count": null,
            "_view_module": "@jupyter-widgets/base",
            "_view_module_version": "1.2.0",
            "_view_name": "LayoutView",
            "align_content": null,
            "align_items": null,
            "align_self": null,
            "border": null,
            "bottom": null,
            "display": null,
            "flex": null,
            "flex_flow": null,
            "grid_area": null,
            "grid_auto_columns": null,
            "grid_auto_flow": null,
            "grid_auto_rows": null,
            "grid_column": null,
            "grid_gap": null,
            "grid_row": null,
            "grid_template_areas": null,
            "grid_template_columns": null,
            "grid_template_rows": null,
            "height": null,
            "justify_content": null,
            "justify_items": null,
            "left": null,
            "margin": null,
            "max_height": null,
            "max_width": null,
            "min_height": null,
            "min_width": null,
            "object_fit": null,
            "object_position": null,
            "order": null,
            "overflow": null,
            "overflow_x": null,
            "overflow_y": null,
            "padding": null,
            "right": null,
            "top": null,
            "visibility": null,
            "width": null
          }
        },
        "8c4e375c9e4140a7b20c505a69a4f353": {
          "model_module": "@jupyter-widgets/controls",
          "model_name": "ProgressStyleModel",
          "model_module_version": "1.5.0",
          "state": {
            "_model_module": "@jupyter-widgets/controls",
            "_model_module_version": "1.5.0",
            "_model_name": "ProgressStyleModel",
            "_view_count": null,
            "_view_module": "@jupyter-widgets/base",
            "_view_module_version": "1.2.0",
            "_view_name": "StyleView",
            "bar_color": null,
            "description_width": ""
          }
        },
        "4d48877e554e459b91a041fdcc2369e6": {
          "model_module": "@jupyter-widgets/base",
          "model_name": "LayoutModel",
          "model_module_version": "1.2.0",
          "state": {
            "_model_module": "@jupyter-widgets/base",
            "_model_module_version": "1.2.0",
            "_model_name": "LayoutModel",
            "_view_count": null,
            "_view_module": "@jupyter-widgets/base",
            "_view_module_version": "1.2.0",
            "_view_name": "LayoutView",
            "align_content": null,
            "align_items": null,
            "align_self": null,
            "border": null,
            "bottom": null,
            "display": null,
            "flex": null,
            "flex_flow": null,
            "grid_area": null,
            "grid_auto_columns": null,
            "grid_auto_flow": null,
            "grid_auto_rows": null,
            "grid_column": null,
            "grid_gap": null,
            "grid_row": null,
            "grid_template_areas": null,
            "grid_template_columns": null,
            "grid_template_rows": null,
            "height": null,
            "justify_content": null,
            "justify_items": null,
            "left": null,
            "margin": null,
            "max_height": null,
            "max_width": null,
            "min_height": null,
            "min_width": null,
            "object_fit": null,
            "object_position": null,
            "order": null,
            "overflow": null,
            "overflow_x": null,
            "overflow_y": null,
            "padding": null,
            "right": null,
            "top": null,
            "visibility": null,
            "width": null
          }
        },
        "fc494196bf5e4a67bda983adc34efcc6": {
          "model_module": "@jupyter-widgets/controls",
          "model_name": "DescriptionStyleModel",
          "model_module_version": "1.5.0",
          "state": {
            "_model_module": "@jupyter-widgets/controls",
            "_model_module_version": "1.5.0",
            "_model_name": "DescriptionStyleModel",
            "_view_count": null,
            "_view_module": "@jupyter-widgets/base",
            "_view_module_version": "1.2.0",
            "_view_name": "StyleView",
            "description_width": ""
          }
        },
        "e9ef732346d34e8f827670f8014ddd59": {
          "model_module": "@jupyter-widgets/controls",
          "model_name": "HBoxModel",
          "model_module_version": "1.5.0",
          "state": {
            "_dom_classes": [],
            "_model_module": "@jupyter-widgets/controls",
            "_model_module_version": "1.5.0",
            "_model_name": "HBoxModel",
            "_view_count": null,
            "_view_module": "@jupyter-widgets/controls",
            "_view_module_version": "1.5.0",
            "_view_name": "HBoxView",
            "box_style": "",
            "children": [
              "IPY_MODEL_124ecfab58c7415d83a490aba6fe250d",
              "IPY_MODEL_d7be0286f08d4081b0a139bc4fa961ab",
              "IPY_MODEL_25489f42d4954998afd2985558a3fb8b"
            ],
            "layout": "IPY_MODEL_32e098068418410d83b9e2fa80f45e18"
          }
        },
        "124ecfab58c7415d83a490aba6fe250d": {
          "model_module": "@jupyter-widgets/controls",
          "model_name": "HTMLModel",
          "model_module_version": "1.5.0",
          "state": {
            "_dom_classes": [],
            "_model_module": "@jupyter-widgets/controls",
            "_model_module_version": "1.5.0",
            "_model_name": "HTMLModel",
            "_view_count": null,
            "_view_module": "@jupyter-widgets/controls",
            "_view_module_version": "1.5.0",
            "_view_name": "HTMLView",
            "description": "",
            "description_tooltip": null,
            "layout": "IPY_MODEL_4d0068fd3b854f0994f4f287ad0fee7b",
            "placeholder": "​",
            "style": "IPY_MODEL_728e484a7b5543358d7c379d9a47d342",
            "value": "model.safetensors: 100%"
          }
        },
        "d7be0286f08d4081b0a139bc4fa961ab": {
          "model_module": "@jupyter-widgets/controls",
          "model_name": "FloatProgressModel",
          "model_module_version": "1.5.0",
          "state": {
            "_dom_classes": [],
            "_model_module": "@jupyter-widgets/controls",
            "_model_module_version": "1.5.0",
            "_model_name": "FloatProgressModel",
            "_view_count": null,
            "_view_module": "@jupyter-widgets/controls",
            "_view_module_version": "1.5.0",
            "_view_name": "ProgressView",
            "bar_style": "success",
            "description": "",
            "description_tooltip": null,
            "layout": "IPY_MODEL_63c6105bd4fe433f8de361f014010c87",
            "max": 377607901,
            "min": 0,
            "orientation": "horizontal",
            "style": "IPY_MODEL_8a1f6c02b9364b6dbe54f192406cc70f",
            "value": 377607901
          }
        },
        "25489f42d4954998afd2985558a3fb8b": {
          "model_module": "@jupyter-widgets/controls",
          "model_name": "HTMLModel",
          "model_module_version": "1.5.0",
          "state": {
            "_dom_classes": [],
            "_model_module": "@jupyter-widgets/controls",
            "_model_module_version": "1.5.0",
            "_model_name": "HTMLModel",
            "_view_count": null,
            "_view_module": "@jupyter-widgets/controls",
            "_view_module_version": "1.5.0",
            "_view_name": "HTMLView",
            "description": "",
            "description_tooltip": null,
            "layout": "IPY_MODEL_92eecd7fda664393ab89f9e6943a8970",
            "placeholder": "​",
            "style": "IPY_MODEL_efadceedccfc4d04a873447560c781f4",
            "value": " 378M/378M [00:01&lt;00:00, 244MB/s]"
          }
        },
        "32e098068418410d83b9e2fa80f45e18": {
          "model_module": "@jupyter-widgets/base",
          "model_name": "LayoutModel",
          "model_module_version": "1.2.0",
          "state": {
            "_model_module": "@jupyter-widgets/base",
            "_model_module_version": "1.2.0",
            "_model_name": "LayoutModel",
            "_view_count": null,
            "_view_module": "@jupyter-widgets/base",
            "_view_module_version": "1.2.0",
            "_view_name": "LayoutView",
            "align_content": null,
            "align_items": null,
            "align_self": null,
            "border": null,
            "bottom": null,
            "display": null,
            "flex": null,
            "flex_flow": null,
            "grid_area": null,
            "grid_auto_columns": null,
            "grid_auto_flow": null,
            "grid_auto_rows": null,
            "grid_column": null,
            "grid_gap": null,
            "grid_row": null,
            "grid_template_areas": null,
            "grid_template_columns": null,
            "grid_template_rows": null,
            "height": null,
            "justify_content": null,
            "justify_items": null,
            "left": null,
            "margin": null,
            "max_height": null,
            "max_width": null,
            "min_height": null,
            "min_width": null,
            "object_fit": null,
            "object_position": null,
            "order": null,
            "overflow": null,
            "overflow_x": null,
            "overflow_y": null,
            "padding": null,
            "right": null,
            "top": null,
            "visibility": null,
            "width": null
          }
        },
        "4d0068fd3b854f0994f4f287ad0fee7b": {
          "model_module": "@jupyter-widgets/base",
          "model_name": "LayoutModel",
          "model_module_version": "1.2.0",
          "state": {
            "_model_module": "@jupyter-widgets/base",
            "_model_module_version": "1.2.0",
            "_model_name": "LayoutModel",
            "_view_count": null,
            "_view_module": "@jupyter-widgets/base",
            "_view_module_version": "1.2.0",
            "_view_name": "LayoutView",
            "align_content": null,
            "align_items": null,
            "align_self": null,
            "border": null,
            "bottom": null,
            "display": null,
            "flex": null,
            "flex_flow": null,
            "grid_area": null,
            "grid_auto_columns": null,
            "grid_auto_flow": null,
            "grid_auto_rows": null,
            "grid_column": null,
            "grid_gap": null,
            "grid_row": null,
            "grid_template_areas": null,
            "grid_template_columns": null,
            "grid_template_rows": null,
            "height": null,
            "justify_content": null,
            "justify_items": null,
            "left": null,
            "margin": null,
            "max_height": null,
            "max_width": null,
            "min_height": null,
            "min_width": null,
            "object_fit": null,
            "object_position": null,
            "order": null,
            "overflow": null,
            "overflow_x": null,
            "overflow_y": null,
            "padding": null,
            "right": null,
            "top": null,
            "visibility": null,
            "width": null
          }
        },
        "728e484a7b5543358d7c379d9a47d342": {
          "model_module": "@jupyter-widgets/controls",
          "model_name": "DescriptionStyleModel",
          "model_module_version": "1.5.0",
          "state": {
            "_model_module": "@jupyter-widgets/controls",
            "_model_module_version": "1.5.0",
            "_model_name": "DescriptionStyleModel",
            "_view_count": null,
            "_view_module": "@jupyter-widgets/base",
            "_view_module_version": "1.2.0",
            "_view_name": "StyleView",
            "description_width": ""
          }
        },
        "63c6105bd4fe433f8de361f014010c87": {
          "model_module": "@jupyter-widgets/base",
          "model_name": "LayoutModel",
          "model_module_version": "1.2.0",
          "state": {
            "_model_module": "@jupyter-widgets/base",
            "_model_module_version": "1.2.0",
            "_model_name": "LayoutModel",
            "_view_count": null,
            "_view_module": "@jupyter-widgets/base",
            "_view_module_version": "1.2.0",
            "_view_name": "LayoutView",
            "align_content": null,
            "align_items": null,
            "align_self": null,
            "border": null,
            "bottom": null,
            "display": null,
            "flex": null,
            "flex_flow": null,
            "grid_area": null,
            "grid_auto_columns": null,
            "grid_auto_flow": null,
            "grid_auto_rows": null,
            "grid_column": null,
            "grid_gap": null,
            "grid_row": null,
            "grid_template_areas": null,
            "grid_template_columns": null,
            "grid_template_rows": null,
            "height": null,
            "justify_content": null,
            "justify_items": null,
            "left": null,
            "margin": null,
            "max_height": null,
            "max_width": null,
            "min_height": null,
            "min_width": null,
            "object_fit": null,
            "object_position": null,
            "order": null,
            "overflow": null,
            "overflow_x": null,
            "overflow_y": null,
            "padding": null,
            "right": null,
            "top": null,
            "visibility": null,
            "width": null
          }
        },
        "8a1f6c02b9364b6dbe54f192406cc70f": {
          "model_module": "@jupyter-widgets/controls",
          "model_name": "ProgressStyleModel",
          "model_module_version": "1.5.0",
          "state": {
            "_model_module": "@jupyter-widgets/controls",
            "_model_module_version": "1.5.0",
            "_model_name": "ProgressStyleModel",
            "_view_count": null,
            "_view_module": "@jupyter-widgets/base",
            "_view_module_version": "1.2.0",
            "_view_name": "StyleView",
            "bar_color": null,
            "description_width": ""
          }
        },
        "92eecd7fda664393ab89f9e6943a8970": {
          "model_module": "@jupyter-widgets/base",
          "model_name": "LayoutModel",
          "model_module_version": "1.2.0",
          "state": {
            "_model_module": "@jupyter-widgets/base",
            "_model_module_version": "1.2.0",
            "_model_name": "LayoutModel",
            "_view_count": null,
            "_view_module": "@jupyter-widgets/base",
            "_view_module_version": "1.2.0",
            "_view_name": "LayoutView",
            "align_content": null,
            "align_items": null,
            "align_self": null,
            "border": null,
            "bottom": null,
            "display": null,
            "flex": null,
            "flex_flow": null,
            "grid_area": null,
            "grid_auto_columns": null,
            "grid_auto_flow": null,
            "grid_auto_rows": null,
            "grid_column": null,
            "grid_gap": null,
            "grid_row": null,
            "grid_template_areas": null,
            "grid_template_columns": null,
            "grid_template_rows": null,
            "height": null,
            "justify_content": null,
            "justify_items": null,
            "left": null,
            "margin": null,
            "max_height": null,
            "max_width": null,
            "min_height": null,
            "min_width": null,
            "object_fit": null,
            "object_position": null,
            "order": null,
            "overflow": null,
            "overflow_x": null,
            "overflow_y": null,
            "padding": null,
            "right": null,
            "top": null,
            "visibility": null,
            "width": null
          }
        },
        "efadceedccfc4d04a873447560c781f4": {
          "model_module": "@jupyter-widgets/controls",
          "model_name": "DescriptionStyleModel",
          "model_module_version": "1.5.0",
          "state": {
            "_model_module": "@jupyter-widgets/controls",
            "_model_module_version": "1.5.0",
            "_model_name": "DescriptionStyleModel",
            "_view_count": null,
            "_view_module": "@jupyter-widgets/base",
            "_view_module_version": "1.2.0",
            "_view_name": "StyleView",
            "description_width": ""
          }
        },
        "c648a73788fa435a927d94cf6ce0b732": {
          "model_module": "@jupyter-widgets/controls",
          "model_name": "HBoxModel",
          "model_module_version": "1.5.0",
          "state": {
            "_dom_classes": [],
            "_model_module": "@jupyter-widgets/controls",
            "_model_module_version": "1.5.0",
            "_model_name": "HBoxModel",
            "_view_count": null,
            "_view_module": "@jupyter-widgets/controls",
            "_view_module_version": "1.5.0",
            "_view_name": "HBoxView",
            "box_style": "",
            "children": [
              "IPY_MODEL_7137f22554ce4bb28c43b4e65650a372",
              "IPY_MODEL_25c4ec90cf5a4edaa9e797608a05c825",
              "IPY_MODEL_207344cf6fdb40bf87cd81c21e63c03c"
            ],
            "layout": "IPY_MODEL_267ae5d4178d4910a4e4579886f0bfb0"
          }
        },
        "7137f22554ce4bb28c43b4e65650a372": {
          "model_module": "@jupyter-widgets/controls",
          "model_name": "HTMLModel",
          "model_module_version": "1.5.0",
          "state": {
            "_dom_classes": [],
            "_model_module": "@jupyter-widgets/controls",
            "_model_module_version": "1.5.0",
            "_model_name": "HTMLModel",
            "_view_count": null,
            "_view_module": "@jupyter-widgets/controls",
            "_view_module_version": "1.5.0",
            "_view_name": "HTMLView",
            "description": "",
            "description_tooltip": null,
            "layout": "IPY_MODEL_08d5dd77fad34def8079d4a05eedfd0f",
            "placeholder": "​",
            "style": "IPY_MODEL_7a952e1f488f48e3b55ff01c87b56383",
            "value": "tokenizer_config.json: 100%"
          }
        },
        "25c4ec90cf5a4edaa9e797608a05c825": {
          "model_module": "@jupyter-widgets/controls",
          "model_name": "FloatProgressModel",
          "model_module_version": "1.5.0",
          "state": {
            "_dom_classes": [],
            "_model_module": "@jupyter-widgets/controls",
            "_model_module_version": "1.5.0",
            "_model_name": "FloatProgressModel",
            "_view_count": null,
            "_view_module": "@jupyter-widgets/controls",
            "_view_module_version": "1.5.0",
            "_view_name": "ProgressView",
            "bar_style": "success",
            "description": "",
            "description_tooltip": null,
            "layout": "IPY_MODEL_56a825c806c94aefbf7f3846eddcaf88",
            "max": 163,
            "min": 0,
            "orientation": "horizontal",
            "style": "IPY_MODEL_5ba36404ed5a4d899127cb19326df7fe",
            "value": 163
          }
        },
        "207344cf6fdb40bf87cd81c21e63c03c": {
          "model_module": "@jupyter-widgets/controls",
          "model_name": "HTMLModel",
          "model_module_version": "1.5.0",
          "state": {
            "_dom_classes": [],
            "_model_module": "@jupyter-widgets/controls",
            "_model_module_version": "1.5.0",
            "_model_name": "HTMLModel",
            "_view_count": null,
            "_view_module": "@jupyter-widgets/controls",
            "_view_module_version": "1.5.0",
            "_view_name": "HTMLView",
            "description": "",
            "description_tooltip": null,
            "layout": "IPY_MODEL_80dcfe43b9e4463fa5879689dd54bdac",
            "placeholder": "​",
            "style": "IPY_MODEL_9cda7698e19a4e0aad94b07e63b07767",
            "value": " 163/163 [00:00&lt;00:00, 12.0kB/s]"
          }
        },
        "267ae5d4178d4910a4e4579886f0bfb0": {
          "model_module": "@jupyter-widgets/base",
          "model_name": "LayoutModel",
          "model_module_version": "1.2.0",
          "state": {
            "_model_module": "@jupyter-widgets/base",
            "_model_module_version": "1.2.0",
            "_model_name": "LayoutModel",
            "_view_count": null,
            "_view_module": "@jupyter-widgets/base",
            "_view_module_version": "1.2.0",
            "_view_name": "LayoutView",
            "align_content": null,
            "align_items": null,
            "align_self": null,
            "border": null,
            "bottom": null,
            "display": null,
            "flex": null,
            "flex_flow": null,
            "grid_area": null,
            "grid_auto_columns": null,
            "grid_auto_flow": null,
            "grid_auto_rows": null,
            "grid_column": null,
            "grid_gap": null,
            "grid_row": null,
            "grid_template_areas": null,
            "grid_template_columns": null,
            "grid_template_rows": null,
            "height": null,
            "justify_content": null,
            "justify_items": null,
            "left": null,
            "margin": null,
            "max_height": null,
            "max_width": null,
            "min_height": null,
            "min_width": null,
            "object_fit": null,
            "object_position": null,
            "order": null,
            "overflow": null,
            "overflow_x": null,
            "overflow_y": null,
            "padding": null,
            "right": null,
            "top": null,
            "visibility": null,
            "width": null
          }
        },
        "08d5dd77fad34def8079d4a05eedfd0f": {
          "model_module": "@jupyter-widgets/base",
          "model_name": "LayoutModel",
          "model_module_version": "1.2.0",
          "state": {
            "_model_module": "@jupyter-widgets/base",
            "_model_module_version": "1.2.0",
            "_model_name": "LayoutModel",
            "_view_count": null,
            "_view_module": "@jupyter-widgets/base",
            "_view_module_version": "1.2.0",
            "_view_name": "LayoutView",
            "align_content": null,
            "align_items": null,
            "align_self": null,
            "border": null,
            "bottom": null,
            "display": null,
            "flex": null,
            "flex_flow": null,
            "grid_area": null,
            "grid_auto_columns": null,
            "grid_auto_flow": null,
            "grid_auto_rows": null,
            "grid_column": null,
            "grid_gap": null,
            "grid_row": null,
            "grid_template_areas": null,
            "grid_template_columns": null,
            "grid_template_rows": null,
            "height": null,
            "justify_content": null,
            "justify_items": null,
            "left": null,
            "margin": null,
            "max_height": null,
            "max_width": null,
            "min_height": null,
            "min_width": null,
            "object_fit": null,
            "object_position": null,
            "order": null,
            "overflow": null,
            "overflow_x": null,
            "overflow_y": null,
            "padding": null,
            "right": null,
            "top": null,
            "visibility": null,
            "width": null
          }
        },
        "7a952e1f488f48e3b55ff01c87b56383": {
          "model_module": "@jupyter-widgets/controls",
          "model_name": "DescriptionStyleModel",
          "model_module_version": "1.5.0",
          "state": {
            "_model_module": "@jupyter-widgets/controls",
            "_model_module_version": "1.5.0",
            "_model_name": "DescriptionStyleModel",
            "_view_count": null,
            "_view_module": "@jupyter-widgets/base",
            "_view_module_version": "1.2.0",
            "_view_name": "StyleView",
            "description_width": ""
          }
        },
        "56a825c806c94aefbf7f3846eddcaf88": {
          "model_module": "@jupyter-widgets/base",
          "model_name": "LayoutModel",
          "model_module_version": "1.2.0",
          "state": {
            "_model_module": "@jupyter-widgets/base",
            "_model_module_version": "1.2.0",
            "_model_name": "LayoutModel",
            "_view_count": null,
            "_view_module": "@jupyter-widgets/base",
            "_view_module_version": "1.2.0",
            "_view_name": "LayoutView",
            "align_content": null,
            "align_items": null,
            "align_self": null,
            "border": null,
            "bottom": null,
            "display": null,
            "flex": null,
            "flex_flow": null,
            "grid_area": null,
            "grid_auto_columns": null,
            "grid_auto_flow": null,
            "grid_auto_rows": null,
            "grid_column": null,
            "grid_gap": null,
            "grid_row": null,
            "grid_template_areas": null,
            "grid_template_columns": null,
            "grid_template_rows": null,
            "height": null,
            "justify_content": null,
            "justify_items": null,
            "left": null,
            "margin": null,
            "max_height": null,
            "max_width": null,
            "min_height": null,
            "min_width": null,
            "object_fit": null,
            "object_position": null,
            "order": null,
            "overflow": null,
            "overflow_x": null,
            "overflow_y": null,
            "padding": null,
            "right": null,
            "top": null,
            "visibility": null,
            "width": null
          }
        },
        "5ba36404ed5a4d899127cb19326df7fe": {
          "model_module": "@jupyter-widgets/controls",
          "model_name": "ProgressStyleModel",
          "model_module_version": "1.5.0",
          "state": {
            "_model_module": "@jupyter-widgets/controls",
            "_model_module_version": "1.5.0",
            "_model_name": "ProgressStyleModel",
            "_view_count": null,
            "_view_module": "@jupyter-widgets/base",
            "_view_module_version": "1.2.0",
            "_view_name": "StyleView",
            "bar_color": null,
            "description_width": ""
          }
        },
        "80dcfe43b9e4463fa5879689dd54bdac": {
          "model_module": "@jupyter-widgets/base",
          "model_name": "LayoutModel",
          "model_module_version": "1.2.0",
          "state": {
            "_model_module": "@jupyter-widgets/base",
            "_model_module_version": "1.2.0",
            "_model_name": "LayoutModel",
            "_view_count": null,
            "_view_module": "@jupyter-widgets/base",
            "_view_module_version": "1.2.0",
            "_view_name": "LayoutView",
            "align_content": null,
            "align_items": null,
            "align_self": null,
            "border": null,
            "bottom": null,
            "display": null,
            "flex": null,
            "flex_flow": null,
            "grid_area": null,
            "grid_auto_columns": null,
            "grid_auto_flow": null,
            "grid_auto_rows": null,
            "grid_column": null,
            "grid_gap": null,
            "grid_row": null,
            "grid_template_areas": null,
            "grid_template_columns": null,
            "grid_template_rows": null,
            "height": null,
            "justify_content": null,
            "justify_items": null,
            "left": null,
            "margin": null,
            "max_height": null,
            "max_width": null,
            "min_height": null,
            "min_width": null,
            "object_fit": null,
            "object_position": null,
            "order": null,
            "overflow": null,
            "overflow_x": null,
            "overflow_y": null,
            "padding": null,
            "right": null,
            "top": null,
            "visibility": null,
            "width": null
          }
        },
        "9cda7698e19a4e0aad94b07e63b07767": {
          "model_module": "@jupyter-widgets/controls",
          "model_name": "DescriptionStyleModel",
          "model_module_version": "1.5.0",
          "state": {
            "_model_module": "@jupyter-widgets/controls",
            "_model_module_version": "1.5.0",
            "_model_name": "DescriptionStyleModel",
            "_view_count": null,
            "_view_module": "@jupyter-widgets/base",
            "_view_module_version": "1.2.0",
            "_view_name": "StyleView",
            "description_width": ""
          }
        },
        "cfc1682e85834c348550404a15c01b17": {
          "model_module": "@jupyter-widgets/controls",
          "model_name": "HBoxModel",
          "model_module_version": "1.5.0",
          "state": {
            "_dom_classes": [],
            "_model_module": "@jupyter-widgets/controls",
            "_model_module_version": "1.5.0",
            "_model_name": "HBoxModel",
            "_view_count": null,
            "_view_module": "@jupyter-widgets/controls",
            "_view_module_version": "1.5.0",
            "_view_name": "HBoxView",
            "box_style": "",
            "children": [
              "IPY_MODEL_631c13b116be4741824cc0cd56a42fee",
              "IPY_MODEL_f5000e533094460fa095d28cde850ede",
              "IPY_MODEL_465449fc658f40629afd9783615b2792"
            ],
            "layout": "IPY_MODEL_6b062d1757744604932ac1e52bbdc973"
          }
        },
        "631c13b116be4741824cc0cd56a42fee": {
          "model_module": "@jupyter-widgets/controls",
          "model_name": "HTMLModel",
          "model_module_version": "1.5.0",
          "state": {
            "_dom_classes": [],
            "_model_module": "@jupyter-widgets/controls",
            "_model_module_version": "1.5.0",
            "_model_name": "HTMLModel",
            "_view_count": null,
            "_view_module": "@jupyter-widgets/controls",
            "_view_module_version": "1.5.0",
            "_view_name": "HTMLView",
            "description": "",
            "description_tooltip": null,
            "layout": "IPY_MODEL_17bf53ab56994a7fb5da7bf61c4d1ecc",
            "placeholder": "​",
            "style": "IPY_MODEL_a0b6e47e6d9a42919b05aaf923b0608c",
            "value": "vocab.json: 100%"
          }
        },
        "f5000e533094460fa095d28cde850ede": {
          "model_module": "@jupyter-widgets/controls",
          "model_name": "FloatProgressModel",
          "model_module_version": "1.5.0",
          "state": {
            "_dom_classes": [],
            "_model_module": "@jupyter-widgets/controls",
            "_model_module_version": "1.5.0",
            "_model_name": "FloatProgressModel",
            "_view_count": null,
            "_view_module": "@jupyter-widgets/controls",
            "_view_module_version": "1.5.0",
            "_view_name": "ProgressView",
            "bar_style": "success",
            "description": "",
            "description_tooltip": null,
            "layout": "IPY_MODEL_3de7e7ce2d3d4221baf76eced8741e27",
            "max": 291,
            "min": 0,
            "orientation": "horizontal",
            "style": "IPY_MODEL_8aef4f956bbd40eba63984fda1907bed",
            "value": 291
          }
        },
        "465449fc658f40629afd9783615b2792": {
          "model_module": "@jupyter-widgets/controls",
          "model_name": "HTMLModel",
          "model_module_version": "1.5.0",
          "state": {
            "_dom_classes": [],
            "_model_module": "@jupyter-widgets/controls",
            "_model_module_version": "1.5.0",
            "_model_name": "HTMLModel",
            "_view_count": null,
            "_view_module": "@jupyter-widgets/controls",
            "_view_module_version": "1.5.0",
            "_view_name": "HTMLView",
            "description": "",
            "description_tooltip": null,
            "layout": "IPY_MODEL_d95c084934eb4c12a3154c6161d4dc6c",
            "placeholder": "​",
            "style": "IPY_MODEL_e4adebf3ab054c8e944c25f8af3a3597",
            "value": " 291/291 [00:00&lt;00:00, 25.5kB/s]"
          }
        },
        "6b062d1757744604932ac1e52bbdc973": {
          "model_module": "@jupyter-widgets/base",
          "model_name": "LayoutModel",
          "model_module_version": "1.2.0",
          "state": {
            "_model_module": "@jupyter-widgets/base",
            "_model_module_version": "1.2.0",
            "_model_name": "LayoutModel",
            "_view_count": null,
            "_view_module": "@jupyter-widgets/base",
            "_view_module_version": "1.2.0",
            "_view_name": "LayoutView",
            "align_content": null,
            "align_items": null,
            "align_self": null,
            "border": null,
            "bottom": null,
            "display": null,
            "flex": null,
            "flex_flow": null,
            "grid_area": null,
            "grid_auto_columns": null,
            "grid_auto_flow": null,
            "grid_auto_rows": null,
            "grid_column": null,
            "grid_gap": null,
            "grid_row": null,
            "grid_template_areas": null,
            "grid_template_columns": null,
            "grid_template_rows": null,
            "height": null,
            "justify_content": null,
            "justify_items": null,
            "left": null,
            "margin": null,
            "max_height": null,
            "max_width": null,
            "min_height": null,
            "min_width": null,
            "object_fit": null,
            "object_position": null,
            "order": null,
            "overflow": null,
            "overflow_x": null,
            "overflow_y": null,
            "padding": null,
            "right": null,
            "top": null,
            "visibility": null,
            "width": null
          }
        },
        "17bf53ab56994a7fb5da7bf61c4d1ecc": {
          "model_module": "@jupyter-widgets/base",
          "model_name": "LayoutModel",
          "model_module_version": "1.2.0",
          "state": {
            "_model_module": "@jupyter-widgets/base",
            "_model_module_version": "1.2.0",
            "_model_name": "LayoutModel",
            "_view_count": null,
            "_view_module": "@jupyter-widgets/base",
            "_view_module_version": "1.2.0",
            "_view_name": "LayoutView",
            "align_content": null,
            "align_items": null,
            "align_self": null,
            "border": null,
            "bottom": null,
            "display": null,
            "flex": null,
            "flex_flow": null,
            "grid_area": null,
            "grid_auto_columns": null,
            "grid_auto_flow": null,
            "grid_auto_rows": null,
            "grid_column": null,
            "grid_gap": null,
            "grid_row": null,
            "grid_template_areas": null,
            "grid_template_columns": null,
            "grid_template_rows": null,
            "height": null,
            "justify_content": null,
            "justify_items": null,
            "left": null,
            "margin": null,
            "max_height": null,
            "max_width": null,
            "min_height": null,
            "min_width": null,
            "object_fit": null,
            "object_position": null,
            "order": null,
            "overflow": null,
            "overflow_x": null,
            "overflow_y": null,
            "padding": null,
            "right": null,
            "top": null,
            "visibility": null,
            "width": null
          }
        },
        "a0b6e47e6d9a42919b05aaf923b0608c": {
          "model_module": "@jupyter-widgets/controls",
          "model_name": "DescriptionStyleModel",
          "model_module_version": "1.5.0",
          "state": {
            "_model_module": "@jupyter-widgets/controls",
            "_model_module_version": "1.5.0",
            "_model_name": "DescriptionStyleModel",
            "_view_count": null,
            "_view_module": "@jupyter-widgets/base",
            "_view_module_version": "1.2.0",
            "_view_name": "StyleView",
            "description_width": ""
          }
        },
        "3de7e7ce2d3d4221baf76eced8741e27": {
          "model_module": "@jupyter-widgets/base",
          "model_name": "LayoutModel",
          "model_module_version": "1.2.0",
          "state": {
            "_model_module": "@jupyter-widgets/base",
            "_model_module_version": "1.2.0",
            "_model_name": "LayoutModel",
            "_view_count": null,
            "_view_module": "@jupyter-widgets/base",
            "_view_module_version": "1.2.0",
            "_view_name": "LayoutView",
            "align_content": null,
            "align_items": null,
            "align_self": null,
            "border": null,
            "bottom": null,
            "display": null,
            "flex": null,
            "flex_flow": null,
            "grid_area": null,
            "grid_auto_columns": null,
            "grid_auto_flow": null,
            "grid_auto_rows": null,
            "grid_column": null,
            "grid_gap": null,
            "grid_row": null,
            "grid_template_areas": null,
            "grid_template_columns": null,
            "grid_template_rows": null,
            "height": null,
            "justify_content": null,
            "justify_items": null,
            "left": null,
            "margin": null,
            "max_height": null,
            "max_width": null,
            "min_height": null,
            "min_width": null,
            "object_fit": null,
            "object_position": null,
            "order": null,
            "overflow": null,
            "overflow_x": null,
            "overflow_y": null,
            "padding": null,
            "right": null,
            "top": null,
            "visibility": null,
            "width": null
          }
        },
        "8aef4f956bbd40eba63984fda1907bed": {
          "model_module": "@jupyter-widgets/controls",
          "model_name": "ProgressStyleModel",
          "model_module_version": "1.5.0",
          "state": {
            "_model_module": "@jupyter-widgets/controls",
            "_model_module_version": "1.5.0",
            "_model_name": "ProgressStyleModel",
            "_view_count": null,
            "_view_module": "@jupyter-widgets/base",
            "_view_module_version": "1.2.0",
            "_view_name": "StyleView",
            "bar_color": null,
            "description_width": ""
          }
        },
        "d95c084934eb4c12a3154c6161d4dc6c": {
          "model_module": "@jupyter-widgets/base",
          "model_name": "LayoutModel",
          "model_module_version": "1.2.0",
          "state": {
            "_model_module": "@jupyter-widgets/base",
            "_model_module_version": "1.2.0",
            "_model_name": "LayoutModel",
            "_view_count": null,
            "_view_module": "@jupyter-widgets/base",
            "_view_module_version": "1.2.0",
            "_view_name": "LayoutView",
            "align_content": null,
            "align_items": null,
            "align_self": null,
            "border": null,
            "bottom": null,
            "display": null,
            "flex": null,
            "flex_flow": null,
            "grid_area": null,
            "grid_auto_columns": null,
            "grid_auto_flow": null,
            "grid_auto_rows": null,
            "grid_column": null,
            "grid_gap": null,
            "grid_row": null,
            "grid_template_areas": null,
            "grid_template_columns": null,
            "grid_template_rows": null,
            "height": null,
            "justify_content": null,
            "justify_items": null,
            "left": null,
            "margin": null,
            "max_height": null,
            "max_width": null,
            "min_height": null,
            "min_width": null,
            "object_fit": null,
            "object_position": null,
            "order": null,
            "overflow": null,
            "overflow_x": null,
            "overflow_y": null,
            "padding": null,
            "right": null,
            "top": null,
            "visibility": null,
            "width": null
          }
        },
        "e4adebf3ab054c8e944c25f8af3a3597": {
          "model_module": "@jupyter-widgets/controls",
          "model_name": "DescriptionStyleModel",
          "model_module_version": "1.5.0",
          "state": {
            "_model_module": "@jupyter-widgets/controls",
            "_model_module_version": "1.5.0",
            "_model_name": "DescriptionStyleModel",
            "_view_count": null,
            "_view_module": "@jupyter-widgets/base",
            "_view_module_version": "1.2.0",
            "_view_name": "StyleView",
            "description_width": ""
          }
        },
        "2e1cb05fddb34c8988d4a9260c8da82b": {
          "model_module": "@jupyter-widgets/controls",
          "model_name": "HBoxModel",
          "model_module_version": "1.5.0",
          "state": {
            "_dom_classes": [],
            "_model_module": "@jupyter-widgets/controls",
            "_model_module_version": "1.5.0",
            "_model_name": "HBoxModel",
            "_view_count": null,
            "_view_module": "@jupyter-widgets/controls",
            "_view_module_version": "1.5.0",
            "_view_name": "HBoxView",
            "box_style": "",
            "children": [
              "IPY_MODEL_78cdff0c923f481b99eef2e09f2a4c2a",
              "IPY_MODEL_525237739e784f7990591b423afeafa8",
              "IPY_MODEL_65308b2e3297420ba85e62cb222dff20"
            ],
            "layout": "IPY_MODEL_24e05e7cc56a42acaa5a2ded1490ab0b"
          }
        },
        "78cdff0c923f481b99eef2e09f2a4c2a": {
          "model_module": "@jupyter-widgets/controls",
          "model_name": "HTMLModel",
          "model_module_version": "1.5.0",
          "state": {
            "_dom_classes": [],
            "_model_module": "@jupyter-widgets/controls",
            "_model_module_version": "1.5.0",
            "_model_name": "HTMLModel",
            "_view_count": null,
            "_view_module": "@jupyter-widgets/controls",
            "_view_module_version": "1.5.0",
            "_view_name": "HTMLView",
            "description": "",
            "description_tooltip": null,
            "layout": "IPY_MODEL_348bf798583049449aad07efd63481da",
            "placeholder": "​",
            "style": "IPY_MODEL_dbf49591655546b39e406d3cf88f7800",
            "value": "special_tokens_map.json: 100%"
          }
        },
        "525237739e784f7990591b423afeafa8": {
          "model_module": "@jupyter-widgets/controls",
          "model_name": "FloatProgressModel",
          "model_module_version": "1.5.0",
          "state": {
            "_dom_classes": [],
            "_model_module": "@jupyter-widgets/controls",
            "_model_module_version": "1.5.0",
            "_model_name": "FloatProgressModel",
            "_view_count": null,
            "_view_module": "@jupyter-widgets/controls",
            "_view_module_version": "1.5.0",
            "_view_name": "ProgressView",
            "bar_style": "success",
            "description": "",
            "description_tooltip": null,
            "layout": "IPY_MODEL_995ee5d1e94e4d3c9336986806428151",
            "max": 85,
            "min": 0,
            "orientation": "horizontal",
            "style": "IPY_MODEL_7c147580ee064a9b96b2b4c6211b2bff",
            "value": 85
          }
        },
        "65308b2e3297420ba85e62cb222dff20": {
          "model_module": "@jupyter-widgets/controls",
          "model_name": "HTMLModel",
          "model_module_version": "1.5.0",
          "state": {
            "_dom_classes": [],
            "_model_module": "@jupyter-widgets/controls",
            "_model_module_version": "1.5.0",
            "_model_name": "HTMLModel",
            "_view_count": null,
            "_view_module": "@jupyter-widgets/controls",
            "_view_module_version": "1.5.0",
            "_view_name": "HTMLView",
            "description": "",
            "description_tooltip": null,
            "layout": "IPY_MODEL_323a3e09040a438980c5bc282b1f6b55",
            "placeholder": "​",
            "style": "IPY_MODEL_64f8ccc932f64b74819d7e30138f5b38",
            "value": " 85.0/85.0 [00:00&lt;00:00, 7.27kB/s]"
          }
        },
        "24e05e7cc56a42acaa5a2ded1490ab0b": {
          "model_module": "@jupyter-widgets/base",
          "model_name": "LayoutModel",
          "model_module_version": "1.2.0",
          "state": {
            "_model_module": "@jupyter-widgets/base",
            "_model_module_version": "1.2.0",
            "_model_name": "LayoutModel",
            "_view_count": null,
            "_view_module": "@jupyter-widgets/base",
            "_view_module_version": "1.2.0",
            "_view_name": "LayoutView",
            "align_content": null,
            "align_items": null,
            "align_self": null,
            "border": null,
            "bottom": null,
            "display": null,
            "flex": null,
            "flex_flow": null,
            "grid_area": null,
            "grid_auto_columns": null,
            "grid_auto_flow": null,
            "grid_auto_rows": null,
            "grid_column": null,
            "grid_gap": null,
            "grid_row": null,
            "grid_template_areas": null,
            "grid_template_columns": null,
            "grid_template_rows": null,
            "height": null,
            "justify_content": null,
            "justify_items": null,
            "left": null,
            "margin": null,
            "max_height": null,
            "max_width": null,
            "min_height": null,
            "min_width": null,
            "object_fit": null,
            "object_position": null,
            "order": null,
            "overflow": null,
            "overflow_x": null,
            "overflow_y": null,
            "padding": null,
            "right": null,
            "top": null,
            "visibility": null,
            "width": null
          }
        },
        "348bf798583049449aad07efd63481da": {
          "model_module": "@jupyter-widgets/base",
          "model_name": "LayoutModel",
          "model_module_version": "1.2.0",
          "state": {
            "_model_module": "@jupyter-widgets/base",
            "_model_module_version": "1.2.0",
            "_model_name": "LayoutModel",
            "_view_count": null,
            "_view_module": "@jupyter-widgets/base",
            "_view_module_version": "1.2.0",
            "_view_name": "LayoutView",
            "align_content": null,
            "align_items": null,
            "align_self": null,
            "border": null,
            "bottom": null,
            "display": null,
            "flex": null,
            "flex_flow": null,
            "grid_area": null,
            "grid_auto_columns": null,
            "grid_auto_flow": null,
            "grid_auto_rows": null,
            "grid_column": null,
            "grid_gap": null,
            "grid_row": null,
            "grid_template_areas": null,
            "grid_template_columns": null,
            "grid_template_rows": null,
            "height": null,
            "justify_content": null,
            "justify_items": null,
            "left": null,
            "margin": null,
            "max_height": null,
            "max_width": null,
            "min_height": null,
            "min_width": null,
            "object_fit": null,
            "object_position": null,
            "order": null,
            "overflow": null,
            "overflow_x": null,
            "overflow_y": null,
            "padding": null,
            "right": null,
            "top": null,
            "visibility": null,
            "width": null
          }
        },
        "dbf49591655546b39e406d3cf88f7800": {
          "model_module": "@jupyter-widgets/controls",
          "model_name": "DescriptionStyleModel",
          "model_module_version": "1.5.0",
          "state": {
            "_model_module": "@jupyter-widgets/controls",
            "_model_module_version": "1.5.0",
            "_model_name": "DescriptionStyleModel",
            "_view_count": null,
            "_view_module": "@jupyter-widgets/base",
            "_view_module_version": "1.2.0",
            "_view_name": "StyleView",
            "description_width": ""
          }
        },
        "995ee5d1e94e4d3c9336986806428151": {
          "model_module": "@jupyter-widgets/base",
          "model_name": "LayoutModel",
          "model_module_version": "1.2.0",
          "state": {
            "_model_module": "@jupyter-widgets/base",
            "_model_module_version": "1.2.0",
            "_model_name": "LayoutModel",
            "_view_count": null,
            "_view_module": "@jupyter-widgets/base",
            "_view_module_version": "1.2.0",
            "_view_name": "LayoutView",
            "align_content": null,
            "align_items": null,
            "align_self": null,
            "border": null,
            "bottom": null,
            "display": null,
            "flex": null,
            "flex_flow": null,
            "grid_area": null,
            "grid_auto_columns": null,
            "grid_auto_flow": null,
            "grid_auto_rows": null,
            "grid_column": null,
            "grid_gap": null,
            "grid_row": null,
            "grid_template_areas": null,
            "grid_template_columns": null,
            "grid_template_rows": null,
            "height": null,
            "justify_content": null,
            "justify_items": null,
            "left": null,
            "margin": null,
            "max_height": null,
            "max_width": null,
            "min_height": null,
            "min_width": null,
            "object_fit": null,
            "object_position": null,
            "order": null,
            "overflow": null,
            "overflow_x": null,
            "overflow_y": null,
            "padding": null,
            "right": null,
            "top": null,
            "visibility": null,
            "width": null
          }
        },
        "7c147580ee064a9b96b2b4c6211b2bff": {
          "model_module": "@jupyter-widgets/controls",
          "model_name": "ProgressStyleModel",
          "model_module_version": "1.5.0",
          "state": {
            "_model_module": "@jupyter-widgets/controls",
            "_model_module_version": "1.5.0",
            "_model_name": "ProgressStyleModel",
            "_view_count": null,
            "_view_module": "@jupyter-widgets/base",
            "_view_module_version": "1.2.0",
            "_view_name": "StyleView",
            "bar_color": null,
            "description_width": ""
          }
        },
        "323a3e09040a438980c5bc282b1f6b55": {
          "model_module": "@jupyter-widgets/base",
          "model_name": "LayoutModel",
          "model_module_version": "1.2.0",
          "state": {
            "_model_module": "@jupyter-widgets/base",
            "_model_module_version": "1.2.0",
            "_model_name": "LayoutModel",
            "_view_count": null,
            "_view_module": "@jupyter-widgets/base",
            "_view_module_version": "1.2.0",
            "_view_name": "LayoutView",
            "align_content": null,
            "align_items": null,
            "align_self": null,
            "border": null,
            "bottom": null,
            "display": null,
            "flex": null,
            "flex_flow": null,
            "grid_area": null,
            "grid_auto_columns": null,
            "grid_auto_flow": null,
            "grid_auto_rows": null,
            "grid_column": null,
            "grid_gap": null,
            "grid_row": null,
            "grid_template_areas": null,
            "grid_template_columns": null,
            "grid_template_rows": null,
            "height": null,
            "justify_content": null,
            "justify_items": null,
            "left": null,
            "margin": null,
            "max_height": null,
            "max_width": null,
            "min_height": null,
            "min_width": null,
            "object_fit": null,
            "object_position": null,
            "order": null,
            "overflow": null,
            "overflow_x": null,
            "overflow_y": null,
            "padding": null,
            "right": null,
            "top": null,
            "visibility": null,
            "width": null
          }
        },
        "64f8ccc932f64b74819d7e30138f5b38": {
          "model_module": "@jupyter-widgets/controls",
          "model_name": "DescriptionStyleModel",
          "model_module_version": "1.5.0",
          "state": {
            "_model_module": "@jupyter-widgets/controls",
            "_model_module_version": "1.5.0",
            "_model_name": "DescriptionStyleModel",
            "_view_count": null,
            "_view_module": "@jupyter-widgets/base",
            "_view_module_version": "1.2.0",
            "_view_name": "StyleView",
            "description_width": ""
          }
        },
        "a7f12cbb7ba448c09a48087202f9fc14": {
          "model_module": "@jupyter-widgets/controls",
          "model_name": "HBoxModel",
          "model_module_version": "1.5.0",
          "state": {
            "_dom_classes": [],
            "_model_module": "@jupyter-widgets/controls",
            "_model_module_version": "1.5.0",
            "_model_name": "HBoxModel",
            "_view_count": null,
            "_view_module": "@jupyter-widgets/controls",
            "_view_module_version": "1.5.0",
            "_view_name": "HBoxView",
            "box_style": "",
            "children": [
              "IPY_MODEL_3ab9ec7f7d094779bd690cd79f4b1aea",
              "IPY_MODEL_cc9c91fcfd0e489094953d3d94b7c968",
              "IPY_MODEL_6058780332ad4509b005a6348190c887"
            ],
            "layout": "IPY_MODEL_8805b0e332254aceb1b751925d691072"
          }
        },
        "3ab9ec7f7d094779bd690cd79f4b1aea": {
          "model_module": "@jupyter-widgets/controls",
          "model_name": "HTMLModel",
          "model_module_version": "1.5.0",
          "state": {
            "_dom_classes": [],
            "_model_module": "@jupyter-widgets/controls",
            "_model_module_version": "1.5.0",
            "_model_name": "HTMLModel",
            "_view_count": null,
            "_view_module": "@jupyter-widgets/controls",
            "_view_module_version": "1.5.0",
            "_view_name": "HTMLView",
            "description": "",
            "description_tooltip": null,
            "layout": "IPY_MODEL_6700a92172d044638b10193a48200f83",
            "placeholder": "​",
            "style": "IPY_MODEL_c7d9b2b98d99494da577ea5c53ca86ab",
            "value": "preprocessor_config.json: 100%"
          }
        },
        "cc9c91fcfd0e489094953d3d94b7c968": {
          "model_module": "@jupyter-widgets/controls",
          "model_name": "FloatProgressModel",
          "model_module_version": "1.5.0",
          "state": {
            "_dom_classes": [],
            "_model_module": "@jupyter-widgets/controls",
            "_model_module_version": "1.5.0",
            "_model_name": "FloatProgressModel",
            "_view_count": null,
            "_view_module": "@jupyter-widgets/controls",
            "_view_module_version": "1.5.0",
            "_view_name": "ProgressView",
            "bar_style": "success",
            "description": "",
            "description_tooltip": null,
            "layout": "IPY_MODEL_a1ebd732fec64864b53909bd9a059686",
            "max": 159,
            "min": 0,
            "orientation": "horizontal",
            "style": "IPY_MODEL_e6cf9ee2cb554317bcfe2815d44ac312",
            "value": 159
          }
        },
        "6058780332ad4509b005a6348190c887": {
          "model_module": "@jupyter-widgets/controls",
          "model_name": "HTMLModel",
          "model_module_version": "1.5.0",
          "state": {
            "_dom_classes": [],
            "_model_module": "@jupyter-widgets/controls",
            "_model_module_version": "1.5.0",
            "_model_name": "HTMLModel",
            "_view_count": null,
            "_view_module": "@jupyter-widgets/controls",
            "_view_module_version": "1.5.0",
            "_view_name": "HTMLView",
            "description": "",
            "description_tooltip": null,
            "layout": "IPY_MODEL_7c1ac86c54894d7186b96dfca80f5eaa",
            "placeholder": "​",
            "style": "IPY_MODEL_7ff584c59d4b477f8fca3e19c137def5",
            "value": " 159/159 [00:00&lt;00:00, 11.9kB/s]"
          }
        },
        "8805b0e332254aceb1b751925d691072": {
          "model_module": "@jupyter-widgets/base",
          "model_name": "LayoutModel",
          "model_module_version": "1.2.0",
          "state": {
            "_model_module": "@jupyter-widgets/base",
            "_model_module_version": "1.2.0",
            "_model_name": "LayoutModel",
            "_view_count": null,
            "_view_module": "@jupyter-widgets/base",
            "_view_module_version": "1.2.0",
            "_view_name": "LayoutView",
            "align_content": null,
            "align_items": null,
            "align_self": null,
            "border": null,
            "bottom": null,
            "display": null,
            "flex": null,
            "flex_flow": null,
            "grid_area": null,
            "grid_auto_columns": null,
            "grid_auto_flow": null,
            "grid_auto_rows": null,
            "grid_column": null,
            "grid_gap": null,
            "grid_row": null,
            "grid_template_areas": null,
            "grid_template_columns": null,
            "grid_template_rows": null,
            "height": null,
            "justify_content": null,
            "justify_items": null,
            "left": null,
            "margin": null,
            "max_height": null,
            "max_width": null,
            "min_height": null,
            "min_width": null,
            "object_fit": null,
            "object_position": null,
            "order": null,
            "overflow": null,
            "overflow_x": null,
            "overflow_y": null,
            "padding": null,
            "right": null,
            "top": null,
            "visibility": null,
            "width": null
          }
        },
        "6700a92172d044638b10193a48200f83": {
          "model_module": "@jupyter-widgets/base",
          "model_name": "LayoutModel",
          "model_module_version": "1.2.0",
          "state": {
            "_model_module": "@jupyter-widgets/base",
            "_model_module_version": "1.2.0",
            "_model_name": "LayoutModel",
            "_view_count": null,
            "_view_module": "@jupyter-widgets/base",
            "_view_module_version": "1.2.0",
            "_view_name": "LayoutView",
            "align_content": null,
            "align_items": null,
            "align_self": null,
            "border": null,
            "bottom": null,
            "display": null,
            "flex": null,
            "flex_flow": null,
            "grid_area": null,
            "grid_auto_columns": null,
            "grid_auto_flow": null,
            "grid_auto_rows": null,
            "grid_column": null,
            "grid_gap": null,
            "grid_row": null,
            "grid_template_areas": null,
            "grid_template_columns": null,
            "grid_template_rows": null,
            "height": null,
            "justify_content": null,
            "justify_items": null,
            "left": null,
            "margin": null,
            "max_height": null,
            "max_width": null,
            "min_height": null,
            "min_width": null,
            "object_fit": null,
            "object_position": null,
            "order": null,
            "overflow": null,
            "overflow_x": null,
            "overflow_y": null,
            "padding": null,
            "right": null,
            "top": null,
            "visibility": null,
            "width": null
          }
        },
        "c7d9b2b98d99494da577ea5c53ca86ab": {
          "model_module": "@jupyter-widgets/controls",
          "model_name": "DescriptionStyleModel",
          "model_module_version": "1.5.0",
          "state": {
            "_model_module": "@jupyter-widgets/controls",
            "_model_module_version": "1.5.0",
            "_model_name": "DescriptionStyleModel",
            "_view_count": null,
            "_view_module": "@jupyter-widgets/base",
            "_view_module_version": "1.2.0",
            "_view_name": "StyleView",
            "description_width": ""
          }
        },
        "a1ebd732fec64864b53909bd9a059686": {
          "model_module": "@jupyter-widgets/base",
          "model_name": "LayoutModel",
          "model_module_version": "1.2.0",
          "state": {
            "_model_module": "@jupyter-widgets/base",
            "_model_module_version": "1.2.0",
            "_model_name": "LayoutModel",
            "_view_count": null,
            "_view_module": "@jupyter-widgets/base",
            "_view_module_version": "1.2.0",
            "_view_name": "LayoutView",
            "align_content": null,
            "align_items": null,
            "align_self": null,
            "border": null,
            "bottom": null,
            "display": null,
            "flex": null,
            "flex_flow": null,
            "grid_area": null,
            "grid_auto_columns": null,
            "grid_auto_flow": null,
            "grid_auto_rows": null,
            "grid_column": null,
            "grid_gap": null,
            "grid_row": null,
            "grid_template_areas": null,
            "grid_template_columns": null,
            "grid_template_rows": null,
            "height": null,
            "justify_content": null,
            "justify_items": null,
            "left": null,
            "margin": null,
            "max_height": null,
            "max_width": null,
            "min_height": null,
            "min_width": null,
            "object_fit": null,
            "object_position": null,
            "order": null,
            "overflow": null,
            "overflow_x": null,
            "overflow_y": null,
            "padding": null,
            "right": null,
            "top": null,
            "visibility": null,
            "width": null
          }
        },
        "e6cf9ee2cb554317bcfe2815d44ac312": {
          "model_module": "@jupyter-widgets/controls",
          "model_name": "ProgressStyleModel",
          "model_module_version": "1.5.0",
          "state": {
            "_model_module": "@jupyter-widgets/controls",
            "_model_module_version": "1.5.0",
            "_model_name": "ProgressStyleModel",
            "_view_count": null,
            "_view_module": "@jupyter-widgets/base",
            "_view_module_version": "1.2.0",
            "_view_name": "StyleView",
            "bar_color": null,
            "description_width": ""
          }
        },
        "7c1ac86c54894d7186b96dfca80f5eaa": {
          "model_module": "@jupyter-widgets/base",
          "model_name": "LayoutModel",
          "model_module_version": "1.2.0",
          "state": {
            "_model_module": "@jupyter-widgets/base",
            "_model_module_version": "1.2.0",
            "_model_name": "LayoutModel",
            "_view_count": null,
            "_view_module": "@jupyter-widgets/base",
            "_view_module_version": "1.2.0",
            "_view_name": "LayoutView",
            "align_content": null,
            "align_items": null,
            "align_self": null,
            "border": null,
            "bottom": null,
            "display": null,
            "flex": null,
            "flex_flow": null,
            "grid_area": null,
            "grid_auto_columns": null,
            "grid_auto_flow": null,
            "grid_auto_rows": null,
            "grid_column": null,
            "grid_gap": null,
            "grid_row": null,
            "grid_template_areas": null,
            "grid_template_columns": null,
            "grid_template_rows": null,
            "height": null,
            "justify_content": null,
            "justify_items": null,
            "left": null,
            "margin": null,
            "max_height": null,
            "max_width": null,
            "min_height": null,
            "min_width": null,
            "object_fit": null,
            "object_position": null,
            "order": null,
            "overflow": null,
            "overflow_x": null,
            "overflow_y": null,
            "padding": null,
            "right": null,
            "top": null,
            "visibility": null,
            "width": null
          }
        },
        "7ff584c59d4b477f8fca3e19c137def5": {
          "model_module": "@jupyter-widgets/controls",
          "model_name": "DescriptionStyleModel",
          "model_module_version": "1.5.0",
          "state": {
            "_model_module": "@jupyter-widgets/controls",
            "_model_module_version": "1.5.0",
            "_model_name": "DescriptionStyleModel",
            "_view_count": null,
            "_view_module": "@jupyter-widgets/base",
            "_view_module_version": "1.2.0",
            "_view_name": "StyleView",
            "description_width": ""
          }
        },
        "22954a936d7f46308e3bb705f57eda7c": {
          "model_module": "@jupyter-widgets/controls",
          "model_name": "HBoxModel",
          "model_module_version": "1.5.0",
          "state": {
            "_dom_classes": [],
            "_model_module": "@jupyter-widgets/controls",
            "_model_module_version": "1.5.0",
            "_model_name": "HBoxModel",
            "_view_count": null,
            "_view_module": "@jupyter-widgets/controls",
            "_view_module_version": "1.5.0",
            "_view_name": "HBoxView",
            "box_style": "",
            "children": [
              "IPY_MODEL_48d029e1a8ea44f3b65489b6d32538ce",
              "IPY_MODEL_2fd5d1599f0742fcbe40e2df586a226b",
              "IPY_MODEL_db2ba2bd292340e1889458d4f471792a"
            ],
            "layout": "IPY_MODEL_2ed8fd49fa4f4a5389b416da5ca63e7f"
          }
        },
        "48d029e1a8ea44f3b65489b6d32538ce": {
          "model_module": "@jupyter-widgets/controls",
          "model_name": "HTMLModel",
          "model_module_version": "1.5.0",
          "state": {
            "_dom_classes": [],
            "_model_module": "@jupyter-widgets/controls",
            "_model_module_version": "1.5.0",
            "_model_name": "HTMLModel",
            "_view_count": null,
            "_view_module": "@jupyter-widgets/controls",
            "_view_module_version": "1.5.0",
            "_view_name": "HTMLView",
            "description": "",
            "description_tooltip": null,
            "layout": "IPY_MODEL_0057dfbba4344a21982f4437df64c279",
            "placeholder": "​",
            "style": "IPY_MODEL_daff819c7d4343a59056d3673c0b940f",
            "value": "config.json: 100%"
          }
        },
        "2fd5d1599f0742fcbe40e2df586a226b": {
          "model_module": "@jupyter-widgets/controls",
          "model_name": "FloatProgressModel",
          "model_module_version": "1.5.0",
          "state": {
            "_dom_classes": [],
            "_model_module": "@jupyter-widgets/controls",
            "_model_module_version": "1.5.0",
            "_model_name": "FloatProgressModel",
            "_view_count": null,
            "_view_module": "@jupyter-widgets/controls",
            "_view_module_version": "1.5.0",
            "_view_name": "ProgressView",
            "bar_style": "success",
            "description": "",
            "description_tooltip": null,
            "layout": "IPY_MODEL_ff6dd1f3c0384551a36f2ec74baf1402",
            "max": 1256,
            "min": 0,
            "orientation": "horizontal",
            "style": "IPY_MODEL_d005f6de39354313b6b4df7547fb5a5e",
            "value": 1256
          }
        },
        "db2ba2bd292340e1889458d4f471792a": {
          "model_module": "@jupyter-widgets/controls",
          "model_name": "HTMLModel",
          "model_module_version": "1.5.0",
          "state": {
            "_dom_classes": [],
            "_model_module": "@jupyter-widgets/controls",
            "_model_module_version": "1.5.0",
            "_model_name": "HTMLModel",
            "_view_count": null,
            "_view_module": "@jupyter-widgets/controls",
            "_view_module_version": "1.5.0",
            "_view_name": "HTMLView",
            "description": "",
            "description_tooltip": null,
            "layout": "IPY_MODEL_f612b37c28ba45259522635ff1492924",
            "placeholder": "​",
            "style": "IPY_MODEL_22bb71356a0f414891b961ff31bf73c7",
            "value": " 1.26k/1.26k [00:00&lt;00:00, 97.0kB/s]"
          }
        },
        "2ed8fd49fa4f4a5389b416da5ca63e7f": {
          "model_module": "@jupyter-widgets/base",
          "model_name": "LayoutModel",
          "model_module_version": "1.2.0",
          "state": {
            "_model_module": "@jupyter-widgets/base",
            "_model_module_version": "1.2.0",
            "_model_name": "LayoutModel",
            "_view_count": null,
            "_view_module": "@jupyter-widgets/base",
            "_view_module_version": "1.2.0",
            "_view_name": "LayoutView",
            "align_content": null,
            "align_items": null,
            "align_self": null,
            "border": null,
            "bottom": null,
            "display": null,
            "flex": null,
            "flex_flow": null,
            "grid_area": null,
            "grid_auto_columns": null,
            "grid_auto_flow": null,
            "grid_auto_rows": null,
            "grid_column": null,
            "grid_gap": null,
            "grid_row": null,
            "grid_template_areas": null,
            "grid_template_columns": null,
            "grid_template_rows": null,
            "height": null,
            "justify_content": null,
            "justify_items": null,
            "left": null,
            "margin": null,
            "max_height": null,
            "max_width": null,
            "min_height": null,
            "min_width": null,
            "object_fit": null,
            "object_position": null,
            "order": null,
            "overflow": null,
            "overflow_x": null,
            "overflow_y": null,
            "padding": null,
            "right": null,
            "top": null,
            "visibility": null,
            "width": null
          }
        },
        "0057dfbba4344a21982f4437df64c279": {
          "model_module": "@jupyter-widgets/base",
          "model_name": "LayoutModel",
          "model_module_version": "1.2.0",
          "state": {
            "_model_module": "@jupyter-widgets/base",
            "_model_module_version": "1.2.0",
            "_model_name": "LayoutModel",
            "_view_count": null,
            "_view_module": "@jupyter-widgets/base",
            "_view_module_version": "1.2.0",
            "_view_name": "LayoutView",
            "align_content": null,
            "align_items": null,
            "align_self": null,
            "border": null,
            "bottom": null,
            "display": null,
            "flex": null,
            "flex_flow": null,
            "grid_area": null,
            "grid_auto_columns": null,
            "grid_auto_flow": null,
            "grid_auto_rows": null,
            "grid_column": null,
            "grid_gap": null,
            "grid_row": null,
            "grid_template_areas": null,
            "grid_template_columns": null,
            "grid_template_rows": null,
            "height": null,
            "justify_content": null,
            "justify_items": null,
            "left": null,
            "margin": null,
            "max_height": null,
            "max_width": null,
            "min_height": null,
            "min_width": null,
            "object_fit": null,
            "object_position": null,
            "order": null,
            "overflow": null,
            "overflow_x": null,
            "overflow_y": null,
            "padding": null,
            "right": null,
            "top": null,
            "visibility": null,
            "width": null
          }
        },
        "daff819c7d4343a59056d3673c0b940f": {
          "model_module": "@jupyter-widgets/controls",
          "model_name": "DescriptionStyleModel",
          "model_module_version": "1.5.0",
          "state": {
            "_model_module": "@jupyter-widgets/controls",
            "_model_module_version": "1.5.0",
            "_model_name": "DescriptionStyleModel",
            "_view_count": null,
            "_view_module": "@jupyter-widgets/base",
            "_view_module_version": "1.2.0",
            "_view_name": "StyleView",
            "description_width": ""
          }
        },
        "ff6dd1f3c0384551a36f2ec74baf1402": {
          "model_module": "@jupyter-widgets/base",
          "model_name": "LayoutModel",
          "model_module_version": "1.2.0",
          "state": {
            "_model_module": "@jupyter-widgets/base",
            "_model_module_version": "1.2.0",
            "_model_name": "LayoutModel",
            "_view_count": null,
            "_view_module": "@jupyter-widgets/base",
            "_view_module_version": "1.2.0",
            "_view_name": "LayoutView",
            "align_content": null,
            "align_items": null,
            "align_self": null,
            "border": null,
            "bottom": null,
            "display": null,
            "flex": null,
            "flex_flow": null,
            "grid_area": null,
            "grid_auto_columns": null,
            "grid_auto_flow": null,
            "grid_auto_rows": null,
            "grid_column": null,
            "grid_gap": null,
            "grid_row": null,
            "grid_template_areas": null,
            "grid_template_columns": null,
            "grid_template_rows": null,
            "height": null,
            "justify_content": null,
            "justify_items": null,
            "left": null,
            "margin": null,
            "max_height": null,
            "max_width": null,
            "min_height": null,
            "min_width": null,
            "object_fit": null,
            "object_position": null,
            "order": null,
            "overflow": null,
            "overflow_x": null,
            "overflow_y": null,
            "padding": null,
            "right": null,
            "top": null,
            "visibility": null,
            "width": null
          }
        },
        "d005f6de39354313b6b4df7547fb5a5e": {
          "model_module": "@jupyter-widgets/controls",
          "model_name": "ProgressStyleModel",
          "model_module_version": "1.5.0",
          "state": {
            "_model_module": "@jupyter-widgets/controls",
            "_model_module_version": "1.5.0",
            "_model_name": "ProgressStyleModel",
            "_view_count": null,
            "_view_module": "@jupyter-widgets/base",
            "_view_module_version": "1.2.0",
            "_view_name": "StyleView",
            "bar_color": null,
            "description_width": ""
          }
        },
        "f612b37c28ba45259522635ff1492924": {
          "model_module": "@jupyter-widgets/base",
          "model_name": "LayoutModel",
          "model_module_version": "1.2.0",
          "state": {
            "_model_module": "@jupyter-widgets/base",
            "_model_module_version": "1.2.0",
            "_model_name": "LayoutModel",
            "_view_count": null,
            "_view_module": "@jupyter-widgets/base",
            "_view_module_version": "1.2.0",
            "_view_name": "LayoutView",
            "align_content": null,
            "align_items": null,
            "align_self": null,
            "border": null,
            "bottom": null,
            "display": null,
            "flex": null,
            "flex_flow": null,
            "grid_area": null,
            "grid_auto_columns": null,
            "grid_auto_flow": null,
            "grid_auto_rows": null,
            "grid_column": null,
            "grid_gap": null,
            "grid_row": null,
            "grid_template_areas": null,
            "grid_template_columns": null,
            "grid_template_rows": null,
            "height": null,
            "justify_content": null,
            "justify_items": null,
            "left": null,
            "margin": null,
            "max_height": null,
            "max_width": null,
            "min_height": null,
            "min_width": null,
            "object_fit": null,
            "object_position": null,
            "order": null,
            "overflow": null,
            "overflow_x": null,
            "overflow_y": null,
            "padding": null,
            "right": null,
            "top": null,
            "visibility": null,
            "width": null
          }
        },
        "22bb71356a0f414891b961ff31bf73c7": {
          "model_module": "@jupyter-widgets/controls",
          "model_name": "DescriptionStyleModel",
          "model_module_version": "1.5.0",
          "state": {
            "_model_module": "@jupyter-widgets/controls",
            "_model_module_version": "1.5.0",
            "_model_name": "DescriptionStyleModel",
            "_view_count": null,
            "_view_module": "@jupyter-widgets/base",
            "_view_module_version": "1.2.0",
            "_view_name": "StyleView",
            "description_width": ""
          }
        },
        "b1059b368dde4938b42a18277c086b15": {
          "model_module": "@jupyter-widgets/controls",
          "model_name": "HBoxModel",
          "model_module_version": "1.5.0",
          "state": {
            "_dom_classes": [],
            "_model_module": "@jupyter-widgets/controls",
            "_model_module_version": "1.5.0",
            "_model_name": "HBoxModel",
            "_view_count": null,
            "_view_module": "@jupyter-widgets/controls",
            "_view_module_version": "1.5.0",
            "_view_name": "HBoxView",
            "box_style": "",
            "children": [
              "IPY_MODEL_fc306c9544654fd884d22749a761d8e0",
              "IPY_MODEL_c876e0e150ef465bbb4c4ae7b2be675c",
              "IPY_MODEL_bf05e54a196240e49c22156c90447e8c"
            ],
            "layout": "IPY_MODEL_fb7ea96e8d3b48d3b6f9451c51df8706"
          }
        },
        "fc306c9544654fd884d22749a761d8e0": {
          "model_module": "@jupyter-widgets/controls",
          "model_name": "HTMLModel",
          "model_module_version": "1.5.0",
          "state": {
            "_dom_classes": [],
            "_model_module": "@jupyter-widgets/controls",
            "_model_module_version": "1.5.0",
            "_model_name": "HTMLModel",
            "_view_count": null,
            "_view_module": "@jupyter-widgets/controls",
            "_view_module_version": "1.5.0",
            "_view_name": "HTMLView",
            "description": "",
            "description_tooltip": null,
            "layout": "IPY_MODEL_0da302dd45ee424db7126703f93ae594",
            "placeholder": "​",
            "style": "IPY_MODEL_2959399ec5084cdda4d887a6d8640b8c",
            "value": "model.safetensors: 100%"
          }
        },
        "c876e0e150ef465bbb4c4ae7b2be675c": {
          "model_module": "@jupyter-widgets/controls",
          "model_name": "FloatProgressModel",
          "model_module_version": "1.5.0",
          "state": {
            "_dom_classes": [],
            "_model_module": "@jupyter-widgets/controls",
            "_model_module_version": "1.5.0",
            "_model_name": "FloatProgressModel",
            "_view_count": null,
            "_view_module": "@jupyter-widgets/controls",
            "_view_module_version": "1.5.0",
            "_view_name": "ProgressView",
            "bar_style": "success",
            "description": "",
            "description_tooltip": null,
            "layout": "IPY_MODEL_3aa0c0da91104918b96492aa2c852ce1",
            "max": 1617824864,
            "min": 0,
            "orientation": "horizontal",
            "style": "IPY_MODEL_37ac621ccd9849518b8fc6d4a2f48c28",
            "value": 1617824864
          }
        },
        "bf05e54a196240e49c22156c90447e8c": {
          "model_module": "@jupyter-widgets/controls",
          "model_name": "HTMLModel",
          "model_module_version": "1.5.0",
          "state": {
            "_dom_classes": [],
            "_model_module": "@jupyter-widgets/controls",
            "_model_module_version": "1.5.0",
            "_model_name": "HTMLModel",
            "_view_count": null,
            "_view_module": "@jupyter-widgets/controls",
            "_view_module_version": "1.5.0",
            "_view_name": "HTMLView",
            "description": "",
            "description_tooltip": null,
            "layout": "IPY_MODEL_ea9ccaa2ccf94529b3b2d668c655d417",
            "placeholder": "​",
            "style": "IPY_MODEL_f3c49a4fcfe349b2950a20ce2b14be43",
            "value": " 1.62G/1.62G [00:38&lt;00:00, 42.1MB/s]"
          }
        },
        "fb7ea96e8d3b48d3b6f9451c51df8706": {
          "model_module": "@jupyter-widgets/base",
          "model_name": "LayoutModel",
          "model_module_version": "1.2.0",
          "state": {
            "_model_module": "@jupyter-widgets/base",
            "_model_module_version": "1.2.0",
            "_model_name": "LayoutModel",
            "_view_count": null,
            "_view_module": "@jupyter-widgets/base",
            "_view_module_version": "1.2.0",
            "_view_name": "LayoutView",
            "align_content": null,
            "align_items": null,
            "align_self": null,
            "border": null,
            "bottom": null,
            "display": null,
            "flex": null,
            "flex_flow": null,
            "grid_area": null,
            "grid_auto_columns": null,
            "grid_auto_flow": null,
            "grid_auto_rows": null,
            "grid_column": null,
            "grid_gap": null,
            "grid_row": null,
            "grid_template_areas": null,
            "grid_template_columns": null,
            "grid_template_rows": null,
            "height": null,
            "justify_content": null,
            "justify_items": null,
            "left": null,
            "margin": null,
            "max_height": null,
            "max_width": null,
            "min_height": null,
            "min_width": null,
            "object_fit": null,
            "object_position": null,
            "order": null,
            "overflow": null,
            "overflow_x": null,
            "overflow_y": null,
            "padding": null,
            "right": null,
            "top": null,
            "visibility": null,
            "width": null
          }
        },
        "0da302dd45ee424db7126703f93ae594": {
          "model_module": "@jupyter-widgets/base",
          "model_name": "LayoutModel",
          "model_module_version": "1.2.0",
          "state": {
            "_model_module": "@jupyter-widgets/base",
            "_model_module_version": "1.2.0",
            "_model_name": "LayoutModel",
            "_view_count": null,
            "_view_module": "@jupyter-widgets/base",
            "_view_module_version": "1.2.0",
            "_view_name": "LayoutView",
            "align_content": null,
            "align_items": null,
            "align_self": null,
            "border": null,
            "bottom": null,
            "display": null,
            "flex": null,
            "flex_flow": null,
            "grid_area": null,
            "grid_auto_columns": null,
            "grid_auto_flow": null,
            "grid_auto_rows": null,
            "grid_column": null,
            "grid_gap": null,
            "grid_row": null,
            "grid_template_areas": null,
            "grid_template_columns": null,
            "grid_template_rows": null,
            "height": null,
            "justify_content": null,
            "justify_items": null,
            "left": null,
            "margin": null,
            "max_height": null,
            "max_width": null,
            "min_height": null,
            "min_width": null,
            "object_fit": null,
            "object_position": null,
            "order": null,
            "overflow": null,
            "overflow_x": null,
            "overflow_y": null,
            "padding": null,
            "right": null,
            "top": null,
            "visibility": null,
            "width": null
          }
        },
        "2959399ec5084cdda4d887a6d8640b8c": {
          "model_module": "@jupyter-widgets/controls",
          "model_name": "DescriptionStyleModel",
          "model_module_version": "1.5.0",
          "state": {
            "_model_module": "@jupyter-widgets/controls",
            "_model_module_version": "1.5.0",
            "_model_name": "DescriptionStyleModel",
            "_view_count": null,
            "_view_module": "@jupyter-widgets/base",
            "_view_module_version": "1.2.0",
            "_view_name": "StyleView",
            "description_width": ""
          }
        },
        "3aa0c0da91104918b96492aa2c852ce1": {
          "model_module": "@jupyter-widgets/base",
          "model_name": "LayoutModel",
          "model_module_version": "1.2.0",
          "state": {
            "_model_module": "@jupyter-widgets/base",
            "_model_module_version": "1.2.0",
            "_model_name": "LayoutModel",
            "_view_count": null,
            "_view_module": "@jupyter-widgets/base",
            "_view_module_version": "1.2.0",
            "_view_name": "LayoutView",
            "align_content": null,
            "align_items": null,
            "align_self": null,
            "border": null,
            "bottom": null,
            "display": null,
            "flex": null,
            "flex_flow": null,
            "grid_area": null,
            "grid_auto_columns": null,
            "grid_auto_flow": null,
            "grid_auto_rows": null,
            "grid_column": null,
            "grid_gap": null,
            "grid_row": null,
            "grid_template_areas": null,
            "grid_template_columns": null,
            "grid_template_rows": null,
            "height": null,
            "justify_content": null,
            "justify_items": null,
            "left": null,
            "margin": null,
            "max_height": null,
            "max_width": null,
            "min_height": null,
            "min_width": null,
            "object_fit": null,
            "object_position": null,
            "order": null,
            "overflow": null,
            "overflow_x": null,
            "overflow_y": null,
            "padding": null,
            "right": null,
            "top": null,
            "visibility": null,
            "width": null
          }
        },
        "37ac621ccd9849518b8fc6d4a2f48c28": {
          "model_module": "@jupyter-widgets/controls",
          "model_name": "ProgressStyleModel",
          "model_module_version": "1.5.0",
          "state": {
            "_model_module": "@jupyter-widgets/controls",
            "_model_module_version": "1.5.0",
            "_model_name": "ProgressStyleModel",
            "_view_count": null,
            "_view_module": "@jupyter-widgets/base",
            "_view_module_version": "1.2.0",
            "_view_name": "StyleView",
            "bar_color": null,
            "description_width": ""
          }
        },
        "ea9ccaa2ccf94529b3b2d668c655d417": {
          "model_module": "@jupyter-widgets/base",
          "model_name": "LayoutModel",
          "model_module_version": "1.2.0",
          "state": {
            "_model_module": "@jupyter-widgets/base",
            "_model_module_version": "1.2.0",
            "_model_name": "LayoutModel",
            "_view_count": null,
            "_view_module": "@jupyter-widgets/base",
            "_view_module_version": "1.2.0",
            "_view_name": "LayoutView",
            "align_content": null,
            "align_items": null,
            "align_self": null,
            "border": null,
            "bottom": null,
            "display": null,
            "flex": null,
            "flex_flow": null,
            "grid_area": null,
            "grid_auto_columns": null,
            "grid_auto_flow": null,
            "grid_auto_rows": null,
            "grid_column": null,
            "grid_gap": null,
            "grid_row": null,
            "grid_template_areas": null,
            "grid_template_columns": null,
            "grid_template_rows": null,
            "height": null,
            "justify_content": null,
            "justify_items": null,
            "left": null,
            "margin": null,
            "max_height": null,
            "max_width": null,
            "min_height": null,
            "min_width": null,
            "object_fit": null,
            "object_position": null,
            "order": null,
            "overflow": null,
            "overflow_x": null,
            "overflow_y": null,
            "padding": null,
            "right": null,
            "top": null,
            "visibility": null,
            "width": null
          }
        },
        "f3c49a4fcfe349b2950a20ce2b14be43": {
          "model_module": "@jupyter-widgets/controls",
          "model_name": "DescriptionStyleModel",
          "model_module_version": "1.5.0",
          "state": {
            "_model_module": "@jupyter-widgets/controls",
            "_model_module_version": "1.5.0",
            "_model_name": "DescriptionStyleModel",
            "_view_count": null,
            "_view_module": "@jupyter-widgets/base",
            "_view_module_version": "1.2.0",
            "_view_name": "StyleView",
            "description_width": ""
          }
        },
        "a6c8c529ca69477ba96276531dc7c46a": {
          "model_module": "@jupyter-widgets/controls",
          "model_name": "HBoxModel",
          "model_module_version": "1.5.0",
          "state": {
            "_dom_classes": [],
            "_model_module": "@jupyter-widgets/controls",
            "_model_module_version": "1.5.0",
            "_model_name": "HBoxModel",
            "_view_count": null,
            "_view_module": "@jupyter-widgets/controls",
            "_view_module_version": "1.5.0",
            "_view_name": "HBoxView",
            "box_style": "",
            "children": [
              "IPY_MODEL_731951f4d4fa4504a9142c7b88811363",
              "IPY_MODEL_4c025e26d446429689bfc06873189fc1",
              "IPY_MODEL_c9517ad0fd224c3389e9e513ffe60075"
            ],
            "layout": "IPY_MODEL_a69204a55443464fa43067e3ebae3b05"
          }
        },
        "731951f4d4fa4504a9142c7b88811363": {
          "model_module": "@jupyter-widgets/controls",
          "model_name": "HTMLModel",
          "model_module_version": "1.5.0",
          "state": {
            "_dom_classes": [],
            "_model_module": "@jupyter-widgets/controls",
            "_model_module_version": "1.5.0",
            "_model_name": "HTMLModel",
            "_view_count": null,
            "_view_module": "@jupyter-widgets/controls",
            "_view_module_version": "1.5.0",
            "_view_name": "HTMLView",
            "description": "",
            "description_tooltip": null,
            "layout": "IPY_MODEL_5b3187e5fe464afabce9063a49e47ceb",
            "placeholder": "​",
            "style": "IPY_MODEL_c4ef3f56d62846a8bb386f7808621167",
            "value": "generation_config.json: 100%"
          }
        },
        "4c025e26d446429689bfc06873189fc1": {
          "model_module": "@jupyter-widgets/controls",
          "model_name": "FloatProgressModel",
          "model_module_version": "1.5.0",
          "state": {
            "_dom_classes": [],
            "_model_module": "@jupyter-widgets/controls",
            "_model_module_version": "1.5.0",
            "_model_name": "FloatProgressModel",
            "_view_count": null,
            "_view_module": "@jupyter-widgets/controls",
            "_view_module_version": "1.5.0",
            "_view_name": "ProgressView",
            "bar_style": "success",
            "description": "",
            "description_tooltip": null,
            "layout": "IPY_MODEL_8dd8e104ab32481c84d17c14ca331752",
            "max": 3772,
            "min": 0,
            "orientation": "horizontal",
            "style": "IPY_MODEL_4dd6cb59af1548659f28024397cc7643",
            "value": 3772
          }
        },
        "c9517ad0fd224c3389e9e513ffe60075": {
          "model_module": "@jupyter-widgets/controls",
          "model_name": "HTMLModel",
          "model_module_version": "1.5.0",
          "state": {
            "_dom_classes": [],
            "_model_module": "@jupyter-widgets/controls",
            "_model_module_version": "1.5.0",
            "_model_name": "HTMLModel",
            "_view_count": null,
            "_view_module": "@jupyter-widgets/controls",
            "_view_module_version": "1.5.0",
            "_view_name": "HTMLView",
            "description": "",
            "description_tooltip": null,
            "layout": "IPY_MODEL_dbfa02b2761d4ecc8b05171fbfe0b42b",
            "placeholder": "​",
            "style": "IPY_MODEL_0eb00d3f6e9044219aec768c63705a71",
            "value": " 3.77k/3.77k [00:00&lt;00:00, 317kB/s]"
          }
        },
        "a69204a55443464fa43067e3ebae3b05": {
          "model_module": "@jupyter-widgets/base",
          "model_name": "LayoutModel",
          "model_module_version": "1.2.0",
          "state": {
            "_model_module": "@jupyter-widgets/base",
            "_model_module_version": "1.2.0",
            "_model_name": "LayoutModel",
            "_view_count": null,
            "_view_module": "@jupyter-widgets/base",
            "_view_module_version": "1.2.0",
            "_view_name": "LayoutView",
            "align_content": null,
            "align_items": null,
            "align_self": null,
            "border": null,
            "bottom": null,
            "display": null,
            "flex": null,
            "flex_flow": null,
            "grid_area": null,
            "grid_auto_columns": null,
            "grid_auto_flow": null,
            "grid_auto_rows": null,
            "grid_column": null,
            "grid_gap": null,
            "grid_row": null,
            "grid_template_areas": null,
            "grid_template_columns": null,
            "grid_template_rows": null,
            "height": null,
            "justify_content": null,
            "justify_items": null,
            "left": null,
            "margin": null,
            "max_height": null,
            "max_width": null,
            "min_height": null,
            "min_width": null,
            "object_fit": null,
            "object_position": null,
            "order": null,
            "overflow": null,
            "overflow_x": null,
            "overflow_y": null,
            "padding": null,
            "right": null,
            "top": null,
            "visibility": null,
            "width": null
          }
        },
        "5b3187e5fe464afabce9063a49e47ceb": {
          "model_module": "@jupyter-widgets/base",
          "model_name": "LayoutModel",
          "model_module_version": "1.2.0",
          "state": {
            "_model_module": "@jupyter-widgets/base",
            "_model_module_version": "1.2.0",
            "_model_name": "LayoutModel",
            "_view_count": null,
            "_view_module": "@jupyter-widgets/base",
            "_view_module_version": "1.2.0",
            "_view_name": "LayoutView",
            "align_content": null,
            "align_items": null,
            "align_self": null,
            "border": null,
            "bottom": null,
            "display": null,
            "flex": null,
            "flex_flow": null,
            "grid_area": null,
            "grid_auto_columns": null,
            "grid_auto_flow": null,
            "grid_auto_rows": null,
            "grid_column": null,
            "grid_gap": null,
            "grid_row": null,
            "grid_template_areas": null,
            "grid_template_columns": null,
            "grid_template_rows": null,
            "height": null,
            "justify_content": null,
            "justify_items": null,
            "left": null,
            "margin": null,
            "max_height": null,
            "max_width": null,
            "min_height": null,
            "min_width": null,
            "object_fit": null,
            "object_position": null,
            "order": null,
            "overflow": null,
            "overflow_x": null,
            "overflow_y": null,
            "padding": null,
            "right": null,
            "top": null,
            "visibility": null,
            "width": null
          }
        },
        "c4ef3f56d62846a8bb386f7808621167": {
          "model_module": "@jupyter-widgets/controls",
          "model_name": "DescriptionStyleModel",
          "model_module_version": "1.5.0",
          "state": {
            "_model_module": "@jupyter-widgets/controls",
            "_model_module_version": "1.5.0",
            "_model_name": "DescriptionStyleModel",
            "_view_count": null,
            "_view_module": "@jupyter-widgets/base",
            "_view_module_version": "1.2.0",
            "_view_name": "StyleView",
            "description_width": ""
          }
        },
        "8dd8e104ab32481c84d17c14ca331752": {
          "model_module": "@jupyter-widgets/base",
          "model_name": "LayoutModel",
          "model_module_version": "1.2.0",
          "state": {
            "_model_module": "@jupyter-widgets/base",
            "_model_module_version": "1.2.0",
            "_model_name": "LayoutModel",
            "_view_count": null,
            "_view_module": "@jupyter-widgets/base",
            "_view_module_version": "1.2.0",
            "_view_name": "LayoutView",
            "align_content": null,
            "align_items": null,
            "align_self": null,
            "border": null,
            "bottom": null,
            "display": null,
            "flex": null,
            "flex_flow": null,
            "grid_area": null,
            "grid_auto_columns": null,
            "grid_auto_flow": null,
            "grid_auto_rows": null,
            "grid_column": null,
            "grid_gap": null,
            "grid_row": null,
            "grid_template_areas": null,
            "grid_template_columns": null,
            "grid_template_rows": null,
            "height": null,
            "justify_content": null,
            "justify_items": null,
            "left": null,
            "margin": null,
            "max_height": null,
            "max_width": null,
            "min_height": null,
            "min_width": null,
            "object_fit": null,
            "object_position": null,
            "order": null,
            "overflow": null,
            "overflow_x": null,
            "overflow_y": null,
            "padding": null,
            "right": null,
            "top": null,
            "visibility": null,
            "width": null
          }
        },
        "4dd6cb59af1548659f28024397cc7643": {
          "model_module": "@jupyter-widgets/controls",
          "model_name": "ProgressStyleModel",
          "model_module_version": "1.5.0",
          "state": {
            "_model_module": "@jupyter-widgets/controls",
            "_model_module_version": "1.5.0",
            "_model_name": "ProgressStyleModel",
            "_view_count": null,
            "_view_module": "@jupyter-widgets/base",
            "_view_module_version": "1.2.0",
            "_view_name": "StyleView",
            "bar_color": null,
            "description_width": ""
          }
        },
        "dbfa02b2761d4ecc8b05171fbfe0b42b": {
          "model_module": "@jupyter-widgets/base",
          "model_name": "LayoutModel",
          "model_module_version": "1.2.0",
          "state": {
            "_model_module": "@jupyter-widgets/base",
            "_model_module_version": "1.2.0",
            "_model_name": "LayoutModel",
            "_view_count": null,
            "_view_module": "@jupyter-widgets/base",
            "_view_module_version": "1.2.0",
            "_view_name": "LayoutView",
            "align_content": null,
            "align_items": null,
            "align_self": null,
            "border": null,
            "bottom": null,
            "display": null,
            "flex": null,
            "flex_flow": null,
            "grid_area": null,
            "grid_auto_columns": null,
            "grid_auto_flow": null,
            "grid_auto_rows": null,
            "grid_column": null,
            "grid_gap": null,
            "grid_row": null,
            "grid_template_areas": null,
            "grid_template_columns": null,
            "grid_template_rows": null,
            "height": null,
            "justify_content": null,
            "justify_items": null,
            "left": null,
            "margin": null,
            "max_height": null,
            "max_width": null,
            "min_height": null,
            "min_width": null,
            "object_fit": null,
            "object_position": null,
            "order": null,
            "overflow": null,
            "overflow_x": null,
            "overflow_y": null,
            "padding": null,
            "right": null,
            "top": null,
            "visibility": null,
            "width": null
          }
        },
        "0eb00d3f6e9044219aec768c63705a71": {
          "model_module": "@jupyter-widgets/controls",
          "model_name": "DescriptionStyleModel",
          "model_module_version": "1.5.0",
          "state": {
            "_model_module": "@jupyter-widgets/controls",
            "_model_module_version": "1.5.0",
            "_model_name": "DescriptionStyleModel",
            "_view_count": null,
            "_view_module": "@jupyter-widgets/base",
            "_view_module_version": "1.2.0",
            "_view_name": "StyleView",
            "description_width": ""
          }
        },
        "a7efbeff02554feca5253b90f3ad8786": {
          "model_module": "@jupyter-widgets/controls",
          "model_name": "HBoxModel",
          "model_module_version": "1.5.0",
          "state": {
            "_dom_classes": [],
            "_model_module": "@jupyter-widgets/controls",
            "_model_module_version": "1.5.0",
            "_model_name": "HBoxModel",
            "_view_count": null,
            "_view_module": "@jupyter-widgets/controls",
            "_view_module_version": "1.5.0",
            "_view_name": "HBoxView",
            "box_style": "",
            "children": [
              "IPY_MODEL_ed325e8f667c4a78a5f0d5317d864d91",
              "IPY_MODEL_8467127865fe4ec89cdd8b71cfde33f8",
              "IPY_MODEL_971a4ffc6a7647239dfd9583e3586f61"
            ],
            "layout": "IPY_MODEL_c21f2f0402fd49099906f850fdebb044"
          }
        },
        "ed325e8f667c4a78a5f0d5317d864d91": {
          "model_module": "@jupyter-widgets/controls",
          "model_name": "HTMLModel",
          "model_module_version": "1.5.0",
          "state": {
            "_dom_classes": [],
            "_model_module": "@jupyter-widgets/controls",
            "_model_module_version": "1.5.0",
            "_model_name": "HTMLModel",
            "_view_count": null,
            "_view_module": "@jupyter-widgets/controls",
            "_view_module_version": "1.5.0",
            "_view_name": "HTMLView",
            "description": "",
            "description_tooltip": null,
            "layout": "IPY_MODEL_d3ee80f3325e4f30a8735d9136afa930",
            "placeholder": "​",
            "style": "IPY_MODEL_5d3abeb1ce804bcea1869fe47a77e112",
            "value": "tokenizer_config.json: 100%"
          }
        },
        "8467127865fe4ec89cdd8b71cfde33f8": {
          "model_module": "@jupyter-widgets/controls",
          "model_name": "FloatProgressModel",
          "model_module_version": "1.5.0",
          "state": {
            "_dom_classes": [],
            "_model_module": "@jupyter-widgets/controls",
            "_model_module_version": "1.5.0",
            "_model_name": "FloatProgressModel",
            "_view_count": null,
            "_view_module": "@jupyter-widgets/controls",
            "_view_module_version": "1.5.0",
            "_view_name": "ProgressView",
            "bar_style": "success",
            "description": "",
            "description_tooltip": null,
            "layout": "IPY_MODEL_df5974b0b303422c9b9123432246888a",
            "max": 282843,
            "min": 0,
            "orientation": "horizontal",
            "style": "IPY_MODEL_14ed71e19fa14b78b87b6b0867d7af65",
            "value": 282843
          }
        },
        "971a4ffc6a7647239dfd9583e3586f61": {
          "model_module": "@jupyter-widgets/controls",
          "model_name": "HTMLModel",
          "model_module_version": "1.5.0",
          "state": {
            "_dom_classes": [],
            "_model_module": "@jupyter-widgets/controls",
            "_model_module_version": "1.5.0",
            "_model_name": "HTMLModel",
            "_view_count": null,
            "_view_module": "@jupyter-widgets/controls",
            "_view_module_version": "1.5.0",
            "_view_name": "HTMLView",
            "description": "",
            "description_tooltip": null,
            "layout": "IPY_MODEL_75f6ed019fd341718e9f5c953ccdc02c",
            "placeholder": "​",
            "style": "IPY_MODEL_a6deb212fef34376b1bb477da17f6f16",
            "value": " 283k/283k [00:00&lt;00:00, 1.30MB/s]"
          }
        },
        "c21f2f0402fd49099906f850fdebb044": {
          "model_module": "@jupyter-widgets/base",
          "model_name": "LayoutModel",
          "model_module_version": "1.2.0",
          "state": {
            "_model_module": "@jupyter-widgets/base",
            "_model_module_version": "1.2.0",
            "_model_name": "LayoutModel",
            "_view_count": null,
            "_view_module": "@jupyter-widgets/base",
            "_view_module_version": "1.2.0",
            "_view_name": "LayoutView",
            "align_content": null,
            "align_items": null,
            "align_self": null,
            "border": null,
            "bottom": null,
            "display": null,
            "flex": null,
            "flex_flow": null,
            "grid_area": null,
            "grid_auto_columns": null,
            "grid_auto_flow": null,
            "grid_auto_rows": null,
            "grid_column": null,
            "grid_gap": null,
            "grid_row": null,
            "grid_template_areas": null,
            "grid_template_columns": null,
            "grid_template_rows": null,
            "height": null,
            "justify_content": null,
            "justify_items": null,
            "left": null,
            "margin": null,
            "max_height": null,
            "max_width": null,
            "min_height": null,
            "min_width": null,
            "object_fit": null,
            "object_position": null,
            "order": null,
            "overflow": null,
            "overflow_x": null,
            "overflow_y": null,
            "padding": null,
            "right": null,
            "top": null,
            "visibility": null,
            "width": null
          }
        },
        "d3ee80f3325e4f30a8735d9136afa930": {
          "model_module": "@jupyter-widgets/base",
          "model_name": "LayoutModel",
          "model_module_version": "1.2.0",
          "state": {
            "_model_module": "@jupyter-widgets/base",
            "_model_module_version": "1.2.0",
            "_model_name": "LayoutModel",
            "_view_count": null,
            "_view_module": "@jupyter-widgets/base",
            "_view_module_version": "1.2.0",
            "_view_name": "LayoutView",
            "align_content": null,
            "align_items": null,
            "align_self": null,
            "border": null,
            "bottom": null,
            "display": null,
            "flex": null,
            "flex_flow": null,
            "grid_area": null,
            "grid_auto_columns": null,
            "grid_auto_flow": null,
            "grid_auto_rows": null,
            "grid_column": null,
            "grid_gap": null,
            "grid_row": null,
            "grid_template_areas": null,
            "grid_template_columns": null,
            "grid_template_rows": null,
            "height": null,
            "justify_content": null,
            "justify_items": null,
            "left": null,
            "margin": null,
            "max_height": null,
            "max_width": null,
            "min_height": null,
            "min_width": null,
            "object_fit": null,
            "object_position": null,
            "order": null,
            "overflow": null,
            "overflow_x": null,
            "overflow_y": null,
            "padding": null,
            "right": null,
            "top": null,
            "visibility": null,
            "width": null
          }
        },
        "5d3abeb1ce804bcea1869fe47a77e112": {
          "model_module": "@jupyter-widgets/controls",
          "model_name": "DescriptionStyleModel",
          "model_module_version": "1.5.0",
          "state": {
            "_model_module": "@jupyter-widgets/controls",
            "_model_module_version": "1.5.0",
            "_model_name": "DescriptionStyleModel",
            "_view_count": null,
            "_view_module": "@jupyter-widgets/base",
            "_view_module_version": "1.2.0",
            "_view_name": "StyleView",
            "description_width": ""
          }
        },
        "df5974b0b303422c9b9123432246888a": {
          "model_module": "@jupyter-widgets/base",
          "model_name": "LayoutModel",
          "model_module_version": "1.2.0",
          "state": {
            "_model_module": "@jupyter-widgets/base",
            "_model_module_version": "1.2.0",
            "_model_name": "LayoutModel",
            "_view_count": null,
            "_view_module": "@jupyter-widgets/base",
            "_view_module_version": "1.2.0",
            "_view_name": "LayoutView",
            "align_content": null,
            "align_items": null,
            "align_self": null,
            "border": null,
            "bottom": null,
            "display": null,
            "flex": null,
            "flex_flow": null,
            "grid_area": null,
            "grid_auto_columns": null,
            "grid_auto_flow": null,
            "grid_auto_rows": null,
            "grid_column": null,
            "grid_gap": null,
            "grid_row": null,
            "grid_template_areas": null,
            "grid_template_columns": null,
            "grid_template_rows": null,
            "height": null,
            "justify_content": null,
            "justify_items": null,
            "left": null,
            "margin": null,
            "max_height": null,
            "max_width": null,
            "min_height": null,
            "min_width": null,
            "object_fit": null,
            "object_position": null,
            "order": null,
            "overflow": null,
            "overflow_x": null,
            "overflow_y": null,
            "padding": null,
            "right": null,
            "top": null,
            "visibility": null,
            "width": null
          }
        },
        "14ed71e19fa14b78b87b6b0867d7af65": {
          "model_module": "@jupyter-widgets/controls",
          "model_name": "ProgressStyleModel",
          "model_module_version": "1.5.0",
          "state": {
            "_model_module": "@jupyter-widgets/controls",
            "_model_module_version": "1.5.0",
            "_model_name": "ProgressStyleModel",
            "_view_count": null,
            "_view_module": "@jupyter-widgets/base",
            "_view_module_version": "1.2.0",
            "_view_name": "StyleView",
            "bar_color": null,
            "description_width": ""
          }
        },
        "75f6ed019fd341718e9f5c953ccdc02c": {
          "model_module": "@jupyter-widgets/base",
          "model_name": "LayoutModel",
          "model_module_version": "1.2.0",
          "state": {
            "_model_module": "@jupyter-widgets/base",
            "_model_module_version": "1.2.0",
            "_model_name": "LayoutModel",
            "_view_count": null,
            "_view_module": "@jupyter-widgets/base",
            "_view_module_version": "1.2.0",
            "_view_name": "LayoutView",
            "align_content": null,
            "align_items": null,
            "align_self": null,
            "border": null,
            "bottom": null,
            "display": null,
            "flex": null,
            "flex_flow": null,
            "grid_area": null,
            "grid_auto_columns": null,
            "grid_auto_flow": null,
            "grid_auto_rows": null,
            "grid_column": null,
            "grid_gap": null,
            "grid_row": null,
            "grid_template_areas": null,
            "grid_template_columns": null,
            "grid_template_rows": null,
            "height": null,
            "justify_content": null,
            "justify_items": null,
            "left": null,
            "margin": null,
            "max_height": null,
            "max_width": null,
            "min_height": null,
            "min_width": null,
            "object_fit": null,
            "object_position": null,
            "order": null,
            "overflow": null,
            "overflow_x": null,
            "overflow_y": null,
            "padding": null,
            "right": null,
            "top": null,
            "visibility": null,
            "width": null
          }
        },
        "a6deb212fef34376b1bb477da17f6f16": {
          "model_module": "@jupyter-widgets/controls",
          "model_name": "DescriptionStyleModel",
          "model_module_version": "1.5.0",
          "state": {
            "_model_module": "@jupyter-widgets/controls",
            "_model_module_version": "1.5.0",
            "_model_name": "DescriptionStyleModel",
            "_view_count": null,
            "_view_module": "@jupyter-widgets/base",
            "_view_module_version": "1.2.0",
            "_view_name": "StyleView",
            "description_width": ""
          }
        },
        "2c7d3034db3f4193bf041d9ff796a7f9": {
          "model_module": "@jupyter-widgets/controls",
          "model_name": "HBoxModel",
          "model_module_version": "1.5.0",
          "state": {
            "_dom_classes": [],
            "_model_module": "@jupyter-widgets/controls",
            "_model_module_version": "1.5.0",
            "_model_name": "HBoxModel",
            "_view_count": null,
            "_view_module": "@jupyter-widgets/controls",
            "_view_module_version": "1.5.0",
            "_view_name": "HBoxView",
            "box_style": "",
            "children": [
              "IPY_MODEL_62bf9f2958104c20bcf6565a0f3aa57e",
              "IPY_MODEL_5ffac9c60e764863ac213c2fa3ec012a",
              "IPY_MODEL_48814b610e8b4a54ba8a642c0859cb1d"
            ],
            "layout": "IPY_MODEL_f245a1a1152941c9bfe02d332cf4a917"
          }
        },
        "62bf9f2958104c20bcf6565a0f3aa57e": {
          "model_module": "@jupyter-widgets/controls",
          "model_name": "HTMLModel",
          "model_module_version": "1.5.0",
          "state": {
            "_dom_classes": [],
            "_model_module": "@jupyter-widgets/controls",
            "_model_module_version": "1.5.0",
            "_model_name": "HTMLModel",
            "_view_count": null,
            "_view_module": "@jupyter-widgets/controls",
            "_view_module_version": "1.5.0",
            "_view_name": "HTMLView",
            "description": "",
            "description_tooltip": null,
            "layout": "IPY_MODEL_96dee4f744bd4bdfb4cfe1c7877e1009",
            "placeholder": "​",
            "style": "IPY_MODEL_1be6ce35c32e409193197b2a8c6cc96f",
            "value": "vocab.json: 100%"
          }
        },
        "5ffac9c60e764863ac213c2fa3ec012a": {
          "model_module": "@jupyter-widgets/controls",
          "model_name": "FloatProgressModel",
          "model_module_version": "1.5.0",
          "state": {
            "_dom_classes": [],
            "_model_module": "@jupyter-widgets/controls",
            "_model_module_version": "1.5.0",
            "_model_name": "FloatProgressModel",
            "_view_count": null,
            "_view_module": "@jupyter-widgets/controls",
            "_view_module_version": "1.5.0",
            "_view_name": "ProgressView",
            "bar_style": "success",
            "description": "",
            "description_tooltip": null,
            "layout": "IPY_MODEL_cc479b9f806a4cc0b028968771f85afa",
            "max": 1036558,
            "min": 0,
            "orientation": "horizontal",
            "style": "IPY_MODEL_65c29bd50b974b6c9ac1020c5f6fec4b",
            "value": 1036558
          }
        },
        "48814b610e8b4a54ba8a642c0859cb1d": {
          "model_module": "@jupyter-widgets/controls",
          "model_name": "HTMLModel",
          "model_module_version": "1.5.0",
          "state": {
            "_dom_classes": [],
            "_model_module": "@jupyter-widgets/controls",
            "_model_module_version": "1.5.0",
            "_model_name": "HTMLModel",
            "_view_count": null,
            "_view_module": "@jupyter-widgets/controls",
            "_view_module_version": "1.5.0",
            "_view_name": "HTMLView",
            "description": "",
            "description_tooltip": null,
            "layout": "IPY_MODEL_0a30d63d5109417f97c7d2f24ebe9b96",
            "placeholder": "​",
            "style": "IPY_MODEL_59c9fecdab0f45b1a01d344b701ff660",
            "value": " 1.04M/1.04M [00:00&lt;00:00, 1.64MB/s]"
          }
        },
        "f245a1a1152941c9bfe02d332cf4a917": {
          "model_module": "@jupyter-widgets/base",
          "model_name": "LayoutModel",
          "model_module_version": "1.2.0",
          "state": {
            "_model_module": "@jupyter-widgets/base",
            "_model_module_version": "1.2.0",
            "_model_name": "LayoutModel",
            "_view_count": null,
            "_view_module": "@jupyter-widgets/base",
            "_view_module_version": "1.2.0",
            "_view_name": "LayoutView",
            "align_content": null,
            "align_items": null,
            "align_self": null,
            "border": null,
            "bottom": null,
            "display": null,
            "flex": null,
            "flex_flow": null,
            "grid_area": null,
            "grid_auto_columns": null,
            "grid_auto_flow": null,
            "grid_auto_rows": null,
            "grid_column": null,
            "grid_gap": null,
            "grid_row": null,
            "grid_template_areas": null,
            "grid_template_columns": null,
            "grid_template_rows": null,
            "height": null,
            "justify_content": null,
            "justify_items": null,
            "left": null,
            "margin": null,
            "max_height": null,
            "max_width": null,
            "min_height": null,
            "min_width": null,
            "object_fit": null,
            "object_position": null,
            "order": null,
            "overflow": null,
            "overflow_x": null,
            "overflow_y": null,
            "padding": null,
            "right": null,
            "top": null,
            "visibility": null,
            "width": null
          }
        },
        "96dee4f744bd4bdfb4cfe1c7877e1009": {
          "model_module": "@jupyter-widgets/base",
          "model_name": "LayoutModel",
          "model_module_version": "1.2.0",
          "state": {
            "_model_module": "@jupyter-widgets/base",
            "_model_module_version": "1.2.0",
            "_model_name": "LayoutModel",
            "_view_count": null,
            "_view_module": "@jupyter-widgets/base",
            "_view_module_version": "1.2.0",
            "_view_name": "LayoutView",
            "align_content": null,
            "align_items": null,
            "align_self": null,
            "border": null,
            "bottom": null,
            "display": null,
            "flex": null,
            "flex_flow": null,
            "grid_area": null,
            "grid_auto_columns": null,
            "grid_auto_flow": null,
            "grid_auto_rows": null,
            "grid_column": null,
            "grid_gap": null,
            "grid_row": null,
            "grid_template_areas": null,
            "grid_template_columns": null,
            "grid_template_rows": null,
            "height": null,
            "justify_content": null,
            "justify_items": null,
            "left": null,
            "margin": null,
            "max_height": null,
            "max_width": null,
            "min_height": null,
            "min_width": null,
            "object_fit": null,
            "object_position": null,
            "order": null,
            "overflow": null,
            "overflow_x": null,
            "overflow_y": null,
            "padding": null,
            "right": null,
            "top": null,
            "visibility": null,
            "width": null
          }
        },
        "1be6ce35c32e409193197b2a8c6cc96f": {
          "model_module": "@jupyter-widgets/controls",
          "model_name": "DescriptionStyleModel",
          "model_module_version": "1.5.0",
          "state": {
            "_model_module": "@jupyter-widgets/controls",
            "_model_module_version": "1.5.0",
            "_model_name": "DescriptionStyleModel",
            "_view_count": null,
            "_view_module": "@jupyter-widgets/base",
            "_view_module_version": "1.2.0",
            "_view_name": "StyleView",
            "description_width": ""
          }
        },
        "cc479b9f806a4cc0b028968771f85afa": {
          "model_module": "@jupyter-widgets/base",
          "model_name": "LayoutModel",
          "model_module_version": "1.2.0",
          "state": {
            "_model_module": "@jupyter-widgets/base",
            "_model_module_version": "1.2.0",
            "_model_name": "LayoutModel",
            "_view_count": null,
            "_view_module": "@jupyter-widgets/base",
            "_view_module_version": "1.2.0",
            "_view_name": "LayoutView",
            "align_content": null,
            "align_items": null,
            "align_self": null,
            "border": null,
            "bottom": null,
            "display": null,
            "flex": null,
            "flex_flow": null,
            "grid_area": null,
            "grid_auto_columns": null,
            "grid_auto_flow": null,
            "grid_auto_rows": null,
            "grid_column": null,
            "grid_gap": null,
            "grid_row": null,
            "grid_template_areas": null,
            "grid_template_columns": null,
            "grid_template_rows": null,
            "height": null,
            "justify_content": null,
            "justify_items": null,
            "left": null,
            "margin": null,
            "max_height": null,
            "max_width": null,
            "min_height": null,
            "min_width": null,
            "object_fit": null,
            "object_position": null,
            "order": null,
            "overflow": null,
            "overflow_x": null,
            "overflow_y": null,
            "padding": null,
            "right": null,
            "top": null,
            "visibility": null,
            "width": null
          }
        },
        "65c29bd50b974b6c9ac1020c5f6fec4b": {
          "model_module": "@jupyter-widgets/controls",
          "model_name": "ProgressStyleModel",
          "model_module_version": "1.5.0",
          "state": {
            "_model_module": "@jupyter-widgets/controls",
            "_model_module_version": "1.5.0",
            "_model_name": "ProgressStyleModel",
            "_view_count": null,
            "_view_module": "@jupyter-widgets/base",
            "_view_module_version": "1.2.0",
            "_view_name": "StyleView",
            "bar_color": null,
            "description_width": ""
          }
        },
        "0a30d63d5109417f97c7d2f24ebe9b96": {
          "model_module": "@jupyter-widgets/base",
          "model_name": "LayoutModel",
          "model_module_version": "1.2.0",
          "state": {
            "_model_module": "@jupyter-widgets/base",
            "_model_module_version": "1.2.0",
            "_model_name": "LayoutModel",
            "_view_count": null,
            "_view_module": "@jupyter-widgets/base",
            "_view_module_version": "1.2.0",
            "_view_name": "LayoutView",
            "align_content": null,
            "align_items": null,
            "align_self": null,
            "border": null,
            "bottom": null,
            "display": null,
            "flex": null,
            "flex_flow": null,
            "grid_area": null,
            "grid_auto_columns": null,
            "grid_auto_flow": null,
            "grid_auto_rows": null,
            "grid_column": null,
            "grid_gap": null,
            "grid_row": null,
            "grid_template_areas": null,
            "grid_template_columns": null,
            "grid_template_rows": null,
            "height": null,
            "justify_content": null,
            "justify_items": null,
            "left": null,
            "margin": null,
            "max_height": null,
            "max_width": null,
            "min_height": null,
            "min_width": null,
            "object_fit": null,
            "object_position": null,
            "order": null,
            "overflow": null,
            "overflow_x": null,
            "overflow_y": null,
            "padding": null,
            "right": null,
            "top": null,
            "visibility": null,
            "width": null
          }
        },
        "59c9fecdab0f45b1a01d344b701ff660": {
          "model_module": "@jupyter-widgets/controls",
          "model_name": "DescriptionStyleModel",
          "model_module_version": "1.5.0",
          "state": {
            "_model_module": "@jupyter-widgets/controls",
            "_model_module_version": "1.5.0",
            "_model_name": "DescriptionStyleModel",
            "_view_count": null,
            "_view_module": "@jupyter-widgets/base",
            "_view_module_version": "1.2.0",
            "_view_name": "StyleView",
            "description_width": ""
          }
        },
        "c539caca7e934976b37b7ebbad9dd446": {
          "model_module": "@jupyter-widgets/controls",
          "model_name": "HBoxModel",
          "model_module_version": "1.5.0",
          "state": {
            "_dom_classes": [],
            "_model_module": "@jupyter-widgets/controls",
            "_model_module_version": "1.5.0",
            "_model_name": "HBoxModel",
            "_view_count": null,
            "_view_module": "@jupyter-widgets/controls",
            "_view_module_version": "1.5.0",
            "_view_name": "HBoxView",
            "box_style": "",
            "children": [
              "IPY_MODEL_a5fd1ded41a0423ab24d203bbdeca7a3",
              "IPY_MODEL_cd29cb3bf7274e54b837c0b8fb4ed102",
              "IPY_MODEL_235e7075da4d41f39f690302948f6456"
            ],
            "layout": "IPY_MODEL_f06a8842bf0a4ed88a02a36f11fcd30f"
          }
        },
        "a5fd1ded41a0423ab24d203bbdeca7a3": {
          "model_module": "@jupyter-widgets/controls",
          "model_name": "HTMLModel",
          "model_module_version": "1.5.0",
          "state": {
            "_dom_classes": [],
            "_model_module": "@jupyter-widgets/controls",
            "_model_module_version": "1.5.0",
            "_model_name": "HTMLModel",
            "_view_count": null,
            "_view_module": "@jupyter-widgets/controls",
            "_view_module_version": "1.5.0",
            "_view_name": "HTMLView",
            "description": "",
            "description_tooltip": null,
            "layout": "IPY_MODEL_ff3bb9ce7d744f01b9101022f43cecda",
            "placeholder": "​",
            "style": "IPY_MODEL_2c37464af3cc4861aebe7b1f46e9fa8f",
            "value": "tokenizer.json: 100%"
          }
        },
        "cd29cb3bf7274e54b837c0b8fb4ed102": {
          "model_module": "@jupyter-widgets/controls",
          "model_name": "FloatProgressModel",
          "model_module_version": "1.5.0",
          "state": {
            "_dom_classes": [],
            "_model_module": "@jupyter-widgets/controls",
            "_model_module_version": "1.5.0",
            "_model_name": "FloatProgressModel",
            "_view_count": null,
            "_view_module": "@jupyter-widgets/controls",
            "_view_module_version": "1.5.0",
            "_view_name": "ProgressView",
            "bar_style": "success",
            "description": "",
            "description_tooltip": null,
            "layout": "IPY_MODEL_002182b1e2dd47fcbfc58416d79b7f4d",
            "max": 2710337,
            "min": 0,
            "orientation": "horizontal",
            "style": "IPY_MODEL_740adbe64e84430ab2ae8fa1b8b92e24",
            "value": 2710337
          }
        },
        "235e7075da4d41f39f690302948f6456": {
          "model_module": "@jupyter-widgets/controls",
          "model_name": "HTMLModel",
          "model_module_version": "1.5.0",
          "state": {
            "_dom_classes": [],
            "_model_module": "@jupyter-widgets/controls",
            "_model_module_version": "1.5.0",
            "_model_name": "HTMLModel",
            "_view_count": null,
            "_view_module": "@jupyter-widgets/controls",
            "_view_module_version": "1.5.0",
            "_view_name": "HTMLView",
            "description": "",
            "description_tooltip": null,
            "layout": "IPY_MODEL_ab6f461786634a9ab410182e2dfd9d49",
            "placeholder": "​",
            "style": "IPY_MODEL_4b4e35b55dea46a998d1ef7abcad0139",
            "value": " 2.71M/2.71M [00:00&lt;00:00, 6.39MB/s]"
          }
        },
        "f06a8842bf0a4ed88a02a36f11fcd30f": {
          "model_module": "@jupyter-widgets/base",
          "model_name": "LayoutModel",
          "model_module_version": "1.2.0",
          "state": {
            "_model_module": "@jupyter-widgets/base",
            "_model_module_version": "1.2.0",
            "_model_name": "LayoutModel",
            "_view_count": null,
            "_view_module": "@jupyter-widgets/base",
            "_view_module_version": "1.2.0",
            "_view_name": "LayoutView",
            "align_content": null,
            "align_items": null,
            "align_self": null,
            "border": null,
            "bottom": null,
            "display": null,
            "flex": null,
            "flex_flow": null,
            "grid_area": null,
            "grid_auto_columns": null,
            "grid_auto_flow": null,
            "grid_auto_rows": null,
            "grid_column": null,
            "grid_gap": null,
            "grid_row": null,
            "grid_template_areas": null,
            "grid_template_columns": null,
            "grid_template_rows": null,
            "height": null,
            "justify_content": null,
            "justify_items": null,
            "left": null,
            "margin": null,
            "max_height": null,
            "max_width": null,
            "min_height": null,
            "min_width": null,
            "object_fit": null,
            "object_position": null,
            "order": null,
            "overflow": null,
            "overflow_x": null,
            "overflow_y": null,
            "padding": null,
            "right": null,
            "top": null,
            "visibility": null,
            "width": null
          }
        },
        "ff3bb9ce7d744f01b9101022f43cecda": {
          "model_module": "@jupyter-widgets/base",
          "model_name": "LayoutModel",
          "model_module_version": "1.2.0",
          "state": {
            "_model_module": "@jupyter-widgets/base",
            "_model_module_version": "1.2.0",
            "_model_name": "LayoutModel",
            "_view_count": null,
            "_view_module": "@jupyter-widgets/base",
            "_view_module_version": "1.2.0",
            "_view_name": "LayoutView",
            "align_content": null,
            "align_items": null,
            "align_self": null,
            "border": null,
            "bottom": null,
            "display": null,
            "flex": null,
            "flex_flow": null,
            "grid_area": null,
            "grid_auto_columns": null,
            "grid_auto_flow": null,
            "grid_auto_rows": null,
            "grid_column": null,
            "grid_gap": null,
            "grid_row": null,
            "grid_template_areas": null,
            "grid_template_columns": null,
            "grid_template_rows": null,
            "height": null,
            "justify_content": null,
            "justify_items": null,
            "left": null,
            "margin": null,
            "max_height": null,
            "max_width": null,
            "min_height": null,
            "min_width": null,
            "object_fit": null,
            "object_position": null,
            "order": null,
            "overflow": null,
            "overflow_x": null,
            "overflow_y": null,
            "padding": null,
            "right": null,
            "top": null,
            "visibility": null,
            "width": null
          }
        },
        "2c37464af3cc4861aebe7b1f46e9fa8f": {
          "model_module": "@jupyter-widgets/controls",
          "model_name": "DescriptionStyleModel",
          "model_module_version": "1.5.0",
          "state": {
            "_model_module": "@jupyter-widgets/controls",
            "_model_module_version": "1.5.0",
            "_model_name": "DescriptionStyleModel",
            "_view_count": null,
            "_view_module": "@jupyter-widgets/base",
            "_view_module_version": "1.2.0",
            "_view_name": "StyleView",
            "description_width": ""
          }
        },
        "002182b1e2dd47fcbfc58416d79b7f4d": {
          "model_module": "@jupyter-widgets/base",
          "model_name": "LayoutModel",
          "model_module_version": "1.2.0",
          "state": {
            "_model_module": "@jupyter-widgets/base",
            "_model_module_version": "1.2.0",
            "_model_name": "LayoutModel",
            "_view_count": null,
            "_view_module": "@jupyter-widgets/base",
            "_view_module_version": "1.2.0",
            "_view_name": "LayoutView",
            "align_content": null,
            "align_items": null,
            "align_self": null,
            "border": null,
            "bottom": null,
            "display": null,
            "flex": null,
            "flex_flow": null,
            "grid_area": null,
            "grid_auto_columns": null,
            "grid_auto_flow": null,
            "grid_auto_rows": null,
            "grid_column": null,
            "grid_gap": null,
            "grid_row": null,
            "grid_template_areas": null,
            "grid_template_columns": null,
            "grid_template_rows": null,
            "height": null,
            "justify_content": null,
            "justify_items": null,
            "left": null,
            "margin": null,
            "max_height": null,
            "max_width": null,
            "min_height": null,
            "min_width": null,
            "object_fit": null,
            "object_position": null,
            "order": null,
            "overflow": null,
            "overflow_x": null,
            "overflow_y": null,
            "padding": null,
            "right": null,
            "top": null,
            "visibility": null,
            "width": null
          }
        },
        "740adbe64e84430ab2ae8fa1b8b92e24": {
          "model_module": "@jupyter-widgets/controls",
          "model_name": "ProgressStyleModel",
          "model_module_version": "1.5.0",
          "state": {
            "_model_module": "@jupyter-widgets/controls",
            "_model_module_version": "1.5.0",
            "_model_name": "ProgressStyleModel",
            "_view_count": null,
            "_view_module": "@jupyter-widgets/base",
            "_view_module_version": "1.2.0",
            "_view_name": "StyleView",
            "bar_color": null,
            "description_width": ""
          }
        },
        "ab6f461786634a9ab410182e2dfd9d49": {
          "model_module": "@jupyter-widgets/base",
          "model_name": "LayoutModel",
          "model_module_version": "1.2.0",
          "state": {
            "_model_module": "@jupyter-widgets/base",
            "_model_module_version": "1.2.0",
            "_model_name": "LayoutModel",
            "_view_count": null,
            "_view_module": "@jupyter-widgets/base",
            "_view_module_version": "1.2.0",
            "_view_name": "LayoutView",
            "align_content": null,
            "align_items": null,
            "align_self": null,
            "border": null,
            "bottom": null,
            "display": null,
            "flex": null,
            "flex_flow": null,
            "grid_area": null,
            "grid_auto_columns": null,
            "grid_auto_flow": null,
            "grid_auto_rows": null,
            "grid_column": null,
            "grid_gap": null,
            "grid_row": null,
            "grid_template_areas": null,
            "grid_template_columns": null,
            "grid_template_rows": null,
            "height": null,
            "justify_content": null,
            "justify_items": null,
            "left": null,
            "margin": null,
            "max_height": null,
            "max_width": null,
            "min_height": null,
            "min_width": null,
            "object_fit": null,
            "object_position": null,
            "order": null,
            "overflow": null,
            "overflow_x": null,
            "overflow_y": null,
            "padding": null,
            "right": null,
            "top": null,
            "visibility": null,
            "width": null
          }
        },
        "4b4e35b55dea46a998d1ef7abcad0139": {
          "model_module": "@jupyter-widgets/controls",
          "model_name": "DescriptionStyleModel",
          "model_module_version": "1.5.0",
          "state": {
            "_model_module": "@jupyter-widgets/controls",
            "_model_module_version": "1.5.0",
            "_model_name": "DescriptionStyleModel",
            "_view_count": null,
            "_view_module": "@jupyter-widgets/base",
            "_view_module_version": "1.2.0",
            "_view_name": "StyleView",
            "description_width": ""
          }
        },
        "22529e06f7c04c088d0e0cef5ded8514": {
          "model_module": "@jupyter-widgets/controls",
          "model_name": "HBoxModel",
          "model_module_version": "1.5.0",
          "state": {
            "_dom_classes": [],
            "_model_module": "@jupyter-widgets/controls",
            "_model_module_version": "1.5.0",
            "_model_name": "HBoxModel",
            "_view_count": null,
            "_view_module": "@jupyter-widgets/controls",
            "_view_module_version": "1.5.0",
            "_view_name": "HBoxView",
            "box_style": "",
            "children": [
              "IPY_MODEL_ad748b84230e4013a515f56adb2c1663",
              "IPY_MODEL_13ae9347aff642d69f8772f66fd3519e",
              "IPY_MODEL_3fe68dfc92c841ae83cc8088761e7328"
            ],
            "layout": "IPY_MODEL_6acc2a606be641e588809ff11cd0fd64"
          }
        },
        "ad748b84230e4013a515f56adb2c1663": {
          "model_module": "@jupyter-widgets/controls",
          "model_name": "HTMLModel",
          "model_module_version": "1.5.0",
          "state": {
            "_dom_classes": [],
            "_model_module": "@jupyter-widgets/controls",
            "_model_module_version": "1.5.0",
            "_model_name": "HTMLModel",
            "_view_count": null,
            "_view_module": "@jupyter-widgets/controls",
            "_view_module_version": "1.5.0",
            "_view_name": "HTMLView",
            "description": "",
            "description_tooltip": null,
            "layout": "IPY_MODEL_97c20cbafbc84d42b23e796e0b2beac9",
            "placeholder": "​",
            "style": "IPY_MODEL_74b0806cfbd74173aad71f73771010ea",
            "value": "merges.txt: 100%"
          }
        },
        "13ae9347aff642d69f8772f66fd3519e": {
          "model_module": "@jupyter-widgets/controls",
          "model_name": "FloatProgressModel",
          "model_module_version": "1.5.0",
          "state": {
            "_dom_classes": [],
            "_model_module": "@jupyter-widgets/controls",
            "_model_module_version": "1.5.0",
            "_model_name": "FloatProgressModel",
            "_view_count": null,
            "_view_module": "@jupyter-widgets/controls",
            "_view_module_version": "1.5.0",
            "_view_name": "ProgressView",
            "bar_style": "success",
            "description": "",
            "description_tooltip": null,
            "layout": "IPY_MODEL_42a139ac89764a528c0f629da296fb8c",
            "max": 493869,
            "min": 0,
            "orientation": "horizontal",
            "style": "IPY_MODEL_eb63846dc49f4a7081fdeefed58862d6",
            "value": 493869
          }
        },
        "3fe68dfc92c841ae83cc8088761e7328": {
          "model_module": "@jupyter-widgets/controls",
          "model_name": "HTMLModel",
          "model_module_version": "1.5.0",
          "state": {
            "_dom_classes": [],
            "_model_module": "@jupyter-widgets/controls",
            "_model_module_version": "1.5.0",
            "_model_name": "HTMLModel",
            "_view_count": null,
            "_view_module": "@jupyter-widgets/controls",
            "_view_module_version": "1.5.0",
            "_view_name": "HTMLView",
            "description": "",
            "description_tooltip": null,
            "layout": "IPY_MODEL_5533f99c0cde477aa7608bef730e25c5",
            "placeholder": "​",
            "style": "IPY_MODEL_29f4dca81c10441aa78519d191bbe017",
            "value": " 494k/494k [00:00&lt;00:00, 2.27MB/s]"
          }
        },
        "6acc2a606be641e588809ff11cd0fd64": {
          "model_module": "@jupyter-widgets/base",
          "model_name": "LayoutModel",
          "model_module_version": "1.2.0",
          "state": {
            "_model_module": "@jupyter-widgets/base",
            "_model_module_version": "1.2.0",
            "_model_name": "LayoutModel",
            "_view_count": null,
            "_view_module": "@jupyter-widgets/base",
            "_view_module_version": "1.2.0",
            "_view_name": "LayoutView",
            "align_content": null,
            "align_items": null,
            "align_self": null,
            "border": null,
            "bottom": null,
            "display": null,
            "flex": null,
            "flex_flow": null,
            "grid_area": null,
            "grid_auto_columns": null,
            "grid_auto_flow": null,
            "grid_auto_rows": null,
            "grid_column": null,
            "grid_gap": null,
            "grid_row": null,
            "grid_template_areas": null,
            "grid_template_columns": null,
            "grid_template_rows": null,
            "height": null,
            "justify_content": null,
            "justify_items": null,
            "left": null,
            "margin": null,
            "max_height": null,
            "max_width": null,
            "min_height": null,
            "min_width": null,
            "object_fit": null,
            "object_position": null,
            "order": null,
            "overflow": null,
            "overflow_x": null,
            "overflow_y": null,
            "padding": null,
            "right": null,
            "top": null,
            "visibility": null,
            "width": null
          }
        },
        "97c20cbafbc84d42b23e796e0b2beac9": {
          "model_module": "@jupyter-widgets/base",
          "model_name": "LayoutModel",
          "model_module_version": "1.2.0",
          "state": {
            "_model_module": "@jupyter-widgets/base",
            "_model_module_version": "1.2.0",
            "_model_name": "LayoutModel",
            "_view_count": null,
            "_view_module": "@jupyter-widgets/base",
            "_view_module_version": "1.2.0",
            "_view_name": "LayoutView",
            "align_content": null,
            "align_items": null,
            "align_self": null,
            "border": null,
            "bottom": null,
            "display": null,
            "flex": null,
            "flex_flow": null,
            "grid_area": null,
            "grid_auto_columns": null,
            "grid_auto_flow": null,
            "grid_auto_rows": null,
            "grid_column": null,
            "grid_gap": null,
            "grid_row": null,
            "grid_template_areas": null,
            "grid_template_columns": null,
            "grid_template_rows": null,
            "height": null,
            "justify_content": null,
            "justify_items": null,
            "left": null,
            "margin": null,
            "max_height": null,
            "max_width": null,
            "min_height": null,
            "min_width": null,
            "object_fit": null,
            "object_position": null,
            "order": null,
            "overflow": null,
            "overflow_x": null,
            "overflow_y": null,
            "padding": null,
            "right": null,
            "top": null,
            "visibility": null,
            "width": null
          }
        },
        "74b0806cfbd74173aad71f73771010ea": {
          "model_module": "@jupyter-widgets/controls",
          "model_name": "DescriptionStyleModel",
          "model_module_version": "1.5.0",
          "state": {
            "_model_module": "@jupyter-widgets/controls",
            "_model_module_version": "1.5.0",
            "_model_name": "DescriptionStyleModel",
            "_view_count": null,
            "_view_module": "@jupyter-widgets/base",
            "_view_module_version": "1.2.0",
            "_view_name": "StyleView",
            "description_width": ""
          }
        },
        "42a139ac89764a528c0f629da296fb8c": {
          "model_module": "@jupyter-widgets/base",
          "model_name": "LayoutModel",
          "model_module_version": "1.2.0",
          "state": {
            "_model_module": "@jupyter-widgets/base",
            "_model_module_version": "1.2.0",
            "_model_name": "LayoutModel",
            "_view_count": null,
            "_view_module": "@jupyter-widgets/base",
            "_view_module_version": "1.2.0",
            "_view_name": "LayoutView",
            "align_content": null,
            "align_items": null,
            "align_self": null,
            "border": null,
            "bottom": null,
            "display": null,
            "flex": null,
            "flex_flow": null,
            "grid_area": null,
            "grid_auto_columns": null,
            "grid_auto_flow": null,
            "grid_auto_rows": null,
            "grid_column": null,
            "grid_gap": null,
            "grid_row": null,
            "grid_template_areas": null,
            "grid_template_columns": null,
            "grid_template_rows": null,
            "height": null,
            "justify_content": null,
            "justify_items": null,
            "left": null,
            "margin": null,
            "max_height": null,
            "max_width": null,
            "min_height": null,
            "min_width": null,
            "object_fit": null,
            "object_position": null,
            "order": null,
            "overflow": null,
            "overflow_x": null,
            "overflow_y": null,
            "padding": null,
            "right": null,
            "top": null,
            "visibility": null,
            "width": null
          }
        },
        "eb63846dc49f4a7081fdeefed58862d6": {
          "model_module": "@jupyter-widgets/controls",
          "model_name": "ProgressStyleModel",
          "model_module_version": "1.5.0",
          "state": {
            "_model_module": "@jupyter-widgets/controls",
            "_model_module_version": "1.5.0",
            "_model_name": "ProgressStyleModel",
            "_view_count": null,
            "_view_module": "@jupyter-widgets/base",
            "_view_module_version": "1.2.0",
            "_view_name": "StyleView",
            "bar_color": null,
            "description_width": ""
          }
        },
        "5533f99c0cde477aa7608bef730e25c5": {
          "model_module": "@jupyter-widgets/base",
          "model_name": "LayoutModel",
          "model_module_version": "1.2.0",
          "state": {
            "_model_module": "@jupyter-widgets/base",
            "_model_module_version": "1.2.0",
            "_model_name": "LayoutModel",
            "_view_count": null,
            "_view_module": "@jupyter-widgets/base",
            "_view_module_version": "1.2.0",
            "_view_name": "LayoutView",
            "align_content": null,
            "align_items": null,
            "align_self": null,
            "border": null,
            "bottom": null,
            "display": null,
            "flex": null,
            "flex_flow": null,
            "grid_area": null,
            "grid_auto_columns": null,
            "grid_auto_flow": null,
            "grid_auto_rows": null,
            "grid_column": null,
            "grid_gap": null,
            "grid_row": null,
            "grid_template_areas": null,
            "grid_template_columns": null,
            "grid_template_rows": null,
            "height": null,
            "justify_content": null,
            "justify_items": null,
            "left": null,
            "margin": null,
            "max_height": null,
            "max_width": null,
            "min_height": null,
            "min_width": null,
            "object_fit": null,
            "object_position": null,
            "order": null,
            "overflow": null,
            "overflow_x": null,
            "overflow_y": null,
            "padding": null,
            "right": null,
            "top": null,
            "visibility": null,
            "width": null
          }
        },
        "29f4dca81c10441aa78519d191bbe017": {
          "model_module": "@jupyter-widgets/controls",
          "model_name": "DescriptionStyleModel",
          "model_module_version": "1.5.0",
          "state": {
            "_model_module": "@jupyter-widgets/controls",
            "_model_module_version": "1.5.0",
            "_model_name": "DescriptionStyleModel",
            "_view_count": null,
            "_view_module": "@jupyter-widgets/base",
            "_view_module_version": "1.2.0",
            "_view_name": "StyleView",
            "description_width": ""
          }
        },
        "92d477feed5140918e977ff10875e6a0": {
          "model_module": "@jupyter-widgets/controls",
          "model_name": "HBoxModel",
          "model_module_version": "1.5.0",
          "state": {
            "_dom_classes": [],
            "_model_module": "@jupyter-widgets/controls",
            "_model_module_version": "1.5.0",
            "_model_name": "HBoxModel",
            "_view_count": null,
            "_view_module": "@jupyter-widgets/controls",
            "_view_module_version": "1.5.0",
            "_view_name": "HBoxView",
            "box_style": "",
            "children": [
              "IPY_MODEL_3bbc976c5a444a1bb98c26c2f47cee96",
              "IPY_MODEL_692dae9612ca4a57a2ba432344514a57",
              "IPY_MODEL_b10375aa680a47cabc34ec6bb681c0d7"
            ],
            "layout": "IPY_MODEL_cd79723c515449ab8bebe2dae3f02014"
          }
        },
        "3bbc976c5a444a1bb98c26c2f47cee96": {
          "model_module": "@jupyter-widgets/controls",
          "model_name": "HTMLModel",
          "model_module_version": "1.5.0",
          "state": {
            "_dom_classes": [],
            "_model_module": "@jupyter-widgets/controls",
            "_model_module_version": "1.5.0",
            "_model_name": "HTMLModel",
            "_view_count": null,
            "_view_module": "@jupyter-widgets/controls",
            "_view_module_version": "1.5.0",
            "_view_name": "HTMLView",
            "description": "",
            "description_tooltip": null,
            "layout": "IPY_MODEL_4dee31bb948c46b7b8638d1febcbbc0e",
            "placeholder": "​",
            "style": "IPY_MODEL_e73b557be3b549699ee0405e7cb894a6",
            "value": "normalizer.json: 100%"
          }
        },
        "692dae9612ca4a57a2ba432344514a57": {
          "model_module": "@jupyter-widgets/controls",
          "model_name": "FloatProgressModel",
          "model_module_version": "1.5.0",
          "state": {
            "_dom_classes": [],
            "_model_module": "@jupyter-widgets/controls",
            "_model_module_version": "1.5.0",
            "_model_name": "FloatProgressModel",
            "_view_count": null,
            "_view_module": "@jupyter-widgets/controls",
            "_view_module_version": "1.5.0",
            "_view_name": "ProgressView",
            "bar_style": "success",
            "description": "",
            "description_tooltip": null,
            "layout": "IPY_MODEL_a9f4e6f6c156427189afff3549c088a4",
            "max": 52666,
            "min": 0,
            "orientation": "horizontal",
            "style": "IPY_MODEL_d25a28768f8643598ca44146d958c34b",
            "value": 52666
          }
        },
        "b10375aa680a47cabc34ec6bb681c0d7": {
          "model_module": "@jupyter-widgets/controls",
          "model_name": "HTMLModel",
          "model_module_version": "1.5.0",
          "state": {
            "_dom_classes": [],
            "_model_module": "@jupyter-widgets/controls",
            "_model_module_version": "1.5.0",
            "_model_name": "HTMLModel",
            "_view_count": null,
            "_view_module": "@jupyter-widgets/controls",
            "_view_module_version": "1.5.0",
            "_view_name": "HTMLView",
            "description": "",
            "description_tooltip": null,
            "layout": "IPY_MODEL_b788968e1bff46678a060c62de147294",
            "placeholder": "​",
            "style": "IPY_MODEL_7c80fd5fa42d45f4bd4562a36c17f972",
            "value": " 52.7k/52.7k [00:00&lt;00:00, 4.68MB/s]"
          }
        },
        "cd79723c515449ab8bebe2dae3f02014": {
          "model_module": "@jupyter-widgets/base",
          "model_name": "LayoutModel",
          "model_module_version": "1.2.0",
          "state": {
            "_model_module": "@jupyter-widgets/base",
            "_model_module_version": "1.2.0",
            "_model_name": "LayoutModel",
            "_view_count": null,
            "_view_module": "@jupyter-widgets/base",
            "_view_module_version": "1.2.0",
            "_view_name": "LayoutView",
            "align_content": null,
            "align_items": null,
            "align_self": null,
            "border": null,
            "bottom": null,
            "display": null,
            "flex": null,
            "flex_flow": null,
            "grid_area": null,
            "grid_auto_columns": null,
            "grid_auto_flow": null,
            "grid_auto_rows": null,
            "grid_column": null,
            "grid_gap": null,
            "grid_row": null,
            "grid_template_areas": null,
            "grid_template_columns": null,
            "grid_template_rows": null,
            "height": null,
            "justify_content": null,
            "justify_items": null,
            "left": null,
            "margin": null,
            "max_height": null,
            "max_width": null,
            "min_height": null,
            "min_width": null,
            "object_fit": null,
            "object_position": null,
            "order": null,
            "overflow": null,
            "overflow_x": null,
            "overflow_y": null,
            "padding": null,
            "right": null,
            "top": null,
            "visibility": null,
            "width": null
          }
        },
        "4dee31bb948c46b7b8638d1febcbbc0e": {
          "model_module": "@jupyter-widgets/base",
          "model_name": "LayoutModel",
          "model_module_version": "1.2.0",
          "state": {
            "_model_module": "@jupyter-widgets/base",
            "_model_module_version": "1.2.0",
            "_model_name": "LayoutModel",
            "_view_count": null,
            "_view_module": "@jupyter-widgets/base",
            "_view_module_version": "1.2.0",
            "_view_name": "LayoutView",
            "align_content": null,
            "align_items": null,
            "align_self": null,
            "border": null,
            "bottom": null,
            "display": null,
            "flex": null,
            "flex_flow": null,
            "grid_area": null,
            "grid_auto_columns": null,
            "grid_auto_flow": null,
            "grid_auto_rows": null,
            "grid_column": null,
            "grid_gap": null,
            "grid_row": null,
            "grid_template_areas": null,
            "grid_template_columns": null,
            "grid_template_rows": null,
            "height": null,
            "justify_content": null,
            "justify_items": null,
            "left": null,
            "margin": null,
            "max_height": null,
            "max_width": null,
            "min_height": null,
            "min_width": null,
            "object_fit": null,
            "object_position": null,
            "order": null,
            "overflow": null,
            "overflow_x": null,
            "overflow_y": null,
            "padding": null,
            "right": null,
            "top": null,
            "visibility": null,
            "width": null
          }
        },
        "e73b557be3b549699ee0405e7cb894a6": {
          "model_module": "@jupyter-widgets/controls",
          "model_name": "DescriptionStyleModel",
          "model_module_version": "1.5.0",
          "state": {
            "_model_module": "@jupyter-widgets/controls",
            "_model_module_version": "1.5.0",
            "_model_name": "DescriptionStyleModel",
            "_view_count": null,
            "_view_module": "@jupyter-widgets/base",
            "_view_module_version": "1.2.0",
            "_view_name": "StyleView",
            "description_width": ""
          }
        },
        "a9f4e6f6c156427189afff3549c088a4": {
          "model_module": "@jupyter-widgets/base",
          "model_name": "LayoutModel",
          "model_module_version": "1.2.0",
          "state": {
            "_model_module": "@jupyter-widgets/base",
            "_model_module_version": "1.2.0",
            "_model_name": "LayoutModel",
            "_view_count": null,
            "_view_module": "@jupyter-widgets/base",
            "_view_module_version": "1.2.0",
            "_view_name": "LayoutView",
            "align_content": null,
            "align_items": null,
            "align_self": null,
            "border": null,
            "bottom": null,
            "display": null,
            "flex": null,
            "flex_flow": null,
            "grid_area": null,
            "grid_auto_columns": null,
            "grid_auto_flow": null,
            "grid_auto_rows": null,
            "grid_column": null,
            "grid_gap": null,
            "grid_row": null,
            "grid_template_areas": null,
            "grid_template_columns": null,
            "grid_template_rows": null,
            "height": null,
            "justify_content": null,
            "justify_items": null,
            "left": null,
            "margin": null,
            "max_height": null,
            "max_width": null,
            "min_height": null,
            "min_width": null,
            "object_fit": null,
            "object_position": null,
            "order": null,
            "overflow": null,
            "overflow_x": null,
            "overflow_y": null,
            "padding": null,
            "right": null,
            "top": null,
            "visibility": null,
            "width": null
          }
        },
        "d25a28768f8643598ca44146d958c34b": {
          "model_module": "@jupyter-widgets/controls",
          "model_name": "ProgressStyleModel",
          "model_module_version": "1.5.0",
          "state": {
            "_model_module": "@jupyter-widgets/controls",
            "_model_module_version": "1.5.0",
            "_model_name": "ProgressStyleModel",
            "_view_count": null,
            "_view_module": "@jupyter-widgets/base",
            "_view_module_version": "1.2.0",
            "_view_name": "StyleView",
            "bar_color": null,
            "description_width": ""
          }
        },
        "b788968e1bff46678a060c62de147294": {
          "model_module": "@jupyter-widgets/base",
          "model_name": "LayoutModel",
          "model_module_version": "1.2.0",
          "state": {
            "_model_module": "@jupyter-widgets/base",
            "_model_module_version": "1.2.0",
            "_model_name": "LayoutModel",
            "_view_count": null,
            "_view_module": "@jupyter-widgets/base",
            "_view_module_version": "1.2.0",
            "_view_name": "LayoutView",
            "align_content": null,
            "align_items": null,
            "align_self": null,
            "border": null,
            "bottom": null,
            "display": null,
            "flex": null,
            "flex_flow": null,
            "grid_area": null,
            "grid_auto_columns": null,
            "grid_auto_flow": null,
            "grid_auto_rows": null,
            "grid_column": null,
            "grid_gap": null,
            "grid_row": null,
            "grid_template_areas": null,
            "grid_template_columns": null,
            "grid_template_rows": null,
            "height": null,
            "justify_content": null,
            "justify_items": null,
            "left": null,
            "margin": null,
            "max_height": null,
            "max_width": null,
            "min_height": null,
            "min_width": null,
            "object_fit": null,
            "object_position": null,
            "order": null,
            "overflow": null,
            "overflow_x": null,
            "overflow_y": null,
            "padding": null,
            "right": null,
            "top": null,
            "visibility": null,
            "width": null
          }
        },
        "7c80fd5fa42d45f4bd4562a36c17f972": {
          "model_module": "@jupyter-widgets/controls",
          "model_name": "DescriptionStyleModel",
          "model_module_version": "1.5.0",
          "state": {
            "_model_module": "@jupyter-widgets/controls",
            "_model_module_version": "1.5.0",
            "_model_name": "DescriptionStyleModel",
            "_view_count": null,
            "_view_module": "@jupyter-widgets/base",
            "_view_module_version": "1.2.0",
            "_view_name": "StyleView",
            "description_width": ""
          }
        },
        "77db9b4fda814f25b5e833707acfbb80": {
          "model_module": "@jupyter-widgets/controls",
          "model_name": "HBoxModel",
          "model_module_version": "1.5.0",
          "state": {
            "_dom_classes": [],
            "_model_module": "@jupyter-widgets/controls",
            "_model_module_version": "1.5.0",
            "_model_name": "HBoxModel",
            "_view_count": null,
            "_view_module": "@jupyter-widgets/controls",
            "_view_module_version": "1.5.0",
            "_view_name": "HBoxView",
            "box_style": "",
            "children": [
              "IPY_MODEL_21964b753ad442c0a4f994517e5f612b",
              "IPY_MODEL_12926889b78142a3bb6e1ee294fb4421",
              "IPY_MODEL_c37034205ede48e8a4d5d3628ee5730f"
            ],
            "layout": "IPY_MODEL_fb0c1041939247f5a1f9c9a6b27c46ab"
          }
        },
        "21964b753ad442c0a4f994517e5f612b": {
          "model_module": "@jupyter-widgets/controls",
          "model_name": "HTMLModel",
          "model_module_version": "1.5.0",
          "state": {
            "_dom_classes": [],
            "_model_module": "@jupyter-widgets/controls",
            "_model_module_version": "1.5.0",
            "_model_name": "HTMLModel",
            "_view_count": null,
            "_view_module": "@jupyter-widgets/controls",
            "_view_module_version": "1.5.0",
            "_view_name": "HTMLView",
            "description": "",
            "description_tooltip": null,
            "layout": "IPY_MODEL_d7b5bf41ca2b45eb9ce0c3f5013e4950",
            "placeholder": "​",
            "style": "IPY_MODEL_a05a24de041441c695380e3be1324305",
            "value": "added_tokens.json: 100%"
          }
        },
        "12926889b78142a3bb6e1ee294fb4421": {
          "model_module": "@jupyter-widgets/controls",
          "model_name": "FloatProgressModel",
          "model_module_version": "1.5.0",
          "state": {
            "_dom_classes": [],
            "_model_module": "@jupyter-widgets/controls",
            "_model_module_version": "1.5.0",
            "_model_name": "FloatProgressModel",
            "_view_count": null,
            "_view_module": "@jupyter-widgets/controls",
            "_view_module_version": "1.5.0",
            "_view_name": "ProgressView",
            "bar_style": "success",
            "description": "",
            "description_tooltip": null,
            "layout": "IPY_MODEL_c4b17a95744b46e68e13aafcdaf0f38d",
            "max": 34648,
            "min": 0,
            "orientation": "horizontal",
            "style": "IPY_MODEL_fba35e0cf4904113a22182e4ead2deec",
            "value": 34648
          }
        },
        "c37034205ede48e8a4d5d3628ee5730f": {
          "model_module": "@jupyter-widgets/controls",
          "model_name": "HTMLModel",
          "model_module_version": "1.5.0",
          "state": {
            "_dom_classes": [],
            "_model_module": "@jupyter-widgets/controls",
            "_model_module_version": "1.5.0",
            "_model_name": "HTMLModel",
            "_view_count": null,
            "_view_module": "@jupyter-widgets/controls",
            "_view_module_version": "1.5.0",
            "_view_name": "HTMLView",
            "description": "",
            "description_tooltip": null,
            "layout": "IPY_MODEL_c148de85e9e64e15ac1a6ae385dfc69b",
            "placeholder": "​",
            "style": "IPY_MODEL_415832f07f8c4f708cf7e2a041dcc295",
            "value": " 34.6k/34.6k [00:00&lt;00:00, 2.80MB/s]"
          }
        },
        "fb0c1041939247f5a1f9c9a6b27c46ab": {
          "model_module": "@jupyter-widgets/base",
          "model_name": "LayoutModel",
          "model_module_version": "1.2.0",
          "state": {
            "_model_module": "@jupyter-widgets/base",
            "_model_module_version": "1.2.0",
            "_model_name": "LayoutModel",
            "_view_count": null,
            "_view_module": "@jupyter-widgets/base",
            "_view_module_version": "1.2.0",
            "_view_name": "LayoutView",
            "align_content": null,
            "align_items": null,
            "align_self": null,
            "border": null,
            "bottom": null,
            "display": null,
            "flex": null,
            "flex_flow": null,
            "grid_area": null,
            "grid_auto_columns": null,
            "grid_auto_flow": null,
            "grid_auto_rows": null,
            "grid_column": null,
            "grid_gap": null,
            "grid_row": null,
            "grid_template_areas": null,
            "grid_template_columns": null,
            "grid_template_rows": null,
            "height": null,
            "justify_content": null,
            "justify_items": null,
            "left": null,
            "margin": null,
            "max_height": null,
            "max_width": null,
            "min_height": null,
            "min_width": null,
            "object_fit": null,
            "object_position": null,
            "order": null,
            "overflow": null,
            "overflow_x": null,
            "overflow_y": null,
            "padding": null,
            "right": null,
            "top": null,
            "visibility": null,
            "width": null
          }
        },
        "d7b5bf41ca2b45eb9ce0c3f5013e4950": {
          "model_module": "@jupyter-widgets/base",
          "model_name": "LayoutModel",
          "model_module_version": "1.2.0",
          "state": {
            "_model_module": "@jupyter-widgets/base",
            "_model_module_version": "1.2.0",
            "_model_name": "LayoutModel",
            "_view_count": null,
            "_view_module": "@jupyter-widgets/base",
            "_view_module_version": "1.2.0",
            "_view_name": "LayoutView",
            "align_content": null,
            "align_items": null,
            "align_self": null,
            "border": null,
            "bottom": null,
            "display": null,
            "flex": null,
            "flex_flow": null,
            "grid_area": null,
            "grid_auto_columns": null,
            "grid_auto_flow": null,
            "grid_auto_rows": null,
            "grid_column": null,
            "grid_gap": null,
            "grid_row": null,
            "grid_template_areas": null,
            "grid_template_columns": null,
            "grid_template_rows": null,
            "height": null,
            "justify_content": null,
            "justify_items": null,
            "left": null,
            "margin": null,
            "max_height": null,
            "max_width": null,
            "min_height": null,
            "min_width": null,
            "object_fit": null,
            "object_position": null,
            "order": null,
            "overflow": null,
            "overflow_x": null,
            "overflow_y": null,
            "padding": null,
            "right": null,
            "top": null,
            "visibility": null,
            "width": null
          }
        },
        "a05a24de041441c695380e3be1324305": {
          "model_module": "@jupyter-widgets/controls",
          "model_name": "DescriptionStyleModel",
          "model_module_version": "1.5.0",
          "state": {
            "_model_module": "@jupyter-widgets/controls",
            "_model_module_version": "1.5.0",
            "_model_name": "DescriptionStyleModel",
            "_view_count": null,
            "_view_module": "@jupyter-widgets/base",
            "_view_module_version": "1.2.0",
            "_view_name": "StyleView",
            "description_width": ""
          }
        },
        "c4b17a95744b46e68e13aafcdaf0f38d": {
          "model_module": "@jupyter-widgets/base",
          "model_name": "LayoutModel",
          "model_module_version": "1.2.0",
          "state": {
            "_model_module": "@jupyter-widgets/base",
            "_model_module_version": "1.2.0",
            "_model_name": "LayoutModel",
            "_view_count": null,
            "_view_module": "@jupyter-widgets/base",
            "_view_module_version": "1.2.0",
            "_view_name": "LayoutView",
            "align_content": null,
            "align_items": null,
            "align_self": null,
            "border": null,
            "bottom": null,
            "display": null,
            "flex": null,
            "flex_flow": null,
            "grid_area": null,
            "grid_auto_columns": null,
            "grid_auto_flow": null,
            "grid_auto_rows": null,
            "grid_column": null,
            "grid_gap": null,
            "grid_row": null,
            "grid_template_areas": null,
            "grid_template_columns": null,
            "grid_template_rows": null,
            "height": null,
            "justify_content": null,
            "justify_items": null,
            "left": null,
            "margin": null,
            "max_height": null,
            "max_width": null,
            "min_height": null,
            "min_width": null,
            "object_fit": null,
            "object_position": null,
            "order": null,
            "overflow": null,
            "overflow_x": null,
            "overflow_y": null,
            "padding": null,
            "right": null,
            "top": null,
            "visibility": null,
            "width": null
          }
        },
        "fba35e0cf4904113a22182e4ead2deec": {
          "model_module": "@jupyter-widgets/controls",
          "model_name": "ProgressStyleModel",
          "model_module_version": "1.5.0",
          "state": {
            "_model_module": "@jupyter-widgets/controls",
            "_model_module_version": "1.5.0",
            "_model_name": "ProgressStyleModel",
            "_view_count": null,
            "_view_module": "@jupyter-widgets/base",
            "_view_module_version": "1.2.0",
            "_view_name": "StyleView",
            "bar_color": null,
            "description_width": ""
          }
        },
        "c148de85e9e64e15ac1a6ae385dfc69b": {
          "model_module": "@jupyter-widgets/base",
          "model_name": "LayoutModel",
          "model_module_version": "1.2.0",
          "state": {
            "_model_module": "@jupyter-widgets/base",
            "_model_module_version": "1.2.0",
            "_model_name": "LayoutModel",
            "_view_count": null,
            "_view_module": "@jupyter-widgets/base",
            "_view_module_version": "1.2.0",
            "_view_name": "LayoutView",
            "align_content": null,
            "align_items": null,
            "align_self": null,
            "border": null,
            "bottom": null,
            "display": null,
            "flex": null,
            "flex_flow": null,
            "grid_area": null,
            "grid_auto_columns": null,
            "grid_auto_flow": null,
            "grid_auto_rows": null,
            "grid_column": null,
            "grid_gap": null,
            "grid_row": null,
            "grid_template_areas": null,
            "grid_template_columns": null,
            "grid_template_rows": null,
            "height": null,
            "justify_content": null,
            "justify_items": null,
            "left": null,
            "margin": null,
            "max_height": null,
            "max_width": null,
            "min_height": null,
            "min_width": null,
            "object_fit": null,
            "object_position": null,
            "order": null,
            "overflow": null,
            "overflow_x": null,
            "overflow_y": null,
            "padding": null,
            "right": null,
            "top": null,
            "visibility": null,
            "width": null
          }
        },
        "415832f07f8c4f708cf7e2a041dcc295": {
          "model_module": "@jupyter-widgets/controls",
          "model_name": "DescriptionStyleModel",
          "model_module_version": "1.5.0",
          "state": {
            "_model_module": "@jupyter-widgets/controls",
            "_model_module_version": "1.5.0",
            "_model_name": "DescriptionStyleModel",
            "_view_count": null,
            "_view_module": "@jupyter-widgets/base",
            "_view_module_version": "1.2.0",
            "_view_name": "StyleView",
            "description_width": ""
          }
        },
        "d14c886435f0493ba1b71d05cc75ac17": {
          "model_module": "@jupyter-widgets/controls",
          "model_name": "HBoxModel",
          "model_module_version": "1.5.0",
          "state": {
            "_dom_classes": [],
            "_model_module": "@jupyter-widgets/controls",
            "_model_module_version": "1.5.0",
            "_model_name": "HBoxModel",
            "_view_count": null,
            "_view_module": "@jupyter-widgets/controls",
            "_view_module_version": "1.5.0",
            "_view_name": "HBoxView",
            "box_style": "",
            "children": [
              "IPY_MODEL_20eb4ec3d5a742af8d30b1880327a689",
              "IPY_MODEL_2613da098f0b46839d5102ae60af8e44",
              "IPY_MODEL_23e330bd46ad47b0a5cd40515fa7b14b"
            ],
            "layout": "IPY_MODEL_ad0f1997caa54fed8734887944fefb0e"
          }
        },
        "20eb4ec3d5a742af8d30b1880327a689": {
          "model_module": "@jupyter-widgets/controls",
          "model_name": "HTMLModel",
          "model_module_version": "1.5.0",
          "state": {
            "_dom_classes": [],
            "_model_module": "@jupyter-widgets/controls",
            "_model_module_version": "1.5.0",
            "_model_name": "HTMLModel",
            "_view_count": null,
            "_view_module": "@jupyter-widgets/controls",
            "_view_module_version": "1.5.0",
            "_view_name": "HTMLView",
            "description": "",
            "description_tooltip": null,
            "layout": "IPY_MODEL_3a384e90e9d84d1f887dfa5c0431716a",
            "placeholder": "​",
            "style": "IPY_MODEL_58b8d10b4a2e409c9d220b2a764d3bc8",
            "value": "special_tokens_map.json: 100%"
          }
        },
        "2613da098f0b46839d5102ae60af8e44": {
          "model_module": "@jupyter-widgets/controls",
          "model_name": "FloatProgressModel",
          "model_module_version": "1.5.0",
          "state": {
            "_dom_classes": [],
            "_model_module": "@jupyter-widgets/controls",
            "_model_module_version": "1.5.0",
            "_model_name": "FloatProgressModel",
            "_view_count": null,
            "_view_module": "@jupyter-widgets/controls",
            "_view_module_version": "1.5.0",
            "_view_name": "ProgressView",
            "bar_style": "success",
            "description": "",
            "description_tooltip": null,
            "layout": "IPY_MODEL_2e09741077d849a9956919b88819c578",
            "max": 2186,
            "min": 0,
            "orientation": "horizontal",
            "style": "IPY_MODEL_42c3ca88ab6d4a768c8b26aab6391d7e",
            "value": 2186
          }
        },
        "23e330bd46ad47b0a5cd40515fa7b14b": {
          "model_module": "@jupyter-widgets/controls",
          "model_name": "HTMLModel",
          "model_module_version": "1.5.0",
          "state": {
            "_dom_classes": [],
            "_model_module": "@jupyter-widgets/controls",
            "_model_module_version": "1.5.0",
            "_model_name": "HTMLModel",
            "_view_count": null,
            "_view_module": "@jupyter-widgets/controls",
            "_view_module_version": "1.5.0",
            "_view_name": "HTMLView",
            "description": "",
            "description_tooltip": null,
            "layout": "IPY_MODEL_c7ca0028b1644d27920c112443c785bc",
            "placeholder": "​",
            "style": "IPY_MODEL_a992e68f869547e28c64ca8508c55af4",
            "value": " 2.19k/2.19k [00:00&lt;00:00, 139kB/s]"
          }
        },
        "ad0f1997caa54fed8734887944fefb0e": {
          "model_module": "@jupyter-widgets/base",
          "model_name": "LayoutModel",
          "model_module_version": "1.2.0",
          "state": {
            "_model_module": "@jupyter-widgets/base",
            "_model_module_version": "1.2.0",
            "_model_name": "LayoutModel",
            "_view_count": null,
            "_view_module": "@jupyter-widgets/base",
            "_view_module_version": "1.2.0",
            "_view_name": "LayoutView",
            "align_content": null,
            "align_items": null,
            "align_self": null,
            "border": null,
            "bottom": null,
            "display": null,
            "flex": null,
            "flex_flow": null,
            "grid_area": null,
            "grid_auto_columns": null,
            "grid_auto_flow": null,
            "grid_auto_rows": null,
            "grid_column": null,
            "grid_gap": null,
            "grid_row": null,
            "grid_template_areas": null,
            "grid_template_columns": null,
            "grid_template_rows": null,
            "height": null,
            "justify_content": null,
            "justify_items": null,
            "left": null,
            "margin": null,
            "max_height": null,
            "max_width": null,
            "min_height": null,
            "min_width": null,
            "object_fit": null,
            "object_position": null,
            "order": null,
            "overflow": null,
            "overflow_x": null,
            "overflow_y": null,
            "padding": null,
            "right": null,
            "top": null,
            "visibility": null,
            "width": null
          }
        },
        "3a384e90e9d84d1f887dfa5c0431716a": {
          "model_module": "@jupyter-widgets/base",
          "model_name": "LayoutModel",
          "model_module_version": "1.2.0",
          "state": {
            "_model_module": "@jupyter-widgets/base",
            "_model_module_version": "1.2.0",
            "_model_name": "LayoutModel",
            "_view_count": null,
            "_view_module": "@jupyter-widgets/base",
            "_view_module_version": "1.2.0",
            "_view_name": "LayoutView",
            "align_content": null,
            "align_items": null,
            "align_self": null,
            "border": null,
            "bottom": null,
            "display": null,
            "flex": null,
            "flex_flow": null,
            "grid_area": null,
            "grid_auto_columns": null,
            "grid_auto_flow": null,
            "grid_auto_rows": null,
            "grid_column": null,
            "grid_gap": null,
            "grid_row": null,
            "grid_template_areas": null,
            "grid_template_columns": null,
            "grid_template_rows": null,
            "height": null,
            "justify_content": null,
            "justify_items": null,
            "left": null,
            "margin": null,
            "max_height": null,
            "max_width": null,
            "min_height": null,
            "min_width": null,
            "object_fit": null,
            "object_position": null,
            "order": null,
            "overflow": null,
            "overflow_x": null,
            "overflow_y": null,
            "padding": null,
            "right": null,
            "top": null,
            "visibility": null,
            "width": null
          }
        },
        "58b8d10b4a2e409c9d220b2a764d3bc8": {
          "model_module": "@jupyter-widgets/controls",
          "model_name": "DescriptionStyleModel",
          "model_module_version": "1.5.0",
          "state": {
            "_model_module": "@jupyter-widgets/controls",
            "_model_module_version": "1.5.0",
            "_model_name": "DescriptionStyleModel",
            "_view_count": null,
            "_view_module": "@jupyter-widgets/base",
            "_view_module_version": "1.2.0",
            "_view_name": "StyleView",
            "description_width": ""
          }
        },
        "2e09741077d849a9956919b88819c578": {
          "model_module": "@jupyter-widgets/base",
          "model_name": "LayoutModel",
          "model_module_version": "1.2.0",
          "state": {
            "_model_module": "@jupyter-widgets/base",
            "_model_module_version": "1.2.0",
            "_model_name": "LayoutModel",
            "_view_count": null,
            "_view_module": "@jupyter-widgets/base",
            "_view_module_version": "1.2.0",
            "_view_name": "LayoutView",
            "align_content": null,
            "align_items": null,
            "align_self": null,
            "border": null,
            "bottom": null,
            "display": null,
            "flex": null,
            "flex_flow": null,
            "grid_area": null,
            "grid_auto_columns": null,
            "grid_auto_flow": null,
            "grid_auto_rows": null,
            "grid_column": null,
            "grid_gap": null,
            "grid_row": null,
            "grid_template_areas": null,
            "grid_template_columns": null,
            "grid_template_rows": null,
            "height": null,
            "justify_content": null,
            "justify_items": null,
            "left": null,
            "margin": null,
            "max_height": null,
            "max_width": null,
            "min_height": null,
            "min_width": null,
            "object_fit": null,
            "object_position": null,
            "order": null,
            "overflow": null,
            "overflow_x": null,
            "overflow_y": null,
            "padding": null,
            "right": null,
            "top": null,
            "visibility": null,
            "width": null
          }
        },
        "42c3ca88ab6d4a768c8b26aab6391d7e": {
          "model_module": "@jupyter-widgets/controls",
          "model_name": "ProgressStyleModel",
          "model_module_version": "1.5.0",
          "state": {
            "_model_module": "@jupyter-widgets/controls",
            "_model_module_version": "1.5.0",
            "_model_name": "ProgressStyleModel",
            "_view_count": null,
            "_view_module": "@jupyter-widgets/base",
            "_view_module_version": "1.2.0",
            "_view_name": "StyleView",
            "bar_color": null,
            "description_width": ""
          }
        },
        "c7ca0028b1644d27920c112443c785bc": {
          "model_module": "@jupyter-widgets/base",
          "model_name": "LayoutModel",
          "model_module_version": "1.2.0",
          "state": {
            "_model_module": "@jupyter-widgets/base",
            "_model_module_version": "1.2.0",
            "_model_name": "LayoutModel",
            "_view_count": null,
            "_view_module": "@jupyter-widgets/base",
            "_view_module_version": "1.2.0",
            "_view_name": "LayoutView",
            "align_content": null,
            "align_items": null,
            "align_self": null,
            "border": null,
            "bottom": null,
            "display": null,
            "flex": null,
            "flex_flow": null,
            "grid_area": null,
            "grid_auto_columns": null,
            "grid_auto_flow": null,
            "grid_auto_rows": null,
            "grid_column": null,
            "grid_gap": null,
            "grid_row": null,
            "grid_template_areas": null,
            "grid_template_columns": null,
            "grid_template_rows": null,
            "height": null,
            "justify_content": null,
            "justify_items": null,
            "left": null,
            "margin": null,
            "max_height": null,
            "max_width": null,
            "min_height": null,
            "min_width": null,
            "object_fit": null,
            "object_position": null,
            "order": null,
            "overflow": null,
            "overflow_x": null,
            "overflow_y": null,
            "padding": null,
            "right": null,
            "top": null,
            "visibility": null,
            "width": null
          }
        },
        "a992e68f869547e28c64ca8508c55af4": {
          "model_module": "@jupyter-widgets/controls",
          "model_name": "DescriptionStyleModel",
          "model_module_version": "1.5.0",
          "state": {
            "_model_module": "@jupyter-widgets/controls",
            "_model_module_version": "1.5.0",
            "_model_name": "DescriptionStyleModel",
            "_view_count": null,
            "_view_module": "@jupyter-widgets/base",
            "_view_module_version": "1.2.0",
            "_view_name": "StyleView",
            "description_width": ""
          }
        },
        "7cef5955e25f4f35a51b1e0b17d00716": {
          "model_module": "@jupyter-widgets/controls",
          "model_name": "HBoxModel",
          "model_module_version": "1.5.0",
          "state": {
            "_dom_classes": [],
            "_model_module": "@jupyter-widgets/controls",
            "_model_module_version": "1.5.0",
            "_model_name": "HBoxModel",
            "_view_count": null,
            "_view_module": "@jupyter-widgets/controls",
            "_view_module_version": "1.5.0",
            "_view_name": "HBoxView",
            "box_style": "",
            "children": [
              "IPY_MODEL_bfe4def06d9147bfa6f67bfb0397e0af",
              "IPY_MODEL_67fd5a3dfc4b4d62b92e921cb7b45243",
              "IPY_MODEL_3d6ab765da054eb7bb382f720eee0dd3"
            ],
            "layout": "IPY_MODEL_bb8d2863890147938d82b5e4b4dfc5fb"
          }
        },
        "bfe4def06d9147bfa6f67bfb0397e0af": {
          "model_module": "@jupyter-widgets/controls",
          "model_name": "HTMLModel",
          "model_module_version": "1.5.0",
          "state": {
            "_dom_classes": [],
            "_model_module": "@jupyter-widgets/controls",
            "_model_module_version": "1.5.0",
            "_model_name": "HTMLModel",
            "_view_count": null,
            "_view_module": "@jupyter-widgets/controls",
            "_view_module_version": "1.5.0",
            "_view_name": "HTMLView",
            "description": "",
            "description_tooltip": null,
            "layout": "IPY_MODEL_1e777ad8fa654230b1fdd8c0924648de",
            "placeholder": "​",
            "style": "IPY_MODEL_866289385a4f4240a9b503e4584824e8",
            "value": "preprocessor_config.json: 100%"
          }
        },
        "67fd5a3dfc4b4d62b92e921cb7b45243": {
          "model_module": "@jupyter-widgets/controls",
          "model_name": "FloatProgressModel",
          "model_module_version": "1.5.0",
          "state": {
            "_dom_classes": [],
            "_model_module": "@jupyter-widgets/controls",
            "_model_module_version": "1.5.0",
            "_model_name": "FloatProgressModel",
            "_view_count": null,
            "_view_module": "@jupyter-widgets/controls",
            "_view_module_version": "1.5.0",
            "_view_name": "ProgressView",
            "bar_style": "success",
            "description": "",
            "description_tooltip": null,
            "layout": "IPY_MODEL_c5ef4b16c33d48a7b177c07fa0515a2b",
            "max": 340,
            "min": 0,
            "orientation": "horizontal",
            "style": "IPY_MODEL_9c4c0bed962d48f182b0c574413b8ed4",
            "value": 340
          }
        },
        "3d6ab765da054eb7bb382f720eee0dd3": {
          "model_module": "@jupyter-widgets/controls",
          "model_name": "HTMLModel",
          "model_module_version": "1.5.0",
          "state": {
            "_dom_classes": [],
            "_model_module": "@jupyter-widgets/controls",
            "_model_module_version": "1.5.0",
            "_model_name": "HTMLModel",
            "_view_count": null,
            "_view_module": "@jupyter-widgets/controls",
            "_view_module_version": "1.5.0",
            "_view_name": "HTMLView",
            "description": "",
            "description_tooltip": null,
            "layout": "IPY_MODEL_304677a039b8439bb20c4e5038ee0bd4",
            "placeholder": "​",
            "style": "IPY_MODEL_64dd3f39707840259403dec2d0b5330f",
            "value": " 340/340 [00:00&lt;00:00, 29.4kB/s]"
          }
        },
        "bb8d2863890147938d82b5e4b4dfc5fb": {
          "model_module": "@jupyter-widgets/base",
          "model_name": "LayoutModel",
          "model_module_version": "1.2.0",
          "state": {
            "_model_module": "@jupyter-widgets/base",
            "_model_module_version": "1.2.0",
            "_model_name": "LayoutModel",
            "_view_count": null,
            "_view_module": "@jupyter-widgets/base",
            "_view_module_version": "1.2.0",
            "_view_name": "LayoutView",
            "align_content": null,
            "align_items": null,
            "align_self": null,
            "border": null,
            "bottom": null,
            "display": null,
            "flex": null,
            "flex_flow": null,
            "grid_area": null,
            "grid_auto_columns": null,
            "grid_auto_flow": null,
            "grid_auto_rows": null,
            "grid_column": null,
            "grid_gap": null,
            "grid_row": null,
            "grid_template_areas": null,
            "grid_template_columns": null,
            "grid_template_rows": null,
            "height": null,
            "justify_content": null,
            "justify_items": null,
            "left": null,
            "margin": null,
            "max_height": null,
            "max_width": null,
            "min_height": null,
            "min_width": null,
            "object_fit": null,
            "object_position": null,
            "order": null,
            "overflow": null,
            "overflow_x": null,
            "overflow_y": null,
            "padding": null,
            "right": null,
            "top": null,
            "visibility": null,
            "width": null
          }
        },
        "1e777ad8fa654230b1fdd8c0924648de": {
          "model_module": "@jupyter-widgets/base",
          "model_name": "LayoutModel",
          "model_module_version": "1.2.0",
          "state": {
            "_model_module": "@jupyter-widgets/base",
            "_model_module_version": "1.2.0",
            "_model_name": "LayoutModel",
            "_view_count": null,
            "_view_module": "@jupyter-widgets/base",
            "_view_module_version": "1.2.0",
            "_view_name": "LayoutView",
            "align_content": null,
            "align_items": null,
            "align_self": null,
            "border": null,
            "bottom": null,
            "display": null,
            "flex": null,
            "flex_flow": null,
            "grid_area": null,
            "grid_auto_columns": null,
            "grid_auto_flow": null,
            "grid_auto_rows": null,
            "grid_column": null,
            "grid_gap": null,
            "grid_row": null,
            "grid_template_areas": null,
            "grid_template_columns": null,
            "grid_template_rows": null,
            "height": null,
            "justify_content": null,
            "justify_items": null,
            "left": null,
            "margin": null,
            "max_height": null,
            "max_width": null,
            "min_height": null,
            "min_width": null,
            "object_fit": null,
            "object_position": null,
            "order": null,
            "overflow": null,
            "overflow_x": null,
            "overflow_y": null,
            "padding": null,
            "right": null,
            "top": null,
            "visibility": null,
            "width": null
          }
        },
        "866289385a4f4240a9b503e4584824e8": {
          "model_module": "@jupyter-widgets/controls",
          "model_name": "DescriptionStyleModel",
          "model_module_version": "1.5.0",
          "state": {
            "_model_module": "@jupyter-widgets/controls",
            "_model_module_version": "1.5.0",
            "_model_name": "DescriptionStyleModel",
            "_view_count": null,
            "_view_module": "@jupyter-widgets/base",
            "_view_module_version": "1.2.0",
            "_view_name": "StyleView",
            "description_width": ""
          }
        },
        "c5ef4b16c33d48a7b177c07fa0515a2b": {
          "model_module": "@jupyter-widgets/base",
          "model_name": "LayoutModel",
          "model_module_version": "1.2.0",
          "state": {
            "_model_module": "@jupyter-widgets/base",
            "_model_module_version": "1.2.0",
            "_model_name": "LayoutModel",
            "_view_count": null,
            "_view_module": "@jupyter-widgets/base",
            "_view_module_version": "1.2.0",
            "_view_name": "LayoutView",
            "align_content": null,
            "align_items": null,
            "align_self": null,
            "border": null,
            "bottom": null,
            "display": null,
            "flex": null,
            "flex_flow": null,
            "grid_area": null,
            "grid_auto_columns": null,
            "grid_auto_flow": null,
            "grid_auto_rows": null,
            "grid_column": null,
            "grid_gap": null,
            "grid_row": null,
            "grid_template_areas": null,
            "grid_template_columns": null,
            "grid_template_rows": null,
            "height": null,
            "justify_content": null,
            "justify_items": null,
            "left": null,
            "margin": null,
            "max_height": null,
            "max_width": null,
            "min_height": null,
            "min_width": null,
            "object_fit": null,
            "object_position": null,
            "order": null,
            "overflow": null,
            "overflow_x": null,
            "overflow_y": null,
            "padding": null,
            "right": null,
            "top": null,
            "visibility": null,
            "width": null
          }
        },
        "9c4c0bed962d48f182b0c574413b8ed4": {
          "model_module": "@jupyter-widgets/controls",
          "model_name": "ProgressStyleModel",
          "model_module_version": "1.5.0",
          "state": {
            "_model_module": "@jupyter-widgets/controls",
            "_model_module_version": "1.5.0",
            "_model_name": "ProgressStyleModel",
            "_view_count": null,
            "_view_module": "@jupyter-widgets/base",
            "_view_module_version": "1.2.0",
            "_view_name": "StyleView",
            "bar_color": null,
            "description_width": ""
          }
        },
        "304677a039b8439bb20c4e5038ee0bd4": {
          "model_module": "@jupyter-widgets/base",
          "model_name": "LayoutModel",
          "model_module_version": "1.2.0",
          "state": {
            "_model_module": "@jupyter-widgets/base",
            "_model_module_version": "1.2.0",
            "_model_name": "LayoutModel",
            "_view_count": null,
            "_view_module": "@jupyter-widgets/base",
            "_view_module_version": "1.2.0",
            "_view_name": "LayoutView",
            "align_content": null,
            "align_items": null,
            "align_self": null,
            "border": null,
            "bottom": null,
            "display": null,
            "flex": null,
            "flex_flow": null,
            "grid_area": null,
            "grid_auto_columns": null,
            "grid_auto_flow": null,
            "grid_auto_rows": null,
            "grid_column": null,
            "grid_gap": null,
            "grid_row": null,
            "grid_template_areas": null,
            "grid_template_columns": null,
            "grid_template_rows": null,
            "height": null,
            "justify_content": null,
            "justify_items": null,
            "left": null,
            "margin": null,
            "max_height": null,
            "max_width": null,
            "min_height": null,
            "min_width": null,
            "object_fit": null,
            "object_position": null,
            "order": null,
            "overflow": null,
            "overflow_x": null,
            "overflow_y": null,
            "padding": null,
            "right": null,
            "top": null,
            "visibility": null,
            "width": null
          }
        },
        "64dd3f39707840259403dec2d0b5330f": {
          "model_module": "@jupyter-widgets/controls",
          "model_name": "DescriptionStyleModel",
          "model_module_version": "1.5.0",
          "state": {
            "_model_module": "@jupyter-widgets/controls",
            "_model_module_version": "1.5.0",
            "_model_name": "DescriptionStyleModel",
            "_view_count": null,
            "_view_module": "@jupyter-widgets/base",
            "_view_module_version": "1.2.0",
            "_view_name": "StyleView",
            "description_width": ""
          }
        },
        "16a4058d94ae489d967e211b4ec7b9c7": {
          "model_module": "@jupyter-widgets/controls",
          "model_name": "HBoxModel",
          "model_module_version": "1.5.0",
          "state": {
            "_dom_classes": [],
            "_model_module": "@jupyter-widgets/controls",
            "_model_module_version": "1.5.0",
            "_model_name": "HBoxModel",
            "_view_count": null,
            "_view_module": "@jupyter-widgets/controls",
            "_view_module_version": "1.5.0",
            "_view_name": "HBoxView",
            "box_style": "",
            "children": [
              "IPY_MODEL_9d32458c77eb4e01963abead18cd8540",
              "IPY_MODEL_0c5c09d38f2a48c290a2c1b998415dba",
              "IPY_MODEL_3ef8a41709da44e3860ce7dcc6640574"
            ],
            "layout": "IPY_MODEL_741f6027bce1421ea73e45bcbbebcc48"
          }
        },
        "9d32458c77eb4e01963abead18cd8540": {
          "model_module": "@jupyter-widgets/controls",
          "model_name": "HTMLModel",
          "model_module_version": "1.5.0",
          "state": {
            "_dom_classes": [],
            "_model_module": "@jupyter-widgets/controls",
            "_model_module_version": "1.5.0",
            "_model_name": "HTMLModel",
            "_view_count": null,
            "_view_module": "@jupyter-widgets/controls",
            "_view_module_version": "1.5.0",
            "_view_name": "HTMLView",
            "description": "",
            "description_tooltip": null,
            "layout": "IPY_MODEL_8f7d84176cef4a1dbf97daa377f53b3b",
            "placeholder": "​",
            "style": "IPY_MODEL_389fdcea306d4e53bdd70c37fba535d1",
            "value": "config.json: 100%"
          }
        },
        "0c5c09d38f2a48c290a2c1b998415dba": {
          "model_module": "@jupyter-widgets/controls",
          "model_name": "FloatProgressModel",
          "model_module_version": "1.5.0",
          "state": {
            "_dom_classes": [],
            "_model_module": "@jupyter-widgets/controls",
            "_model_module_version": "1.5.0",
            "_model_name": "FloatProgressModel",
            "_view_count": null,
            "_view_module": "@jupyter-widgets/controls",
            "_view_module_version": "1.5.0",
            "_view_name": "ProgressView",
            "bar_style": "success",
            "description": "",
            "description_tooltip": null,
            "layout": "IPY_MODEL_aeea731383e9415f9af96789e0afcb1f",
            "max": 1993,
            "min": 0,
            "orientation": "horizontal",
            "style": "IPY_MODEL_6818e6e71ddd40ea8ef8cbf17a8c7731",
            "value": 1993
          }
        },
        "3ef8a41709da44e3860ce7dcc6640574": {
          "model_module": "@jupyter-widgets/controls",
          "model_name": "HTMLModel",
          "model_module_version": "1.5.0",
          "state": {
            "_dom_classes": [],
            "_model_module": "@jupyter-widgets/controls",
            "_model_module_version": "1.5.0",
            "_model_name": "HTMLModel",
            "_view_count": null,
            "_view_module": "@jupyter-widgets/controls",
            "_view_module_version": "1.5.0",
            "_view_name": "HTMLView",
            "description": "",
            "description_tooltip": null,
            "layout": "IPY_MODEL_8abc8eec02e74e0395649e88d54425d8",
            "placeholder": "​",
            "style": "IPY_MODEL_008e56e368fb439fb95579238954703f",
            "value": " 1.99k/1.99k [00:00&lt;00:00, 161kB/s]"
          }
        },
        "741f6027bce1421ea73e45bcbbebcc48": {
          "model_module": "@jupyter-widgets/base",
          "model_name": "LayoutModel",
          "model_module_version": "1.2.0",
          "state": {
            "_model_module": "@jupyter-widgets/base",
            "_model_module_version": "1.2.0",
            "_model_name": "LayoutModel",
            "_view_count": null,
            "_view_module": "@jupyter-widgets/base",
            "_view_module_version": "1.2.0",
            "_view_name": "LayoutView",
            "align_content": null,
            "align_items": null,
            "align_self": null,
            "border": null,
            "bottom": null,
            "display": null,
            "flex": null,
            "flex_flow": null,
            "grid_area": null,
            "grid_auto_columns": null,
            "grid_auto_flow": null,
            "grid_auto_rows": null,
            "grid_column": null,
            "grid_gap": null,
            "grid_row": null,
            "grid_template_areas": null,
            "grid_template_columns": null,
            "grid_template_rows": null,
            "height": null,
            "justify_content": null,
            "justify_items": null,
            "left": null,
            "margin": null,
            "max_height": null,
            "max_width": null,
            "min_height": null,
            "min_width": null,
            "object_fit": null,
            "object_position": null,
            "order": null,
            "overflow": null,
            "overflow_x": null,
            "overflow_y": null,
            "padding": null,
            "right": null,
            "top": null,
            "visibility": null,
            "width": null
          }
        },
        "8f7d84176cef4a1dbf97daa377f53b3b": {
          "model_module": "@jupyter-widgets/base",
          "model_name": "LayoutModel",
          "model_module_version": "1.2.0",
          "state": {
            "_model_module": "@jupyter-widgets/base",
            "_model_module_version": "1.2.0",
            "_model_name": "LayoutModel",
            "_view_count": null,
            "_view_module": "@jupyter-widgets/base",
            "_view_module_version": "1.2.0",
            "_view_name": "LayoutView",
            "align_content": null,
            "align_items": null,
            "align_self": null,
            "border": null,
            "bottom": null,
            "display": null,
            "flex": null,
            "flex_flow": null,
            "grid_area": null,
            "grid_auto_columns": null,
            "grid_auto_flow": null,
            "grid_auto_rows": null,
            "grid_column": null,
            "grid_gap": null,
            "grid_row": null,
            "grid_template_areas": null,
            "grid_template_columns": null,
            "grid_template_rows": null,
            "height": null,
            "justify_content": null,
            "justify_items": null,
            "left": null,
            "margin": null,
            "max_height": null,
            "max_width": null,
            "min_height": null,
            "min_width": null,
            "object_fit": null,
            "object_position": null,
            "order": null,
            "overflow": null,
            "overflow_x": null,
            "overflow_y": null,
            "padding": null,
            "right": null,
            "top": null,
            "visibility": null,
            "width": null
          }
        },
        "389fdcea306d4e53bdd70c37fba535d1": {
          "model_module": "@jupyter-widgets/controls",
          "model_name": "DescriptionStyleModel",
          "model_module_version": "1.5.0",
          "state": {
            "_model_module": "@jupyter-widgets/controls",
            "_model_module_version": "1.5.0",
            "_model_name": "DescriptionStyleModel",
            "_view_count": null,
            "_view_module": "@jupyter-widgets/base",
            "_view_module_version": "1.2.0",
            "_view_name": "StyleView",
            "description_width": ""
          }
        },
        "aeea731383e9415f9af96789e0afcb1f": {
          "model_module": "@jupyter-widgets/base",
          "model_name": "LayoutModel",
          "model_module_version": "1.2.0",
          "state": {
            "_model_module": "@jupyter-widgets/base",
            "_model_module_version": "1.2.0",
            "_model_name": "LayoutModel",
            "_view_count": null,
            "_view_module": "@jupyter-widgets/base",
            "_view_module_version": "1.2.0",
            "_view_name": "LayoutView",
            "align_content": null,
            "align_items": null,
            "align_self": null,
            "border": null,
            "bottom": null,
            "display": null,
            "flex": null,
            "flex_flow": null,
            "grid_area": null,
            "grid_auto_columns": null,
            "grid_auto_flow": null,
            "grid_auto_rows": null,
            "grid_column": null,
            "grid_gap": null,
            "grid_row": null,
            "grid_template_areas": null,
            "grid_template_columns": null,
            "grid_template_rows": null,
            "height": null,
            "justify_content": null,
            "justify_items": null,
            "left": null,
            "margin": null,
            "max_height": null,
            "max_width": null,
            "min_height": null,
            "min_width": null,
            "object_fit": null,
            "object_position": null,
            "order": null,
            "overflow": null,
            "overflow_x": null,
            "overflow_y": null,
            "padding": null,
            "right": null,
            "top": null,
            "visibility": null,
            "width": null
          }
        },
        "6818e6e71ddd40ea8ef8cbf17a8c7731": {
          "model_module": "@jupyter-widgets/controls",
          "model_name": "ProgressStyleModel",
          "model_module_version": "1.5.0",
          "state": {
            "_model_module": "@jupyter-widgets/controls",
            "_model_module_version": "1.5.0",
            "_model_name": "ProgressStyleModel",
            "_view_count": null,
            "_view_module": "@jupyter-widgets/base",
            "_view_module_version": "1.2.0",
            "_view_name": "StyleView",
            "bar_color": null,
            "description_width": ""
          }
        },
        "8abc8eec02e74e0395649e88d54425d8": {
          "model_module": "@jupyter-widgets/base",
          "model_name": "LayoutModel",
          "model_module_version": "1.2.0",
          "state": {
            "_model_module": "@jupyter-widgets/base",
            "_model_module_version": "1.2.0",
            "_model_name": "LayoutModel",
            "_view_count": null,
            "_view_module": "@jupyter-widgets/base",
            "_view_module_version": "1.2.0",
            "_view_name": "LayoutView",
            "align_content": null,
            "align_items": null,
            "align_self": null,
            "border": null,
            "bottom": null,
            "display": null,
            "flex": null,
            "flex_flow": null,
            "grid_area": null,
            "grid_auto_columns": null,
            "grid_auto_flow": null,
            "grid_auto_rows": null,
            "grid_column": null,
            "grid_gap": null,
            "grid_row": null,
            "grid_template_areas": null,
            "grid_template_columns": null,
            "grid_template_rows": null,
            "height": null,
            "justify_content": null,
            "justify_items": null,
            "left": null,
            "margin": null,
            "max_height": null,
            "max_width": null,
            "min_height": null,
            "min_width": null,
            "object_fit": null,
            "object_position": null,
            "order": null,
            "overflow": null,
            "overflow_x": null,
            "overflow_y": null,
            "padding": null,
            "right": null,
            "top": null,
            "visibility": null,
            "width": null
          }
        },
        "008e56e368fb439fb95579238954703f": {
          "model_module": "@jupyter-widgets/controls",
          "model_name": "DescriptionStyleModel",
          "model_module_version": "1.5.0",
          "state": {
            "_model_module": "@jupyter-widgets/controls",
            "_model_module_version": "1.5.0",
            "_model_name": "DescriptionStyleModel",
            "_view_count": null,
            "_view_module": "@jupyter-widgets/base",
            "_view_module_version": "1.2.0",
            "_view_name": "StyleView",
            "description_width": ""
          }
        },
        "1cd868da1aa840c7ac500fc22eea955f": {
          "model_module": "@jupyter-widgets/controls",
          "model_name": "HBoxModel",
          "model_module_version": "1.5.0",
          "state": {
            "_dom_classes": [],
            "_model_module": "@jupyter-widgets/controls",
            "_model_module_version": "1.5.0",
            "_model_name": "HBoxModel",
            "_view_count": null,
            "_view_module": "@jupyter-widgets/controls",
            "_view_module_version": "1.5.0",
            "_view_name": "HBoxView",
            "box_style": "",
            "children": [
              "IPY_MODEL_d85b4aa39520405b912c3091c8f47ef6",
              "IPY_MODEL_ba10dd55daf34baf931d578ba4991e17",
              "IPY_MODEL_80ff2fbc15c249cebb906e059be7467d"
            ],
            "layout": "IPY_MODEL_83b3ea6abb5546e084a0fead7b246945"
          }
        },
        "d85b4aa39520405b912c3091c8f47ef6": {
          "model_module": "@jupyter-widgets/controls",
          "model_name": "HTMLModel",
          "model_module_version": "1.5.0",
          "state": {
            "_dom_classes": [],
            "_model_module": "@jupyter-widgets/controls",
            "_model_module_version": "1.5.0",
            "_model_name": "HTMLModel",
            "_view_count": null,
            "_view_module": "@jupyter-widgets/controls",
            "_view_module_version": "1.5.0",
            "_view_name": "HTMLView",
            "description": "",
            "description_tooltip": null,
            "layout": "IPY_MODEL_1525a7e1c1f84872a35bcd63883bb5ac",
            "placeholder": "​",
            "style": "IPY_MODEL_6062afa2d0514b9089979acc872bed4c",
            "value": "model.safetensors: 100%"
          }
        },
        "ba10dd55daf34baf931d578ba4991e17": {
          "model_module": "@jupyter-widgets/controls",
          "model_name": "FloatProgressModel",
          "model_module_version": "1.5.0",
          "state": {
            "_dom_classes": [],
            "_model_module": "@jupyter-widgets/controls",
            "_model_module_version": "1.5.0",
            "_model_name": "FloatProgressModel",
            "_view_count": null,
            "_view_module": "@jupyter-widgets/controls",
            "_view_module_version": "1.5.0",
            "_view_name": "ProgressView",
            "bar_style": "success",
            "description": "",
            "description_tooltip": null,
            "layout": "IPY_MODEL_1026636c67a54fb9ac0eb9f1acfdfcc5",
            "max": 6173370152,
            "min": 0,
            "orientation": "horizontal",
            "style": "IPY_MODEL_e5dad0dff2fd43499c1b248559c44057",
            "value": 6173370152
          }
        },
        "80ff2fbc15c249cebb906e059be7467d": {
          "model_module": "@jupyter-widgets/controls",
          "model_name": "HTMLModel",
          "model_module_version": "1.5.0",
          "state": {
            "_dom_classes": [],
            "_model_module": "@jupyter-widgets/controls",
            "_model_module_version": "1.5.0",
            "_model_name": "HTMLModel",
            "_view_count": null,
            "_view_module": "@jupyter-widgets/controls",
            "_view_module_version": "1.5.0",
            "_view_name": "HTMLView",
            "description": "",
            "description_tooltip": null,
            "layout": "IPY_MODEL_2da5c0db50df4ac88b16b33a29083b04",
            "placeholder": "​",
            "style": "IPY_MODEL_ed357b78a13344fb8c7f1ee6ad8cbfb8",
            "value": " 6.17G/6.17G [00:41&lt;00:00, 235MB/s]"
          }
        },
        "83b3ea6abb5546e084a0fead7b246945": {
          "model_module": "@jupyter-widgets/base",
          "model_name": "LayoutModel",
          "model_module_version": "1.2.0",
          "state": {
            "_model_module": "@jupyter-widgets/base",
            "_model_module_version": "1.2.0",
            "_model_name": "LayoutModel",
            "_view_count": null,
            "_view_module": "@jupyter-widgets/base",
            "_view_module_version": "1.2.0",
            "_view_name": "LayoutView",
            "align_content": null,
            "align_items": null,
            "align_self": null,
            "border": null,
            "bottom": null,
            "display": null,
            "flex": null,
            "flex_flow": null,
            "grid_area": null,
            "grid_auto_columns": null,
            "grid_auto_flow": null,
            "grid_auto_rows": null,
            "grid_column": null,
            "grid_gap": null,
            "grid_row": null,
            "grid_template_areas": null,
            "grid_template_columns": null,
            "grid_template_rows": null,
            "height": null,
            "justify_content": null,
            "justify_items": null,
            "left": null,
            "margin": null,
            "max_height": null,
            "max_width": null,
            "min_height": null,
            "min_width": null,
            "object_fit": null,
            "object_position": null,
            "order": null,
            "overflow": null,
            "overflow_x": null,
            "overflow_y": null,
            "padding": null,
            "right": null,
            "top": null,
            "visibility": null,
            "width": null
          }
        },
        "1525a7e1c1f84872a35bcd63883bb5ac": {
          "model_module": "@jupyter-widgets/base",
          "model_name": "LayoutModel",
          "model_module_version": "1.2.0",
          "state": {
            "_model_module": "@jupyter-widgets/base",
            "_model_module_version": "1.2.0",
            "_model_name": "LayoutModel",
            "_view_count": null,
            "_view_module": "@jupyter-widgets/base",
            "_view_module_version": "1.2.0",
            "_view_name": "LayoutView",
            "align_content": null,
            "align_items": null,
            "align_self": null,
            "border": null,
            "bottom": null,
            "display": null,
            "flex": null,
            "flex_flow": null,
            "grid_area": null,
            "grid_auto_columns": null,
            "grid_auto_flow": null,
            "grid_auto_rows": null,
            "grid_column": null,
            "grid_gap": null,
            "grid_row": null,
            "grid_template_areas": null,
            "grid_template_columns": null,
            "grid_template_rows": null,
            "height": null,
            "justify_content": null,
            "justify_items": null,
            "left": null,
            "margin": null,
            "max_height": null,
            "max_width": null,
            "min_height": null,
            "min_width": null,
            "object_fit": null,
            "object_position": null,
            "order": null,
            "overflow": null,
            "overflow_x": null,
            "overflow_y": null,
            "padding": null,
            "right": null,
            "top": null,
            "visibility": null,
            "width": null
          }
        },
        "6062afa2d0514b9089979acc872bed4c": {
          "model_module": "@jupyter-widgets/controls",
          "model_name": "DescriptionStyleModel",
          "model_module_version": "1.5.0",
          "state": {
            "_model_module": "@jupyter-widgets/controls",
            "_model_module_version": "1.5.0",
            "_model_name": "DescriptionStyleModel",
            "_view_count": null,
            "_view_module": "@jupyter-widgets/base",
            "_view_module_version": "1.2.0",
            "_view_name": "StyleView",
            "description_width": ""
          }
        },
        "1026636c67a54fb9ac0eb9f1acfdfcc5": {
          "model_module": "@jupyter-widgets/base",
          "model_name": "LayoutModel",
          "model_module_version": "1.2.0",
          "state": {
            "_model_module": "@jupyter-widgets/base",
            "_model_module_version": "1.2.0",
            "_model_name": "LayoutModel",
            "_view_count": null,
            "_view_module": "@jupyter-widgets/base",
            "_view_module_version": "1.2.0",
            "_view_name": "LayoutView",
            "align_content": null,
            "align_items": null,
            "align_self": null,
            "border": null,
            "bottom": null,
            "display": null,
            "flex": null,
            "flex_flow": null,
            "grid_area": null,
            "grid_auto_columns": null,
            "grid_auto_flow": null,
            "grid_auto_rows": null,
            "grid_column": null,
            "grid_gap": null,
            "grid_row": null,
            "grid_template_areas": null,
            "grid_template_columns": null,
            "grid_template_rows": null,
            "height": null,
            "justify_content": null,
            "justify_items": null,
            "left": null,
            "margin": null,
            "max_height": null,
            "max_width": null,
            "min_height": null,
            "min_width": null,
            "object_fit": null,
            "object_position": null,
            "order": null,
            "overflow": null,
            "overflow_x": null,
            "overflow_y": null,
            "padding": null,
            "right": null,
            "top": null,
            "visibility": null,
            "width": null
          }
        },
        "e5dad0dff2fd43499c1b248559c44057": {
          "model_module": "@jupyter-widgets/controls",
          "model_name": "ProgressStyleModel",
          "model_module_version": "1.5.0",
          "state": {
            "_model_module": "@jupyter-widgets/controls",
            "_model_module_version": "1.5.0",
            "_model_name": "ProgressStyleModel",
            "_view_count": null,
            "_view_module": "@jupyter-widgets/base",
            "_view_module_version": "1.2.0",
            "_view_name": "StyleView",
            "bar_color": null,
            "description_width": ""
          }
        },
        "2da5c0db50df4ac88b16b33a29083b04": {
          "model_module": "@jupyter-widgets/base",
          "model_name": "LayoutModel",
          "model_module_version": "1.2.0",
          "state": {
            "_model_module": "@jupyter-widgets/base",
            "_model_module_version": "1.2.0",
            "_model_name": "LayoutModel",
            "_view_count": null,
            "_view_module": "@jupyter-widgets/base",
            "_view_module_version": "1.2.0",
            "_view_name": "LayoutView",
            "align_content": null,
            "align_items": null,
            "align_self": null,
            "border": null,
            "bottom": null,
            "display": null,
            "flex": null,
            "flex_flow": null,
            "grid_area": null,
            "grid_auto_columns": null,
            "grid_auto_flow": null,
            "grid_auto_rows": null,
            "grid_column": null,
            "grid_gap": null,
            "grid_row": null,
            "grid_template_areas": null,
            "grid_template_columns": null,
            "grid_template_rows": null,
            "height": null,
            "justify_content": null,
            "justify_items": null,
            "left": null,
            "margin": null,
            "max_height": null,
            "max_width": null,
            "min_height": null,
            "min_width": null,
            "object_fit": null,
            "object_position": null,
            "order": null,
            "overflow": null,
            "overflow_x": null,
            "overflow_y": null,
            "padding": null,
            "right": null,
            "top": null,
            "visibility": null,
            "width": null
          }
        },
        "ed357b78a13344fb8c7f1ee6ad8cbfb8": {
          "model_module": "@jupyter-widgets/controls",
          "model_name": "DescriptionStyleModel",
          "model_module_version": "1.5.0",
          "state": {
            "_model_module": "@jupyter-widgets/controls",
            "_model_module_version": "1.5.0",
            "_model_name": "DescriptionStyleModel",
            "_view_count": null,
            "_view_module": "@jupyter-widgets/base",
            "_view_module_version": "1.2.0",
            "_view_name": "StyleView",
            "description_width": ""
          }
        },
        "959331a4f65e42af8ee37a2acb16245f": {
          "model_module": "@jupyter-widgets/controls",
          "model_name": "HBoxModel",
          "model_module_version": "1.5.0",
          "state": {
            "_dom_classes": [],
            "_model_module": "@jupyter-widgets/controls",
            "_model_module_version": "1.5.0",
            "_model_name": "HBoxModel",
            "_view_count": null,
            "_view_module": "@jupyter-widgets/controls",
            "_view_module_version": "1.5.0",
            "_view_name": "HBoxView",
            "box_style": "",
            "children": [
              "IPY_MODEL_2b5c0c377b9a42d7bd5190fe7a1036f2",
              "IPY_MODEL_919a20a23e574ee5af47360fe586c8ef",
              "IPY_MODEL_1369cbda43e342659ace029455b5c77d"
            ],
            "layout": "IPY_MODEL_9a86ee41839e464b95acd6646b744fa0"
          }
        },
        "2b5c0c377b9a42d7bd5190fe7a1036f2": {
          "model_module": "@jupyter-widgets/controls",
          "model_name": "HTMLModel",
          "model_module_version": "1.5.0",
          "state": {
            "_dom_classes": [],
            "_model_module": "@jupyter-widgets/controls",
            "_model_module_version": "1.5.0",
            "_model_name": "HTMLModel",
            "_view_count": null,
            "_view_module": "@jupyter-widgets/controls",
            "_view_module_version": "1.5.0",
            "_view_name": "HTMLView",
            "description": "",
            "description_tooltip": null,
            "layout": "IPY_MODEL_de37403e9b3540c6bb2ef36fff36fadf",
            "placeholder": "​",
            "style": "IPY_MODEL_0bf234d701c341f0b313b72d971092be",
            "value": "generation_config.json: 100%"
          }
        },
        "919a20a23e574ee5af47360fe586c8ef": {
          "model_module": "@jupyter-widgets/controls",
          "model_name": "FloatProgressModel",
          "model_module_version": "1.5.0",
          "state": {
            "_dom_classes": [],
            "_model_module": "@jupyter-widgets/controls",
            "_model_module_version": "1.5.0",
            "_model_name": "FloatProgressModel",
            "_view_count": null,
            "_view_module": "@jupyter-widgets/controls",
            "_view_module_version": "1.5.0",
            "_view_name": "ProgressView",
            "bar_style": "success",
            "description": "",
            "description_tooltip": null,
            "layout": "IPY_MODEL_421bf2c332c94f07a6c3b80ebe0a7289",
            "max": 4294,
            "min": 0,
            "orientation": "horizontal",
            "style": "IPY_MODEL_e540e57d388a4e3f975a4b58ddc96800",
            "value": 4294
          }
        },
        "1369cbda43e342659ace029455b5c77d": {
          "model_module": "@jupyter-widgets/controls",
          "model_name": "HTMLModel",
          "model_module_version": "1.5.0",
          "state": {
            "_dom_classes": [],
            "_model_module": "@jupyter-widgets/controls",
            "_model_module_version": "1.5.0",
            "_model_name": "HTMLModel",
            "_view_count": null,
            "_view_module": "@jupyter-widgets/controls",
            "_view_module_version": "1.5.0",
            "_view_name": "HTMLView",
            "description": "",
            "description_tooltip": null,
            "layout": "IPY_MODEL_670e22103a744f2ba7cf08fc6b1c9476",
            "placeholder": "​",
            "style": "IPY_MODEL_04729e84fd764936a38a035120216573",
            "value": " 4.29k/4.29k [00:00&lt;00:00, 387kB/s]"
          }
        },
        "9a86ee41839e464b95acd6646b744fa0": {
          "model_module": "@jupyter-widgets/base",
          "model_name": "LayoutModel",
          "model_module_version": "1.2.0",
          "state": {
            "_model_module": "@jupyter-widgets/base",
            "_model_module_version": "1.2.0",
            "_model_name": "LayoutModel",
            "_view_count": null,
            "_view_module": "@jupyter-widgets/base",
            "_view_module_version": "1.2.0",
            "_view_name": "LayoutView",
            "align_content": null,
            "align_items": null,
            "align_self": null,
            "border": null,
            "bottom": null,
            "display": null,
            "flex": null,
            "flex_flow": null,
            "grid_area": null,
            "grid_auto_columns": null,
            "grid_auto_flow": null,
            "grid_auto_rows": null,
            "grid_column": null,
            "grid_gap": null,
            "grid_row": null,
            "grid_template_areas": null,
            "grid_template_columns": null,
            "grid_template_rows": null,
            "height": null,
            "justify_content": null,
            "justify_items": null,
            "left": null,
            "margin": null,
            "max_height": null,
            "max_width": null,
            "min_height": null,
            "min_width": null,
            "object_fit": null,
            "object_position": null,
            "order": null,
            "overflow": null,
            "overflow_x": null,
            "overflow_y": null,
            "padding": null,
            "right": null,
            "top": null,
            "visibility": null,
            "width": null
          }
        },
        "de37403e9b3540c6bb2ef36fff36fadf": {
          "model_module": "@jupyter-widgets/base",
          "model_name": "LayoutModel",
          "model_module_version": "1.2.0",
          "state": {
            "_model_module": "@jupyter-widgets/base",
            "_model_module_version": "1.2.0",
            "_model_name": "LayoutModel",
            "_view_count": null,
            "_view_module": "@jupyter-widgets/base",
            "_view_module_version": "1.2.0",
            "_view_name": "LayoutView",
            "align_content": null,
            "align_items": null,
            "align_self": null,
            "border": null,
            "bottom": null,
            "display": null,
            "flex": null,
            "flex_flow": null,
            "grid_area": null,
            "grid_auto_columns": null,
            "grid_auto_flow": null,
            "grid_auto_rows": null,
            "grid_column": null,
            "grid_gap": null,
            "grid_row": null,
            "grid_template_areas": null,
            "grid_template_columns": null,
            "grid_template_rows": null,
            "height": null,
            "justify_content": null,
            "justify_items": null,
            "left": null,
            "margin": null,
            "max_height": null,
            "max_width": null,
            "min_height": null,
            "min_width": null,
            "object_fit": null,
            "object_position": null,
            "order": null,
            "overflow": null,
            "overflow_x": null,
            "overflow_y": null,
            "padding": null,
            "right": null,
            "top": null,
            "visibility": null,
            "width": null
          }
        },
        "0bf234d701c341f0b313b72d971092be": {
          "model_module": "@jupyter-widgets/controls",
          "model_name": "DescriptionStyleModel",
          "model_module_version": "1.5.0",
          "state": {
            "_model_module": "@jupyter-widgets/controls",
            "_model_module_version": "1.5.0",
            "_model_name": "DescriptionStyleModel",
            "_view_count": null,
            "_view_module": "@jupyter-widgets/base",
            "_view_module_version": "1.2.0",
            "_view_name": "StyleView",
            "description_width": ""
          }
        },
        "421bf2c332c94f07a6c3b80ebe0a7289": {
          "model_module": "@jupyter-widgets/base",
          "model_name": "LayoutModel",
          "model_module_version": "1.2.0",
          "state": {
            "_model_module": "@jupyter-widgets/base",
            "_model_module_version": "1.2.0",
            "_model_name": "LayoutModel",
            "_view_count": null,
            "_view_module": "@jupyter-widgets/base",
            "_view_module_version": "1.2.0",
            "_view_name": "LayoutView",
            "align_content": null,
            "align_items": null,
            "align_self": null,
            "border": null,
            "bottom": null,
            "display": null,
            "flex": null,
            "flex_flow": null,
            "grid_area": null,
            "grid_auto_columns": null,
            "grid_auto_flow": null,
            "grid_auto_rows": null,
            "grid_column": null,
            "grid_gap": null,
            "grid_row": null,
            "grid_template_areas": null,
            "grid_template_columns": null,
            "grid_template_rows": null,
            "height": null,
            "justify_content": null,
            "justify_items": null,
            "left": null,
            "margin": null,
            "max_height": null,
            "max_width": null,
            "min_height": null,
            "min_width": null,
            "object_fit": null,
            "object_position": null,
            "order": null,
            "overflow": null,
            "overflow_x": null,
            "overflow_y": null,
            "padding": null,
            "right": null,
            "top": null,
            "visibility": null,
            "width": null
          }
        },
        "e540e57d388a4e3f975a4b58ddc96800": {
          "model_module": "@jupyter-widgets/controls",
          "model_name": "ProgressStyleModel",
          "model_module_version": "1.5.0",
          "state": {
            "_model_module": "@jupyter-widgets/controls",
            "_model_module_version": "1.5.0",
            "_model_name": "ProgressStyleModel",
            "_view_count": null,
            "_view_module": "@jupyter-widgets/base",
            "_view_module_version": "1.2.0",
            "_view_name": "StyleView",
            "bar_color": null,
            "description_width": ""
          }
        },
        "670e22103a744f2ba7cf08fc6b1c9476": {
          "model_module": "@jupyter-widgets/base",
          "model_name": "LayoutModel",
          "model_module_version": "1.2.0",
          "state": {
            "_model_module": "@jupyter-widgets/base",
            "_model_module_version": "1.2.0",
            "_model_name": "LayoutModel",
            "_view_count": null,
            "_view_module": "@jupyter-widgets/base",
            "_view_module_version": "1.2.0",
            "_view_name": "LayoutView",
            "align_content": null,
            "align_items": null,
            "align_self": null,
            "border": null,
            "bottom": null,
            "display": null,
            "flex": null,
            "flex_flow": null,
            "grid_area": null,
            "grid_auto_columns": null,
            "grid_auto_flow": null,
            "grid_auto_rows": null,
            "grid_column": null,
            "grid_gap": null,
            "grid_row": null,
            "grid_template_areas": null,
            "grid_template_columns": null,
            "grid_template_rows": null,
            "height": null,
            "justify_content": null,
            "justify_items": null,
            "left": null,
            "margin": null,
            "max_height": null,
            "max_width": null,
            "min_height": null,
            "min_width": null,
            "object_fit": null,
            "object_position": null,
            "order": null,
            "overflow": null,
            "overflow_x": null,
            "overflow_y": null,
            "padding": null,
            "right": null,
            "top": null,
            "visibility": null,
            "width": null
          }
        },
        "04729e84fd764936a38a035120216573": {
          "model_module": "@jupyter-widgets/controls",
          "model_name": "DescriptionStyleModel",
          "model_module_version": "1.5.0",
          "state": {
            "_model_module": "@jupyter-widgets/controls",
            "_model_module_version": "1.5.0",
            "_model_name": "DescriptionStyleModel",
            "_view_count": null,
            "_view_module": "@jupyter-widgets/base",
            "_view_module_version": "1.2.0",
            "_view_name": "StyleView",
            "description_width": ""
          }
        },
        "4de52e350e9c4d658f8f4b83c296d1b5": {
          "model_module": "@jupyter-widgets/controls",
          "model_name": "HBoxModel",
          "model_module_version": "1.5.0",
          "state": {
            "_dom_classes": [],
            "_model_module": "@jupyter-widgets/controls",
            "_model_module_version": "1.5.0",
            "_model_name": "HBoxModel",
            "_view_count": null,
            "_view_module": "@jupyter-widgets/controls",
            "_view_module_version": "1.5.0",
            "_view_name": "HBoxView",
            "box_style": "",
            "children": [
              "IPY_MODEL_db6f75c9461e40a6825db35895c4a23e",
              "IPY_MODEL_0b6e7d7479dd46ad8ed7a30293aedf1d",
              "IPY_MODEL_6431ac5ec9d849f9b4c124ce8feaead8"
            ],
            "layout": "IPY_MODEL_dd2cce1f3aaf448386586f385a787d8e"
          }
        },
        "db6f75c9461e40a6825db35895c4a23e": {
          "model_module": "@jupyter-widgets/controls",
          "model_name": "HTMLModel",
          "model_module_version": "1.5.0",
          "state": {
            "_dom_classes": [],
            "_model_module": "@jupyter-widgets/controls",
            "_model_module_version": "1.5.0",
            "_model_name": "HTMLModel",
            "_view_count": null,
            "_view_module": "@jupyter-widgets/controls",
            "_view_module_version": "1.5.0",
            "_view_name": "HTMLView",
            "description": "",
            "description_tooltip": null,
            "layout": "IPY_MODEL_b399bebba61e4834a75e6ab783d9152d",
            "placeholder": "​",
            "style": "IPY_MODEL_2b481c2d95cf4268997c0b228016526d",
            "value": "tokenizer_config.json: 100%"
          }
        },
        "0b6e7d7479dd46ad8ed7a30293aedf1d": {
          "model_module": "@jupyter-widgets/controls",
          "model_name": "FloatProgressModel",
          "model_module_version": "1.5.0",
          "state": {
            "_dom_classes": [],
            "_model_module": "@jupyter-widgets/controls",
            "_model_module_version": "1.5.0",
            "_model_name": "FloatProgressModel",
            "_view_count": null,
            "_view_module": "@jupyter-widgets/controls",
            "_view_module_version": "1.5.0",
            "_view_name": "ProgressView",
            "bar_style": "success",
            "description": "",
            "description_tooltip": null,
            "layout": "IPY_MODEL_8a4a04d69a2e4f7990dcd335a2d9256e",
            "max": 282683,
            "min": 0,
            "orientation": "horizontal",
            "style": "IPY_MODEL_5a027793ab8a4a3388ef3c5430e399e4",
            "value": 282683
          }
        },
        "6431ac5ec9d849f9b4c124ce8feaead8": {
          "model_module": "@jupyter-widgets/controls",
          "model_name": "HTMLModel",
          "model_module_version": "1.5.0",
          "state": {
            "_dom_classes": [],
            "_model_module": "@jupyter-widgets/controls",
            "_model_module_version": "1.5.0",
            "_model_name": "HTMLModel",
            "_view_count": null,
            "_view_module": "@jupyter-widgets/controls",
            "_view_module_version": "1.5.0",
            "_view_name": "HTMLView",
            "description": "",
            "description_tooltip": null,
            "layout": "IPY_MODEL_33f181f99e734e97a67ab119e8793ffb",
            "placeholder": "​",
            "style": "IPY_MODEL_16e4c25404724f7bb31b59bdd8b2028f",
            "value": " 283k/283k [00:00&lt;00:00, 1.32MB/s]"
          }
        },
        "dd2cce1f3aaf448386586f385a787d8e": {
          "model_module": "@jupyter-widgets/base",
          "model_name": "LayoutModel",
          "model_module_version": "1.2.0",
          "state": {
            "_model_module": "@jupyter-widgets/base",
            "_model_module_version": "1.2.0",
            "_model_name": "LayoutModel",
            "_view_count": null,
            "_view_module": "@jupyter-widgets/base",
            "_view_module_version": "1.2.0",
            "_view_name": "LayoutView",
            "align_content": null,
            "align_items": null,
            "align_self": null,
            "border": null,
            "bottom": null,
            "display": null,
            "flex": null,
            "flex_flow": null,
            "grid_area": null,
            "grid_auto_columns": null,
            "grid_auto_flow": null,
            "grid_auto_rows": null,
            "grid_column": null,
            "grid_gap": null,
            "grid_row": null,
            "grid_template_areas": null,
            "grid_template_columns": null,
            "grid_template_rows": null,
            "height": null,
            "justify_content": null,
            "justify_items": null,
            "left": null,
            "margin": null,
            "max_height": null,
            "max_width": null,
            "min_height": null,
            "min_width": null,
            "object_fit": null,
            "object_position": null,
            "order": null,
            "overflow": null,
            "overflow_x": null,
            "overflow_y": null,
            "padding": null,
            "right": null,
            "top": null,
            "visibility": null,
            "width": null
          }
        },
        "b399bebba61e4834a75e6ab783d9152d": {
          "model_module": "@jupyter-widgets/base",
          "model_name": "LayoutModel",
          "model_module_version": "1.2.0",
          "state": {
            "_model_module": "@jupyter-widgets/base",
            "_model_module_version": "1.2.0",
            "_model_name": "LayoutModel",
            "_view_count": null,
            "_view_module": "@jupyter-widgets/base",
            "_view_module_version": "1.2.0",
            "_view_name": "LayoutView",
            "align_content": null,
            "align_items": null,
            "align_self": null,
            "border": null,
            "bottom": null,
            "display": null,
            "flex": null,
            "flex_flow": null,
            "grid_area": null,
            "grid_auto_columns": null,
            "grid_auto_flow": null,
            "grid_auto_rows": null,
            "grid_column": null,
            "grid_gap": null,
            "grid_row": null,
            "grid_template_areas": null,
            "grid_template_columns": null,
            "grid_template_rows": null,
            "height": null,
            "justify_content": null,
            "justify_items": null,
            "left": null,
            "margin": null,
            "max_height": null,
            "max_width": null,
            "min_height": null,
            "min_width": null,
            "object_fit": null,
            "object_position": null,
            "order": null,
            "overflow": null,
            "overflow_x": null,
            "overflow_y": null,
            "padding": null,
            "right": null,
            "top": null,
            "visibility": null,
            "width": null
          }
        },
        "2b481c2d95cf4268997c0b228016526d": {
          "model_module": "@jupyter-widgets/controls",
          "model_name": "DescriptionStyleModel",
          "model_module_version": "1.5.0",
          "state": {
            "_model_module": "@jupyter-widgets/controls",
            "_model_module_version": "1.5.0",
            "_model_name": "DescriptionStyleModel",
            "_view_count": null,
            "_view_module": "@jupyter-widgets/base",
            "_view_module_version": "1.2.0",
            "_view_name": "StyleView",
            "description_width": ""
          }
        },
        "8a4a04d69a2e4f7990dcd335a2d9256e": {
          "model_module": "@jupyter-widgets/base",
          "model_name": "LayoutModel",
          "model_module_version": "1.2.0",
          "state": {
            "_model_module": "@jupyter-widgets/base",
            "_model_module_version": "1.2.0",
            "_model_name": "LayoutModel",
            "_view_count": null,
            "_view_module": "@jupyter-widgets/base",
            "_view_module_version": "1.2.0",
            "_view_name": "LayoutView",
            "align_content": null,
            "align_items": null,
            "align_self": null,
            "border": null,
            "bottom": null,
            "display": null,
            "flex": null,
            "flex_flow": null,
            "grid_area": null,
            "grid_auto_columns": null,
            "grid_auto_flow": null,
            "grid_auto_rows": null,
            "grid_column": null,
            "grid_gap": null,
            "grid_row": null,
            "grid_template_areas": null,
            "grid_template_columns": null,
            "grid_template_rows": null,
            "height": null,
            "justify_content": null,
            "justify_items": null,
            "left": null,
            "margin": null,
            "max_height": null,
            "max_width": null,
            "min_height": null,
            "min_width": null,
            "object_fit": null,
            "object_position": null,
            "order": null,
            "overflow": null,
            "overflow_x": null,
            "overflow_y": null,
            "padding": null,
            "right": null,
            "top": null,
            "visibility": null,
            "width": null
          }
        },
        "5a027793ab8a4a3388ef3c5430e399e4": {
          "model_module": "@jupyter-widgets/controls",
          "model_name": "ProgressStyleModel",
          "model_module_version": "1.5.0",
          "state": {
            "_model_module": "@jupyter-widgets/controls",
            "_model_module_version": "1.5.0",
            "_model_name": "ProgressStyleModel",
            "_view_count": null,
            "_view_module": "@jupyter-widgets/base",
            "_view_module_version": "1.2.0",
            "_view_name": "StyleView",
            "bar_color": null,
            "description_width": ""
          }
        },
        "33f181f99e734e97a67ab119e8793ffb": {
          "model_module": "@jupyter-widgets/base",
          "model_name": "LayoutModel",
          "model_module_version": "1.2.0",
          "state": {
            "_model_module": "@jupyter-widgets/base",
            "_model_module_version": "1.2.0",
            "_model_name": "LayoutModel",
            "_view_count": null,
            "_view_module": "@jupyter-widgets/base",
            "_view_module_version": "1.2.0",
            "_view_name": "LayoutView",
            "align_content": null,
            "align_items": null,
            "align_self": null,
            "border": null,
            "bottom": null,
            "display": null,
            "flex": null,
            "flex_flow": null,
            "grid_area": null,
            "grid_auto_columns": null,
            "grid_auto_flow": null,
            "grid_auto_rows": null,
            "grid_column": null,
            "grid_gap": null,
            "grid_row": null,
            "grid_template_areas": null,
            "grid_template_columns": null,
            "grid_template_rows": null,
            "height": null,
            "justify_content": null,
            "justify_items": null,
            "left": null,
            "margin": null,
            "max_height": null,
            "max_width": null,
            "min_height": null,
            "min_width": null,
            "object_fit": null,
            "object_position": null,
            "order": null,
            "overflow": null,
            "overflow_x": null,
            "overflow_y": null,
            "padding": null,
            "right": null,
            "top": null,
            "visibility": null,
            "width": null
          }
        },
        "16e4c25404724f7bb31b59bdd8b2028f": {
          "model_module": "@jupyter-widgets/controls",
          "model_name": "DescriptionStyleModel",
          "model_module_version": "1.5.0",
          "state": {
            "_model_module": "@jupyter-widgets/controls",
            "_model_module_version": "1.5.0",
            "_model_name": "DescriptionStyleModel",
            "_view_count": null,
            "_view_module": "@jupyter-widgets/base",
            "_view_module_version": "1.2.0",
            "_view_name": "StyleView",
            "description_width": ""
          }
        },
        "181e75434f2e483fb69ab9fda2929f48": {
          "model_module": "@jupyter-widgets/controls",
          "model_name": "HBoxModel",
          "model_module_version": "1.5.0",
          "state": {
            "_dom_classes": [],
            "_model_module": "@jupyter-widgets/controls",
            "_model_module_version": "1.5.0",
            "_model_name": "HBoxModel",
            "_view_count": null,
            "_view_module": "@jupyter-widgets/controls",
            "_view_module_version": "1.5.0",
            "_view_name": "HBoxView",
            "box_style": "",
            "children": [
              "IPY_MODEL_ff2a2ad41fea41f78548f1e5aeb8b18f",
              "IPY_MODEL_ae4a1167f3254087a3141d5425ca4e5c",
              "IPY_MODEL_3638e7472b3c4299baaa934e386b64c6"
            ],
            "layout": "IPY_MODEL_912822a151ed4f11bdb2cbbe9c5b0391"
          }
        },
        "ff2a2ad41fea41f78548f1e5aeb8b18f": {
          "model_module": "@jupyter-widgets/controls",
          "model_name": "HTMLModel",
          "model_module_version": "1.5.0",
          "state": {
            "_dom_classes": [],
            "_model_module": "@jupyter-widgets/controls",
            "_model_module_version": "1.5.0",
            "_model_name": "HTMLModel",
            "_view_count": null,
            "_view_module": "@jupyter-widgets/controls",
            "_view_module_version": "1.5.0",
            "_view_name": "HTMLView",
            "description": "",
            "description_tooltip": null,
            "layout": "IPY_MODEL_55728e600e2a4e7281e615ad6031e2b2",
            "placeholder": "​",
            "style": "IPY_MODEL_bbff54f5d737418d87eef835e71c1349",
            "value": "vocab.json: 100%"
          }
        },
        "ae4a1167f3254087a3141d5425ca4e5c": {
          "model_module": "@jupyter-widgets/controls",
          "model_name": "FloatProgressModel",
          "model_module_version": "1.5.0",
          "state": {
            "_dom_classes": [],
            "_model_module": "@jupyter-widgets/controls",
            "_model_module_version": "1.5.0",
            "_model_name": "FloatProgressModel",
            "_view_count": null,
            "_view_module": "@jupyter-widgets/controls",
            "_view_module_version": "1.5.0",
            "_view_name": "ProgressView",
            "bar_style": "success",
            "description": "",
            "description_tooltip": null,
            "layout": "IPY_MODEL_4a9b39aa17fe4417bce5a4aa1cebc6da",
            "max": 835550,
            "min": 0,
            "orientation": "horizontal",
            "style": "IPY_MODEL_ff24e5f5b5614d3e9d9d50c3eb8da7ba",
            "value": 835550
          }
        },
        "3638e7472b3c4299baaa934e386b64c6": {
          "model_module": "@jupyter-widgets/controls",
          "model_name": "HTMLModel",
          "model_module_version": "1.5.0",
          "state": {
            "_dom_classes": [],
            "_model_module": "@jupyter-widgets/controls",
            "_model_module_version": "1.5.0",
            "_model_name": "HTMLModel",
            "_view_count": null,
            "_view_module": "@jupyter-widgets/controls",
            "_view_module_version": "1.5.0",
            "_view_name": "HTMLView",
            "description": "",
            "description_tooltip": null,
            "layout": "IPY_MODEL_32744a8372ff4f79bde1b2c86cb6819f",
            "placeholder": "​",
            "style": "IPY_MODEL_b1d1ac3412b24b2ea947b920c387a9e1",
            "value": " 836k/836k [00:00&lt;00:00, 3.82MB/s]"
          }
        },
        "912822a151ed4f11bdb2cbbe9c5b0391": {
          "model_module": "@jupyter-widgets/base",
          "model_name": "LayoutModel",
          "model_module_version": "1.2.0",
          "state": {
            "_model_module": "@jupyter-widgets/base",
            "_model_module_version": "1.2.0",
            "_model_name": "LayoutModel",
            "_view_count": null,
            "_view_module": "@jupyter-widgets/base",
            "_view_module_version": "1.2.0",
            "_view_name": "LayoutView",
            "align_content": null,
            "align_items": null,
            "align_self": null,
            "border": null,
            "bottom": null,
            "display": null,
            "flex": null,
            "flex_flow": null,
            "grid_area": null,
            "grid_auto_columns": null,
            "grid_auto_flow": null,
            "grid_auto_rows": null,
            "grid_column": null,
            "grid_gap": null,
            "grid_row": null,
            "grid_template_areas": null,
            "grid_template_columns": null,
            "grid_template_rows": null,
            "height": null,
            "justify_content": null,
            "justify_items": null,
            "left": null,
            "margin": null,
            "max_height": null,
            "max_width": null,
            "min_height": null,
            "min_width": null,
            "object_fit": null,
            "object_position": null,
            "order": null,
            "overflow": null,
            "overflow_x": null,
            "overflow_y": null,
            "padding": null,
            "right": null,
            "top": null,
            "visibility": null,
            "width": null
          }
        },
        "55728e600e2a4e7281e615ad6031e2b2": {
          "model_module": "@jupyter-widgets/base",
          "model_name": "LayoutModel",
          "model_module_version": "1.2.0",
          "state": {
            "_model_module": "@jupyter-widgets/base",
            "_model_module_version": "1.2.0",
            "_model_name": "LayoutModel",
            "_view_count": null,
            "_view_module": "@jupyter-widgets/base",
            "_view_module_version": "1.2.0",
            "_view_name": "LayoutView",
            "align_content": null,
            "align_items": null,
            "align_self": null,
            "border": null,
            "bottom": null,
            "display": null,
            "flex": null,
            "flex_flow": null,
            "grid_area": null,
            "grid_auto_columns": null,
            "grid_auto_flow": null,
            "grid_auto_rows": null,
            "grid_column": null,
            "grid_gap": null,
            "grid_row": null,
            "grid_template_areas": null,
            "grid_template_columns": null,
            "grid_template_rows": null,
            "height": null,
            "justify_content": null,
            "justify_items": null,
            "left": null,
            "margin": null,
            "max_height": null,
            "max_width": null,
            "min_height": null,
            "min_width": null,
            "object_fit": null,
            "object_position": null,
            "order": null,
            "overflow": null,
            "overflow_x": null,
            "overflow_y": null,
            "padding": null,
            "right": null,
            "top": null,
            "visibility": null,
            "width": null
          }
        },
        "bbff54f5d737418d87eef835e71c1349": {
          "model_module": "@jupyter-widgets/controls",
          "model_name": "DescriptionStyleModel",
          "model_module_version": "1.5.0",
          "state": {
            "_model_module": "@jupyter-widgets/controls",
            "_model_module_version": "1.5.0",
            "_model_name": "DescriptionStyleModel",
            "_view_count": null,
            "_view_module": "@jupyter-widgets/base",
            "_view_module_version": "1.2.0",
            "_view_name": "StyleView",
            "description_width": ""
          }
        },
        "4a9b39aa17fe4417bce5a4aa1cebc6da": {
          "model_module": "@jupyter-widgets/base",
          "model_name": "LayoutModel",
          "model_module_version": "1.2.0",
          "state": {
            "_model_module": "@jupyter-widgets/base",
            "_model_module_version": "1.2.0",
            "_model_name": "LayoutModel",
            "_view_count": null,
            "_view_module": "@jupyter-widgets/base",
            "_view_module_version": "1.2.0",
            "_view_name": "LayoutView",
            "align_content": null,
            "align_items": null,
            "align_self": null,
            "border": null,
            "bottom": null,
            "display": null,
            "flex": null,
            "flex_flow": null,
            "grid_area": null,
            "grid_auto_columns": null,
            "grid_auto_flow": null,
            "grid_auto_rows": null,
            "grid_column": null,
            "grid_gap": null,
            "grid_row": null,
            "grid_template_areas": null,
            "grid_template_columns": null,
            "grid_template_rows": null,
            "height": null,
            "justify_content": null,
            "justify_items": null,
            "left": null,
            "margin": null,
            "max_height": null,
            "max_width": null,
            "min_height": null,
            "min_width": null,
            "object_fit": null,
            "object_position": null,
            "order": null,
            "overflow": null,
            "overflow_x": null,
            "overflow_y": null,
            "padding": null,
            "right": null,
            "top": null,
            "visibility": null,
            "width": null
          }
        },
        "ff24e5f5b5614d3e9d9d50c3eb8da7ba": {
          "model_module": "@jupyter-widgets/controls",
          "model_name": "ProgressStyleModel",
          "model_module_version": "1.5.0",
          "state": {
            "_model_module": "@jupyter-widgets/controls",
            "_model_module_version": "1.5.0",
            "_model_name": "ProgressStyleModel",
            "_view_count": null,
            "_view_module": "@jupyter-widgets/base",
            "_view_module_version": "1.2.0",
            "_view_name": "StyleView",
            "bar_color": null,
            "description_width": ""
          }
        },
        "32744a8372ff4f79bde1b2c86cb6819f": {
          "model_module": "@jupyter-widgets/base",
          "model_name": "LayoutModel",
          "model_module_version": "1.2.0",
          "state": {
            "_model_module": "@jupyter-widgets/base",
            "_model_module_version": "1.2.0",
            "_model_name": "LayoutModel",
            "_view_count": null,
            "_view_module": "@jupyter-widgets/base",
            "_view_module_version": "1.2.0",
            "_view_name": "LayoutView",
            "align_content": null,
            "align_items": null,
            "align_self": null,
            "border": null,
            "bottom": null,
            "display": null,
            "flex": null,
            "flex_flow": null,
            "grid_area": null,
            "grid_auto_columns": null,
            "grid_auto_flow": null,
            "grid_auto_rows": null,
            "grid_column": null,
            "grid_gap": null,
            "grid_row": null,
            "grid_template_areas": null,
            "grid_template_columns": null,
            "grid_template_rows": null,
            "height": null,
            "justify_content": null,
            "justify_items": null,
            "left": null,
            "margin": null,
            "max_height": null,
            "max_width": null,
            "min_height": null,
            "min_width": null,
            "object_fit": null,
            "object_position": null,
            "order": null,
            "overflow": null,
            "overflow_x": null,
            "overflow_y": null,
            "padding": null,
            "right": null,
            "top": null,
            "visibility": null,
            "width": null
          }
        },
        "b1d1ac3412b24b2ea947b920c387a9e1": {
          "model_module": "@jupyter-widgets/controls",
          "model_name": "DescriptionStyleModel",
          "model_module_version": "1.5.0",
          "state": {
            "_model_module": "@jupyter-widgets/controls",
            "_model_module_version": "1.5.0",
            "_model_name": "DescriptionStyleModel",
            "_view_count": null,
            "_view_module": "@jupyter-widgets/base",
            "_view_module_version": "1.2.0",
            "_view_name": "StyleView",
            "description_width": ""
          }
        },
        "35d695d4d2b8452e831b6ef063647776": {
          "model_module": "@jupyter-widgets/controls",
          "model_name": "HBoxModel",
          "model_module_version": "1.5.0",
          "state": {
            "_dom_classes": [],
            "_model_module": "@jupyter-widgets/controls",
            "_model_module_version": "1.5.0",
            "_model_name": "HBoxModel",
            "_view_count": null,
            "_view_module": "@jupyter-widgets/controls",
            "_view_module_version": "1.5.0",
            "_view_name": "HBoxView",
            "box_style": "",
            "children": [
              "IPY_MODEL_354fe78ba84e459bbb0545b9ac0cad21",
              "IPY_MODEL_73acfae156cf4d55821aa8771d44c81d",
              "IPY_MODEL_3abbc09559064ac5b4c8eb2fdb8999f0"
            ],
            "layout": "IPY_MODEL_48e51cd2077043d0b92514b5a7c8cab0"
          }
        },
        "354fe78ba84e459bbb0545b9ac0cad21": {
          "model_module": "@jupyter-widgets/controls",
          "model_name": "HTMLModel",
          "model_module_version": "1.5.0",
          "state": {
            "_dom_classes": [],
            "_model_module": "@jupyter-widgets/controls",
            "_model_module_version": "1.5.0",
            "_model_name": "HTMLModel",
            "_view_count": null,
            "_view_module": "@jupyter-widgets/controls",
            "_view_module_version": "1.5.0",
            "_view_name": "HTMLView",
            "description": "",
            "description_tooltip": null,
            "layout": "IPY_MODEL_196c177ed6174b9baf58bf83e582506b",
            "placeholder": "​",
            "style": "IPY_MODEL_d9ff9a47da9744ac85338c8bc007a9b7",
            "value": "tokenizer.json: 100%"
          }
        },
        "73acfae156cf4d55821aa8771d44c81d": {
          "model_module": "@jupyter-widgets/controls",
          "model_name": "FloatProgressModel",
          "model_module_version": "1.5.0",
          "state": {
            "_dom_classes": [],
            "_model_module": "@jupyter-widgets/controls",
            "_model_module_version": "1.5.0",
            "_model_name": "FloatProgressModel",
            "_view_count": null,
            "_view_module": "@jupyter-widgets/controls",
            "_view_module_version": "1.5.0",
            "_view_name": "ProgressView",
            "bar_style": "success",
            "description": "",
            "description_tooltip": null,
            "layout": "IPY_MODEL_ecec8e0f4a584ed59b10eeb312bb85ee",
            "max": 2480466,
            "min": 0,
            "orientation": "horizontal",
            "style": "IPY_MODEL_326a59bab61740afb8450b5193d3b823",
            "value": 2480466
          }
        },
        "3abbc09559064ac5b4c8eb2fdb8999f0": {
          "model_module": "@jupyter-widgets/controls",
          "model_name": "HTMLModel",
          "model_module_version": "1.5.0",
          "state": {
            "_dom_classes": [],
            "_model_module": "@jupyter-widgets/controls",
            "_model_module_version": "1.5.0",
            "_model_name": "HTMLModel",
            "_view_count": null,
            "_view_module": "@jupyter-widgets/controls",
            "_view_module_version": "1.5.0",
            "_view_name": "HTMLView",
            "description": "",
            "description_tooltip": null,
            "layout": "IPY_MODEL_32888986515c4f81ab457e2ced1365f4",
            "placeholder": "​",
            "style": "IPY_MODEL_003eee006aa94b16a24bcf96c766665c",
            "value": " 2.48M/2.48M [00:00&lt;00:00, 5.67MB/s]"
          }
        },
        "48e51cd2077043d0b92514b5a7c8cab0": {
          "model_module": "@jupyter-widgets/base",
          "model_name": "LayoutModel",
          "model_module_version": "1.2.0",
          "state": {
            "_model_module": "@jupyter-widgets/base",
            "_model_module_version": "1.2.0",
            "_model_name": "LayoutModel",
            "_view_count": null,
            "_view_module": "@jupyter-widgets/base",
            "_view_module_version": "1.2.0",
            "_view_name": "LayoutView",
            "align_content": null,
            "align_items": null,
            "align_self": null,
            "border": null,
            "bottom": null,
            "display": null,
            "flex": null,
            "flex_flow": null,
            "grid_area": null,
            "grid_auto_columns": null,
            "grid_auto_flow": null,
            "grid_auto_rows": null,
            "grid_column": null,
            "grid_gap": null,
            "grid_row": null,
            "grid_template_areas": null,
            "grid_template_columns": null,
            "grid_template_rows": null,
            "height": null,
            "justify_content": null,
            "justify_items": null,
            "left": null,
            "margin": null,
            "max_height": null,
            "max_width": null,
            "min_height": null,
            "min_width": null,
            "object_fit": null,
            "object_position": null,
            "order": null,
            "overflow": null,
            "overflow_x": null,
            "overflow_y": null,
            "padding": null,
            "right": null,
            "top": null,
            "visibility": null,
            "width": null
          }
        },
        "196c177ed6174b9baf58bf83e582506b": {
          "model_module": "@jupyter-widgets/base",
          "model_name": "LayoutModel",
          "model_module_version": "1.2.0",
          "state": {
            "_model_module": "@jupyter-widgets/base",
            "_model_module_version": "1.2.0",
            "_model_name": "LayoutModel",
            "_view_count": null,
            "_view_module": "@jupyter-widgets/base",
            "_view_module_version": "1.2.0",
            "_view_name": "LayoutView",
            "align_content": null,
            "align_items": null,
            "align_self": null,
            "border": null,
            "bottom": null,
            "display": null,
            "flex": null,
            "flex_flow": null,
            "grid_area": null,
            "grid_auto_columns": null,
            "grid_auto_flow": null,
            "grid_auto_rows": null,
            "grid_column": null,
            "grid_gap": null,
            "grid_row": null,
            "grid_template_areas": null,
            "grid_template_columns": null,
            "grid_template_rows": null,
            "height": null,
            "justify_content": null,
            "justify_items": null,
            "left": null,
            "margin": null,
            "max_height": null,
            "max_width": null,
            "min_height": null,
            "min_width": null,
            "object_fit": null,
            "object_position": null,
            "order": null,
            "overflow": null,
            "overflow_x": null,
            "overflow_y": null,
            "padding": null,
            "right": null,
            "top": null,
            "visibility": null,
            "width": null
          }
        },
        "d9ff9a47da9744ac85338c8bc007a9b7": {
          "model_module": "@jupyter-widgets/controls",
          "model_name": "DescriptionStyleModel",
          "model_module_version": "1.5.0",
          "state": {
            "_model_module": "@jupyter-widgets/controls",
            "_model_module_version": "1.5.0",
            "_model_name": "DescriptionStyleModel",
            "_view_count": null,
            "_view_module": "@jupyter-widgets/base",
            "_view_module_version": "1.2.0",
            "_view_name": "StyleView",
            "description_width": ""
          }
        },
        "ecec8e0f4a584ed59b10eeb312bb85ee": {
          "model_module": "@jupyter-widgets/base",
          "model_name": "LayoutModel",
          "model_module_version": "1.2.0",
          "state": {
            "_model_module": "@jupyter-widgets/base",
            "_model_module_version": "1.2.0",
            "_model_name": "LayoutModel",
            "_view_count": null,
            "_view_module": "@jupyter-widgets/base",
            "_view_module_version": "1.2.0",
            "_view_name": "LayoutView",
            "align_content": null,
            "align_items": null,
            "align_self": null,
            "border": null,
            "bottom": null,
            "display": null,
            "flex": null,
            "flex_flow": null,
            "grid_area": null,
            "grid_auto_columns": null,
            "grid_auto_flow": null,
            "grid_auto_rows": null,
            "grid_column": null,
            "grid_gap": null,
            "grid_row": null,
            "grid_template_areas": null,
            "grid_template_columns": null,
            "grid_template_rows": null,
            "height": null,
            "justify_content": null,
            "justify_items": null,
            "left": null,
            "margin": null,
            "max_height": null,
            "max_width": null,
            "min_height": null,
            "min_width": null,
            "object_fit": null,
            "object_position": null,
            "order": null,
            "overflow": null,
            "overflow_x": null,
            "overflow_y": null,
            "padding": null,
            "right": null,
            "top": null,
            "visibility": null,
            "width": null
          }
        },
        "326a59bab61740afb8450b5193d3b823": {
          "model_module": "@jupyter-widgets/controls",
          "model_name": "ProgressStyleModel",
          "model_module_version": "1.5.0",
          "state": {
            "_model_module": "@jupyter-widgets/controls",
            "_model_module_version": "1.5.0",
            "_model_name": "ProgressStyleModel",
            "_view_count": null,
            "_view_module": "@jupyter-widgets/base",
            "_view_module_version": "1.2.0",
            "_view_name": "StyleView",
            "bar_color": null,
            "description_width": ""
          }
        },
        "32888986515c4f81ab457e2ced1365f4": {
          "model_module": "@jupyter-widgets/base",
          "model_name": "LayoutModel",
          "model_module_version": "1.2.0",
          "state": {
            "_model_module": "@jupyter-widgets/base",
            "_model_module_version": "1.2.0",
            "_model_name": "LayoutModel",
            "_view_count": null,
            "_view_module": "@jupyter-widgets/base",
            "_view_module_version": "1.2.0",
            "_view_name": "LayoutView",
            "align_content": null,
            "align_items": null,
            "align_self": null,
            "border": null,
            "bottom": null,
            "display": null,
            "flex": null,
            "flex_flow": null,
            "grid_area": null,
            "grid_auto_columns": null,
            "grid_auto_flow": null,
            "grid_auto_rows": null,
            "grid_column": null,
            "grid_gap": null,
            "grid_row": null,
            "grid_template_areas": null,
            "grid_template_columns": null,
            "grid_template_rows": null,
            "height": null,
            "justify_content": null,
            "justify_items": null,
            "left": null,
            "margin": null,
            "max_height": null,
            "max_width": null,
            "min_height": null,
            "min_width": null,
            "object_fit": null,
            "object_position": null,
            "order": null,
            "overflow": null,
            "overflow_x": null,
            "overflow_y": null,
            "padding": null,
            "right": null,
            "top": null,
            "visibility": null,
            "width": null
          }
        },
        "003eee006aa94b16a24bcf96c766665c": {
          "model_module": "@jupyter-widgets/controls",
          "model_name": "DescriptionStyleModel",
          "model_module_version": "1.5.0",
          "state": {
            "_model_module": "@jupyter-widgets/controls",
            "_model_module_version": "1.5.0",
            "_model_name": "DescriptionStyleModel",
            "_view_count": null,
            "_view_module": "@jupyter-widgets/base",
            "_view_module_version": "1.2.0",
            "_view_name": "StyleView",
            "description_width": ""
          }
        },
        "b3bc49f977a94591921c46dd5c9b0efb": {
          "model_module": "@jupyter-widgets/controls",
          "model_name": "HBoxModel",
          "model_module_version": "1.5.0",
          "state": {
            "_dom_classes": [],
            "_model_module": "@jupyter-widgets/controls",
            "_model_module_version": "1.5.0",
            "_model_name": "HBoxModel",
            "_view_count": null,
            "_view_module": "@jupyter-widgets/controls",
            "_view_module_version": "1.5.0",
            "_view_name": "HBoxView",
            "box_style": "",
            "children": [
              "IPY_MODEL_82d853ff678f4ceba02660e8a3fd7bb2",
              "IPY_MODEL_606e4824d0434079b032cf86aed5e7ba",
              "IPY_MODEL_126131676395488d9a9d33fc947f4c12"
            ],
            "layout": "IPY_MODEL_28d2fd5f761449178d0b528b3c847c0e"
          }
        },
        "82d853ff678f4ceba02660e8a3fd7bb2": {
          "model_module": "@jupyter-widgets/controls",
          "model_name": "HTMLModel",
          "model_module_version": "1.5.0",
          "state": {
            "_dom_classes": [],
            "_model_module": "@jupyter-widgets/controls",
            "_model_module_version": "1.5.0",
            "_model_name": "HTMLModel",
            "_view_count": null,
            "_view_module": "@jupyter-widgets/controls",
            "_view_module_version": "1.5.0",
            "_view_name": "HTMLView",
            "description": "",
            "description_tooltip": null,
            "layout": "IPY_MODEL_ff4638253dfc43bcb690ff38ce309805",
            "placeholder": "​",
            "style": "IPY_MODEL_f1be1b00ea8a4ca391cd061fc0f9dfb6",
            "value": "merges.txt: 100%"
          }
        },
        "606e4824d0434079b032cf86aed5e7ba": {
          "model_module": "@jupyter-widgets/controls",
          "model_name": "FloatProgressModel",
          "model_module_version": "1.5.0",
          "state": {
            "_dom_classes": [],
            "_model_module": "@jupyter-widgets/controls",
            "_model_module_version": "1.5.0",
            "_model_name": "FloatProgressModel",
            "_view_count": null,
            "_view_module": "@jupyter-widgets/controls",
            "_view_module_version": "1.5.0",
            "_view_name": "ProgressView",
            "bar_style": "success",
            "description": "",
            "description_tooltip": null,
            "layout": "IPY_MODEL_978050c046394ce98283d575d8011bb2",
            "max": 493869,
            "min": 0,
            "orientation": "horizontal",
            "style": "IPY_MODEL_82fca40307574fa9bd2153b539216d60",
            "value": 493869
          }
        },
        "126131676395488d9a9d33fc947f4c12": {
          "model_module": "@jupyter-widgets/controls",
          "model_name": "HTMLModel",
          "model_module_version": "1.5.0",
          "state": {
            "_dom_classes": [],
            "_model_module": "@jupyter-widgets/controls",
            "_model_module_version": "1.5.0",
            "_model_name": "HTMLModel",
            "_view_count": null,
            "_view_module": "@jupyter-widgets/controls",
            "_view_module_version": "1.5.0",
            "_view_name": "HTMLView",
            "description": "",
            "description_tooltip": null,
            "layout": "IPY_MODEL_f4d4f976dcec470e9d12723e82b436f2",
            "placeholder": "​",
            "style": "IPY_MODEL_31def0b8261c4839b45015d28848d61b",
            "value": " 494k/494k [00:00&lt;00:00, 1.18MB/s]"
          }
        },
        "28d2fd5f761449178d0b528b3c847c0e": {
          "model_module": "@jupyter-widgets/base",
          "model_name": "LayoutModel",
          "model_module_version": "1.2.0",
          "state": {
            "_model_module": "@jupyter-widgets/base",
            "_model_module_version": "1.2.0",
            "_model_name": "LayoutModel",
            "_view_count": null,
            "_view_module": "@jupyter-widgets/base",
            "_view_module_version": "1.2.0",
            "_view_name": "LayoutView",
            "align_content": null,
            "align_items": null,
            "align_self": null,
            "border": null,
            "bottom": null,
            "display": null,
            "flex": null,
            "flex_flow": null,
            "grid_area": null,
            "grid_auto_columns": null,
            "grid_auto_flow": null,
            "grid_auto_rows": null,
            "grid_column": null,
            "grid_gap": null,
            "grid_row": null,
            "grid_template_areas": null,
            "grid_template_columns": null,
            "grid_template_rows": null,
            "height": null,
            "justify_content": null,
            "justify_items": null,
            "left": null,
            "margin": null,
            "max_height": null,
            "max_width": null,
            "min_height": null,
            "min_width": null,
            "object_fit": null,
            "object_position": null,
            "order": null,
            "overflow": null,
            "overflow_x": null,
            "overflow_y": null,
            "padding": null,
            "right": null,
            "top": null,
            "visibility": null,
            "width": null
          }
        },
        "ff4638253dfc43bcb690ff38ce309805": {
          "model_module": "@jupyter-widgets/base",
          "model_name": "LayoutModel",
          "model_module_version": "1.2.0",
          "state": {
            "_model_module": "@jupyter-widgets/base",
            "_model_module_version": "1.2.0",
            "_model_name": "LayoutModel",
            "_view_count": null,
            "_view_module": "@jupyter-widgets/base",
            "_view_module_version": "1.2.0",
            "_view_name": "LayoutView",
            "align_content": null,
            "align_items": null,
            "align_self": null,
            "border": null,
            "bottom": null,
            "display": null,
            "flex": null,
            "flex_flow": null,
            "grid_area": null,
            "grid_auto_columns": null,
            "grid_auto_flow": null,
            "grid_auto_rows": null,
            "grid_column": null,
            "grid_gap": null,
            "grid_row": null,
            "grid_template_areas": null,
            "grid_template_columns": null,
            "grid_template_rows": null,
            "height": null,
            "justify_content": null,
            "justify_items": null,
            "left": null,
            "margin": null,
            "max_height": null,
            "max_width": null,
            "min_height": null,
            "min_width": null,
            "object_fit": null,
            "object_position": null,
            "order": null,
            "overflow": null,
            "overflow_x": null,
            "overflow_y": null,
            "padding": null,
            "right": null,
            "top": null,
            "visibility": null,
            "width": null
          }
        },
        "f1be1b00ea8a4ca391cd061fc0f9dfb6": {
          "model_module": "@jupyter-widgets/controls",
          "model_name": "DescriptionStyleModel",
          "model_module_version": "1.5.0",
          "state": {
            "_model_module": "@jupyter-widgets/controls",
            "_model_module_version": "1.5.0",
            "_model_name": "DescriptionStyleModel",
            "_view_count": null,
            "_view_module": "@jupyter-widgets/base",
            "_view_module_version": "1.2.0",
            "_view_name": "StyleView",
            "description_width": ""
          }
        },
        "978050c046394ce98283d575d8011bb2": {
          "model_module": "@jupyter-widgets/base",
          "model_name": "LayoutModel",
          "model_module_version": "1.2.0",
          "state": {
            "_model_module": "@jupyter-widgets/base",
            "_model_module_version": "1.2.0",
            "_model_name": "LayoutModel",
            "_view_count": null,
            "_view_module": "@jupyter-widgets/base",
            "_view_module_version": "1.2.0",
            "_view_name": "LayoutView",
            "align_content": null,
            "align_items": null,
            "align_self": null,
            "border": null,
            "bottom": null,
            "display": null,
            "flex": null,
            "flex_flow": null,
            "grid_area": null,
            "grid_auto_columns": null,
            "grid_auto_flow": null,
            "grid_auto_rows": null,
            "grid_column": null,
            "grid_gap": null,
            "grid_row": null,
            "grid_template_areas": null,
            "grid_template_columns": null,
            "grid_template_rows": null,
            "height": null,
            "justify_content": null,
            "justify_items": null,
            "left": null,
            "margin": null,
            "max_height": null,
            "max_width": null,
            "min_height": null,
            "min_width": null,
            "object_fit": null,
            "object_position": null,
            "order": null,
            "overflow": null,
            "overflow_x": null,
            "overflow_y": null,
            "padding": null,
            "right": null,
            "top": null,
            "visibility": null,
            "width": null
          }
        },
        "82fca40307574fa9bd2153b539216d60": {
          "model_module": "@jupyter-widgets/controls",
          "model_name": "ProgressStyleModel",
          "model_module_version": "1.5.0",
          "state": {
            "_model_module": "@jupyter-widgets/controls",
            "_model_module_version": "1.5.0",
            "_model_name": "ProgressStyleModel",
            "_view_count": null,
            "_view_module": "@jupyter-widgets/base",
            "_view_module_version": "1.2.0",
            "_view_name": "StyleView",
            "bar_color": null,
            "description_width": ""
          }
        },
        "f4d4f976dcec470e9d12723e82b436f2": {
          "model_module": "@jupyter-widgets/base",
          "model_name": "LayoutModel",
          "model_module_version": "1.2.0",
          "state": {
            "_model_module": "@jupyter-widgets/base",
            "_model_module_version": "1.2.0",
            "_model_name": "LayoutModel",
            "_view_count": null,
            "_view_module": "@jupyter-widgets/base",
            "_view_module_version": "1.2.0",
            "_view_name": "LayoutView",
            "align_content": null,
            "align_items": null,
            "align_self": null,
            "border": null,
            "bottom": null,
            "display": null,
            "flex": null,
            "flex_flow": null,
            "grid_area": null,
            "grid_auto_columns": null,
            "grid_auto_flow": null,
            "grid_auto_rows": null,
            "grid_column": null,
            "grid_gap": null,
            "grid_row": null,
            "grid_template_areas": null,
            "grid_template_columns": null,
            "grid_template_rows": null,
            "height": null,
            "justify_content": null,
            "justify_items": null,
            "left": null,
            "margin": null,
            "max_height": null,
            "max_width": null,
            "min_height": null,
            "min_width": null,
            "object_fit": null,
            "object_position": null,
            "order": null,
            "overflow": null,
            "overflow_x": null,
            "overflow_y": null,
            "padding": null,
            "right": null,
            "top": null,
            "visibility": null,
            "width": null
          }
        },
        "31def0b8261c4839b45015d28848d61b": {
          "model_module": "@jupyter-widgets/controls",
          "model_name": "DescriptionStyleModel",
          "model_module_version": "1.5.0",
          "state": {
            "_model_module": "@jupyter-widgets/controls",
            "_model_module_version": "1.5.0",
            "_model_name": "DescriptionStyleModel",
            "_view_count": null,
            "_view_module": "@jupyter-widgets/base",
            "_view_module_version": "1.2.0",
            "_view_name": "StyleView",
            "description_width": ""
          }
        },
        "c677ba15ce464fba9568436592de0d68": {
          "model_module": "@jupyter-widgets/controls",
          "model_name": "HBoxModel",
          "model_module_version": "1.5.0",
          "state": {
            "_dom_classes": [],
            "_model_module": "@jupyter-widgets/controls",
            "_model_module_version": "1.5.0",
            "_model_name": "HBoxModel",
            "_view_count": null,
            "_view_module": "@jupyter-widgets/controls",
            "_view_module_version": "1.5.0",
            "_view_name": "HBoxView",
            "box_style": "",
            "children": [
              "IPY_MODEL_302488bab7674ef0b9e20754f678f607",
              "IPY_MODEL_ad57ff959180475092b6fd4d415654d3",
              "IPY_MODEL_1f0b28c7d45846a29a50dc6e6b1832d9"
            ],
            "layout": "IPY_MODEL_11a10531fea84841b9c960c1b4ca1b7f"
          }
        },
        "302488bab7674ef0b9e20754f678f607": {
          "model_module": "@jupyter-widgets/controls",
          "model_name": "HTMLModel",
          "model_module_version": "1.5.0",
          "state": {
            "_dom_classes": [],
            "_model_module": "@jupyter-widgets/controls",
            "_model_module_version": "1.5.0",
            "_model_name": "HTMLModel",
            "_view_count": null,
            "_view_module": "@jupyter-widgets/controls",
            "_view_module_version": "1.5.0",
            "_view_name": "HTMLView",
            "description": "",
            "description_tooltip": null,
            "layout": "IPY_MODEL_6b324487d0e94ef7a4e01c677f9cc173",
            "placeholder": "​",
            "style": "IPY_MODEL_185c024f8c084dfa994d562048979061",
            "value": "normalizer.json: 100%"
          }
        },
        "ad57ff959180475092b6fd4d415654d3": {
          "model_module": "@jupyter-widgets/controls",
          "model_name": "FloatProgressModel",
          "model_module_version": "1.5.0",
          "state": {
            "_dom_classes": [],
            "_model_module": "@jupyter-widgets/controls",
            "_model_module_version": "1.5.0",
            "_model_name": "FloatProgressModel",
            "_view_count": null,
            "_view_module": "@jupyter-widgets/controls",
            "_view_module_version": "1.5.0",
            "_view_name": "ProgressView",
            "bar_style": "success",
            "description": "",
            "description_tooltip": null,
            "layout": "IPY_MODEL_b8a5912536df4ca9b0aa4e4e7cd9a845",
            "max": 52666,
            "min": 0,
            "orientation": "horizontal",
            "style": "IPY_MODEL_f7df6437ab3f49f0b5d7f53c5e1c92ba",
            "value": 52666
          }
        },
        "1f0b28c7d45846a29a50dc6e6b1832d9": {
          "model_module": "@jupyter-widgets/controls",
          "model_name": "HTMLModel",
          "model_module_version": "1.5.0",
          "state": {
            "_dom_classes": [],
            "_model_module": "@jupyter-widgets/controls",
            "_model_module_version": "1.5.0",
            "_model_name": "HTMLModel",
            "_view_count": null,
            "_view_module": "@jupyter-widgets/controls",
            "_view_module_version": "1.5.0",
            "_view_name": "HTMLView",
            "description": "",
            "description_tooltip": null,
            "layout": "IPY_MODEL_1b7d9dd4e9eb4d4382be8a98363b00db",
            "placeholder": "​",
            "style": "IPY_MODEL_9007f7430dae4f14945132845c16d689",
            "value": " 52.7k/52.7k [00:00&lt;00:00, 2.84MB/s]"
          }
        },
        "11a10531fea84841b9c960c1b4ca1b7f": {
          "model_module": "@jupyter-widgets/base",
          "model_name": "LayoutModel",
          "model_module_version": "1.2.0",
          "state": {
            "_model_module": "@jupyter-widgets/base",
            "_model_module_version": "1.2.0",
            "_model_name": "LayoutModel",
            "_view_count": null,
            "_view_module": "@jupyter-widgets/base",
            "_view_module_version": "1.2.0",
            "_view_name": "LayoutView",
            "align_content": null,
            "align_items": null,
            "align_self": null,
            "border": null,
            "bottom": null,
            "display": null,
            "flex": null,
            "flex_flow": null,
            "grid_area": null,
            "grid_auto_columns": null,
            "grid_auto_flow": null,
            "grid_auto_rows": null,
            "grid_column": null,
            "grid_gap": null,
            "grid_row": null,
            "grid_template_areas": null,
            "grid_template_columns": null,
            "grid_template_rows": null,
            "height": null,
            "justify_content": null,
            "justify_items": null,
            "left": null,
            "margin": null,
            "max_height": null,
            "max_width": null,
            "min_height": null,
            "min_width": null,
            "object_fit": null,
            "object_position": null,
            "order": null,
            "overflow": null,
            "overflow_x": null,
            "overflow_y": null,
            "padding": null,
            "right": null,
            "top": null,
            "visibility": null,
            "width": null
          }
        },
        "6b324487d0e94ef7a4e01c677f9cc173": {
          "model_module": "@jupyter-widgets/base",
          "model_name": "LayoutModel",
          "model_module_version": "1.2.0",
          "state": {
            "_model_module": "@jupyter-widgets/base",
            "_model_module_version": "1.2.0",
            "_model_name": "LayoutModel",
            "_view_count": null,
            "_view_module": "@jupyter-widgets/base",
            "_view_module_version": "1.2.0",
            "_view_name": "LayoutView",
            "align_content": null,
            "align_items": null,
            "align_self": null,
            "border": null,
            "bottom": null,
            "display": null,
            "flex": null,
            "flex_flow": null,
            "grid_area": null,
            "grid_auto_columns": null,
            "grid_auto_flow": null,
            "grid_auto_rows": null,
            "grid_column": null,
            "grid_gap": null,
            "grid_row": null,
            "grid_template_areas": null,
            "grid_template_columns": null,
            "grid_template_rows": null,
            "height": null,
            "justify_content": null,
            "justify_items": null,
            "left": null,
            "margin": null,
            "max_height": null,
            "max_width": null,
            "min_height": null,
            "min_width": null,
            "object_fit": null,
            "object_position": null,
            "order": null,
            "overflow": null,
            "overflow_x": null,
            "overflow_y": null,
            "padding": null,
            "right": null,
            "top": null,
            "visibility": null,
            "width": null
          }
        },
        "185c024f8c084dfa994d562048979061": {
          "model_module": "@jupyter-widgets/controls",
          "model_name": "DescriptionStyleModel",
          "model_module_version": "1.5.0",
          "state": {
            "_model_module": "@jupyter-widgets/controls",
            "_model_module_version": "1.5.0",
            "_model_name": "DescriptionStyleModel",
            "_view_count": null,
            "_view_module": "@jupyter-widgets/base",
            "_view_module_version": "1.2.0",
            "_view_name": "StyleView",
            "description_width": ""
          }
        },
        "b8a5912536df4ca9b0aa4e4e7cd9a845": {
          "model_module": "@jupyter-widgets/base",
          "model_name": "LayoutModel",
          "model_module_version": "1.2.0",
          "state": {
            "_model_module": "@jupyter-widgets/base",
            "_model_module_version": "1.2.0",
            "_model_name": "LayoutModel",
            "_view_count": null,
            "_view_module": "@jupyter-widgets/base",
            "_view_module_version": "1.2.0",
            "_view_name": "LayoutView",
            "align_content": null,
            "align_items": null,
            "align_self": null,
            "border": null,
            "bottom": null,
            "display": null,
            "flex": null,
            "flex_flow": null,
            "grid_area": null,
            "grid_auto_columns": null,
            "grid_auto_flow": null,
            "grid_auto_rows": null,
            "grid_column": null,
            "grid_gap": null,
            "grid_row": null,
            "grid_template_areas": null,
            "grid_template_columns": null,
            "grid_template_rows": null,
            "height": null,
            "justify_content": null,
            "justify_items": null,
            "left": null,
            "margin": null,
            "max_height": null,
            "max_width": null,
            "min_height": null,
            "min_width": null,
            "object_fit": null,
            "object_position": null,
            "order": null,
            "overflow": null,
            "overflow_x": null,
            "overflow_y": null,
            "padding": null,
            "right": null,
            "top": null,
            "visibility": null,
            "width": null
          }
        },
        "f7df6437ab3f49f0b5d7f53c5e1c92ba": {
          "model_module": "@jupyter-widgets/controls",
          "model_name": "ProgressStyleModel",
          "model_module_version": "1.5.0",
          "state": {
            "_model_module": "@jupyter-widgets/controls",
            "_model_module_version": "1.5.0",
            "_model_name": "ProgressStyleModel",
            "_view_count": null,
            "_view_module": "@jupyter-widgets/base",
            "_view_module_version": "1.2.0",
            "_view_name": "StyleView",
            "bar_color": null,
            "description_width": ""
          }
        },
        "1b7d9dd4e9eb4d4382be8a98363b00db": {
          "model_module": "@jupyter-widgets/base",
          "model_name": "LayoutModel",
          "model_module_version": "1.2.0",
          "state": {
            "_model_module": "@jupyter-widgets/base",
            "_model_module_version": "1.2.0",
            "_model_name": "LayoutModel",
            "_view_count": null,
            "_view_module": "@jupyter-widgets/base",
            "_view_module_version": "1.2.0",
            "_view_name": "LayoutView",
            "align_content": null,
            "align_items": null,
            "align_self": null,
            "border": null,
            "bottom": null,
            "display": null,
            "flex": null,
            "flex_flow": null,
            "grid_area": null,
            "grid_auto_columns": null,
            "grid_auto_flow": null,
            "grid_auto_rows": null,
            "grid_column": null,
            "grid_gap": null,
            "grid_row": null,
            "grid_template_areas": null,
            "grid_template_columns": null,
            "grid_template_rows": null,
            "height": null,
            "justify_content": null,
            "justify_items": null,
            "left": null,
            "margin": null,
            "max_height": null,
            "max_width": null,
            "min_height": null,
            "min_width": null,
            "object_fit": null,
            "object_position": null,
            "order": null,
            "overflow": null,
            "overflow_x": null,
            "overflow_y": null,
            "padding": null,
            "right": null,
            "top": null,
            "visibility": null,
            "width": null
          }
        },
        "9007f7430dae4f14945132845c16d689": {
          "model_module": "@jupyter-widgets/controls",
          "model_name": "DescriptionStyleModel",
          "model_module_version": "1.5.0",
          "state": {
            "_model_module": "@jupyter-widgets/controls",
            "_model_module_version": "1.5.0",
            "_model_name": "DescriptionStyleModel",
            "_view_count": null,
            "_view_module": "@jupyter-widgets/base",
            "_view_module_version": "1.2.0",
            "_view_name": "StyleView",
            "description_width": ""
          }
        },
        "b89c38dd8be1451a8139cc3c837be542": {
          "model_module": "@jupyter-widgets/controls",
          "model_name": "HBoxModel",
          "model_module_version": "1.5.0",
          "state": {
            "_dom_classes": [],
            "_model_module": "@jupyter-widgets/controls",
            "_model_module_version": "1.5.0",
            "_model_name": "HBoxModel",
            "_view_count": null,
            "_view_module": "@jupyter-widgets/controls",
            "_view_module_version": "1.5.0",
            "_view_name": "HBoxView",
            "box_style": "",
            "children": [
              "IPY_MODEL_0342daf4077d417b924be7c5d1b9a177",
              "IPY_MODEL_f092a14d9bb04e608d9e64bc0a2b5909",
              "IPY_MODEL_608d751346cd4b6ba91fb5f22a579881"
            ],
            "layout": "IPY_MODEL_b8fb6d675d454f2bac84d8ef06319ab3"
          }
        },
        "0342daf4077d417b924be7c5d1b9a177": {
          "model_module": "@jupyter-widgets/controls",
          "model_name": "HTMLModel",
          "model_module_version": "1.5.0",
          "state": {
            "_dom_classes": [],
            "_model_module": "@jupyter-widgets/controls",
            "_model_module_version": "1.5.0",
            "_model_name": "HTMLModel",
            "_view_count": null,
            "_view_module": "@jupyter-widgets/controls",
            "_view_module_version": "1.5.0",
            "_view_name": "HTMLView",
            "description": "",
            "description_tooltip": null,
            "layout": "IPY_MODEL_22f5e3c1491346e3a36c9ebb265c333b",
            "placeholder": "​",
            "style": "IPY_MODEL_ee75637141c84ed6b2264946d6a79924",
            "value": "added_tokens.json: 100%"
          }
        },
        "f092a14d9bb04e608d9e64bc0a2b5909": {
          "model_module": "@jupyter-widgets/controls",
          "model_name": "FloatProgressModel",
          "model_module_version": "1.5.0",
          "state": {
            "_dom_classes": [],
            "_model_module": "@jupyter-widgets/controls",
            "_model_module_version": "1.5.0",
            "_model_name": "FloatProgressModel",
            "_view_count": null,
            "_view_module": "@jupyter-widgets/controls",
            "_view_module_version": "1.5.0",
            "_view_name": "ProgressView",
            "bar_style": "success",
            "description": "",
            "description_tooltip": null,
            "layout": "IPY_MODEL_722a4c58994542ecac2005fa6d93d5a2",
            "max": 34604,
            "min": 0,
            "orientation": "horizontal",
            "style": "IPY_MODEL_75a39a2ff3cd49f19a698d8810a09a19",
            "value": 34604
          }
        },
        "608d751346cd4b6ba91fb5f22a579881": {
          "model_module": "@jupyter-widgets/controls",
          "model_name": "HTMLModel",
          "model_module_version": "1.5.0",
          "state": {
            "_dom_classes": [],
            "_model_module": "@jupyter-widgets/controls",
            "_model_module_version": "1.5.0",
            "_model_name": "HTMLModel",
            "_view_count": null,
            "_view_module": "@jupyter-widgets/controls",
            "_view_module_version": "1.5.0",
            "_view_name": "HTMLView",
            "description": "",
            "description_tooltip": null,
            "layout": "IPY_MODEL_cdd2437707b244b9bbb04f4cb8e0e804",
            "placeholder": "​",
            "style": "IPY_MODEL_9a2a6dea903248d9b5e89ca421155d3d",
            "value": " 34.6k/34.6k [00:00&lt;00:00, 3.06MB/s]"
          }
        },
        "b8fb6d675d454f2bac84d8ef06319ab3": {
          "model_module": "@jupyter-widgets/base",
          "model_name": "LayoutModel",
          "model_module_version": "1.2.0",
          "state": {
            "_model_module": "@jupyter-widgets/base",
            "_model_module_version": "1.2.0",
            "_model_name": "LayoutModel",
            "_view_count": null,
            "_view_module": "@jupyter-widgets/base",
            "_view_module_version": "1.2.0",
            "_view_name": "LayoutView",
            "align_content": null,
            "align_items": null,
            "align_self": null,
            "border": null,
            "bottom": null,
            "display": null,
            "flex": null,
            "flex_flow": null,
            "grid_area": null,
            "grid_auto_columns": null,
            "grid_auto_flow": null,
            "grid_auto_rows": null,
            "grid_column": null,
            "grid_gap": null,
            "grid_row": null,
            "grid_template_areas": null,
            "grid_template_columns": null,
            "grid_template_rows": null,
            "height": null,
            "justify_content": null,
            "justify_items": null,
            "left": null,
            "margin": null,
            "max_height": null,
            "max_width": null,
            "min_height": null,
            "min_width": null,
            "object_fit": null,
            "object_position": null,
            "order": null,
            "overflow": null,
            "overflow_x": null,
            "overflow_y": null,
            "padding": null,
            "right": null,
            "top": null,
            "visibility": null,
            "width": null
          }
        },
        "22f5e3c1491346e3a36c9ebb265c333b": {
          "model_module": "@jupyter-widgets/base",
          "model_name": "LayoutModel",
          "model_module_version": "1.2.0",
          "state": {
            "_model_module": "@jupyter-widgets/base",
            "_model_module_version": "1.2.0",
            "_model_name": "LayoutModel",
            "_view_count": null,
            "_view_module": "@jupyter-widgets/base",
            "_view_module_version": "1.2.0",
            "_view_name": "LayoutView",
            "align_content": null,
            "align_items": null,
            "align_self": null,
            "border": null,
            "bottom": null,
            "display": null,
            "flex": null,
            "flex_flow": null,
            "grid_area": null,
            "grid_auto_columns": null,
            "grid_auto_flow": null,
            "grid_auto_rows": null,
            "grid_column": null,
            "grid_gap": null,
            "grid_row": null,
            "grid_template_areas": null,
            "grid_template_columns": null,
            "grid_template_rows": null,
            "height": null,
            "justify_content": null,
            "justify_items": null,
            "left": null,
            "margin": null,
            "max_height": null,
            "max_width": null,
            "min_height": null,
            "min_width": null,
            "object_fit": null,
            "object_position": null,
            "order": null,
            "overflow": null,
            "overflow_x": null,
            "overflow_y": null,
            "padding": null,
            "right": null,
            "top": null,
            "visibility": null,
            "width": null
          }
        },
        "ee75637141c84ed6b2264946d6a79924": {
          "model_module": "@jupyter-widgets/controls",
          "model_name": "DescriptionStyleModel",
          "model_module_version": "1.5.0",
          "state": {
            "_model_module": "@jupyter-widgets/controls",
            "_model_module_version": "1.5.0",
            "_model_name": "DescriptionStyleModel",
            "_view_count": null,
            "_view_module": "@jupyter-widgets/base",
            "_view_module_version": "1.2.0",
            "_view_name": "StyleView",
            "description_width": ""
          }
        },
        "722a4c58994542ecac2005fa6d93d5a2": {
          "model_module": "@jupyter-widgets/base",
          "model_name": "LayoutModel",
          "model_module_version": "1.2.0",
          "state": {
            "_model_module": "@jupyter-widgets/base",
            "_model_module_version": "1.2.0",
            "_model_name": "LayoutModel",
            "_view_count": null,
            "_view_module": "@jupyter-widgets/base",
            "_view_module_version": "1.2.0",
            "_view_name": "LayoutView",
            "align_content": null,
            "align_items": null,
            "align_self": null,
            "border": null,
            "bottom": null,
            "display": null,
            "flex": null,
            "flex_flow": null,
            "grid_area": null,
            "grid_auto_columns": null,
            "grid_auto_flow": null,
            "grid_auto_rows": null,
            "grid_column": null,
            "grid_gap": null,
            "grid_row": null,
            "grid_template_areas": null,
            "grid_template_columns": null,
            "grid_template_rows": null,
            "height": null,
            "justify_content": null,
            "justify_items": null,
            "left": null,
            "margin": null,
            "max_height": null,
            "max_width": null,
            "min_height": null,
            "min_width": null,
            "object_fit": null,
            "object_position": null,
            "order": null,
            "overflow": null,
            "overflow_x": null,
            "overflow_y": null,
            "padding": null,
            "right": null,
            "top": null,
            "visibility": null,
            "width": null
          }
        },
        "75a39a2ff3cd49f19a698d8810a09a19": {
          "model_module": "@jupyter-widgets/controls",
          "model_name": "ProgressStyleModel",
          "model_module_version": "1.5.0",
          "state": {
            "_model_module": "@jupyter-widgets/controls",
            "_model_module_version": "1.5.0",
            "_model_name": "ProgressStyleModel",
            "_view_count": null,
            "_view_module": "@jupyter-widgets/base",
            "_view_module_version": "1.2.0",
            "_view_name": "StyleView",
            "bar_color": null,
            "description_width": ""
          }
        },
        "cdd2437707b244b9bbb04f4cb8e0e804": {
          "model_module": "@jupyter-widgets/base",
          "model_name": "LayoutModel",
          "model_module_version": "1.2.0",
          "state": {
            "_model_module": "@jupyter-widgets/base",
            "_model_module_version": "1.2.0",
            "_model_name": "LayoutModel",
            "_view_count": null,
            "_view_module": "@jupyter-widgets/base",
            "_view_module_version": "1.2.0",
            "_view_name": "LayoutView",
            "align_content": null,
            "align_items": null,
            "align_self": null,
            "border": null,
            "bottom": null,
            "display": null,
            "flex": null,
            "flex_flow": null,
            "grid_area": null,
            "grid_auto_columns": null,
            "grid_auto_flow": null,
            "grid_auto_rows": null,
            "grid_column": null,
            "grid_gap": null,
            "grid_row": null,
            "grid_template_areas": null,
            "grid_template_columns": null,
            "grid_template_rows": null,
            "height": null,
            "justify_content": null,
            "justify_items": null,
            "left": null,
            "margin": null,
            "max_height": null,
            "max_width": null,
            "min_height": null,
            "min_width": null,
            "object_fit": null,
            "object_position": null,
            "order": null,
            "overflow": null,
            "overflow_x": null,
            "overflow_y": null,
            "padding": null,
            "right": null,
            "top": null,
            "visibility": null,
            "width": null
          }
        },
        "9a2a6dea903248d9b5e89ca421155d3d": {
          "model_module": "@jupyter-widgets/controls",
          "model_name": "DescriptionStyleModel",
          "model_module_version": "1.5.0",
          "state": {
            "_model_module": "@jupyter-widgets/controls",
            "_model_module_version": "1.5.0",
            "_model_name": "DescriptionStyleModel",
            "_view_count": null,
            "_view_module": "@jupyter-widgets/base",
            "_view_module_version": "1.2.0",
            "_view_name": "StyleView",
            "description_width": ""
          }
        },
        "964361a31d0a48b28b040f49fcacc926": {
          "model_module": "@jupyter-widgets/controls",
          "model_name": "HBoxModel",
          "model_module_version": "1.5.0",
          "state": {
            "_dom_classes": [],
            "_model_module": "@jupyter-widgets/controls",
            "_model_module_version": "1.5.0",
            "_model_name": "HBoxModel",
            "_view_count": null,
            "_view_module": "@jupyter-widgets/controls",
            "_view_module_version": "1.5.0",
            "_view_name": "HBoxView",
            "box_style": "",
            "children": [
              "IPY_MODEL_f86d2dd5932548deb6a16697e03546e2",
              "IPY_MODEL_8978374f983f4a7ab7d5db73e384985c",
              "IPY_MODEL_7103be24d90f4433b6aa9cffa0125ef6"
            ],
            "layout": "IPY_MODEL_6180f5cde0d54c26ad3f0110a56f2d99"
          }
        },
        "f86d2dd5932548deb6a16697e03546e2": {
          "model_module": "@jupyter-widgets/controls",
          "model_name": "HTMLModel",
          "model_module_version": "1.5.0",
          "state": {
            "_dom_classes": [],
            "_model_module": "@jupyter-widgets/controls",
            "_model_module_version": "1.5.0",
            "_model_name": "HTMLModel",
            "_view_count": null,
            "_view_module": "@jupyter-widgets/controls",
            "_view_module_version": "1.5.0",
            "_view_name": "HTMLView",
            "description": "",
            "description_tooltip": null,
            "layout": "IPY_MODEL_fc42c3bf3d5d49ed9db6a3f8cb717510",
            "placeholder": "​",
            "style": "IPY_MODEL_d8e4a6ad18d3436b9fc2646dcc9601f4",
            "value": "special_tokens_map.json: 100%"
          }
        },
        "8978374f983f4a7ab7d5db73e384985c": {
          "model_module": "@jupyter-widgets/controls",
          "model_name": "FloatProgressModel",
          "model_module_version": "1.5.0",
          "state": {
            "_dom_classes": [],
            "_model_module": "@jupyter-widgets/controls",
            "_model_module_version": "1.5.0",
            "_model_name": "FloatProgressModel",
            "_view_count": null,
            "_view_module": "@jupyter-widgets/controls",
            "_view_module_version": "1.5.0",
            "_view_name": "ProgressView",
            "bar_style": "success",
            "description": "",
            "description_tooltip": null,
            "layout": "IPY_MODEL_b7e8f80d11cb4d649d01580864bd4028",
            "max": 2194,
            "min": 0,
            "orientation": "horizontal",
            "style": "IPY_MODEL_5ba2ea9fe1494152b4f3b936b1ef548d",
            "value": 2194
          }
        },
        "7103be24d90f4433b6aa9cffa0125ef6": {
          "model_module": "@jupyter-widgets/controls",
          "model_name": "HTMLModel",
          "model_module_version": "1.5.0",
          "state": {
            "_dom_classes": [],
            "_model_module": "@jupyter-widgets/controls",
            "_model_module_version": "1.5.0",
            "_model_name": "HTMLModel",
            "_view_count": null,
            "_view_module": "@jupyter-widgets/controls",
            "_view_module_version": "1.5.0",
            "_view_name": "HTMLView",
            "description": "",
            "description_tooltip": null,
            "layout": "IPY_MODEL_8ae873026ea54dbcb0e995910510311f",
            "placeholder": "​",
            "style": "IPY_MODEL_69c33b1365dc48fe829c2ba003637b4e",
            "value": " 2.19k/2.19k [00:00&lt;00:00, 139kB/s]"
          }
        },
        "6180f5cde0d54c26ad3f0110a56f2d99": {
          "model_module": "@jupyter-widgets/base",
          "model_name": "LayoutModel",
          "model_module_version": "1.2.0",
          "state": {
            "_model_module": "@jupyter-widgets/base",
            "_model_module_version": "1.2.0",
            "_model_name": "LayoutModel",
            "_view_count": null,
            "_view_module": "@jupyter-widgets/base",
            "_view_module_version": "1.2.0",
            "_view_name": "LayoutView",
            "align_content": null,
            "align_items": null,
            "align_self": null,
            "border": null,
            "bottom": null,
            "display": null,
            "flex": null,
            "flex_flow": null,
            "grid_area": null,
            "grid_auto_columns": null,
            "grid_auto_flow": null,
            "grid_auto_rows": null,
            "grid_column": null,
            "grid_gap": null,
            "grid_row": null,
            "grid_template_areas": null,
            "grid_template_columns": null,
            "grid_template_rows": null,
            "height": null,
            "justify_content": null,
            "justify_items": null,
            "left": null,
            "margin": null,
            "max_height": null,
            "max_width": null,
            "min_height": null,
            "min_width": null,
            "object_fit": null,
            "object_position": null,
            "order": null,
            "overflow": null,
            "overflow_x": null,
            "overflow_y": null,
            "padding": null,
            "right": null,
            "top": null,
            "visibility": null,
            "width": null
          }
        },
        "fc42c3bf3d5d49ed9db6a3f8cb717510": {
          "model_module": "@jupyter-widgets/base",
          "model_name": "LayoutModel",
          "model_module_version": "1.2.0",
          "state": {
            "_model_module": "@jupyter-widgets/base",
            "_model_module_version": "1.2.0",
            "_model_name": "LayoutModel",
            "_view_count": null,
            "_view_module": "@jupyter-widgets/base",
            "_view_module_version": "1.2.0",
            "_view_name": "LayoutView",
            "align_content": null,
            "align_items": null,
            "align_self": null,
            "border": null,
            "bottom": null,
            "display": null,
            "flex": null,
            "flex_flow": null,
            "grid_area": null,
            "grid_auto_columns": null,
            "grid_auto_flow": null,
            "grid_auto_rows": null,
            "grid_column": null,
            "grid_gap": null,
            "grid_row": null,
            "grid_template_areas": null,
            "grid_template_columns": null,
            "grid_template_rows": null,
            "height": null,
            "justify_content": null,
            "justify_items": null,
            "left": null,
            "margin": null,
            "max_height": null,
            "max_width": null,
            "min_height": null,
            "min_width": null,
            "object_fit": null,
            "object_position": null,
            "order": null,
            "overflow": null,
            "overflow_x": null,
            "overflow_y": null,
            "padding": null,
            "right": null,
            "top": null,
            "visibility": null,
            "width": null
          }
        },
        "d8e4a6ad18d3436b9fc2646dcc9601f4": {
          "model_module": "@jupyter-widgets/controls",
          "model_name": "DescriptionStyleModel",
          "model_module_version": "1.5.0",
          "state": {
            "_model_module": "@jupyter-widgets/controls",
            "_model_module_version": "1.5.0",
            "_model_name": "DescriptionStyleModel",
            "_view_count": null,
            "_view_module": "@jupyter-widgets/base",
            "_view_module_version": "1.2.0",
            "_view_name": "StyleView",
            "description_width": ""
          }
        },
        "b7e8f80d11cb4d649d01580864bd4028": {
          "model_module": "@jupyter-widgets/base",
          "model_name": "LayoutModel",
          "model_module_version": "1.2.0",
          "state": {
            "_model_module": "@jupyter-widgets/base",
            "_model_module_version": "1.2.0",
            "_model_name": "LayoutModel",
            "_view_count": null,
            "_view_module": "@jupyter-widgets/base",
            "_view_module_version": "1.2.0",
            "_view_name": "LayoutView",
            "align_content": null,
            "align_items": null,
            "align_self": null,
            "border": null,
            "bottom": null,
            "display": null,
            "flex": null,
            "flex_flow": null,
            "grid_area": null,
            "grid_auto_columns": null,
            "grid_auto_flow": null,
            "grid_auto_rows": null,
            "grid_column": null,
            "grid_gap": null,
            "grid_row": null,
            "grid_template_areas": null,
            "grid_template_columns": null,
            "grid_template_rows": null,
            "height": null,
            "justify_content": null,
            "justify_items": null,
            "left": null,
            "margin": null,
            "max_height": null,
            "max_width": null,
            "min_height": null,
            "min_width": null,
            "object_fit": null,
            "object_position": null,
            "order": null,
            "overflow": null,
            "overflow_x": null,
            "overflow_y": null,
            "padding": null,
            "right": null,
            "top": null,
            "visibility": null,
            "width": null
          }
        },
        "5ba2ea9fe1494152b4f3b936b1ef548d": {
          "model_module": "@jupyter-widgets/controls",
          "model_name": "ProgressStyleModel",
          "model_module_version": "1.5.0",
          "state": {
            "_model_module": "@jupyter-widgets/controls",
            "_model_module_version": "1.5.0",
            "_model_name": "ProgressStyleModel",
            "_view_count": null,
            "_view_module": "@jupyter-widgets/base",
            "_view_module_version": "1.2.0",
            "_view_name": "StyleView",
            "bar_color": null,
            "description_width": ""
          }
        },
        "8ae873026ea54dbcb0e995910510311f": {
          "model_module": "@jupyter-widgets/base",
          "model_name": "LayoutModel",
          "model_module_version": "1.2.0",
          "state": {
            "_model_module": "@jupyter-widgets/base",
            "_model_module_version": "1.2.0",
            "_model_name": "LayoutModel",
            "_view_count": null,
            "_view_module": "@jupyter-widgets/base",
            "_view_module_version": "1.2.0",
            "_view_name": "LayoutView",
            "align_content": null,
            "align_items": null,
            "align_self": null,
            "border": null,
            "bottom": null,
            "display": null,
            "flex": null,
            "flex_flow": null,
            "grid_area": null,
            "grid_auto_columns": null,
            "grid_auto_flow": null,
            "grid_auto_rows": null,
            "grid_column": null,
            "grid_gap": null,
            "grid_row": null,
            "grid_template_areas": null,
            "grid_template_columns": null,
            "grid_template_rows": null,
            "height": null,
            "justify_content": null,
            "justify_items": null,
            "left": null,
            "margin": null,
            "max_height": null,
            "max_width": null,
            "min_height": null,
            "min_width": null,
            "object_fit": null,
            "object_position": null,
            "order": null,
            "overflow": null,
            "overflow_x": null,
            "overflow_y": null,
            "padding": null,
            "right": null,
            "top": null,
            "visibility": null,
            "width": null
          }
        },
        "69c33b1365dc48fe829c2ba003637b4e": {
          "model_module": "@jupyter-widgets/controls",
          "model_name": "DescriptionStyleModel",
          "model_module_version": "1.5.0",
          "state": {
            "_model_module": "@jupyter-widgets/controls",
            "_model_module_version": "1.5.0",
            "_model_name": "DescriptionStyleModel",
            "_view_count": null,
            "_view_module": "@jupyter-widgets/base",
            "_view_module_version": "1.2.0",
            "_view_name": "StyleView",
            "description_width": ""
          }
        },
        "fff4dfbc19bf4ee5a6e1246461094d28": {
          "model_module": "@jupyter-widgets/controls",
          "model_name": "HBoxModel",
          "model_module_version": "1.5.0",
          "state": {
            "_dom_classes": [],
            "_model_module": "@jupyter-widgets/controls",
            "_model_module_version": "1.5.0",
            "_model_name": "HBoxModel",
            "_view_count": null,
            "_view_module": "@jupyter-widgets/controls",
            "_view_module_version": "1.5.0",
            "_view_name": "HBoxView",
            "box_style": "",
            "children": [
              "IPY_MODEL_a083d61168d94486aeec741038798607",
              "IPY_MODEL_50d10eb9ffce4d2d909026d970f70b59",
              "IPY_MODEL_b9788ddbe1df49fbbf7133cd6e057306"
            ],
            "layout": "IPY_MODEL_27e35ac551064f689719c2eb8a496aaf"
          }
        },
        "a083d61168d94486aeec741038798607": {
          "model_module": "@jupyter-widgets/controls",
          "model_name": "HTMLModel",
          "model_module_version": "1.5.0",
          "state": {
            "_dom_classes": [],
            "_model_module": "@jupyter-widgets/controls",
            "_model_module_version": "1.5.0",
            "_model_name": "HTMLModel",
            "_view_count": null,
            "_view_module": "@jupyter-widgets/controls",
            "_view_module_version": "1.5.0",
            "_view_name": "HTMLView",
            "description": "",
            "description_tooltip": null,
            "layout": "IPY_MODEL_17d238148bd54982872ece28b5a89828",
            "placeholder": "​",
            "style": "IPY_MODEL_fc279f61d5a0485a8725f06de97d514e",
            "value": "preprocessor_config.json: 100%"
          }
        },
        "50d10eb9ffce4d2d909026d970f70b59": {
          "model_module": "@jupyter-widgets/controls",
          "model_name": "FloatProgressModel",
          "model_module_version": "1.5.0",
          "state": {
            "_dom_classes": [],
            "_model_module": "@jupyter-widgets/controls",
            "_model_module_version": "1.5.0",
            "_model_name": "FloatProgressModel",
            "_view_count": null,
            "_view_module": "@jupyter-widgets/controls",
            "_view_module_version": "1.5.0",
            "_view_name": "ProgressView",
            "bar_style": "success",
            "description": "",
            "description_tooltip": null,
            "layout": "IPY_MODEL_b825f96d270d41508d54197952d8a2d1",
            "max": 184990,
            "min": 0,
            "orientation": "horizontal",
            "style": "IPY_MODEL_61b8ddd534ee41c3b86cfc0a4303ef4c",
            "value": 184990
          }
        },
        "b9788ddbe1df49fbbf7133cd6e057306": {
          "model_module": "@jupyter-widgets/controls",
          "model_name": "HTMLModel",
          "model_module_version": "1.5.0",
          "state": {
            "_dom_classes": [],
            "_model_module": "@jupyter-widgets/controls",
            "_model_module_version": "1.5.0",
            "_model_name": "HTMLModel",
            "_view_count": null,
            "_view_module": "@jupyter-widgets/controls",
            "_view_module_version": "1.5.0",
            "_view_name": "HTMLView",
            "description": "",
            "description_tooltip": null,
            "layout": "IPY_MODEL_25620c9aef904a63b7994713420ec683",
            "placeholder": "​",
            "style": "IPY_MODEL_ff43b5ee4b4a49dcaae880f0c0e074ad",
            "value": " 185k/185k [00:00&lt;00:00, 12.6MB/s]"
          }
        },
        "27e35ac551064f689719c2eb8a496aaf": {
          "model_module": "@jupyter-widgets/base",
          "model_name": "LayoutModel",
          "model_module_version": "1.2.0",
          "state": {
            "_model_module": "@jupyter-widgets/base",
            "_model_module_version": "1.2.0",
            "_model_name": "LayoutModel",
            "_view_count": null,
            "_view_module": "@jupyter-widgets/base",
            "_view_module_version": "1.2.0",
            "_view_name": "LayoutView",
            "align_content": null,
            "align_items": null,
            "align_self": null,
            "border": null,
            "bottom": null,
            "display": null,
            "flex": null,
            "flex_flow": null,
            "grid_area": null,
            "grid_auto_columns": null,
            "grid_auto_flow": null,
            "grid_auto_rows": null,
            "grid_column": null,
            "grid_gap": null,
            "grid_row": null,
            "grid_template_areas": null,
            "grid_template_columns": null,
            "grid_template_rows": null,
            "height": null,
            "justify_content": null,
            "justify_items": null,
            "left": null,
            "margin": null,
            "max_height": null,
            "max_width": null,
            "min_height": null,
            "min_width": null,
            "object_fit": null,
            "object_position": null,
            "order": null,
            "overflow": null,
            "overflow_x": null,
            "overflow_y": null,
            "padding": null,
            "right": null,
            "top": null,
            "visibility": null,
            "width": null
          }
        },
        "17d238148bd54982872ece28b5a89828": {
          "model_module": "@jupyter-widgets/base",
          "model_name": "LayoutModel",
          "model_module_version": "1.2.0",
          "state": {
            "_model_module": "@jupyter-widgets/base",
            "_model_module_version": "1.2.0",
            "_model_name": "LayoutModel",
            "_view_count": null,
            "_view_module": "@jupyter-widgets/base",
            "_view_module_version": "1.2.0",
            "_view_name": "LayoutView",
            "align_content": null,
            "align_items": null,
            "align_self": null,
            "border": null,
            "bottom": null,
            "display": null,
            "flex": null,
            "flex_flow": null,
            "grid_area": null,
            "grid_auto_columns": null,
            "grid_auto_flow": null,
            "grid_auto_rows": null,
            "grid_column": null,
            "grid_gap": null,
            "grid_row": null,
            "grid_template_areas": null,
            "grid_template_columns": null,
            "grid_template_rows": null,
            "height": null,
            "justify_content": null,
            "justify_items": null,
            "left": null,
            "margin": null,
            "max_height": null,
            "max_width": null,
            "min_height": null,
            "min_width": null,
            "object_fit": null,
            "object_position": null,
            "order": null,
            "overflow": null,
            "overflow_x": null,
            "overflow_y": null,
            "padding": null,
            "right": null,
            "top": null,
            "visibility": null,
            "width": null
          }
        },
        "fc279f61d5a0485a8725f06de97d514e": {
          "model_module": "@jupyter-widgets/controls",
          "model_name": "DescriptionStyleModel",
          "model_module_version": "1.5.0",
          "state": {
            "_model_module": "@jupyter-widgets/controls",
            "_model_module_version": "1.5.0",
            "_model_name": "DescriptionStyleModel",
            "_view_count": null,
            "_view_module": "@jupyter-widgets/base",
            "_view_module_version": "1.2.0",
            "_view_name": "StyleView",
            "description_width": ""
          }
        },
        "b825f96d270d41508d54197952d8a2d1": {
          "model_module": "@jupyter-widgets/base",
          "model_name": "LayoutModel",
          "model_module_version": "1.2.0",
          "state": {
            "_model_module": "@jupyter-widgets/base",
            "_model_module_version": "1.2.0",
            "_model_name": "LayoutModel",
            "_view_count": null,
            "_view_module": "@jupyter-widgets/base",
            "_view_module_version": "1.2.0",
            "_view_name": "LayoutView",
            "align_content": null,
            "align_items": null,
            "align_self": null,
            "border": null,
            "bottom": null,
            "display": null,
            "flex": null,
            "flex_flow": null,
            "grid_area": null,
            "grid_auto_columns": null,
            "grid_auto_flow": null,
            "grid_auto_rows": null,
            "grid_column": null,
            "grid_gap": null,
            "grid_row": null,
            "grid_template_areas": null,
            "grid_template_columns": null,
            "grid_template_rows": null,
            "height": null,
            "justify_content": null,
            "justify_items": null,
            "left": null,
            "margin": null,
            "max_height": null,
            "max_width": null,
            "min_height": null,
            "min_width": null,
            "object_fit": null,
            "object_position": null,
            "order": null,
            "overflow": null,
            "overflow_x": null,
            "overflow_y": null,
            "padding": null,
            "right": null,
            "top": null,
            "visibility": null,
            "width": null
          }
        },
        "61b8ddd534ee41c3b86cfc0a4303ef4c": {
          "model_module": "@jupyter-widgets/controls",
          "model_name": "ProgressStyleModel",
          "model_module_version": "1.5.0",
          "state": {
            "_model_module": "@jupyter-widgets/controls",
            "_model_module_version": "1.5.0",
            "_model_name": "ProgressStyleModel",
            "_view_count": null,
            "_view_module": "@jupyter-widgets/base",
            "_view_module_version": "1.2.0",
            "_view_name": "StyleView",
            "bar_color": null,
            "description_width": ""
          }
        },
        "25620c9aef904a63b7994713420ec683": {
          "model_module": "@jupyter-widgets/base",
          "model_name": "LayoutModel",
          "model_module_version": "1.2.0",
          "state": {
            "_model_module": "@jupyter-widgets/base",
            "_model_module_version": "1.2.0",
            "_model_name": "LayoutModel",
            "_view_count": null,
            "_view_module": "@jupyter-widgets/base",
            "_view_module_version": "1.2.0",
            "_view_name": "LayoutView",
            "align_content": null,
            "align_items": null,
            "align_self": null,
            "border": null,
            "bottom": null,
            "display": null,
            "flex": null,
            "flex_flow": null,
            "grid_area": null,
            "grid_auto_columns": null,
            "grid_auto_flow": null,
            "grid_auto_rows": null,
            "grid_column": null,
            "grid_gap": null,
            "grid_row": null,
            "grid_template_areas": null,
            "grid_template_columns": null,
            "grid_template_rows": null,
            "height": null,
            "justify_content": null,
            "justify_items": null,
            "left": null,
            "margin": null,
            "max_height": null,
            "max_width": null,
            "min_height": null,
            "min_width": null,
            "object_fit": null,
            "object_position": null,
            "order": null,
            "overflow": null,
            "overflow_x": null,
            "overflow_y": null,
            "padding": null,
            "right": null,
            "top": null,
            "visibility": null,
            "width": null
          }
        },
        "ff43b5ee4b4a49dcaae880f0c0e074ad": {
          "model_module": "@jupyter-widgets/controls",
          "model_name": "DescriptionStyleModel",
          "model_module_version": "1.5.0",
          "state": {
            "_model_module": "@jupyter-widgets/controls",
            "_model_module_version": "1.5.0",
            "_model_name": "DescriptionStyleModel",
            "_view_count": null,
            "_view_module": "@jupyter-widgets/base",
            "_view_module_version": "1.2.0",
            "_view_name": "StyleView",
            "description_width": ""
          }
        }
      }
    }
  },
  "cells": [
    {
      "cell_type": "markdown",
      "metadata": {
        "id": "view-in-github",
        "colab_type": "text"
      },
      "source": [
        "<a href=\"https://colab.research.google.com/github/siddhamapple/LLM/blob/main/Learning_LLM.ipynb\" target=\"_parent\"><img src=\"https://colab.research.google.com/assets/colab-badge.svg\" alt=\"Open In Colab\"/></a>"
      ]
    },
    {
      "cell_type": "code",
      "source": [
        "!pip install torch torchvision torchaudio # Install PyTorch if you haven't already\n",
        "import torch # Import the torch module"
      ],
      "metadata": {
        "id": "uXeZ_jsLQHrq"
      },
      "execution_count": null,
      "outputs": []
    },
    {
      "cell_type": "code",
      "source": [
        "import torch\n",
        "torch.__version__"
      ],
      "metadata": {
        "colab": {
          "base_uri": "https://localhost:8080/",
          "height": 36
        },
        "id": "BczDEpZBLJUr",
        "outputId": "0908bf5b-efef-4828-bac1-b4fc6d5f8960"
      },
      "execution_count": null,
      "outputs": [
        {
          "output_type": "execute_result",
          "data": {
            "text/plain": [
              "'2.5.1+cu124'"
            ],
            "application/vnd.google.colaboratory.intrinsic+json": {
              "type": "string"
            }
          },
          "metadata": {},
          "execution_count": 3
        }
      ]
    },
    {
      "cell_type": "markdown",
      "source": [
        "# **Starting Pytorch** (Appendix A)\n",
        "## creating pytorch tensors and playing with matrix\n",
        "\n"
      ],
      "metadata": {
        "id": "SxBQbISCNrcU"
      }
    },
    {
      "cell_type": "code",
      "source": [
        "import torch\n",
        "\n",
        "tensor0d = torch.tensor(1)\n",
        "tensor1d= torch.tensor([1,2])\n",
        "tensor2d= torch.tensor([[1,2],[3,4]])\n",
        "tensor3d=torch.tensor( [[[1,2],[3,4]],\n",
        "                      [[4,5],[6,7]]]\n",
        "                            )\n",
        "\n",
        "print(tensor3d.shape)\n",
        "tensor3d.reshape(1,8)\n",
        "print(tensor2d)\n",
        "print(tensor2d.T) #transpose of a matrix\n",
        "print(tensor2d.matmul(tensor2d.T))"
      ],
      "metadata": {
        "id": "PPK54BwXMVct",
        "colab": {
          "base_uri": "https://localhost:8080/"
        },
        "outputId": "4845b218-8b42-4959-8300-7fbb1beed88f"
      },
      "execution_count": null,
      "outputs": [
        {
          "output_type": "stream",
          "name": "stdout",
          "text": [
            "torch.Size([2, 2, 2])\n",
            "tensor([[1, 2],\n",
            "        [3, 4]])\n",
            "tensor([[1, 3],\n",
            "        [2, 4]])\n",
            "tensor([[ 5, 11],\n",
            "        [11, 25]])\n"
          ]
        }
      ]
    },
    {
      "cell_type": "markdown",
      "source": [
        "## tensor datatypes\n"
      ],
      "metadata": {
        "id": "Pyf6ZnYnP0Nh"
      }
    },
    {
      "cell_type": "code",
      "source": [
        "print(tensor1d.dtype)"
      ],
      "metadata": {
        "id": "6_-DfEw_PP29",
        "colab": {
          "base_uri": "https://localhost:8080/"
        },
        "outputId": "41a86cb0-4741-4c93-b8e2-a1399f15014c"
      },
      "execution_count": null,
      "outputs": [
        {
          "output_type": "stream",
          "name": "stdout",
          "text": [
            "torch.int64\n"
          ]
        }
      ]
    },
    {
      "cell_type": "code",
      "source": [
        "tensor1d.dtype"
      ],
      "metadata": {
        "id": "n_RxV1CeP-2y",
        "colab": {
          "base_uri": "https://localhost:8080/"
        },
        "outputId": "5c8ef5c6-4c04-4a95-c229-300f685bf193"
      },
      "execution_count": null,
      "outputs": [
        {
          "output_type": "execute_result",
          "data": {
            "text/plain": [
              "torch.int64"
            ]
          },
          "metadata": {},
          "execution_count": 6
        }
      ]
    },
    {
      "cell_type": "code",
      "source": [
        "import torch\n",
        "floattensor=torch.tensor([1.2,2.3,343.2])"
      ],
      "metadata": {
        "id": "KhDwYVfTVtX1"
      },
      "execution_count": null,
      "outputs": []
    },
    {
      "cell_type": "code",
      "source": [
        "print(floattensor.dtype)"
      ],
      "metadata": {
        "id": "G-WfORItYQ1e",
        "colab": {
          "base_uri": "https://localhost:8080/"
        },
        "outputId": "821ea086-d5d8-4a44-ace7-224e1866dde4"
      },
      "execution_count": null,
      "outputs": [
        {
          "output_type": "stream",
          "name": "stdout",
          "text": [
            "torch.float32\n"
          ]
        }
      ]
    },
    {
      "cell_type": "markdown",
      "source": [
        "## Logistic regression Forward Pass"
      ],
      "metadata": {
        "id": "CvYou2t-aWi3"
      }
    },
    {
      "cell_type": "code",
      "source": [
        "import torch.nn.functional as F\n",
        "y=torch.tensor([1.0])\n",
        "x=torch.tensor([1.1])\n",
        "w=torch.tensor([2.2])\n",
        "b=torch.tensor([0.0])\n",
        "u=x*w\n",
        "z=u+b\n",
        "a=torch.sigmoid(z)\n",
        "loss=F.binary_cross_entropy(a,y) #BCE is used when we want binary (0,1)"
      ],
      "metadata": {
        "id": "1rWI3Q58YuIR"
      },
      "execution_count": null,
      "outputs": []
    },
    {
      "cell_type": "markdown",
      "source": [
        "## Computing gradients via autograd"
      ],
      "metadata": {
        "id": "-3iunYAyelQV"
      }
    },
    {
      "cell_type": "code",
      "source": [
        "# @title Default title text\n",
        "import torch\n",
        "import torch.nn.functional as F\n",
        "from torch.autograd import grad\n",
        "\n",
        "x1=torch.tensor([1.1]) #input 1\n",
        "w1=torch.tensor([2.2],requires_grad=True) #weight of input 1\n",
        "y1=torch.tensor([1.0]) #label\n",
        "b1=torch.tensor([0.0],requires_grad=True) #adding bias\n",
        "\n",
        "z=(x1*w1)+b1\n",
        "a=torch.sigmoid(z)\n",
        "L=F.binary_cross_entropy(a,y1)\n",
        "\n",
        "gw1=grad(L,w1,retain_graph=True)\n",
        "gb1=grad(L,b1,retain_graph=True)\n",
        "\n",
        "print(gw1)\n",
        "print(gb1)\n",
        "\n"
      ],
      "metadata": {
        "colab": {
          "base_uri": "https://localhost:8080/"
        },
        "id": "R6A_lcF8wdEf",
        "outputId": "c2f8f193-ab87-4333-ddc8-0f771fb93e1b"
      },
      "execution_count": null,
      "outputs": [
        {
          "output_type": "stream",
          "name": "stdout",
          "text": [
            "(tensor([-0.0898]),)\n",
            "(tensor([-0.0817]),)\n"
          ]
        }
      ]
    },
    {
      "cell_type": "markdown",
      "source": [
        "## multilayer perceptron with two hidden layers"
      ],
      "metadata": {
        "id": "QY9hMyqz9cw2"
      }
    },
    {
      "cell_type": "code",
      "source": [
        "import torch\n",
        "import torch.nn as N\n",
        "\n",
        "\n",
        "class NeuralNetwork(N.Module):\n",
        "    def __init__(self,inputP,outputP):\n",
        "     super().__init__()\n",
        "\n",
        "     self.layers=torch.nn.Sequential(\n",
        "        torch.nn.Linear(inputP,30),\n",
        "        N.ReLU(),\n",
        "\n",
        "        torch.nn.Linear(30,20),\n",
        "        torch.nn.ReLU(),\n",
        "\n",
        "        torch.nn.Linear(20,outputP)\n",
        "    )\n",
        "\n",
        "\n",
        "    def forward(self,x):\n",
        "     logits=self.layers(x)\n",
        "     return logits\n",
        "\n",
        "\n",
        "model=NeuralNetwork(50,3)\n",
        "\n",
        "#print(model)\n",
        "\n",
        "num_params = sum(p.numel() for p in model.parameters() if p.requires_grad==True)\n",
        "#print(\"Total number of trainable model parameters:\", num_params)\n",
        "\n",
        "#print(model.layers[0].weight.shape)\n",
        "\n",
        "\n",
        "#torch.manual_seed(1223)\n",
        "#model=NeuralNetwork(50,3)\n",
        "#print(model.layers[0].weight)\n",
        "\n",
        "\n",
        "\n",
        "torch.manual_seed(123)\n",
        "\n",
        "x=torch.rand(1,50)\n",
        "\n",
        "with torch.no_grad():\n",
        " out=torch.softmax(model(x),dim=-1)\n",
        "print(out)\n"
      ],
      "metadata": {
        "colab": {
          "base_uri": "https://localhost:8080/"
        },
        "id": "3Vt9F7Mz9cK0",
        "outputId": "34f648a5-1dc5-495c-94c3-7781c728b17e"
      },
      "execution_count": null,
      "outputs": [
        {
          "output_type": "stream",
          "name": "stdout",
          "text": [
            "tensor([[0.3640, 0.2864, 0.3496]])\n"
          ]
        }
      ]
    },
    {
      "cell_type": "markdown",
      "source": [
        "## Efficient data loaders"
      ],
      "metadata": {
        "id": "1aquaA22QLK6"
      }
    },
    {
      "cell_type": "markdown",
      "source": [
        "Data set (stores data)"
      ],
      "metadata": {
        "id": "vDeahr8FAe24"
      }
    },
    {
      "cell_type": "code",
      "source": [
        "import torch\n",
        "from torch.utils.data import Dataset\n",
        "\n",
        "X_train = torch.tensor([\n",
        "[-1.2, 3.1],\n",
        "[-0.9, 2.9],\n",
        "[-0.5, 2.6],\n",
        "[2.3, -1.1],\n",
        "[2.7, -1.5]\n",
        "])\n",
        "y_train = torch.tensor([0, 0, 0, 1, 1])\n",
        "X_test = torch.tensor([\n",
        "[-0.8, 2.8],\n",
        "[2.6, -1.6],])\n",
        "y_test = torch.tensor([0, 1])\n",
        "\n",
        "\n",
        "class ToyDataset(Dataset):\n",
        "  def __init__(self,X,Y):\n",
        "    self.features=X\n",
        "    self.labels=Y\n",
        "\n",
        "  def __getitem__(self,index):\n",
        "    one_x=self.features[index]\n",
        "    one_y=self.features[index]\n",
        "\n",
        "  def __len__(self):\n",
        "    return self.labels.shape[0]\n",
        "\n",
        "train_ds=ToyDataset(X_train,y_train)\n",
        "test_ds=ToyDataset(X_test,y_test)\n",
        "\n",
        "print(len(train_ds))\n",
        "\n"
      ],
      "metadata": {
        "colab": {
          "base_uri": "https://localhost:8080/"
        },
        "id": "qMOH1eol9bSg",
        "outputId": "b99d7f63-7b69-41e3-8992-618a4fb65615"
      },
      "execution_count": null,
      "outputs": [
        {
          "output_type": "stream",
          "name": "stdout",
          "text": [
            "5\n"
          ]
        }
      ]
    },
    {
      "cell_type": "markdown",
      "source": [
        "Data loader (loads data)"
      ],
      "metadata": {
        "id": "RAUtPS6YAj7s"
      }
    },
    {
      "cell_type": "code",
      "source": [
        "import torch\n",
        "from torch.utils.data import DataLoader\n",
        "from torch.utils.data import Dataset\n",
        "\n",
        "torch.manual_seed(123)\n",
        "\n",
        "\n",
        "X_train = torch.tensor([\n",
        "[-1.2, 3.1],\n",
        "[-0.9, 2.9],\n",
        "[-0.5, 2.6],\n",
        "[2.3, -1.1],\n",
        "[2.7, -1.5]\n",
        "])\n",
        "y_train = torch.tensor([0, 0, 0, 1, 1])\n",
        "X_test = torch.tensor([\n",
        "[-0.8, 2.8],\n",
        "[2.6, -1.6],])\n",
        "y_test = torch.tensor([0, 1])\n",
        "\n",
        "\n",
        "class ToyDataset(Dataset):\n",
        "   def __init__(self,X,Y):\n",
        "    self.feature=X\n",
        "    self.label=Y\n",
        "\n",
        "   def __getitem__(self,index):\n",
        "    one_X=self.feature[index]\n",
        "    one_Y=self.feature[index]\n",
        "    return one_X, one_Y\n",
        "\n",
        "   def __len__(self):\n",
        "    return self.label.shape[0]\n",
        "\n",
        "\n",
        "train_ds=ToyDataset(X_train,y_train)\n",
        "test_ds=ToyDataset(X_test,y_test)\n",
        "#\n",
        "\n",
        "\n",
        "train_loader = DataLoader(dataset=train_ds,batch_size=2,shuffle=True,\n",
        "                          num_workers=0,drop_last=True\n",
        "\n",
        ")\n",
        "test_loader=DataLoader(dataset=test_ds,shuffle=True,batch_size=2,num_workers=0\n",
        "                       ,drop_last=True)\n",
        "\n",
        "\n",
        "for idx, (X,Y) in enumerate(train_loader):\n",
        "  print(f\"Batch {idx+1} = \", X , Y)"
      ],
      "metadata": {
        "colab": {
          "base_uri": "https://localhost:8080/"
        },
        "id": "5gAJFDvox0dB",
        "outputId": "63260c24-6b40-4ece-8bb6-2e95777f7211"
      },
      "execution_count": null,
      "outputs": [
        {
          "output_type": "stream",
          "name": "stdout",
          "text": [
            "Batch 1 =  tensor([[ 2.3000, -1.1000],\n",
            "        [-0.9000,  2.9000]]) tensor([[ 2.3000, -1.1000],\n",
            "        [-0.9000,  2.9000]])\n",
            "Batch 2 =  tensor([[-1.2000,  3.1000],\n",
            "        [-0.5000,  2.6000]]) tensor([[-1.2000,  3.1000],\n",
            "        [-0.5000,  2.6000]])\n"
          ]
        }
      ]
    },
    {
      "cell_type": "markdown",
      "source": [
        "## A typical training loop (rewrote everything above again )"
      ],
      "metadata": {
        "id": "Ij0u3n7df_pH"
      }
    },
    {
      "cell_type": "code",
      "source": [
        "import torch\n",
        "import torch.nn as N\n",
        "import torch.nn.functional as F\n",
        "from torch.utils.data import Dataset,DataLoader\n",
        "\n",
        "class NeuralNetwork(N.Module):\n",
        "  def __init__(self,inputP,outputP):\n",
        "    super().__init__()\n",
        "\n",
        "    self.layers=N.Sequential(\n",
        "\n",
        "             N.Linear(inputP,30),\n",
        "             N.ReLU(),\n",
        "\n",
        "             N.Linear(30,20),\n",
        "             N.ReLU(),\n",
        "\n",
        "             N.Linear(20,outputP)\n",
        "   )\n",
        "\n",
        "  def forward(self,x):\n",
        "    logits=self.layers(x)\n",
        "    return logits\n",
        "\n",
        "#model=NeuralNetwork(50,3)\n",
        "\n",
        "\n",
        "## data loader and set\n",
        "X_train = torch.tensor([\n",
        "[-1.2, 3.1],\n",
        "[-0.9, 2.9],\n",
        "[-0.5, 2.6],\n",
        "[2.3, -1.1],\n",
        "[2.7, -1.5]\n",
        "])\n",
        "y_train = torch.tensor([0, 0, 0, 1, 1])\n",
        "X_test = torch.tensor([\n",
        "[-0.8, 2.8],\n",
        "[2.6, -1.6],])\n",
        "y_test = torch.tensor([0, 1])\n",
        "\n",
        "\n",
        "class ToyData(Dataset):\n",
        "  def __init__(self,X,Y):\n",
        "    self.feature=X\n",
        "    self.label=Y\n",
        "\n",
        "  def __getitem__(self,iterator):\n",
        "    one_x=self.feature[iterator]\n",
        "    one_y=self.label[iterator]\n",
        "    return one_x,one_y\n",
        "\n",
        "  def __len__(self):\n",
        "    return self.label.shape[0]\n",
        "\n",
        "train_ds=ToyData(X_train,y_train)\n",
        "test_ds=ToyData(X_test,y_test)\n",
        "\n",
        "loadtrain=DataLoader(dataset=train_ds,batch_size=2,shuffle=True,num_workers=0,drop_last=True)\n",
        "loadtest=DataLoader(dataset=test_ds,shuffle=True,batch_size=2,num_workers=0,drop_last=True)\n",
        "\n",
        "#----------------------training loop starts------------------------------------------------\n",
        "model =NeuralNetwork(2,2)\n",
        "optimizer=torch.optim.SGD(\n",
        "  model.parameters(),  lr=0.76\n",
        ")\n",
        "num_epoch=3\n",
        "\n",
        "for epoch in range(num_epoch):\n",
        "  model.train()\n",
        "\n",
        "  for batch_idx,(feature,label) in enumerate(loadtrain):\n",
        "    logit=model(feature)\n",
        "    loss=F.cross_entropy(logit,label)\n",
        "\n",
        "    optimizer.zero_grad()\n",
        "    loss.backward() #calculate gradients\n",
        "    optimizer.step() # this will change model parameters to minimize loss\n",
        "\n",
        "\n",
        "\n",
        "    print(f\"Epoch: {epoch+1:03d}/{num_epoch:03d}\"\n",
        "    f\" | Batch {batch_idx+1:03d}/{len(loadtrain):03d}\"\n",
        "    f\" | Train Loss: {loss:.2f}\")\n",
        "\n",
        "model.eval()\n",
        "with torch.no_grad():\n",
        "  output=model(X_train)\n",
        "print(output)\n",
        "\n",
        "prob=torch.softmax(output,dim=1)\n",
        "probability=torch.argmax(prob,dim=1)\n",
        "print(probability)\n",
        "\n",
        "print(probability==y_train)\n"
      ],
      "metadata": {
        "id": "bvqvXJaeAx0Q",
        "colab": {
          "base_uri": "https://localhost:8080/"
        },
        "outputId": "c0a5d22a-40b8-49d1-8f77-0914099f50dd"
      },
      "execution_count": null,
      "outputs": [
        {
          "output_type": "stream",
          "name": "stdout",
          "text": [
            "Epoch: 001/003 | Batch 001/002 | Train Loss: 0.46\n",
            "Epoch: 001/003 | Batch 002/002 | Train Loss: 2.42\n",
            "Epoch: 002/003 | Batch 001/002 | Train Loss: 0.45\n",
            "Epoch: 002/003 | Batch 002/002 | Train Loss: 0.06\n",
            "Epoch: 003/003 | Batch 001/002 | Train Loss: 0.02\n",
            "Epoch: 003/003 | Batch 002/002 | Train Loss: 0.01\n",
            "tensor([[ 2.4249, -4.5732],\n",
            "        [ 2.1745, -4.1268],\n",
            "        [ 1.8197, -3.4941],\n",
            "        [-2.3790,  1.9572],\n",
            "        [-2.8630,  2.4046]])\n",
            "tensor([0, 0, 0, 1, 1])\n",
            "tensor([True, True, True, True, True])\n"
          ]
        }
      ]
    },
    {
      "cell_type": "markdown",
      "source": [
        "## Saving and Loading Models"
      ],
      "metadata": {
        "id": "51FkhIUK3Qzl"
      }
    },
    {
      "cell_type": "code",
      "source": [
        "torch.save(model.state_dict(),\"model.pth\")"
      ],
      "metadata": {
        "id": "6xK8triw3Yu4"
      },
      "execution_count": null,
      "outputs": []
    },
    {
      "cell_type": "code",
      "source": [
        "model = NeuralNetwork(2, 2)\n",
        "model.load_state_dict(torch.load(\"model.pth\"))"
      ],
      "metadata": {
        "colab": {
          "base_uri": "https://localhost:8080/"
        },
        "id": "qzehKv1_3Y1K",
        "outputId": "8c353d46-fff5-4e10-ff67-ec0aad98a5f3"
      },
      "execution_count": null,
      "outputs": [
        {
          "output_type": "stream",
          "name": "stderr",
          "text": [
            "<ipython-input-16-2fbe0c2fd7f8>:2: FutureWarning: You are using `torch.load` with `weights_only=False` (the current default value), which uses the default pickle module implicitly. It is possible to construct malicious pickle data which will execute arbitrary code during unpickling (See https://github.com/pytorch/pytorch/blob/main/SECURITY.md#untrusted-models for more details). In a future release, the default value for `weights_only` will be flipped to `True`. This limits the functions that could be executed during unpickling. Arbitrary objects will no longer be allowed to be loaded via this mode unless they are explicitly allowlisted by the user via `torch.serialization.add_safe_globals`. We recommend you start setting `weights_only=True` for any use case where you don't have full control of the loaded file. Please open an issue on GitHub for any issues related to this experimental feature.\n",
            "  model.load_state_dict(torch.load(\"model.pth\"))\n"
          ]
        },
        {
          "output_type": "execute_result",
          "data": {
            "text/plain": [
              "<All keys matched successfully>"
            ]
          },
          "metadata": {},
          "execution_count": 16
        }
      ]
    },
    {
      "cell_type": "markdown",
      "source": [
        "## GPU"
      ],
      "metadata": {
        "id": "iCXxsfJg8tpt"
      }
    },
    {
      "cell_type": "code",
      "source": [
        "print(torch.cuda.is_available())\n",
        "tensor_1 = torch.tensor([1., 2., 3.])\n",
        "tensor_2 = torch.tensor([4., 5., 6.])\n",
        "#print(tensor_1 + tensor_2)\n",
        "\n",
        "tensor_1=tensor_1.to(\"cuda\")\n",
        "tensor_2 = tensor_2.to(\"cuda\")\n",
        "print(tensor_1 + tensor_2)"
      ],
      "metadata": {
        "id": "oVPUo53Z3Y7J",
        "colab": {
          "base_uri": "https://localhost:8080/"
        },
        "outputId": "42552ff8-a251-41a8-b8f8-5354f270944b"
      },
      "execution_count": null,
      "outputs": [
        {
          "output_type": "stream",
          "name": "stdout",
          "text": [
            "True\n",
            "tensor([5., 7., 9.], device='cuda:0')\n"
          ]
        }
      ]
    },
    {
      "cell_type": "markdown",
      "source": [
        "## Excerise 1"
      ],
      "metadata": {
        "id": "OJRIfdCD83le"
      }
    },
    {
      "cell_type": "code",
      "source": [
        "%reset -f\n",
        "import torch\n",
        "import numpy as np\n",
        "import matplotlib.pyplot as plt\n",
        "from sklearn import datasets\n",
        "#plt.style.use('seaborn')\n",
        "%matplotlib inline\n",
        "from sklearn.datasets import make_circles\n",
        "from sklearn.model_selection import train_test_split\n",
        "\n",
        "X, y = make_circles(n_samples=1_000, factor=0.3, noise=0.05, random_state=0)\n",
        "\n",
        "plt.figure()\n",
        "scatter = plt.scatter(X[:,0], X[:,1], c=y)\n",
        "\n",
        "# Add colorbar\n",
        "cbar = plt.colorbar(scatter)\n",
        "cbar.set_label(\"Class Label\")\n",
        "plt.show()"
      ],
      "metadata": {
        "colab": {
          "base_uri": "https://localhost:8080/"
        },
        "id": "8MwBxK6R82n5",
        "outputId": "f0d595ce-4c6a-448a-b925-60696af8a810"
      },
      "execution_count": null,
      "outputs": [
        {
          "output_type": "display_data",
          "data": {
            "text/plain": [
              "<Figure size 640x480 with 2 Axes>"
            ],
            "image/png": "[encoded data removed]"
          },
          "metadata": {}
        }
      ]
    },
    {
      "cell_type": "code",
      "source": [
        "import torch\n",
        "from torch.utils.data import DataLoader,Dataset\n",
        "\n",
        "## initializing data\n",
        "len_train=int(0.7*(len(X)))\n",
        "X_train=X[0:len_train]\n",
        "Y_train=y[0:len_train]\n",
        "X_test=X[len_train:]\n",
        "Y_test=y[len_train:]\n",
        "\n",
        "##initializing dataset\n",
        "class Circle(Dataset):\n",
        "  def __init__(self,X,y):\n",
        "    self.feature=X\n",
        "    self.label=y\n",
        "\n",
        "  def __getitem__(self,index):\n",
        "    x_data=self.feature[index]\n",
        "    y_data=self.label[index]\n",
        "    return x_data,y_data\n",
        "\n",
        "  def __len__(self):\n",
        "    return self.label.shape[0]\n",
        "\n",
        "train_ds=Circle(X_train,Y_train)\n",
        "test_ds=Circle(X_test,Y_test)\n",
        "\n",
        "## dataloader\n",
        "\n",
        "train_load=DataLoader(dataset=train_ds,batch_size=100,shuffle=True,drop_last=True)\n",
        "test_load=DataLoader(dataset=test_ds,shuffle=True,batch_size=100,drop_last=True)\n",
        "\n",
        "\n",
        "##making the network\n",
        "\n",
        "class CircleModel(torch.nn.Module):\n",
        "  def __init__(self):\n",
        "    super().__init__()\n",
        "\n",
        "    self.layers=torch.nn.Sequential(\n",
        "\n",
        "              torch.nn.Linear(2,30),\n",
        "              torch.nn.ReLU(),\n",
        "              torch.nn.Linear(30,50),\n",
        "              torch.nn.ReLU(),\n",
        "              torch.nn.Linear(50,20),\n",
        "              torch.nn.ReLU(),\n",
        "              torch.nn.Linear(20,2)\n",
        "         )\n",
        "\n",
        "  def forward(self,x):\n",
        "    logit=self.layers(x)\n",
        "    return logit\n",
        "\n",
        "model=CircleModel()\n",
        "\n",
        "## training Loop\n",
        "\n",
        "import torch.nn.functional as F\n",
        "\n",
        "optimizer=torch.optim.SGD(model.parameters(),lr=0.4)\n",
        "num_epoch=15\n",
        "losses=[]\n",
        "for epoch in range(num_epoch):\n",
        "  model.train()\n",
        "\n",
        "\n",
        "  for batch_idx,(feature,label) in enumerate(train_load):\n",
        "    logit=model(feature.float())\n",
        "    loss=F.cross_entropy(logit,label)\n",
        "    losses.append(loss.item())\n",
        "\n",
        "    optimizer.zero_grad()\n",
        "    loss.backward()\n",
        "    optimizer.step()\n",
        "\n",
        "\n",
        "    print(f\"Epoch: {epoch+1:02d}/{num_epoch:02d}\"\n",
        "              f\" | Batch {batch_idx:02d}/{len(train_load):02d}\"\n",
        "              f\" | Train Loss: {loss:0.2f}\")\n",
        "\n",
        "\n",
        "\n",
        "\n",
        "\n",
        "\n",
        "\n",
        "\n"
      ],
      "metadata": {
        "colab": {
          "base_uri": "https://localhost:8080/"
        },
        "id": "xWP86PaS9HlJ",
        "outputId": "e6962403-7eed-4249-9513-cac70fe3e575"
      },
      "execution_count": null,
      "outputs": [
        {
          "output_type": "stream",
          "name": "stdout",
          "text": [
            "Epoch: 01/15 | Batch 00/07 | Train Loss: 0.70\n",
            "Epoch: 01/15 | Batch 01/07 | Train Loss: 0.69\n",
            "Epoch: 01/15 | Batch 02/07 | Train Loss: 0.69\n",
            "Epoch: 01/15 | Batch 03/07 | Train Loss: 0.69\n",
            "Epoch: 01/15 | Batch 04/07 | Train Loss: 0.68\n",
            "Epoch: 01/15 | Batch 05/07 | Train Loss: 0.68\n",
            "Epoch: 01/15 | Batch 06/07 | Train Loss: 0.69\n",
            "Epoch: 02/15 | Batch 00/07 | Train Loss: 0.68\n",
            "Epoch: 02/15 | Batch 01/07 | Train Loss: 0.68\n",
            "Epoch: 02/15 | Batch 02/07 | Train Loss: 0.68\n",
            "Epoch: 02/15 | Batch 03/07 | Train Loss: 0.67\n",
            "Epoch: 02/15 | Batch 04/07 | Train Loss: 0.69\n",
            "Epoch: 02/15 | Batch 05/07 | Train Loss: 0.67\n",
            "Epoch: 02/15 | Batch 06/07 | Train Loss: 0.67\n",
            "Epoch: 03/15 | Batch 00/07 | Train Loss: 0.66\n",
            "Epoch: 03/15 | Batch 01/07 | Train Loss: 0.67\n",
            "Epoch: 03/15 | Batch 02/07 | Train Loss: 0.66\n",
            "Epoch: 03/15 | Batch 03/07 | Train Loss: 0.65\n",
            "Epoch: 03/15 | Batch 04/07 | Train Loss: 0.65\n",
            "Epoch: 03/15 | Batch 05/07 | Train Loss: 0.64\n",
            "Epoch: 03/15 | Batch 06/07 | Train Loss: 0.63\n",
            "Epoch: 04/15 | Batch 00/07 | Train Loss: 0.63\n",
            "Epoch: 04/15 | Batch 01/07 | Train Loss: 0.61\n",
            "Epoch: 04/15 | Batch 02/07 | Train Loss: 0.60\n",
            "Epoch: 04/15 | Batch 03/07 | Train Loss: 0.58\n",
            "Epoch: 04/15 | Batch 04/07 | Train Loss: 0.57\n",
            "Epoch: 04/15 | Batch 05/07 | Train Loss: 0.58\n",
            "Epoch: 04/15 | Batch 06/07 | Train Loss: 0.54\n",
            "Epoch: 05/15 | Batch 00/07 | Train Loss: 0.51\n",
            "Epoch: 05/15 | Batch 01/07 | Train Loss: 0.48\n",
            "Epoch: 05/15 | Batch 02/07 | Train Loss: 0.47\n",
            "Epoch: 05/15 | Batch 03/07 | Train Loss: 0.50\n",
            "Epoch: 05/15 | Batch 04/07 | Train Loss: 0.46\n",
            "Epoch: 05/15 | Batch 05/07 | Train Loss: 0.42\n",
            "Epoch: 05/15 | Batch 06/07 | Train Loss: 0.48\n",
            "Epoch: 06/15 | Batch 00/07 | Train Loss: 0.63\n",
            "Epoch: 06/15 | Batch 01/07 | Train Loss: 0.49\n",
            "Epoch: 06/15 | Batch 02/07 | Train Loss: 0.44\n",
            "Epoch: 06/15 | Batch 03/07 | Train Loss: 0.46\n",
            "Epoch: 06/15 | Batch 04/07 | Train Loss: 0.44\n",
            "Epoch: 06/15 | Batch 05/07 | Train Loss: 0.32\n",
            "Epoch: 06/15 | Batch 06/07 | Train Loss: 0.33\n",
            "Epoch: 07/15 | Batch 00/07 | Train Loss: 0.30\n",
            "Epoch: 07/15 | Batch 01/07 | Train Loss: 0.27\n",
            "Epoch: 07/15 | Batch 02/07 | Train Loss: 0.15\n",
            "Epoch: 07/15 | Batch 03/07 | Train Loss: 0.13\n",
            "Epoch: 07/15 | Batch 04/07 | Train Loss: 0.08\n",
            "Epoch: 07/15 | Batch 05/07 | Train Loss: 0.07\n",
            "Epoch: 07/15 | Batch 06/07 | Train Loss: 0.06\n",
            "Epoch: 08/15 | Batch 00/07 | Train Loss: 0.05\n",
            "Epoch: 08/15 | Batch 01/07 | Train Loss: 0.04\n",
            "Epoch: 08/15 | Batch 02/07 | Train Loss: 0.04\n",
            "Epoch: 08/15 | Batch 03/07 | Train Loss: 0.04\n",
            "Epoch: 08/15 | Batch 04/07 | Train Loss: 0.03\n",
            "Epoch: 08/15 | Batch 05/07 | Train Loss: 0.03\n",
            "Epoch: 08/15 | Batch 06/07 | Train Loss: 0.02\n",
            "Epoch: 09/15 | Batch 00/07 | Train Loss: 0.02\n",
            "Epoch: 09/15 | Batch 01/07 | Train Loss: 0.02\n",
            "Epoch: 09/15 | Batch 02/07 | Train Loss: 0.02\n",
            "Epoch: 09/15 | Batch 03/07 | Train Loss: 0.02\n",
            "Epoch: 09/15 | Batch 04/07 | Train Loss: 0.02\n",
            "Epoch: 09/15 | Batch 05/07 | Train Loss: 0.02\n",
            "Epoch: 09/15 | Batch 06/07 | Train Loss: 0.01\n",
            "Epoch: 10/15 | Batch 00/07 | Train Loss: 0.01\n",
            "Epoch: 10/15 | Batch 01/07 | Train Loss: 0.01\n",
            "Epoch: 10/15 | Batch 02/07 | Train Loss: 0.01\n",
            "Epoch: 10/15 | Batch 03/07 | Train Loss: 0.01\n",
            "Epoch: 10/15 | Batch 04/07 | Train Loss: 0.01\n",
            "Epoch: 10/15 | Batch 05/07 | Train Loss: 0.01\n",
            "Epoch: 10/15 | Batch 06/07 | Train Loss: 0.01\n",
            "Epoch: 11/15 | Batch 00/07 | Train Loss: 0.01\n",
            "Epoch: 11/15 | Batch 01/07 | Train Loss: 0.01\n",
            "Epoch: 11/15 | Batch 02/07 | Train Loss: 0.01\n",
            "Epoch: 11/15 | Batch 03/07 | Train Loss: 0.01\n",
            "Epoch: 11/15 | Batch 04/07 | Train Loss: 0.01\n",
            "Epoch: 11/15 | Batch 05/07 | Train Loss: 0.01\n",
            "Epoch: 11/15 | Batch 06/07 | Train Loss: 0.01\n",
            "Epoch: 12/15 | Batch 00/07 | Train Loss: 0.01\n",
            "Epoch: 12/15 | Batch 01/07 | Train Loss: 0.01\n",
            "Epoch: 12/15 | Batch 02/07 | Train Loss: 0.01\n",
            "Epoch: 12/15 | Batch 03/07 | Train Loss: 0.01\n",
            "Epoch: 12/15 | Batch 04/07 | Train Loss: 0.01\n",
            "Epoch: 12/15 | Batch 05/07 | Train Loss: 0.01\n",
            "Epoch: 12/15 | Batch 06/07 | Train Loss: 0.01\n",
            "Epoch: 13/15 | Batch 00/07 | Train Loss: 0.01\n",
            "Epoch: 13/15 | Batch 01/07 | Train Loss: 0.01\n",
            "Epoch: 13/15 | Batch 02/07 | Train Loss: 0.01\n",
            "Epoch: 13/15 | Batch 03/07 | Train Loss: 0.01\n",
            "Epoch: 13/15 | Batch 04/07 | Train Loss: 0.01\n",
            "Epoch: 13/15 | Batch 05/07 | Train Loss: 0.00\n",
            "Epoch: 13/15 | Batch 06/07 | Train Loss: 0.00\n",
            "Epoch: 14/15 | Batch 00/07 | Train Loss: 0.00\n",
            "Epoch: 14/15 | Batch 01/07 | Train Loss: 0.00\n",
            "Epoch: 14/15 | Batch 02/07 | Train Loss: 0.00\n",
            "Epoch: 14/15 | Batch 03/07 | Train Loss: 0.00\n",
            "Epoch: 14/15 | Batch 04/07 | Train Loss: 0.00\n",
            "Epoch: 14/15 | Batch 05/07 | Train Loss: 0.00\n",
            "Epoch: 14/15 | Batch 06/07 | Train Loss: 0.00\n",
            "Epoch: 15/15 | Batch 00/07 | Train Loss: 0.00\n",
            "Epoch: 15/15 | Batch 01/07 | Train Loss: 0.00\n",
            "Epoch: 15/15 | Batch 02/07 | Train Loss: 0.00\n",
            "Epoch: 15/15 | Batch 03/07 | Train Loss: 0.00\n",
            "Epoch: 15/15 | Batch 04/07 | Train Loss: 0.00\n",
            "Epoch: 15/15 | Batch 05/07 | Train Loss: 0.00\n",
            "Epoch: 15/15 | Batch 06/07 | Train Loss: 0.00\n"
          ]
        }
      ]
    },
    {
      "cell_type": "code",
      "source": [
        "plt.plot(losses)"
      ],
      "metadata": {
        "colab": {
          "base_uri": "https://localhost:8080/"
        },
        "id": "NTfaoGraOfK_",
        "outputId": "97c70d32-2281-48f5-ba97-dec51a1d0ab5"
      },
      "execution_count": null,
      "outputs": [
        {
          "output_type": "execute_result",
          "data": {
            "text/plain": [
              "[<matplotlib.lines.Line2D at 0x7a5c1c67c7d0>]"
            ]
          },
          "metadata": {},
          "execution_count": 20
        },
        {
          "output_type": "display_data",
          "data": {
            "text/plain": [
              "<Figure size 640x480 with 1 Axes>"
            ],
            "image/png": "[encoded data removed]"
          },
          "metadata": {}
        }
      ]
    },
    {
      "cell_type": "code",
      "source": [
        "def compute_accuracy(model, dataloader):\n",
        "    model = model.eval()\n",
        "    correct=0.0\n",
        "    total_examples = 0\n",
        "\n",
        "    for idx, (feature, label) in enumerate(dataloader):\n",
        "        with torch.no_grad():\n",
        "            logit = model(feature.float())\n",
        "        predictions = torch.argmax(logit, dim=1)\n",
        "        compare = torch.argmax(logit, dim=1)\n",
        "        compare = label == predictions\n",
        "        correct += torch.sum(compare)\n",
        "        total_examples += len(compare)\n",
        "    return (correct/total_examples)\n",
        "\n",
        "print(\"test accuracy = \", compute_accuracy(model, test_load))"
      ],
      "metadata": {
        "colab": {
          "base_uri": "https://localhost:8080/"
        },
        "id": "g8OzPBY2O1AX",
        "outputId": "eb8adf07-cc22-4561-bccf-512bece8b6ea"
      },
      "execution_count": null,
      "outputs": [
        {
          "output_type": "stream",
          "name": "stdout",
          "text": [
            "test accuracy =  tensor(1.)\n"
          ]
        }
      ]
    },
    {
      "cell_type": "markdown",
      "source": [
        "# Chapter 2"
      ],
      "metadata": {
        "id": "KCDLwXu1sSTC"
      }
    },
    {
      "cell_type": "code",
      "source": [
        "!import torch"
      ],
      "metadata": {
        "colab": {
          "base_uri": "https://localhost:8080/"
        },
        "id": "V3WEtYEW_bH8",
        "outputId": "7b50c7fb-41e3-4301-dc64-bddf077da4f0"
      },
      "execution_count": null,
      "outputs": [
        {
          "output_type": "stream",
          "name": "stdout",
          "text": [
            "/bin/bash: line 1: import: command not found\n"
          ]
        }
      ]
    },
    {
      "cell_type": "markdown",
      "source": [
        "## Importing RAW file \"VERDICT\""
      ],
      "metadata": {
        "id": "Y0E5ncZn_hG1"
      }
    },
    {
      "cell_type": "code",
      "source": [
        "%cd /content/drive/MyDrive"
      ],
      "metadata": {
        "colab": {
          "base_uri": "https://localhost:8080/"
        },
        "id": "W8W2UVHY_8A_",
        "outputId": "14ee6a48-830d-4d73-f86a-8bb7f26e1bcd"
      },
      "execution_count": null,
      "outputs": [
        {
          "output_type": "stream",
          "name": "stdout",
          "text": [
            "/content/drive/MyDrive\n"
          ]
        }
      ]
    },
    {
      "cell_type": "code",
      "source": [
        "!pwd"
      ],
      "metadata": {
        "colab": {
          "base_uri": "https://localhost:8080/"
        },
        "id": "xbV-vouzADuc",
        "outputId": "a7f23d36-92f0-49ac-9192-8a806a72dd38"
      },
      "execution_count": null,
      "outputs": [
        {
          "output_type": "stream",
          "name": "stdout",
          "text": [
            "/content/drive/MyDrive\n"
          ]
        }
      ]
    },
    {
      "cell_type": "code",
      "source": [
        "with open(\"the-verdict.txt\",'r',encoding='utf-8') as f:\n",
        "  raw_text=f.read()\n",
        "  word_count=raw_text.split()\n",
        "print(len(word_count)) #word count\n",
        "print(len(raw_text)) #letter count\n",
        "print(raw_text[:99])"
      ],
      "metadata": {
        "colab": {
          "base_uri": "https://localhost:8080/"
        },
        "id": "FhRdBFLIAEpC",
        "outputId": "5e72cd79-fd6d-4524-fa0d-6f7c4dc70650"
      },
      "execution_count": null,
      "outputs": [
        {
          "output_type": "stream",
          "name": "stdout",
          "text": [
            "3634\n",
            "20479\n",
            "I HAD always thought Jack Gisburn rather a cheap genius--though a good fellow enough--so it was no \n"
          ]
        }
      ]
    },
    {
      "cell_type": "markdown",
      "source": [
        "## split a text on whitespace characters (Making a basic tokenizer)"
      ],
      "metadata": {
        "id": "DQofDjAuHNnI"
      }
    },
    {
      "cell_type": "code",
      "source": [
        "import re\n",
        "text = \"Hello, my name is Siddham^ Jain.\"\n",
        "result=re.split(r'(\\s)',text) ##seprate it by only whitespaces\n",
        "result2=re.split(r'([,.]|\\s)',text) ##seprate it by commas and fullstop ya jisse bhi seprate krna h\n",
        "print(result)\n",
        "print(result2)\n",
        "result = [item.strip() for item in result if item.strip()] ##remove any word or whitespace\n",
        "print(result)"
      ],
      "metadata": {
        "colab": {
          "base_uri": "https://localhost:8080/"
        },
        "id": "5bIZr03CAaOd",
        "outputId": "34301c6d-ec78-42bd-fc2b-c319a06f1443"
      },
      "execution_count": null,
      "outputs": [
        {
          "output_type": "stream",
          "name": "stdout",
          "text": [
            "['Hello,', ' ', 'my', ' ', 'name', ' ', 'is', ' ', 'Siddham^', ' ', 'Jain.']\n",
            "['Hello', ',', '', ' ', 'my', ' ', 'name', ' ', 'is', ' ', 'Siddham^', ' ', 'Jain', '.', '']\n",
            "['Hello,', 'my', 'name', 'is', 'Siddham^', 'Jain.']\n"
          ]
        }
      ]
    },
    {
      "cell_type": "markdown",
      "source": [
        "### tokenizing the verdict text"
      ],
      "metadata": {
        "id": "Towz-ZXkK3vo"
      }
    },
    {
      "cell_type": "code",
      "source": [
        "preprocessed = re.split(r'([,.:;?_!\"()\\']|--|\\s)', raw_text)\n",
        "preprocessed = [item.strip() for item in preprocessed if item.strip()]\n",
        "print(preprocessed[:99])\n",
        "print(len(preprocessed))"
      ],
      "metadata": {
        "colab": {
          "base_uri": "https://localhost:8080/"
        },
        "id": "DdlwR_LzHt6-",
        "outputId": "8be7764b-7bd3-47fe-c915-7596b889d6ea"
      },
      "execution_count": null,
      "outputs": [
        {
          "output_type": "stream",
          "name": "stdout",
          "text": [
            "['I', 'HAD', 'always', 'thought', 'Jack', 'Gisburn', 'rather', 'a', 'cheap', 'genius', '--', 'though', 'a', 'good', 'fellow', 'enough', '--', 'so', 'it', 'was', 'no', 'great', 'surprise', 'to', 'me', 'to', 'hear', 'that', ',', 'in', 'the', 'height', 'of', 'his', 'glory', ',', 'he', 'had', 'dropped', 'his', 'painting', ',', 'married', 'a', 'rich', 'widow', ',', 'and', 'established', 'himself', 'in', 'a', 'villa', 'on', 'the', 'Riviera', '.', '(', 'Though', 'I', 'rather', 'thought', 'it', 'would', 'have', 'been', 'Rome', 'or', 'Florence', '.', ')', '\"', 'The', 'height', 'of', 'his', 'glory', '\"', '--', 'that', 'was', 'what', 'the', 'women', 'called', 'it', '.', 'I', 'can', 'hear', 'Mrs', '.', 'Gideon', 'Thwing', '--', 'his', 'last', 'Chicago', 'sitter']\n",
            "4690\n"
          ]
        }
      ]
    },
    {
      "cell_type": "code",
      "source": [
        "print(preprocessed[:40])"
      ],
      "metadata": {
        "colab": {
          "base_uri": "https://localhost:8080/"
        },
        "id": "zl-NwmatAEun",
        "outputId": "00c56b63-c2cc-408b-f4c3-14c7cb9fc099"
      },
      "execution_count": null,
      "outputs": [
        {
          "output_type": "stream",
          "name": "stdout",
          "text": [
            "['I', 'HAD', 'always', 'thought', 'Jack', 'Gisburn', 'rather', 'a', 'cheap', 'genius', '--', 'though', 'a', 'good', 'fellow', 'enough', '--', 'so', 'it', 'was', 'no', 'great', 'surprise', 'to', 'me', 'to', 'hear', 'that', ',', 'in', 'the', 'height', 'of', 'his', 'glory', ',', 'he', 'had', 'dropped', 'his']\n"
          ]
        }
      ]
    },
    {
      "cell_type": "markdown",
      "source": [
        "## Creating a vocabulary"
      ],
      "metadata": {
        "id": "JPUgD-dUNuWp"
      }
    },
    {
      "cell_type": "code",
      "source": [
        "all_words=sorted(set(preprocessed)) #creating list of all unique tokens\n",
        "vocab_size=len(all_words)\n",
        "print(vocab_size)\n",
        "#we have unique without whitespace seprated words now"
      ],
      "metadata": {
        "colab": {
          "base_uri": "https://localhost:8080/"
        },
        "id": "HWIeAguIAE0x",
        "outputId": "78901112-50a6-4647-b549-0fe17a7338ff"
      },
      "execution_count": null,
      "outputs": [
        {
          "output_type": "stream",
          "name": "stdout",
          "text": [
            "1130\n"
          ]
        }
      ]
    },
    {
      "cell_type": "code",
      "source": [
        "vocab={token:integer for integer,token in enumerate(all_words)} # harr word ko ek number dede (integer,token) unpack enumerate\n",
        "for i,item in enumerate(vocab.items()):\n",
        "  print(item)\n",
        "  if(i>=50):\n",
        "   break;\n"
      ],
      "metadata": {
        "id": "SRqEnmcmOi8z",
        "colab": {
          "base_uri": "https://localhost:8080/"
        },
        "outputId": "aba9b23b-68d4-41ca-a3ae-bc724df31bb3"
      },
      "execution_count": null,
      "outputs": [
        {
          "output_type": "stream",
          "name": "stdout",
          "text": [
            "('!', 0)\n",
            "('\"', 1)\n",
            "(\"'\", 2)\n",
            "('(', 3)\n",
            "(')', 4)\n",
            "(',', 5)\n",
            "('--', 6)\n",
            "('.', 7)\n",
            "(':', 8)\n",
            "(';', 9)\n",
            "('?', 10)\n",
            "('A', 11)\n",
            "('Ah', 12)\n",
            "('Among', 13)\n",
            "('And', 14)\n",
            "('Are', 15)\n",
            "('Arrt', 16)\n",
            "('As', 17)\n",
            "('At', 18)\n",
            "('Be', 19)\n",
            "('Begin', 20)\n",
            "('Burlington', 21)\n",
            "('But', 22)\n",
            "('By', 23)\n",
            "('Carlo', 24)\n",
            "('Chicago', 25)\n",
            "('Claude', 26)\n",
            "('Come', 27)\n",
            "('Croft', 28)\n",
            "('Destroyed', 29)\n",
            "('Devonshire', 30)\n",
            "('Don', 31)\n",
            "('Dubarry', 32)\n",
            "('Emperors', 33)\n",
            "('Florence', 34)\n",
            "('For', 35)\n",
            "('Gallery', 36)\n",
            "('Gideon', 37)\n",
            "('Gisburn', 38)\n",
            "('Gisburns', 39)\n",
            "('Grafton', 40)\n",
            "('Greek', 41)\n",
            "('Grindle', 42)\n",
            "('Grindles', 43)\n",
            "('HAD', 44)\n",
            "('Had', 45)\n",
            "('Hang', 46)\n",
            "('Has', 47)\n",
            "('He', 48)\n",
            "('Her', 49)\n",
            "('Hermia', 50)\n"
          ]
        }
      ]
    },
    {
      "cell_type": "markdown",
      "source": [
        "## Implementing a simple text tokenizer"
      ],
      "metadata": {
        "id": "Lye2kKq7K49e"
      }
    },
    {
      "cell_type": "code",
      "source": [
        "  class SimpleTokeninzerV1:\n",
        "    def __init__(self,vocab):\n",
        "      self.str_int=vocab\n",
        "      self.int_str={i:s for s,i in vocab.items()}\n",
        "\n",
        "    def encode(self,text):\n",
        "      preprocessed=re.split(r'([,.?_!\"()\\']|--|\\s)',text)\n",
        "      preprocessed=[i.strip() for i in preprocessed if i.strip()]\n",
        "      ids=[self.str_int[s] for s in preprocessed]\n",
        "      return ids\n",
        "\n",
        "    def decode(self,ids):\n",
        "      text=\" \".join([self.int_str[i] for i  in ids])\n",
        "      text=re.sub(r'\\s+([,.?!\"()\\'])', r'\\1', text)\n",
        "      return text\n",
        "\n"
      ],
      "metadata": {
        "id": "03C2yx6PJ_kI"
      },
      "execution_count": null,
      "outputs": []
    },
    {
      "cell_type": "code",
      "source": [
        "tokenizer=SimpleTokeninzerV1(vocab)\n",
        "text = \"\"\"\"It's the last he painted, you know,\"\n",
        "        Mrs. Gisburn said with pardonable pride.\"\"\"\n",
        "ids=tokenizer.encode(text)\n",
        "print(ids)"
      ],
      "metadata": {
        "id": "HgSZWXsQKdey",
        "colab": {
          "base_uri": "https://localhost:8080/"
        },
        "outputId": "49f10f52-4cad-4d22-9f8d-0e3cf840f75c"
      },
      "execution_count": null,
      "outputs": [
        {
          "output_type": "stream",
          "name": "stdout",
          "text": [
            "[1, 56, 2, 850, 988, 602, 533, 746, 5, 1126, 596, 5, 1, 67, 7, 38, 851, 1108, 754, 793, 7]\n"
          ]
        }
      ]
    },
    {
      "cell_type": "code",
      "source": [
        "print(tokenizer.decode(ids))"
      ],
      "metadata": {
        "id": "Z95Tt1vwKdiM",
        "colab": {
          "base_uri": "https://localhost:8080/"
        },
        "outputId": "d773a2e3-0ff2-443c-c226-38b99dc7c0e5"
      },
      "execution_count": null,
      "outputs": [
        {
          "output_type": "stream",
          "name": "stdout",
          "text": [
            "\" It' s the last he painted, you know,\" Mrs. Gisburn said with pardonable pride.\n"
          ]
        }
      ]
    },
    {
      "cell_type": "code",
      "source": [
        "all_tokens = sorted(list(set(preprocessed)))\n",
        "all_tokens.extend([\"<|endoftext|>\", \"<|unk|>\"])\n",
        "vocab = {token:integer for integer,token in enumerate(all_tokens)}\n",
        "print(len(vocab.items()))"
      ],
      "metadata": {
        "colab": {
          "base_uri": "https://localhost:8080/"
        },
        "id": "A2DThaUt_o41",
        "outputId": "9c181d9d-094f-4bd1-faf9-e074489d9456"
      },
      "execution_count": null,
      "outputs": [
        {
          "output_type": "stream",
          "name": "stdout",
          "text": [
            "1132\n"
          ]
        }
      ]
    },
    {
      "cell_type": "code",
      "source": [
        "class SimpleTokenizerV2:\n",
        "  def __init__(self,vocab):\n",
        "    self.str_int=vocab\n",
        "    self.int_str={i:s for s,i in vocab.items()}\n",
        "\n",
        "\n",
        "  def encode(self,text):\n",
        "    preprocessed = re.split(r'([,.?_!\"()\\']|--|\\s)', text)\n",
        "    preprocessed=[i.strip() for i in preprocessed if i.strip()]\n",
        "    preprocessed=[item if item in self.str_int else \"<|unk|>\" for item in preprocessed]\n",
        "    ids=[self.str_int[s] for s in preprocessed]\n",
        "    return ids\n",
        "\n",
        "\n",
        "  def decode(self,ids):\n",
        "    text=\" \".join(self.int_str[i] for i in ids)\n",
        "    text=re.sub(r'\\s+([,.?!\"()\\'])', r'\\1', text)\n",
        "    return text\n",
        "\n",
        "\n"
      ],
      "metadata": {
        "id": "03D8mG8UKdlK"
      },
      "execution_count": null,
      "outputs": []
    },
    {
      "cell_type": "code",
      "source": [
        "text1 = \"Hello, do you like tea?\"\n",
        "text2 = \"In the sunlit terraces of the palace.\"\n",
        "text = \" <|endoftext|> \".join((text1, text2))\n",
        "print(text)"
      ],
      "metadata": {
        "id": "kmwkRz2WKdny",
        "colab": {
          "base_uri": "https://localhost:8080/"
        },
        "outputId": "bf8d3a02-6d96-430d-b29a-79ba472d7f18"
      },
      "execution_count": null,
      "outputs": [
        {
          "output_type": "stream",
          "name": "stdout",
          "text": [
            "Hello, do you like tea? <|endoftext|> In the sunlit terraces of the palace.\n"
          ]
        }
      ]
    },
    {
      "cell_type": "code",
      "source": [
        "tokenizer = SimpleTokenizerV2(vocab)\n",
        "print(tokenizer.encode(text))"
      ],
      "metadata": {
        "id": "r3VH2VsTKdrD",
        "colab": {
          "base_uri": "https://localhost:8080/"
        },
        "outputId": "d2f48fc8-4c66-4f14-e4f2-65b7a1725832"
      },
      "execution_count": null,
      "outputs": [
        {
          "output_type": "stream",
          "name": "stdout",
          "text": [
            "[1131, 5, 355, 1126, 628, 975, 10, 1130, 55, 988, 956, 984, 722, 988, 1131, 7]\n"
          ]
        }
      ]
    },
    {
      "cell_type": "code",
      "source": [
        "print(tokenizer.decode(tokenizer.encode(text)))"
      ],
      "metadata": {
        "colab": {
          "base_uri": "https://localhost:8080/"
        },
        "id": "yXr98_DKAyLH",
        "outputId": "e50b336a-9b27-4347-9325-08469009d6e7"
      },
      "execution_count": null,
      "outputs": [
        {
          "output_type": "stream",
          "name": "stdout",
          "text": [
            "<|unk|>, do you like tea? <|endoftext|> In the sunlit terraces of the <|unk|>.\n"
          ]
        }
      ]
    },
    {
      "cell_type": "markdown",
      "source": [
        "##Byte Pair Encoding"
      ],
      "metadata": {
        "id": "noEVIt5PBQl8"
      }
    },
    {
      "cell_type": "code",
      "source": [
        "pip install tiktoken==0.7.0"
      ],
      "metadata": {
        "id": "fj53KQ-kAyN5",
        "colab": {
          "base_uri": "https://localhost:8080/"
        },
        "outputId": "780f0493-c3d3-4964-9fab-c2bd08ce7034"
      },
      "execution_count": null,
      "outputs": [
        {
          "output_type": "stream",
          "name": "stdout",
          "text": [
            "Collecting tiktoken==0.7.0\n",
            "  Downloading tiktoken-0.7.0-cp311-cp311-manylinux_2_17_x86_64.manylinux2014_x86_64.whl.metadata (6.6 kB)\n",
            "Requirement already satisfied: regex>=2022.1.18 in /usr/local/lib/python3.11/dist-packages (from tiktoken==0.7.0) (2024.11.6)\n",
            "Requirement already satisfied: requests>=2.26.0 in /usr/local/lib/python3.11/dist-packages (from tiktoken==0.7.0) (2.32.3)\n",
            "Requirement already satisfied: charset-normalizer<4,>=2 in /usr/local/lib/python3.11/dist-packages (from requests>=2.26.0->tiktoken==0.7.0) (3.4.1)\n",
            "Requirement already satisfied: idna<4,>=2.5 in /usr/local/lib/python3.11/dist-packages (from requests>=2.26.0->tiktoken==0.7.0) (3.10)\n",
            "Requirement already satisfied: urllib3<3,>=1.21.1 in /usr/local/lib/python3.11/dist-packages (from requests>=2.26.0->tiktoken==0.7.0) (2.3.0)\n",
            "Requirement already satisfied: certifi>=2017.4.17 in /usr/local/lib/python3.11/dist-packages (from requests>=2.26.0->tiktoken==0.7.0) (2025.1.31)\n",
            "Downloading tiktoken-0.7.0-cp311-cp311-manylinux_2_17_x86_64.manylinux2014_x86_64.whl (1.1 MB)\n",
            "\u001b[?25l   \u001b[90m━━━━━━━━━━━━━━━━━━━━━━━━━━━━━━━━━━━━━━━━\u001b[0m \u001b[32m0.0/1.1 MB\u001b[0m \u001b[31m?\u001b[0m eta \u001b[36m-:--:--\u001b[0m\r\u001b[2K   \u001b[91m━━━━━━\u001b[0m\u001b[91m╸\u001b[0m\u001b[90m━━━━━━━━━━━━━━━━━━━━━━━━━━━━━━━━━\u001b[0m \u001b[32m0.2/1.1 MB\u001b[0m \u001b[31m5.3 MB/s\u001b[0m eta \u001b[36m0:00:01\u001b[0m\r\u001b[2K   \u001b[91m━━━━━━━━━━━━━━━━━━━━━━━━━━━━━━━━━━━━━━━\u001b[0m\u001b[91m╸\u001b[0m \u001b[32m1.1/1.1 MB\u001b[0m \u001b[31m17.9 MB/s\u001b[0m eta \u001b[36m0:00:01\u001b[0m\r\u001b[2K   \u001b[90m━━━━━━━━━━━━━━━━━━━━━━━━━━━━━━━━━━━━━━━━\u001b[0m \u001b[32m1.1/1.1 MB\u001b[0m \u001b[31m13.9 MB/s\u001b[0m eta \u001b[36m0:00:00\u001b[0m\n",
            "\u001b[?25hInstalling collected packages: tiktoken\n",
            "Successfully installed tiktoken-0.7.0\n"
          ]
        }
      ]
    },
    {
      "cell_type": "code",
      "source": [
        "from importlib.metadata import version\n",
        "import tiktoken\n",
        "print(\"tiktoken version:\", version(\"tiktoken\"))"
      ],
      "metadata": {
        "id": "w_n667e7AyQ0",
        "colab": {
          "base_uri": "https://localhost:8080/"
        },
        "outputId": "9e10a533-1291-431c-de17-e93009693b9b"
      },
      "execution_count": null,
      "outputs": [
        {
          "output_type": "stream",
          "name": "stdout",
          "text": [
            "tiktoken version: 0.7.0\n"
          ]
        }
      ]
    },
    {
      "cell_type": "code",
      "source": [
        "tokenizer=tiktoken.get_encoding(\"gpt2\")"
      ],
      "metadata": {
        "id": "Hh2n7tnZDKiX"
      },
      "execution_count": null,
      "outputs": []
    },
    {
      "cell_type": "code",
      "source": [
        "text = (\n",
        " \"Hello, do you like tea? <|endoftext|> In the sunlit terraces\"\n",
        " \"of someunknownPlace.\"\n",
        ")\n",
        "integers=tokenizer.encode(text,allowed_special={\"<|endoftext|>\"})\n",
        "print(integers)"
      ],
      "metadata": {
        "colab": {
          "base_uri": "https://localhost:8080/"
        },
        "id": "rfdNZUoaDKlV",
        "outputId": "e8f863bf-f9c0-4133-e5a6-8634ce5e02f3"
      },
      "execution_count": null,
      "outputs": [
        {
          "output_type": "stream",
          "name": "stdout",
          "text": [
            "[15496, 11, 466, 345, 588, 8887, 30, 220, 50256, 554, 262, 4252, 18250, 8812, 2114, 1659, 617, 34680, 27271, 13]\n"
          ]
        }
      ]
    },
    {
      "cell_type": "code",
      "source": [
        "strings=tokenizer.decode(integers)\n",
        "print(strings)"
      ],
      "metadata": {
        "colab": {
          "base_uri": "https://localhost:8080/"
        },
        "id": "_RWIUFI3DKog",
        "outputId": "db7f3c4d-fcce-40e8-8706-26ae6155b384"
      },
      "execution_count": null,
      "outputs": [
        {
          "output_type": "stream",
          "name": "stdout",
          "text": [
            "Hello, do you like tea? <|endoftext|> In the sunlit terracesof someunknownPlace.\n"
          ]
        }
      ]
    },
    {
      "cell_type": "code",
      "source": [
        "check=tokenizer.encode(\"“Akwirw ier\")\n",
        "print(check)"
      ],
      "metadata": {
        "colab": {
          "base_uri": "https://localhost:8080/"
        },
        "id": "sdGagZNdDKrU",
        "outputId": "93dc0264-1e5a-4429-e4dc-0bf9708d9b1a"
      },
      "execution_count": null,
      "outputs": [
        {
          "output_type": "stream",
          "name": "stdout",
          "text": [
            "[447, 250, 33901, 86, 343, 86, 220, 959]\n"
          ]
        }
      ]
    },
    {
      "cell_type": "code",
      "source": [
        "\n",
        "pric=tokenizer.decode(check)\n"
      ],
      "metadata": {
        "id": "RjD1pa5LDKuL"
      },
      "execution_count": null,
      "outputs": []
    },
    {
      "cell_type": "markdown",
      "source": [
        "##Data sampling with a sliding window"
      ],
      "metadata": {
        "id": "SpmIvpFsO46J"
      }
    },
    {
      "cell_type": "code",
      "source": [
        "!cd /content/drive/MyDrive/"
      ],
      "metadata": {
        "id": "_wN4RfejPu0J"
      },
      "execution_count": null,
      "outputs": []
    },
    {
      "cell_type": "code",
      "source": [
        "with open(\"/content/drive/MyDrive/the-verdict.txt\",\"r\",encoding=\"utf-8\") as f:\n",
        "  raw_text=f.read()\n",
        "\n",
        "enc_text=tokenizer.encode(raw_text)\n",
        "print(enc_text[:50])\n",
        "print(len(enc_text))"
      ],
      "metadata": {
        "colab": {
          "base_uri": "https://localhost:8080/"
        },
        "id": "13i_ArzIO8IX",
        "outputId": "e5a0f589-6c3c-40d4-8098-87207d40b283"
      },
      "execution_count": null,
      "outputs": [
        {
          "output_type": "stream",
          "name": "stdout",
          "text": [
            "[40, 367, 2885, 1464, 1807, 3619, 402, 271, 10899, 2138, 257, 7026, 15632, 438, 2016, 257, 922, 5891, 1576, 438, 568, 340, 373, 645, 1049, 5975, 284, 502, 284, 3285, 326, 11, 287, 262, 6001, 286, 465, 13476, 11, 339, 550, 5710, 465, 12036, 11, 6405, 257, 5527, 27075, 11]\n",
            "5145\n"
          ]
        }
      ]
    },
    {
      "cell_type": "code",
      "source": [
        "enc_sample=enc_text[50:]"
      ],
      "metadata": {
        "id": "ui4wc7yOO8L8"
      },
      "execution_count": null,
      "outputs": []
    },
    {
      "cell_type": "code",
      "source": [
        "from google.colab import drive\n",
        "drive.mount('/content/drive')"
      ],
      "metadata": {
        "colab": {
          "base_uri": "https://localhost:8080/"
        },
        "id": "_0p3gL8Rhf_7",
        "outputId": "fed82e7d-d7c2-4df8-c145-34cb1b18ab88"
      },
      "execution_count": null,
      "outputs": [
        {
          "output_type": "stream",
          "name": "stdout",
          "text": [
            "Drive already mounted at /content/drive; to attempt to forcibly remount, call drive.mount(\"/content/drive\", force_remount=True).\n"
          ]
        }
      ]
    },
    {
      "cell_type": "code",
      "source": [
        "content_size=4\n",
        "x=enc_sample[:content_size]\n",
        "y=enc_sample[1:content_size+1]\n",
        "print(f'x= {x}')\n",
        "print(f'y= {y}')"
      ],
      "metadata": {
        "colab": {
          "base_uri": "https://localhost:8080/"
        },
        "id": "mY9XRiDBO8Os",
        "outputId": "69de55c7-676a-45e9-ad20-f243d990a096"
      },
      "execution_count": null,
      "outputs": [
        {
          "output_type": "stream",
          "name": "stdout",
          "text": [
            "x= [290, 4920, 2241, 287]\n",
            "y= [4920, 2241, 287, 257]\n"
          ]
        }
      ]
    },
    {
      "cell_type": "code",
      "source": [
        "for i in range(1,content_size+1):\n",
        "  context=enc_sample[:i]\n",
        "  desired=enc_sample[i]\n",
        "  print(context,\"------>\",desired)"
      ],
      "metadata": {
        "colab": {
          "base_uri": "https://localhost:8080/"
        },
        "id": "GqEG3eW4RADp",
        "outputId": "d5cc1616-c391-426b-f2d4-b7d48d7cef87"
      },
      "execution_count": null,
      "outputs": [
        {
          "output_type": "stream",
          "name": "stdout",
          "text": [
            "[290] ------> 4920\n",
            "[290, 4920] ------> 2241\n",
            "[290, 4920, 2241] ------> 287\n",
            "[290, 4920, 2241, 287] ------> 257\n"
          ]
        }
      ]
    },
    {
      "cell_type": "code",
      "source": [
        "for i in range(1,content_size+1):\n",
        "  context=enc_sample[:i]\n",
        "  desired=enc_sample[i]\n",
        "  print(tokenizer.decode(context),\"------>\",tokenizer.decode([desired])) #list bana rahe hai kyuki desired ek single integer hai par decode expects list of integers"
      ],
      "metadata": {
        "colab": {
          "base_uri": "https://localhost:8080/"
        },
        "id": "RGuEGoBXR0f-",
        "outputId": "c372e50a-9bd6-4e47-9799-88455e689c05"
      },
      "execution_count": null,
      "outputs": [
        {
          "output_type": "stream",
          "name": "stdout",
          "text": [
            " and ------>  established\n",
            " and established ------>  himself\n",
            " and established himself ------>  in\n",
            " and established himself in ------>  a\n"
          ]
        }
      ]
    },
    {
      "cell_type": "markdown",
      "source": [
        "### Dataset"
      ],
      "metadata": {
        "id": "QeQFQGHBlb55"
      }
    },
    {
      "cell_type": "code",
      "source": [
        "import torch\n",
        "from torch.utils.data import DataLoader,Dataset\n",
        "\n",
        "class GPTDataV1:\n",
        "  def __init__(self,max_length,strider,txt,tokenizer):\n",
        "    self.input_ds=[]\n",
        "    self.output_ds=[]\n",
        "\n",
        "    token_ids=tokenizer.encode(txt)\n",
        "\n",
        "    for i in range(0,len(token_ids)-max_length,strider):\n",
        "      input_chunk=token_ids[i:i+max_length]\n",
        "      output_chunk=token_ids[i+1:i+max_length+1]\n",
        "      self.input_ds.append(torch.tensor(input_chunk))\n",
        "      self.output_ds.append(torch.tensor(output_chunk))\n",
        "\n",
        "  def __len__(self):\n",
        "    return len(self.input_ds)\n",
        "\n",
        "\n",
        "  def __getitem__(self,idx):\n",
        "    return self.input_ds[idx],self.output_ds[idx]\n"
      ],
      "metadata": {
        "id": "_MEnYNhmR0jW"
      },
      "execution_count": null,
      "outputs": []
    },
    {
      "cell_type": "markdown",
      "source": [
        "### DataLoader"
      ],
      "metadata": {
        "id": "U4BB7wUslfDD"
      }
    },
    {
      "cell_type": "code",
      "source": [
        "def dataloadv1(txt,batch_size=4,max_length=256,strider=392,shuffle=True,drop_last=True,num_workers=0): #random values (just declaring)\n",
        "  tokenizer=tiktoken.get_encoding(\"gpt2\")\n",
        "  dataset=GPTDataV1(max_length,strider,txt,tokenizer)\n",
        "  dataloader=DataLoader(dataset,batch_size=batch_size,shuffle=shuffle,drop_last=drop_last,num_workers=num_workers)\n",
        "  return dataloader"
      ],
      "metadata": {
        "id": "4Ctale1uR0mG"
      },
      "execution_count": null,
      "outputs": []
    },
    {
      "cell_type": "code",
      "source": [
        "!pwd"
      ],
      "metadata": {
        "colab": {
          "base_uri": "https://localhost:8080/"
        },
        "id": "07AgRc5cnv_1",
        "outputId": "d84a0adc-d0e3-4ea1-b47d-2a1af47c2368"
      },
      "execution_count": null,
      "outputs": [
        {
          "output_type": "stream",
          "name": "stdout",
          "text": [
            "/content/drive/MyDrive\n"
          ]
        }
      ]
    },
    {
      "cell_type": "code",
      "source": [
        "%cd /content/drive/MyDrive/"
      ],
      "metadata": {
        "colab": {
          "base_uri": "https://localhost:8080/"
        },
        "id": "Ls0CwuWPnyGx",
        "outputId": "285a2c55-10bb-4c0f-9962-0d265cb93d3b"
      },
      "execution_count": null,
      "outputs": [
        {
          "output_type": "stream",
          "name": "stdout",
          "text": [
            "/content/drive/MyDrive\n"
          ]
        }
      ]
    },
    {
      "cell_type": "code",
      "source": [
        "with open (\"the-verdict.txt\",\"r\",encoding=\"utf-8\") as f:\n",
        "  raw_text=f.read()"
      ],
      "metadata": {
        "id": "E8rJVWBwR0sY"
      },
      "execution_count": null,
      "outputs": []
    },
    {
      "cell_type": "code",
      "source": [
        "dataloader=dataloadv1(raw_text,batch_size=2,max_length=3,strider=1,shuffle=False)\n",
        "data_iter=iter(dataloader)\n",
        "x,output=next(data_iter)\n",
        "\n",
        "print(\"Inputs:\\n\", x)\n",
        "print(\"\\nTargets:\\n\", output)"
      ],
      "metadata": {
        "colab": {
          "base_uri": "https://localhost:8080/"
        },
        "id": "fdNKt59LoCwf",
        "outputId": "8214f60d-1460-45cc-ccb3-2095219d10fc"
      },
      "execution_count": null,
      "outputs": [
        {
          "output_type": "stream",
          "name": "stdout",
          "text": [
            "Inputs:\n",
            " tensor([[  40,  367, 2885],\n",
            "        [ 367, 2885, 1464]])\n",
            "\n",
            "Targets:\n",
            " tensor([[ 367, 2885, 1464],\n",
            "        [2885, 1464, 1807]])\n"
          ]
        }
      ]
    },
    {
      "cell_type": "markdown",
      "source": [
        "## Creating token embeddings"
      ],
      "metadata": {
        "id": "HTJJ__vYwdrX"
      }
    },
    {
      "cell_type": "code",
      "source": [
        "input_ids=torch.tensor([3,2,1,34,35])"
      ],
      "metadata": {
        "id": "UQq5-nmWoCzg"
      },
      "execution_count": null,
      "outputs": []
    },
    {
      "cell_type": "code",
      "source": [
        "vocab_size=6\n",
        "output_dim=4"
      ],
      "metadata": {
        "id": "4v3kuYsZoC2L"
      },
      "execution_count": null,
      "outputs": []
    },
    {
      "cell_type": "code",
      "source": [
        "torch.manual_seed(123)\n",
        "embedding_layer = torch.nn.Embedding(vocab_size, output_dim)\n",
        "print(embedding_layer.weight)"
      ],
      "metadata": {
        "colab": {
          "base_uri": "https://localhost:8080/"
        },
        "id": "CdYjX0ff1igo",
        "outputId": "5aa4e884-ca6e-4898-91a9-786aa161fd94"
      },
      "execution_count": null,
      "outputs": [
        {
          "output_type": "stream",
          "name": "stdout",
          "text": [
            "Parameter containing:\n",
            "tensor([[ 0.3374, -0.1778, -0.3035, -0.5880],\n",
            "        [ 0.3486,  0.6603, -0.2196, -0.3792],\n",
            "        [-0.1606, -0.4015,  0.6957, -1.8061],\n",
            "        [ 1.8960, -0.1750,  1.3689, -1.6033],\n",
            "        [-0.7849, -1.4096, -0.4076,  0.7953],\n",
            "        [ 0.9985,  0.2212,  1.8319, -0.3378]], requires_grad=True)\n"
          ]
        }
      ]
    },
    {
      "cell_type": "code",
      "source": [],
      "metadata": {
        "id": "KoS-q8QK1ijj"
      },
      "execution_count": null,
      "outputs": []
    },
    {
      "cell_type": "code",
      "source": [],
      "metadata": {
        "id": "jDxJa3941im3"
      },
      "execution_count": null,
      "outputs": []
    },
    {
      "cell_type": "markdown",
      "source": [
        "## In class exercise"
      ],
      "metadata": {
        "id": "ds83ftVjsX03"
      }
    },
    {
      "cell_type": "code",
      "source": [
        "!pip install tiktoken"
      ],
      "metadata": {
        "id": "K8e-xACAsVKk",
        "colab": {
          "base_uri": "https://localhost:8080/"
        },
        "collapsed": true,
        "outputId": "1bd27fc8-cf8f-4b94-d14c-5f681699573e"
      },
      "execution_count": null,
      "outputs": [
        {
          "output_type": "stream",
          "name": "stdout",
          "text": [
            "Collecting tiktoken\n",
            "  Downloading tiktoken-0.8.0-cp311-cp311-manylinux_2_17_x86_64.manylinux2014_x86_64.whl.metadata (6.6 kB)\n",
            "Requirement already satisfied: regex>=2022.1.18 in /usr/local/lib/python3.11/dist-packages (from tiktoken) (2024.11.6)\n",
            "Requirement already satisfied: requests>=2.26.0 in /usr/local/lib/python3.11/dist-packages (from tiktoken) (2.32.3)\n",
            "Requirement already satisfied: charset-normalizer<4,>=2 in /usr/local/lib/python3.11/dist-packages (from requests>=2.26.0->tiktoken) (3.4.1)\n",
            "Requirement already satisfied: idna<4,>=2.5 in /usr/local/lib/python3.11/dist-packages (from requests>=2.26.0->tiktoken) (3.10)\n",
            "Requirement already satisfied: urllib3<3,>=1.21.1 in /usr/local/lib/python3.11/dist-packages (from requests>=2.26.0->tiktoken) (2.3.0)\n",
            "Requirement already satisfied: certifi>=2017.4.17 in /usr/local/lib/python3.11/dist-packages (from requests>=2.26.0->tiktoken) (2024.12.14)\n",
            "Downloading tiktoken-0.8.0-cp311-cp311-manylinux_2_17_x86_64.manylinux2014_x86_64.whl (1.2 MB)\n",
            "\u001b[?25l   \u001b[90m━━━━━━━━━━━━━━━━━━━━━━━━━━━━━━━━━━━━━━━━\u001b[0m \u001b[32m0.0/1.2 MB\u001b[0m \u001b[31m?\u001b[0m eta \u001b[36m-:--:--\u001b[0m\r\u001b[2K   \u001b[91m━━━━━━━━━━━\u001b[0m\u001b[90m╺\u001b[0m\u001b[90m━━━━━━━━━━━━━━━━━━━━━━━━━━━━\u001b[0m \u001b[32m0.3/1.2 MB\u001b[0m \u001b[31m10.0 MB/s\u001b[0m eta \u001b[36m0:00:01\u001b[0m\r\u001b[2K   \u001b[90m━━━━━━━━━━━━━━━━━━━━━━━━━━━━━━━━━━━━━━━━\u001b[0m \u001b[32m1.2/1.2 MB\u001b[0m \u001b[31m18.8 MB/s\u001b[0m eta \u001b[36m0:00:00\u001b[0m\n",
            "\u001b[?25hInstalling collected packages: tiktoken\n",
            "Successfully installed tiktoken-0.8.0\n"
          ]
        }
      ]
    },
    {
      "cell_type": "code",
      "source": [
        "import tiktoken\n",
        "tokenizer=tiktoken.get_encoding(\"gpt2\")\n",
        "\n",
        "txt=\"My name is Siddham Jain\"\n",
        "intOfTxt=tokenizer.encode(txt)\n",
        "print(intOfTxt)"
      ],
      "metadata": {
        "colab": {
          "base_uri": "https://localhost:8080/"
        },
        "id": "kl7MMKJivV-B",
        "outputId": "db5206d6-b4f1-421e-90f0-1587f2077447"
      },
      "execution_count": null,
      "outputs": [
        {
          "output_type": "stream",
          "name": "stdout",
          "text": [
            "[3666, 1438, 318, 44487, 2763, 449, 391]\n"
          ]
        }
      ]
    },
    {
      "cell_type": "code",
      "source": [
        "txtofInt=tokenizer.decode(intOfTxt)\n",
        "print(txtofInt)"
      ],
      "metadata": {
        "colab": {
          "base_uri": "https://localhost:8080/"
        },
        "id": "FD2gpZeTvq3Y",
        "outputId": "b16cf924-c060-42d2-fb35-efed7b107181"
      },
      "execution_count": null,
      "outputs": [
        {
          "output_type": "stream",
          "name": "stdout",
          "text": [
            "My name is Siddham Jain\n"
          ]
        }
      ]
    },
    {
      "cell_type": "code",
      "source": [
        "%cd /content/drive/MyDrive/"
      ],
      "metadata": {
        "colab": {
          "base_uri": "https://localhost:8080/"
        },
        "id": "JdM2ChhNzs8c",
        "outputId": "f460cbe7-0e31-4750-a58b-96888711abdf"
      },
      "execution_count": null,
      "outputs": [
        {
          "output_type": "stream",
          "name": "stdout",
          "text": [
            "/content/drive/MyDrive\n"
          ]
        }
      ]
    },
    {
      "cell_type": "code",
      "source": [
        "with open('the-verdict.txt','r',encoding='utf-8') as f:\n",
        "  raw_text=f.read()\n",
        "enc_text=tokenizer.encode(raw_text)\n",
        "print(len(enc_text))\n",
        "print(\"T no. of characters:\", len(raw_text))\n",
        "print(raw_text[:99])\n",
        "print(enc_text)"
      ],
      "metadata": {
        "colab": {
          "base_uri": "https://localhost:8080/"
        },
        "id": "Uzl-QQANz1uT",
        "outputId": "27f19cde-bcba-40aa-f4c2-15f8a4993dc6"
      },
      "execution_count": null,
      "outputs": [
        {
          "output_type": "stream",
          "name": "stdout",
          "text": [
            "5145\n",
            "T no. of characters: 20479\n",
            "I HAD always thought Jack Gisburn rather a cheap genius--though a good fellow enough--so it was no \n",
            "[40, 367, 2885, 1464, 1807, 3619, 402, 271, 10899, 2138, 257, 7026, 15632, 438, 2016, 257, 922, 5891, 1576, 438, 568, 340, 373, 645, 1049, 5975, 284, 502, 284, 3285, 326, 11, 287, 262, 6001, 286, 465, 13476, 11, 339, 550, 5710, 465, 12036, 11, 6405, 257, 5527, 27075, 11, 290, 4920, 2241, 287, 257, 4489, 64, 319, 262, 34686, 41976, 13, 357, 10915, 314, 2138, 1807, 340, 561, 423, 587, 10598, 393, 28537, 2014, 198, 198, 1, 464, 6001, 286, 465, 13476, 1, 438, 5562, 373, 644, 262, 1466, 1444, 340, 13, 314, 460, 3285, 9074, 13, 46606, 536, 5469, 438, 14363, 938, 4842, 1650, 353, 438, 2934, 489, 3255, 465, 48422, 540, 450, 67, 3299, 13, 366, 5189, 1781, 340, 338, 1016, 284, 3758, 262, 1988, 286, 616, 4286, 705, 1014, 510, 26, 475, 314, 836, 470, 892, 286, 326, 11, 1770, 13, 8759, 2763, 438, 1169, 2994, 284, 943, 17034, 318, 477, 314, 892, 286, 526, 383, 1573, 11, 319, 9074, 13, 536, 5469, 338, 11914, 11, 33096, 663, 4808, 3808, 62, 355, 996, 484, 547, 12548, 287, 281, 13079, 410, 12523, 286, 22353, 13, 843, 340, 373, 407, 691, 262, 9074, 13, 536, 48819, 508, 25722, 276, 13, 11161, 407, 262, 40123, 18113, 544, 9325, 701, 11, 379, 262, 938, 402, 1617, 261, 12917, 905, 11, 5025, 502, 878, 402, 271, 10899, 338, 366, 31640, 12, 67, 20811, 1, 284, 910, 11, 351, 10953, 287, 607, 2951, 25, 366, 1135, 2236, 407, 804, 2402, 663, 588, 757, 13984, 198, 198, 5779, 28112, 10197, 832, 262, 46475, 286, 18113, 544, 338, 10953, 314, 2936, 1498, 284, 1986, 262, 1109, 351, 1602, 11227, 414, 13, 23676, 3619, 402, 271, 10899, 0, 383, 1466, 550, 925, 683, 438, 270, 373, 15830, 326, 484, 815, 25722, 683, 13, 9754, 465, 898, 1714, 7380, 30090, 547, 2982, 11, 290, 287, 465, 898, 3292, 8941, 257, 4636, 28582, 13, 18612, 35394, 30, 8673, 13, 1002, 340, 547, 11, 262, 15393, 286, 262, 5977, 373, 29178, 3474, 416, 1310, 40559, 11959, 1636, 11, 508, 11, 287, 477, 922, 4562, 11, 3181, 503, 287, 262, 37090, 257, 845, 22665, 366, 672, 270, 2838, 1, 319, 3619, 438, 505, 286, 883, 905, 88, 6685, 42070, 351, 4738, 6276, 871, 326, 314, 423, 2982, 357, 40, 1839, 470, 910, 416, 4150, 8, 3688, 284, 402, 271, 10899, 338, 12036, 13, 843, 523, 438, 14363, 10568, 852, 5729, 11331, 18893, 540, 438, 1169, 5114, 11835, 3724, 503, 11, 290, 11, 355, 9074, 13, 536, 5469, 550, 11001, 11, 262, 2756, 286, 366, 38, 271, 10899, 82, 1, 1816, 510, 13, 198, 198, 1026, 373, 407, 10597, 1115, 812, 1568, 326, 11, 287, 262, 1781, 286, 257, 1178, 2745, 6, 4686, 1359, 319, 262, 34686, 41976, 11, 340, 6451, 5091, 284, 502, 284, 4240, 1521, 402, 271, 10899, 550, 1813, 510, 465, 12036, 13, 1550, 14580, 11, 340, 1107, 373, 257, 29850, 1917, 13, 1675, 24456, 465, 3656, 561, 423, 587, 1165, 2562, 438, 14363, 3148, 1650, 1010, 550, 587, 6699, 262, 1540, 558, 286, 2282, 326, 9074, 13, 402, 271, 10899, 550, 366, 7109, 14655, 683, 866, 526, 1114, 9074, 13, 402, 271, 10899, 438, 292, 884, 438, 18108, 407, 11196, 10597, 3016, 257, 614, 706, 3619, 338, 10568, 550, 587, 2077, 13, 632, 1244, 307, 326, 339, 550, 6405, 607, 438, 20777, 339, 8288, 465, 10152, 438, 13893, 339, 1422, 470, 765, 284, 467, 319, 12036, 26, 475, 340, 561, 423, 587, 1327, 284, 5879, 326, 339, 550, 1813, 510, 465, 12036, 780, 339, 550, 6405, 607, 13, 198, 198, 5189, 1781, 11, 611, 673, 550, 407, 17901, 683, 866, 11, 673, 550, 8603, 11, 355, 4544, 9325, 701, 42397, 11, 4054, 284, 366, 26282, 683, 510, 1, 438, 7091, 550, 407, 2957, 683, 736, 284, 262, 1396, 417, 13, 1675, 1234, 262, 14093, 656, 465, 1021, 757, 438, 10919, 257, 410, 5040, 329, 257, 3656, 0, 887, 9074, 13, 402, 271, 10899, 4120, 284, 423, 595, 67, 1328, 340, 438, 392, 314, 2936, 340, 1244, 307, 3499, 284, 1064, 503, 1521, 13, 198, 198, 464, 748, 586, 652, 1204, 286, 262, 34686, 41976, 37733, 2346, 284, 884, 14177, 8233, 1020, 5768, 26, 290, 1719, 11, 319, 616, 835, 284, 22489, 40089, 11, 4978, 257, 19350, 286, 3619, 338, 3652, 436, 81, 5286, 8812, 2114, 1022, 262, 279, 1127, 11, 314, 550, 3589, 28068, 294, 1555, 262, 1306, 1110, 13, 198, 198, 40, 1043, 262, 3155, 379, 8887, 11061, 511, 18057, 12, 83, 6037, 26, 290, 9074, 13, 402, 271, 10899, 338, 7062, 373, 523, 2429, 498, 326, 11, 287, 262, 29543, 2745, 11, 314, 4752, 340, 6777, 13, 632, 373, 407, 326, 616, 2583, 408, 373, 366, 47914, 1298, 319, 326, 966, 314, 714, 423, 1813, 4544, 9325, 701, 262, 40830, 12719, 3874, 13, 632, 373, 655, 780, 673, 373, 4808, 1662, 62, 3499, 438, 361, 314, 743, 307, 41746, 12004, 262, 6473, 438, 5562, 314, 1043, 607, 523, 13, 1114, 3619, 11, 477, 465, 1204, 11, 550, 587, 11191, 416, 3499, 1466, 25, 484, 550, 26546, 1068, 465, 1242, 11, 340, 550, 587, 302, 1144, 287, 262, 3024, 12, 4803, 286, 511, 512, 1741, 13, 843, 340, 373, 4361, 5048, 425, 284, 3465, 644, 1245, 262, 366, 25124, 3101, 8137, 286, 16957, 1696, 414, 1, 357, 40, 9577, 4544, 9325, 701, 8, 373, 1719, 319, 683, 13, 198, 198, 40, 423, 4750, 326, 9074, 13, 402, 271, 10899, 373, 5527, 26, 290, 340, 373, 3393, 34953, 856, 326, 607, 5229, 373, 37895, 422, 428, 25179, 257, 19217, 475, 8904, 14676, 13, 632, 318, 11, 355, 257, 3896, 11, 262, 661, 508, 40987, 1637, 508, 651, 749, 503, 286, 340, 26, 290, 3619, 338, 19992, 31564, 286, 465, 3656, 338, 1263, 5236, 9343, 683, 11, 351, 281, 5585, 286, 2818, 922, 12, 49705, 11, 284, 21595, 1133, 340, 656, 5563, 286, 1242, 290, 13064, 13, 1675, 262, 6846, 11, 314, 1276, 751, 11, 339, 6150, 5365, 31655, 26, 475, 339, 373, 7067, 29396, 18443, 12271, 290, 45592, 12, 14792, 5986, 351, 257, 8839, 326, 7284, 35924, 262, 12306, 395, 4133, 13, 198, 198, 1, 26788, 338, 691, 12226, 318, 284, 1234, 8737, 656, 19133, 553, 373, 530, 286, 262, 7877, 72, 3150, 339, 8104, 866, 1973, 262, 37918, 411, 290, 8465, 286, 281, 33954, 271, 3973, 9899, 14678, 40556, 12, 11487, 11, 618, 11, 319, 257, 1568, 1110, 11, 314, 550, 757, 1057, 625, 422, 22489, 40089, 26, 290, 9074, 13, 402, 271, 10899, 11, 307, 3723, 319, 683, 11, 2087, 329, 616, 35957, 25, 366, 14295, 318, 523, 34813, 306, 8564, 284, 790, 1296, 286, 8737, 526, 198, 198, 43920, 3619, 0, 632, 550, 1464, 587, 465, 10030, 284, 423, 1466, 910, 884, 1243, 286, 683, 25, 262, 1109, 815, 307, 900, 866, 287, 1070, 268, 2288, 13, 1867, 7425, 502, 783, 373, 326, 11, 329, 262, 717, 640, 11, 339, 581, 4714, 262, 8216, 13, 314, 550, 1775, 683, 11, 523, 1690, 11, 1615, 3364, 739, 2092, 256, 7657, 438, 9776, 340, 262, 11644, 43778, 3465, 326, 26773, 606, 286, 511, 6799, 454, 30, 1400, 438, 1640, 11, 31414, 1576, 11, 340, 2627, 4156, 326, 339, 373, 16245, 286, 9074, 13, 402, 271, 10899, 438, 69, 623, 1576, 407, 284, 766, 607, 41793, 13, 632, 373, 465, 898, 41793, 339, 3947, 284, 307, 1592, 2259, 739, 438, 14363, 898, 9408, 355, 281, 2134, 329, 5482, 4447, 290, 753, 1072, 13, 198, 198, 1, 3666, 13674, 11, 1201, 314, 1053, 442, 17758, 12036, 661, 836, 470, 910, 326, 3404, 546, 502, 438, 9930, 910, 340, 546, 12622, 41379, 293, 553, 373, 465, 691, 5402, 11, 355, 339, 8278, 422, 262, 3084, 290, 336, 8375, 503, 4291, 262, 4252, 18250, 8812, 558, 13, 198, 198, 40, 27846, 706, 683, 11, 7425, 416, 465, 938, 1573, 13, 12622, 41379, 293, 373, 11, 287, 1109, 11, 5033, 262, 582, 286, 262, 2589, 438, 292, 3619, 2241, 11, 530, 1244, 1234, 340, 11, 550, 587, 262, 582, 286, 262, 1711, 13, 383, 7099, 6802, 373, 531, 284, 423, 7042, 2241, 379, 616, 1545, 338, 3625, 11, 290, 314, 14028, 611, 257, 256, 11912, 286, 35394, 739, 10724, 262, 6846, 338, 11428, 450, 67, 3299, 13, 887, 645, 438, 1640, 340, 373, 407, 10597, 706, 326, 1785, 326, 262, 4808, 13698, 10322, 6532, 62, 8263, 12, 9649, 550, 9258, 284, 3359, 511, 366, 8642, 521, 829, 526, 198, 198, 40, 2900, 284, 9074, 13, 402, 271, 10899, 11, 508, 550, 18459, 1068, 284, 1577, 257, 23844, 286, 7543, 284, 607, 599, 6321, 287, 262, 17423, 12, 3823, 13, 198, 198, 1, 5195, 4808, 10134, 62, 339, 442, 17758, 12036, 1701, 314, 1965, 25891, 13, 198, 198, 3347, 4376, 607, 26928, 351, 257, 9254, 286, 922, 12, 17047, 8167, 5975, 13, 198, 198, 1, 5812, 11, 339, 1595, 470, 4808, 14150, 62, 284, 783, 11, 345, 760, 26, 290, 314, 765, 683, 284, 2883, 2241, 553, 673, 531, 2407, 2391, 13, 198, 198, 40, 3114, 546, 262, 40894, 2330, 12, 6839, 11978, 2119, 11, 351, 663, 4808, 44769, 8270, 12, 332, 660, 62, 410, 1386, 20394, 262, 23755, 286, 262, 14005, 1801, 2093, 41160, 11, 290, 663, 45592, 12, 14792, 1613, 1424, 287, 19217, 24887, 13431, 13, 198, 198, 1, 19242, 339, 442, 17758, 465, 5986, 1165, 30, 314, 4398, 470, 1775, 257, 2060, 530, 287, 262, 2156, 526, 198, 198, 32, 3731, 17979, 286, 32315, 12606, 9074, 13, 402, 271, 10899, 338, 1280, 954, 36368, 13, 366, 1026, 338, 465, 11441, 48740, 11, 345, 760, 13, 679, 1139, 484, 821, 407, 4197, 284, 423, 546, 26, 339, 338, 1908, 606, 477, 1497, 2845, 530, 438, 1820, 18560, 438, 392, 326, 314, 423, 284, 1394, 26148, 526, 198, 198, 6653, 11441, 48740, 438, 14295, 338, 48740, 546, 465, 5986, 30, 2011, 20136, 373, 3957, 588, 262, 26394, 12, 301, 971, 13, 314, 531, 10722, 292, 2280, 284, 616, 2583, 408, 25, 366, 40, 1276, 1107, 766, 534, 18560, 11, 345, 760, 526, 198, 198, 3347, 27846, 503, 2048, 4628, 24882, 379, 262, 8812, 558, 810, 607, 5229, 11, 21081, 782, 278, 287, 257, 14263, 276, 5118, 11, 550, 6578, 257, 24518, 290, 7428, 262, 3394, 20096, 39047, 338, 1182, 1022, 465, 14475, 13, 198, 198, 1, 5779, 11, 1282, 981, 339, 338, 407, 2045, 553, 673, 531, 11, 351, 257, 6487, 326, 3088, 284, 7808, 607, 10927, 1108, 26, 290, 314, 3940, 607, 1022, 262, 30623, 2295, 49406, 286, 262, 6899, 11, 290, 510, 262, 3094, 16046, 351, 1059, 430, 12, 66, 12375, 299, 20896, 82, 24357, 1871, 12734, 379, 1123, 9581, 13, 198, 198, 818, 262, 5391, 76, 395, 5228, 286, 607, 275, 2778, 10840, 11, 10371, 257, 1534, 4241, 286, 19217, 290, 18876, 5563, 11, 9174, 530, 286, 262, 5385, 41186, 39614, 1386, 11, 287, 262, 13203, 5482, 1044, 276, 5739, 13, 383, 5019, 19001, 286, 262, 5739, 1444, 510, 477, 402, 271, 10899, 338, 1613, 0, 198, 198, 27034, 13, 402, 271, 10899, 9859, 736, 262, 4324, 12, 66, 3325, 1299, 11, 3888, 7263, 257, 4808, 73, 446, 259, 13235, 62, 1336, 286, 11398, 35560, 1000, 292, 11, 7121, 281, 3211, 12, 16337, 1497, 11, 290, 531, 25, 366, 1532, 345, 1302, 994, 345, 460, 655, 6687, 284, 766, 340, 13, 314, 550, 340, 625, 262, 24818, 417, 12, 12239, 11, 475, 339, 3636, 470, 1309, 340, 2652, 526, 198, 198, 5297, 438, 40, 714, 655, 6687, 284, 766, 340, 438, 1169, 717, 18560, 286, 3619, 338, 314, 550, 1683, 550, 284, 14022, 616, 2951, 625, 0, 19672, 484, 550, 262, 1295, 286, 15393, 438, 16706, 262, 4318, 6103, 287, 257, 14005, 7872, 393, 4808, 13698, 10322, 6532, 62, 8263, 12, 3823, 11, 393, 257, 36364, 1396, 417, 4624, 523, 326, 340, 1718, 262, 1657, 832, 41160, 286, 1468, 9932, 316, 666, 966, 13, 383, 517, 12949, 1295, 2627, 262, 4286, 1365, 26, 1865, 11, 355, 616, 2951, 6348, 23840, 284, 262, 2063, 12, 2971, 11, 477, 262, 16704, 14482, 1625, 503, 438, 439, 262, 10818, 20597, 32192, 355, 2709, 330, 871, 11, 262, 15910, 286, 16153, 312, 328, 3780, 416, 543, 11, 351, 884, 2784, 9830, 5032, 11, 339, 5257, 284, 36583, 3241, 422, 262, 1103, 1597, 286, 262, 4286, 284, 617, 2495, 11331, 2768, 590, 286, 3703, 13, 9074, 13, 402, 271, 10899, 11, 17728, 257, 8500, 4417, 284, 670, 319, 438, 15464, 11, 355, 340, 547, 11, 523, 16857, 262, 4469, 286, 607, 898, 4286, 438, 18108, 26269, 5223, 287, 281, 8468, 4922, 284, 262, 3359, 286, 428, 3991, 4118, 84, 16579, 13, 383, 4286, 373, 530, 286, 3619, 338, 366, 11576, 395, 553, 355, 465, 21099, 3808, 561, 423, 1234, 340, 438, 270, 7997, 11, 319, 465, 636, 11, 257, 29844, 286, 12749, 11, 257, 22791, 278, 286, 32375, 11, 257, 22486, 11, 965, 2860, 1359, 290, 965, 1397, 11, 326, 14516, 530, 286, 262, 33125, 12, 565, 593, 338, 25304, 4040, 284, 10303, 257, 17972, 13, 632, 1138, 11, 287, 1790, 11, 379, 790, 966, 262, 3512, 286, 14081, 2415, 284, 307, 13055, 366, 11576, 306, 1, 780, 673, 373, 10032, 286, 852, 13055, 366, 34751, 306, 1, 438, 392, 1865, 407, 284, 4425, 281, 22037, 286, 262, 32073, 13, 198, 198, 1, 1026, 338, 262, 938, 339, 13055, 11, 345, 760, 553, 9074, 13, 402, 271, 10899, 531, 351, 27322, 540, 11293, 13, 366, 464, 938, 475, 530, 553, 673, 19267, 5223, 438, 1, 4360, 262, 584, 1595, 470, 954, 11, 780, 339, 6572, 340, 526, 198, 198, 1, 49174, 276, 340, 1701, 314, 373, 546, 284, 1061, 510, 428, 18437, 618, 314, 2982, 257, 2366, 9662, 290, 2497, 3619, 2241, 319, 262, 11387, 13, 198, 198, 1722, 339, 6204, 612, 11, 465, 2832, 287, 262, 16511, 286, 465, 11555, 303, 7821, 13209, 11, 262, 7888, 7586, 9813, 286, 4190, 7121, 736, 422, 465, 2330, 22645, 11, 465, 10904, 4252, 6236, 429, 25839, 9230, 808, 276, 416, 257, 8212, 326, 13663, 262, 9040, 286, 257, 2116, 12, 10414, 738, 285, 23968, 4891, 11, 314, 2936, 284, 644, 257, 4922, 339, 550, 262, 976, 3081, 355, 465, 5986, 438, 1169, 3081, 286, 2045, 1190, 4119, 81, 621, 339, 373, 13, 198, 198, 6653, 3656, 27846, 379, 683, 1207, 8344, 803, 306, 11, 475, 465, 2951, 21650, 1613, 607, 284, 262, 18560, 13, 198, 198, 1, 5246, 13, 8759, 2763, 2227, 284, 766, 340, 553, 673, 2540, 11, 355, 611, 2859, 3500, 5223, 13, 679, 28271, 465, 12450, 11, 991, 16755, 13, 198, 198, 1, 5812, 11, 8759, 2763, 1043, 502, 503, 890, 2084, 553, 339, 531, 15376, 26, 788, 11, 6427, 465, 3211, 832, 6164, 25, 366, 16773, 290, 766, 262, 1334, 286, 262, 2156, 526, 198, 198, 1544, 3751, 340, 284, 502, 351, 257, 1611, 286, 24354, 20154, 11293, 25, 262, 7837, 12, 9649, 11, 262, 5486, 12, 83, 29080, 11, 262, 6576, 12, 565, 418, 1039, 11, 262, 4057, 2655, 12, 8439, 274, 438, 439, 262, 3716, 7106, 6637, 286, 262, 45172, 338, 5928, 3773, 13, 843, 8797, 616, 4240, 3432, 262, 2938, 17547, 339, 531, 11, 9644, 503, 465, 7721, 257, 1310, 25, 366, 5297, 11, 314, 1107, 836, 470, 766, 703, 661, 6687, 284, 2107, 1231, 326, 526, 198, 198, 5779, 438, 270, 373, 655, 262, 886, 530, 1244, 423, 1674, 15898, 329, 683, 13, 5514, 339, 373, 11, 832, 340, 477, 290, 287, 15275, 286, 340, 477, 438, 292, 339, 550, 587, 832, 11, 290, 287, 15275, 286, 11, 465, 5986, 438, 568, 22665, 11, 523, 23332, 11, 523, 595, 18052, 11, 326, 530, 890, 276, 284, 3960, 503, 25, 366, 3856, 44455, 351, 534, 24638, 2474, 355, 1752, 530, 550, 890, 276, 284, 910, 25, 366, 3856, 44455, 351, 534, 670, 2474, 198, 198, 1537, 11, 351, 262, 3960, 319, 616, 11914, 11, 616, 13669, 6989, 281, 10059, 2198, 13, 198, 198, 1, 1212, 318, 616, 898, 49451, 553, 339, 531, 11, 3756, 502, 656, 257, 3223, 8631, 2119, 379, 262, 886, 286, 262, 781, 273, 312, 410, 12523, 13, 632, 373, 6616, 290, 7586, 290, 11620, 88, 25, 645, 366, 34435, 8172, 645, 865, 291, 12, 64, 12, 1671, 330, 11, 4844, 286, 262, 1633, 286, 24380, 329, 20728, 287, 257, 4286, 10273, 438, 29370, 477, 11, 645, 1551, 1051, 286, 1683, 1719, 587, 973, 355, 257, 8034, 13, 198, 198, 464, 1109, 3181, 1363, 284, 502, 262, 4112, 957, 1483, 286, 3619, 338, 2270, 351, 465, 1468, 1204, 13, 198, 198, 1, 3987, 470, 345, 1683, 45553, 903, 351, 7521, 597, 517, 1701, 314, 1965, 11, 991, 2045, 546, 329, 257, 12854, 286, 884, 3842, 13, 198, 198, 1, 12295, 553, 339, 531, 11589, 13, 198, 198, 1, 5574, 1660, 12, 49903, 438, 273, 2123, 10813, 1701, 198, 198, 6653, 6563, 2951, 6348, 5391, 11, 290, 465, 25839, 279, 3021, 257, 1310, 739, 511, 22665, 4252, 10899, 13, 198, 198, 1, 12295, 892, 286, 340, 11, 616, 13674, 5891, 438, 1092, 517, 621, 611, 314, 1549, 1239, 12615, 257, 14093, 526, 198, 198, 1870, 465, 8216, 1297, 502, 287, 257, 7644, 326, 339, 1239, 1807, 286, 1997, 2073, 13, 198, 198, 40, 3888, 1497, 11, 43045, 21100, 416, 616, 10059, 9412, 26, 290, 355, 314, 2900, 11, 616, 4151, 3214, 319, 257, 1402, 4286, 2029, 262, 24818, 417, 12, 12239, 438, 1169, 691, 2134, 7163, 262, 8631, 26210, 3425, 9417, 286, 262, 2119, 13, 198, 198, 1, 5812, 11, 416, 449, 659, 2474, 314, 531, 13, 198, 198, 1026, 373, 257, 17548, 286, 257, 50085, 438, 272, 1468, 10032, 50085, 11, 5055, 287, 262, 6290, 739, 257, 3355, 13, 198, 198, 1, 3886, 449, 659, 438, 64, 520, 5493, 2474, 314, 16896, 13, 198, 198, 1544, 373, 10574, 26, 475, 314, 2936, 683, 1969, 2157, 502, 11, 12704, 257, 1310, 2952, 13, 198, 198, 1, 2061, 257, 4240, 0, 14446, 351, 257, 8667, 3951, 438, 4360, 319, 45697, 19369, 13, 921, 9670, 28022, 11, 810, 750, 345, 651, 340, 1701, 198, 198, 1544, 9373, 6364, 25, 366, 27034, 13, 520, 5493, 2921, 340, 284, 502, 526, 198, 198, 1, 10910, 438, 40, 1422, 470, 760, 345, 772, 2993, 262, 520, 5493, 82, 13, 679, 373, 884, 281, 1167, 2588, 856, 607, 2781, 526, 198, 198, 1, 40, 1422, 470, 438, 83, 359, 706, 13, 764, 764, 764, 1375, 1908, 329, 502, 284, 7521, 683, 618, 339, 373, 2636, 526, 198, 198, 1, 2215, 339, 373, 2636, 30, 921, 1701, 198, 198, 40, 1276, 423, 1309, 257, 1310, 1165, 881, 40642, 972, 6654, 832, 616, 5975, 11, 329, 339, 9373, 351, 257, 1207, 8344, 803, 6487, 25, 366, 5297, 438, 7091, 338, 281, 12659, 2829, 1122, 11, 345, 760, 11, 9074, 13, 520, 5493, 13, 2332, 691, 2126, 373, 284, 423, 683, 1760, 416, 257, 38378, 34537, 438, 993, 11, 3595, 520, 5493, 0, 1375, 1807, 340, 262, 1654, 301, 835, 286, 46431, 465, 27951, 438, 1659, 10833, 340, 319, 257, 1308, 27461, 1171, 13, 843, 379, 262, 2589, 314, 373, 4808, 1169, 62, 38378, 34537, 526, 198, 198, 1, 10910, 11, 3595, 520, 5493, 438, 292, 345, 910, 13, 8920, 4808, 5562, 62, 465, 2106, 1701, 198, 198, 1, 2504, 373, 465, 2106, 13, 1375, 4762, 287, 683, 11, 26996, 798, 287, 683, 438, 273, 1807, 673, 750, 13, 887, 673, 3521, 470, 6842, 407, 284, 423, 477, 262, 8263, 12, 9649, 351, 607, 13, 1375, 3521, 470, 6842, 262, 1109, 326, 11, 319, 1401, 77, 3929, 1528, 11, 530, 714, 1464, 651, 1474, 1576, 284, 766, 465, 5986, 13, 23676, 2415, 0, 1375, 338, 655, 257, 24225, 39136, 278, 329, 584, 21441, 13, 520, 5493, 318, 262, 691, 2187, 314, 1683, 2993, 526, 198, 198, 1, 1639, 1683, 2993, 30, 887, 345, 655, 531, 438, 1, 198, 198, 38, 271, 10899, 550, 257, 11040, 8212, 287, 465, 2951, 13, 198, 198, 1, 5812, 11, 314, 2993, 683, 11, 290, 339, 2993, 502, 438, 8807, 340, 3022, 706, 339, 373, 2636, 526, 198, 198, 40, 5710, 616, 3809, 43045, 13, 366, 2215, 673, 1908, 329, 345, 1701, 198, 198, 1, 5297, 438, 37121, 1035, 27339, 284, 262, 21296, 13, 1375, 2227, 683, 29178, 3474, 438, 392, 416, 502, 2474, 198, 198, 1544, 13818, 757, 11, 290, 9617, 736, 465, 1182, 284, 804, 510, 379, 262, 17548, 286, 262, 50085, 13, 366, 1858, 547, 1528, 618, 314, 3521, 470, 804, 379, 326, 1517, 438, 24089, 77, 470, 1986, 340, 13, 887, 314, 4137, 3589, 284, 1234, 340, 994, 26, 290, 783, 340, 338, 30703, 502, 438, 66, 1522, 502, 13, 1320, 338, 262, 1738, 1521, 314, 836, 470, 45553, 903, 597, 517, 11, 616, 13674, 8759, 2763, 26, 393, 2138, 520, 5493, 2241, 318, 262, 1738, 526, 198, 198, 1890, 262, 717, 640, 616, 21696, 20136, 546, 616, 15185, 2900, 656, 257, 2726, 6227, 284, 1833, 683, 1365, 13, 198, 198, 1, 40, 4601, 345, 1549, 1560, 502, 703, 340, 3022, 553, 314, 531, 13, 198, 198, 1544, 6204, 2045, 510, 379, 262, 17548, 11, 290, 665, 24297, 1022, 465, 9353, 257, 17779, 339, 550, 11564, 284, 1657, 13, 24975, 339, 2900, 3812, 502, 13, 198, 198, 1, 40, 1549, 2138, 588, 284, 1560, 345, 438, 13893, 314, 1053, 1464, 9885, 345, 286, 2376, 26927, 616, 670, 526, 198, 198, 40, 925, 257, 1207, 8344, 803, 18342, 11, 543, 339, 2469, 265, 1572, 351, 257, 922, 12, 17047, 8167, 32545, 13, 198, 198, 1, 5812, 11, 314, 1422, 470, 1337, 257, 14787, 618, 314, 4762, 287, 3589, 438, 392, 783, 340, 338, 281, 2087, 9839, 1022, 514, 2474, 198, 198, 1544, 13818, 4622, 11, 1231, 35987, 11, 290, 7121, 530, 286, 262, 2769, 3211, 12, 49655, 2651, 13, 366, 1858, 25, 787, 3511, 6792, 438, 392, 994, 389, 262, 33204, 345, 588, 526, 198, 198, 1544, 4624, 606, 379, 616, 22662, 290, 3767, 284, 27776, 510, 290, 866, 262, 2119, 11, 12225, 783, 290, 788, 11061, 262, 4286, 13, 198, 198, 1, 2437, 340, 3022, 30, 314, 460, 1560, 345, 287, 1936, 2431, 438, 392, 340, 1422, 470, 1011, 881, 2392, 284, 1645, 13, 764, 764, 764, 314, 460, 3505, 783, 703, 6655, 290, 10607, 314, 373, 618, 314, 1392, 9074, 13, 520, 5493, 338, 3465, 13, 3226, 1781, 11, 2769, 866, 11, 314, 550, 1464, 4808, 31985, 62, 612, 373, 645, 530, 588, 683, 438, 8807, 314, 550, 3750, 351, 262, 4269, 11, 22211, 262, 6678, 40315, 10455, 546, 683, 11, 10597, 314, 2063, 1392, 284, 892, 339, 373, 257, 5287, 11, 530, 286, 262, 1611, 326, 389, 1364, 2157, 13, 2750, 449, 659, 11, 290, 339, 4808, 9776, 62, 1364, 2157, 438, 13893, 339, 550, 1282, 284, 2652, 0, 383, 1334, 286, 514, 550, 284, 1309, 6731, 307, 17676, 1863, 393, 467, 739, 11, 475, 339, 373, 1029, 2029, 262, 1459, 438, 261, 45697, 19369, 11, 355, 345, 910, 13, 198, 198, 1, 5779, 11, 314, 1816, 572, 284, 262, 2156, 287, 616, 749, 34372, 10038, 438, 34330, 3888, 11, 4453, 20927, 502, 11, 379, 262, 3108, 418, 286, 3595, 520, 5493, 338, 3451, 286, 5287, 852, 37492, 416, 262, 13476, 286, 616, 12036, 683, 0, 3226, 1781, 314, 4001, 284, 466, 262, 4286, 329, 2147, 438, 40, 1297, 9074, 13, 520, 5493, 523, 618, 673, 2540, 284, 336, 321, 647, 1223, 546, 607, 8098, 13, 314, 3505, 1972, 572, 257, 40426, 10956, 9546, 546, 262, 15393, 852, 4808, 3810, 62, 438, 1219, 11, 314, 373, 19716, 306, 11, 616, 13674, 8759, 2763, 0, 314, 373, 24380, 284, 3589, 588, 530, 286, 616, 898, 1650, 1010, 13, 198, 198, 1, 6423, 314, 373, 2077, 510, 290, 1364, 3436, 351, 683, 13, 314, 550, 1908, 477, 616, 20348, 287, 5963, 11, 290, 314, 550, 691, 284, 900, 510, 262, 1396, 417, 290, 651, 284, 670, 13, 679, 550, 587, 2636, 691, 8208, 12, 14337, 2250, 11, 290, 339, 3724, 6451, 11, 286, 2612, 4369, 11, 523, 326, 612, 550, 587, 645, 15223, 670, 286, 8166, 438, 14363, 1986, 373, 1598, 290, 36519, 13, 314, 550, 1138, 683, 1752, 393, 5403, 11, 812, 878, 11, 290, 1807, 683, 32081, 290, 44852, 88, 13, 2735, 314, 2497, 326, 339, 373, 21840, 13, 198, 198, 1, 40, 373, 9675, 379, 717, 11, 351, 257, 6974, 19713, 14676, 25, 9675, 284, 423, 616, 1021, 319, 884, 257, 705, 32796, 2637, 3244, 465, 6283, 1204, 12, 46965, 9449, 2540, 284, 2689, 502, 24506, 306, 438, 292, 314, 10226, 262, 1182, 287, 314, 2936, 355, 611, 339, 547, 4964, 502, 466, 340, 13, 383, 18098, 373, 3940, 416, 262, 1807, 25, 611, 339, 4808, 22474, 62, 4964, 502, 11, 644, 561, 339, 910, 284, 616, 835, 286, 1762, 30, 2011, 29483, 2540, 284, 467, 257, 1310, 4295, 438, 40, 2936, 10927, 290, 8627, 13, 198, 198, 1, 7454, 11, 618, 314, 3114, 510, 11, 314, 3947, 284, 766, 257, 8212, 2157, 465, 1969, 12768, 680, 21213, 438, 292, 611, 339, 550, 262, 3200, 11, 290, 547, 28297, 2241, 416, 4769, 340, 736, 422, 502, 13, 1320, 41851, 515, 502, 991, 517, 13, 383, 3200, 30, 4162, 11, 314, 550, 257, 3200, 2861, 8208, 286, 465, 0, 314, 37901, 379, 262, 21978, 44896, 11, 290, 3088, 617, 286, 616, 49025, 5330, 15910, 13, 887, 484, 4054, 502, 11, 484, 1067, 11137, 13, 314, 2497, 326, 339, 2492, 470, 4964, 262, 905, 88, 10340, 438, 40, 3521, 470, 11786, 465, 3241, 26, 339, 655, 4030, 465, 2951, 319, 262, 1327, 22674, 1022, 13, 5845, 547, 262, 3392, 314, 550, 1464, 427, 343, 9091, 11, 393, 5017, 510, 351, 617, 9105, 7521, 13, 843, 703, 339, 2497, 832, 616, 7363, 0, 198, 198, 1, 40, 3114, 510, 757, 11, 290, 4978, 6504, 286, 326, 17548, 286, 262, 50085, 10938, 319, 262, 3355, 1474, 465, 3996, 13, 2399, 3656, 1297, 502, 20875, 340, 373, 262, 938, 1517, 339, 550, 1760, 438, 3137, 257, 3465, 2077, 351, 257, 17275, 1021, 11, 618, 339, 373, 866, 287, 6245, 684, 10695, 20222, 422, 257, 2180, 2612, 1368, 13, 2329, 257, 3465, 0, 887, 340, 4952, 465, 2187, 2106, 13, 1318, 389, 812, 286, 5827, 40987, 913, 30802, 287, 790, 1627, 13, 317, 582, 508, 550, 1509, 388, 351, 262, 1459, 714, 1239, 423, 4499, 326, 18680, 510, 12, 5532, 14000, 13, 764, 764, 764, 198, 198, 1, 40, 2900, 736, 284, 616, 670, 11, 290, 1816, 319, 39136, 278, 290, 285, 4185, 1359, 26, 788, 314, 3114, 379, 262, 50085, 757, 13, 314, 2497, 326, 11, 618, 520, 5493, 8104, 287, 262, 717, 14000, 11, 339, 2993, 655, 644, 262, 886, 561, 307, 13, 679, 550, 17273, 465, 2426, 11, 19233, 340, 11, 11027, 515, 340, 13, 1649, 550, 314, 1760, 326, 351, 597, 286, 616, 1243, 30, 1119, 8020, 470, 587, 4642, 286, 502, 438, 40, 550, 655, 8197, 606, 13, 764, 764, 764, 198, 198, 1, 39, 648, 340, 11, 8759, 2763, 11, 351, 326, 1986, 4964, 502, 314, 3521, 470, 466, 1194, 14000, 13, 383, 8631, 3872, 373, 11, 314, 1422, 470, 760, 810, 284, 1234, 340, 438, 62, 40, 550, 1239, 1900, 44807, 5514, 11, 351, 616, 1650, 1010, 290, 616, 1171, 11, 257, 905, 88, 22870, 286, 9568, 5017, 510, 262, 1109, 438, 40, 655, 9617, 7521, 656, 511, 6698, 13, 764, 764, 764, 3894, 11, 7521, 373, 262, 530, 7090, 883, 2636, 2951, 714, 766, 832, 438, 3826, 3892, 284, 262, 2006, 20212, 19369, 14638, 13, 2094, 470, 345, 760, 703, 11, 287, 3375, 257, 3215, 3303, 11, 772, 6562, 1473, 11, 530, 1139, 2063, 262, 640, 407, 644, 530, 3382, 284, 475, 644, 530, 460, 30, 3894, 438, 5562, 373, 262, 835, 314, 13055, 26, 290, 355, 339, 3830, 612, 290, 7342, 502, 11, 262, 1517, 484, 1444, 616, 705, 23873, 2350, 6, 14707, 588, 257, 2156, 286, 4116, 13, 679, 1422, 470, 10505, 263, 11, 345, 1833, 11, 3595, 520, 5493, 438, 258, 655, 3830, 612, 12703, 4964, 11, 290, 319, 465, 11914, 11, 832, 262, 12768, 21213, 11, 314, 3947, 284, 3285, 262, 1808, 25, 705, 8491, 345, 1654, 345, 760, 810, 345, 821, 2406, 503, 8348, 198, 198, 1, 1532, 314, 714, 423, 13055, 326, 1986, 11, 351, 326, 1808, 319, 340, 11, 314, 815, 423, 1760, 257, 1049, 1517, 13, 383, 1306, 6000, 1517, 373, 284, 766, 326, 314, 3521, 470, 438, 392, 326, 11542, 373, 1813, 502, 13, 887, 11, 11752, 11, 379, 326, 5664, 11, 8759, 2763, 11, 373, 612, 1997, 319, 4534, 314, 3636, 470, 423, 1813, 284, 423, 520, 5493, 6776, 878, 502, 11, 290, 284, 3285, 683, 910, 25, 705, 1026, 338, 407, 1165, 2739, 438, 40, 1183, 905, 345, 703, 30960, 198, 198, 1, 1026, 4808, 9776, 62, 1165, 2739, 438, 270, 561, 423, 587, 11, 772, 611, 339, 1549, 587, 6776, 13, 314, 11856, 510, 616, 20348, 11, 290, 1816, 866, 290, 1297, 9074, 13, 520, 5493, 13, 3226, 1781, 314, 1422, 470, 1560, 607, 4808, 5562, 62, 438, 270, 561, 423, 587, 8312, 284, 607, 13, 314, 2391, 531, 314, 3521, 470, 7521, 683, 11, 326, 314, 373, 1165, 3888, 13, 1375, 2138, 8288, 262, 2126, 438, 7091, 338, 523, 14348, 0, 632, 373, 326, 326, 925, 607, 1577, 502, 262, 50085, 13, 887, 673, 373, 22121, 9247, 379, 407, 1972, 262, 18560, 438, 7091, 750, 523, 765, 683, 705, 28060, 6, 416, 617, 530, 905, 88, 0, 1629, 717, 314, 373, 7787, 673, 3636, 470, 1309, 502, 572, 438, 392, 379, 616, 266, 896, 6, 886, 314, 5220, 41379, 293, 13, 3363, 11, 340, 373, 314, 508, 2067, 41379, 293, 25, 314, 1297, 9074, 13, 520, 5493, 339, 373, 262, 705, 4976, 6, 582, 11, 290, 673, 1297, 8276, 2073, 11, 290, 523, 340, 1392, 284, 307, 2081, 13, 764, 764, 764, 843, 339, 13055, 520, 5493, 1231, 1592, 2259, 26, 290, 673, 9174, 262, 4286, 1871, 607, 5229, 338, 1243, 13, 764, 764, 22135, 198, 198, 1544, 45111, 2241, 866, 287, 262, 3211, 12, 16337, 1474, 6164, 11, 8104, 736, 465, 1182, 11, 290, 47425, 278, 465, 5101, 11061, 340, 11, 3114, 510, 379, 262, 4286, 2029, 262, 18205, 1681, 12, 12239, 13, 198, 198, 1, 40, 588, 284, 14996, 326, 520, 5493, 2241, 561, 423, 1813, 340, 284, 502, 11, 611, 339, 1549, 587, 1498, 284, 910, 644, 339, 1807, 326, 1110, 526, 198, 198, 1870, 11, 287, 3280, 284, 257, 1808, 314, 1234, 2063, 12, 1326, 3147, 1146, 438, 1, 44140, 757, 1701, 339, 30050, 503, 13, 366, 2215, 262, 530, 1517, 326, 6774, 502, 6609, 1474, 683, 318, 326, 314, 2993, 1576, 284, 2666, 572, 1701, 198, 198, 1544, 6204, 510, 290, 8104, 465, 1021, 319, 616, 8163, 351, 257, 6487, 13, 366, 10049, 262, 21296, 286, 340, 318, 326, 314, 4808, 321, 62, 991, 12036, 438, 20777, 41379, 293, 338, 1804, 340, 329, 502, 0, 383, 520, 5493, 82, 1302, 3436, 11, 290, 1645, 1752, 438, 4360, 612, 338, 645, 42393, 803, 674, 1611, 286, 1242, 526]\n"
          ]
        }
      ]
    },
    {
      "cell_type": "code",
      "source": [
        "enc_sample=enc_text[50:]\n",
        "\n",
        "content_size=4\n",
        "x=enc_sample[:content_size]\n",
        "y=enc_sample[1:content_size+1]\n",
        "print(f\"x -{x}\")\n",
        "print (f\"y-{y}\")"
      ],
      "metadata": {
        "colab": {
          "base_uri": "https://localhost:8080/"
        },
        "id": "bPzhhQ3B20A3",
        "outputId": "e1b64f21-d259-4aba-c414-f5ac152d6551"
      },
      "execution_count": null,
      "outputs": [
        {
          "output_type": "stream",
          "name": "stdout",
          "text": [
            "x -[290, 4920, 2241, 287]\n",
            "y-[4920, 2241, 287, 257]\n"
          ]
        }
      ]
    },
    {
      "cell_type": "code",
      "source": [
        "\n",
        "import torch\n",
        "from torch.utils.data import Dataset, DataLoader\n",
        "class GPTDatasetV1(Dataset):\n",
        "    def __init__(self, txt, tokenizer, max_length, stride):\n",
        "        self.input_ids = []\n",
        "        self.target_ids = []\n",
        "        token_ids = tokenizer.encode(txt)\n",
        "        for i in range(0, len(token_ids) - max_length, stride):\n",
        "            input_chunk = token_ids[i:i + max_length]\n",
        "            target_chunk = token_ids[i + 1: i + max_length + 1]\n",
        "            self.input_ids.append(torch.tensor(input_chunk))\n",
        "            self.target_ids.append(torch.tensor(target_chunk))\n",
        "\n",
        "    def __len__(self):\n",
        "        return len(self.input_ids)\n",
        "\n",
        "    def __getitem__(self, idx):\n",
        "        return self.input_ids[idx], self.target_ids[idx]"
      ],
      "metadata": {
        "id": "2srJdXT83khs"
      },
      "execution_count": null,
      "outputs": []
    },
    {
      "cell_type": "code",
      "source": [
        "txt_as_dataset=GPTDatasetV1(raw_text,tokenizer,7,2)"
      ],
      "metadata": {
        "id": "aYMFQGyK7Mhr"
      },
      "execution_count": null,
      "outputs": []
    },
    {
      "cell_type": "code",
      "source": [
        "print(txt_as_dataset.input_ids[2])"
      ],
      "metadata": {
        "colab": {
          "base_uri": "https://localhost:8080/"
        },
        "id": "1UFLHR487fdX",
        "outputId": "3872d7cc-9988-45ef-eab0-5c4ce17563f4"
      },
      "execution_count": null,
      "outputs": [
        {
          "output_type": "stream",
          "name": "stdout",
          "text": [
            "tensor([ 1807,  3619,   402,   271, 10899,  2138,   257])\n"
          ]
        }
      ]
    },
    {
      "cell_type": "code",
      "source": [
        "print(txt_as_dataset.target_ids[2])"
      ],
      "metadata": {
        "colab": {
          "base_uri": "https://localhost:8080/"
        },
        "id": "mBWxQuPREISX",
        "outputId": "29bcb26f-6afc-4523-c12e-dd9e74938563"
      },
      "execution_count": null,
      "outputs": [
        {
          "output_type": "stream",
          "name": "stdout",
          "text": [
            "tensor([ 3619,   402,   271, 10899,  2138,   257,  7026])\n"
          ]
        }
      ]
    },
    {
      "cell_type": "code",
      "source": [
        "#dataloader=DataLoader(dataset=txt,shuffle=True,batch_size=4,drop_last=True)"
      ],
      "metadata": {
        "id": "15qd7-FMCyuH"
      },
      "execution_count": null,
      "outputs": []
    },
    {
      "cell_type": "code",
      "source": [
        "def create_dataloader_v1(txt, batch_size=4, max_length=256,\n",
        "        stride=128, shuffle=True, drop_last=True,\n",
        "        num_workers=0):\n",
        "    tokenizer = tiktoken.get_encoding(\"gpt2\")\n",
        "    dataset = GPTDatasetV1(txt, tokenizer, max_length, stride)\n",
        "    dataloader = DataLoader(\n",
        "        dataset,\n",
        "        batch_size=batch_size,\n",
        "        shuffle=shuffle,\n",
        "        drop_last=drop_last,\n",
        "        num_workers=num_workers\n",
        "    )\n",
        "    return dataloader"
      ],
      "metadata": {
        "id": "yN02iXPjOiBj"
      },
      "execution_count": null,
      "outputs": []
    },
    {
      "cell_type": "code",
      "source": [
        "# demo use of dataloader\n",
        "\n",
        "demo_dataLoader = create_dataloader_v1(raw_text, batch_size=5, max_length=6,stride=1, shuffle=False)\n"
      ],
      "metadata": {
        "id": "PWJXMPMGGa6w"
      },
      "execution_count": null,
      "outputs": []
    },
    {
      "cell_type": "code",
      "source": [
        "list(demo_dataLoader)[0]  #batch size 1"
      ],
      "metadata": {
        "colab": {
          "base_uri": "https://localhost:8080/"
        },
        "id": "OywXsVY4GdAy",
        "outputId": "2f24d4f6-dee5-46ed-e977-480fd5afef13"
      },
      "execution_count": null,
      "outputs": [
        {
          "output_type": "execute_result",
          "data": {
            "text/plain": [
              "[tensor([[   40,   367,  2885,  1464,  1807,  3619],\n",
              "         [  367,  2885,  1464,  1807,  3619,   402],\n",
              "         [ 2885,  1464,  1807,  3619,   402,   271],\n",
              "         [ 1464,  1807,  3619,   402,   271, 10899],\n",
              "         [ 1807,  3619,   402,   271, 10899,  2138]]),\n",
              " tensor([[  367,  2885,  1464,  1807,  3619,   402],\n",
              "         [ 2885,  1464,  1807,  3619,   402,   271],\n",
              "         [ 1464,  1807,  3619,   402,   271, 10899],\n",
              "         [ 1807,  3619,   402,   271, 10899,  2138],\n",
              "         [ 3619,   402,   271, 10899,  2138,   257]])]"
            ]
          },
          "metadata": {},
          "execution_count": 29
        }
      ]
    },
    {
      "cell_type": "code",
      "source": [
        "data_iterator = iter(demo_dataLoader)\n",
        "next(data_iterator)\n"
      ],
      "metadata": {
        "colab": {
          "base_uri": "https://localhost:8080/"
        },
        "id": "Y1kLUXc5Gfon",
        "outputId": "d1607e32-543a-47a8-f418-72735ade7fe7"
      },
      "execution_count": null,
      "outputs": [
        {
          "output_type": "execute_result",
          "data": {
            "text/plain": [
              "[tensor([[   40,   367,  2885,  1464,  1807,  3619],\n",
              "         [  367,  2885,  1464,  1807,  3619,   402],\n",
              "         [ 2885,  1464,  1807,  3619,   402,   271],\n",
              "         [ 1464,  1807,  3619,   402,   271, 10899],\n",
              "         [ 1807,  3619,   402,   271, 10899,  2138]]),\n",
              " tensor([[  367,  2885,  1464,  1807,  3619,   402],\n",
              "         [ 2885,  1464,  1807,  3619,   402,   271],\n",
              "         [ 1464,  1807,  3619,   402,   271, 10899],\n",
              "         [ 1807,  3619,   402,   271, 10899,  2138],\n",
              "         [ 3619,   402,   271, 10899,  2138,   257]])]"
            ]
          },
          "metadata": {},
          "execution_count": 36
        }
      ]
    },
    {
      "cell_type": "code",
      "source": [
        "vocab_size = 6\n",
        "output_dim = 3\n",
        "\n",
        "torch.manual_seed(123)   # not technically for algo. Just put in here for the reproduction of example\n",
        "embedding_layer = torch.nn.Embedding(vocab_size, output_dim)\n",
        "print(embedding_layer.weight)"
      ],
      "metadata": {
        "colab": {
          "base_uri": "https://localhost:8080/"
        },
        "id": "hfibSO0sHZg0",
        "outputId": "9aa7781a-9ef5-4f72-efae-a46d9d92feda"
      },
      "execution_count": null,
      "outputs": [
        {
          "output_type": "stream",
          "name": "stdout",
          "text": [
            "Parameter containing:\n",
            "tensor([[ 0.3374, -0.1778, -0.1690],\n",
            "        [ 0.9178,  1.5810,  1.3010],\n",
            "        [ 1.2753, -0.2010, -0.1606],\n",
            "        [-0.4015,  0.9666, -1.1481],\n",
            "        [-1.1589,  0.3255, -0.6315],\n",
            "        [-2.8400, -0.7849, -1.4096]], requires_grad=True)\n"
          ]
        }
      ]
    },
    {
      "cell_type": "code",
      "source": [
        "input_ids=torch.tensor([1]) #first word ka embedding dedo\n",
        "embedding_layer(input_ids)"
      ],
      "metadata": {
        "colab": {
          "base_uri": "https://localhost:8080/"
        },
        "id": "yFfPFVgOJ3w1",
        "outputId": "d400b37c-9981-4825-b2b5-26438d7f7a32"
      },
      "execution_count": null,
      "outputs": [
        {
          "output_type": "execute_result",
          "data": {
            "text/plain": [
              "tensor([[0.9178, 1.5810, 1.3010]], grad_fn=<EmbeddingBackward0>)"
            ]
          },
          "metadata": {},
          "execution_count": 41
        }
      ]
    },
    {
      "cell_type": "code",
      "source": [
        "\n",
        "input_ids=torch.tensor([1,3])\n",
        "embedding_layer(input_ids)"
      ],
      "metadata": {
        "colab": {
          "base_uri": "https://localhost:8080/"
        },
        "id": "PsSUi8ZyKlIK",
        "outputId": "5d0ce8d5-b961-49e5-a746-11506ef837cf"
      },
      "execution_count": null,
      "outputs": [
        {
          "output_type": "execute_result",
          "data": {
            "text/plain": [
              "tensor([[ 0.9178,  1.5810,  1.3010],\n",
              "        [-0.4015,  0.9666, -1.1481]], grad_fn=<EmbeddingBackward0>)"
            ]
          },
          "metadata": {},
          "execution_count": 50
        }
      ]
    },
    {
      "cell_type": "code",
      "source": [
        "context_length = 4\n",
        "pos_embedding_layer = torch.nn.Embedding(context_length, output_dim)\n",
        "\n",
        "pos_embeddings = pos_embedding_layer(torch.arange(context_length))\n",
        "pos_embeddings\n"
      ],
      "metadata": {
        "colab": {
          "base_uri": "https://localhost:8080/"
        },
        "id": "FSyb9IJvLBam",
        "outputId": "c8292803-005b-42bd-c67b-81eba76ba619"
      },
      "execution_count": null,
      "outputs": [
        {
          "output_type": "execute_result",
          "data": {
            "text/plain": [
              "tensor([[-0.6307,  1.2340,  0.3127],\n",
              "        [ 0.6972, -0.9950, -1.1476],\n",
              "        [-0.9178,  0.9045, -2.0975],\n",
              "        [ 1.1558, -1.2157,  0.1295]], grad_fn=<EmbeddingBackward0>)"
            ]
          },
          "metadata": {},
          "execution_count": 51
        }
      ]
    },
    {
      "cell_type": "code",
      "source": [
        "token_embeddings = embedding_layer(input_ids)\n",
        "token_embeddings"
      ],
      "metadata": {
        "colab": {
          "base_uri": "https://localhost:8080/"
        },
        "id": "euixuiNYNGh7",
        "outputId": "9295d0b8-6b37-4552-bbe2-864f5a2e167c"
      },
      "execution_count": null,
      "outputs": [
        {
          "output_type": "execute_result",
          "data": {
            "text/plain": [
              "tensor([[ 0.9178,  1.5810,  1.3010],\n",
              "        [-0.4015,  0.9666, -1.1481]], grad_fn=<EmbeddingBackward0>)"
            ]
          },
          "metadata": {},
          "execution_count": 52
        }
      ]
    },
    {
      "cell_type": "code",
      "source": [
        "input_embedding = token_embeddings + pos_embeddings\n",
        "input_embedding"
      ],
      "metadata": {
        "colab": {
          "base_uri": "https://localhost:8080/"
        },
        "id": "kCOSZddTNIQe",
        "outputId": "704c995a-8eb3-43cc-ac5f-410781250096"
      },
      "execution_count": null,
      "outputs": [
        {
          "output_type": "error",
          "ename": "RuntimeError",
          "evalue": "The size of tensor a (2) must match the size of tensor b (4) at non-singleton dimension 0",
          "traceback": [
            "\u001b[0;31m---------------------------------------------------------------------------\u001b[0m",
            "\u001b[0;31mRuntimeError\u001b[0m                              Traceback (most recent call last)",
            "\u001b[0;32m<ipython-input-53-ea021895dce1>\u001b[0m in \u001b[0;36m<cell line: 0>\u001b[0;34m()\u001b[0m\n\u001b[0;32m----> 1\u001b[0;31m \u001b[0minput_embedding\u001b[0m \u001b[0;34m=\u001b[0m \u001b[0mtoken_embeddings\u001b[0m \u001b[0;34m+\u001b[0m \u001b[0mpos_embeddings\u001b[0m\u001b[0;34m\u001b[0m\u001b[0;34m\u001b[0m\u001b[0m\n\u001b[0m\u001b[1;32m      2\u001b[0m \u001b[0minput_embedding\u001b[0m\u001b[0;34m\u001b[0m\u001b[0;34m\u001b[0m\u001b[0m\n",
            "\u001b[0;31mRuntimeError\u001b[0m: The size of tensor a (2) must match the size of tensor b (4) at non-singleton dimension 0"
          ]
        }
      ]
    },
    {
      "cell_type": "markdown",
      "source": [
        "#Chapter 3"
      ],
      "metadata": {
        "id": "Po6__V0OKdpG"
      }
    },
    {
      "cell_type": "markdown",
      "source": [
        "![image.png](data:image/png;base64,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)![image.png](\n",
        ")"
      ],
      "metadata": {
        "id": "ITkGets7ofKz"
      }
    },
    {
      "cell_type": "markdown",
      "source": [
        "![image.png](data:image/png;base64,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)"
      ],
      "metadata": {
        "id": "s3jk8vn20N69"
      }
    },
    {
      "cell_type": "markdown",
      "source": [
        "![image.png](data:image/png;base64,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)"
      ],
      "metadata": {
        "id": "h8-Gl4Az3Vt2"
      }
    },
    {
      "cell_type": "code",
      "source": [
        "import torch\n",
        "inputs = torch.tensor(\n",
        "[[0.43, 0.15, 0.89], # Your (x^1)\n",
        "[0.55, 0.87, 0.66], # journey (x^2)\n",
        "[0.57, 0.85, 0.64], # starts (x^3)\n",
        "[0.22, 0.58, 0.33], # with (x^4)\n",
        "[0.77, 0.25, 0.10], # one (x^5)\n",
        "[0.05, 0.80, 0.55]] # step (x^6)\n",
        ")\n",
        "\n",
        "query = inputs[1]\n",
        "attn_scores_2 = torch.empty(inputs.shape[0])\n",
        "for i, x_i in enumerate(inputs):\n",
        "  attn_scores_2[i] = torch.dot(x_i, query)\n",
        "  print(attn_scores_2)"
      ],
      "metadata": {
        "id": "3-Xv7NnXm6AO",
        "colab": {
          "base_uri": "https://localhost:8080/"
        },
        "outputId": "c64ac855-9306-4804-b638-e741c14fa489"
      },
      "execution_count": null,
      "outputs": [
        {
          "output_type": "stream",
          "name": "stdout",
          "text": [
            "tensor([ 9.5440e-01,  4.5382e-41, -7.3418e+14,  4.5382e-41,  6.7963e-43,\n",
            "         0.0000e+00])\n",
            "tensor([ 9.5440e-01,  1.4950e+00, -7.3418e+14,  4.5382e-41,  6.7963e-43,\n",
            "         0.0000e+00])\n",
            "tensor([9.5440e-01, 1.4950e+00, 1.4754e+00, 4.5382e-41, 6.7963e-43, 0.0000e+00])\n",
            "tensor([9.5440e-01, 1.4950e+00, 1.4754e+00, 8.4340e-01, 6.7963e-43, 0.0000e+00])\n",
            "tensor([0.9544, 1.4950, 1.4754, 0.8434, 0.7070, 0.0000])\n",
            "tensor([0.9544, 1.4950, 1.4754, 0.8434, 0.7070, 1.0865])\n"
          ]
        }
      ]
    },
    {
      "cell_type": "code",
      "source": [
        "def softmax_naive(x):\n",
        "  return torch.exp(x) / torch.exp(x).sum(dim=0)\n",
        "\n",
        "\n",
        "attn_weights_2_naive = softmax_naive(attn_scores_2)\n",
        "print(\"Attention weights:\", attn_weights_2_naive)\n",
        "print(\"Sum:\", attn_weights_2_naive.sum())\n"
      ],
      "metadata": {
        "colab": {
          "base_uri": "https://localhost:8080/"
        },
        "id": "ijCCnfdPYJLD",
        "outputId": "5b2cb321-a07e-42ba-d0c1-83e8aac2f0d8"
      },
      "execution_count": null,
      "outputs": [
        {
          "output_type": "stream",
          "name": "stdout",
          "text": [
            "Attention weights: tensor([0.1385, 0.2379, 0.2333, 0.1240, 0.1082, 0.1581])\n",
            "Sum: tensor(1.)\n"
          ]
        }
      ]
    },
    {
      "cell_type": "code",
      "source": [
        "attn_weights_2 = torch.softmax(attn_scores_2, dim=0)\n",
        "print(\"Attention weights:\", attn_weights_2)\n",
        "print(\"Sum:\", attn_weights_2.sum())"
      ],
      "metadata": {
        "colab": {
          "base_uri": "https://localhost:8080/"
        },
        "id": "Y6JfSzpgYJP_",
        "outputId": "337e902a-696f-4f5a-8968-7fb8e663bba7"
      },
      "execution_count": null,
      "outputs": [
        {
          "output_type": "stream",
          "name": "stdout",
          "text": [
            "Attention weights: tensor([0.1385, 0.2379, 0.2333, 0.1240, 0.1082, 0.1581])\n",
            "Sum: tensor(1.)\n"
          ]
        }
      ]
    },
    {
      "cell_type": "code",
      "source": [
        "query = inputs[1]\n",
        "context_vec_2 = torch.zeros(query.shape)\n",
        "for i,x_i in enumerate(inputs):\n",
        "  context_vec_2 += attn_weights_2[i]*x_i\n",
        "  print(context_vec_2)"
      ],
      "metadata": {
        "colab": {
          "base_uri": "https://localhost:8080/"
        },
        "id": "UTHEt-tBYJUu",
        "outputId": "2ea7bc14-8e84-4155-fcac-e8497418f651"
      },
      "execution_count": null,
      "outputs": [
        {
          "output_type": "stream",
          "name": "stdout",
          "text": [
            "tensor([0.0596, 0.0208, 0.1233])\n",
            "tensor([0.1904, 0.2277, 0.2803])\n",
            "tensor([0.3234, 0.4260, 0.4296])\n",
            "tensor([0.3507, 0.4979, 0.4705])\n",
            "tensor([0.4340, 0.5250, 0.4813])\n",
            "tensor([0.4419, 0.6515, 0.5683])\n"
          ]
        }
      ]
    },
    {
      "cell_type": "code",
      "source": [
        "attn_scores = torch.empty(6, 6)\n",
        "for i, x_i in enumerate(inputs):\n",
        "  for j, x_j in enumerate(inputs):\n",
        "    attn_scores[i, j] =  torch.dot(x_i, x_j)\n",
        "print(attn_scores)"
      ],
      "metadata": {
        "colab": {
          "base_uri": "https://localhost:8080/"
        },
        "id": "1mZ42jQ3YJYn",
        "outputId": "3547f3a2-3991-466a-abe4-cf1cf72f3de6"
      },
      "execution_count": null,
      "outputs": [
        {
          "output_type": "stream",
          "name": "stdout",
          "text": [
            "tensor([[0.9995, 0.9544, 0.9422, 0.4753, 0.4576, 0.6310],\n",
            "        [0.9544, 1.4950, 1.4754, 0.8434, 0.7070, 1.0865],\n",
            "        [0.9422, 1.4754, 1.4570, 0.8296, 0.7154, 1.0605],\n",
            "        [0.4753, 0.8434, 0.8296, 0.4937, 0.3474, 0.6565],\n",
            "        [0.4576, 0.7070, 0.7154, 0.3474, 0.6654, 0.2935],\n",
            "        [0.6310, 1.0865, 1.0605, 0.6565, 0.2935, 0.9450]])\n"
          ]
        }
      ]
    },
    {
      "cell_type": "code",
      "source": [
        "attn_scores = inputs @ inputs.T\n",
        "print(attn_scores)"
      ],
      "metadata": {
        "colab": {
          "base_uri": "https://localhost:8080/"
        },
        "id": "o7vkfnwGbXzN",
        "outputId": "c5a26f8d-f6ff-4356-e7d8-f3e864918957"
      },
      "execution_count": null,
      "outputs": [
        {
          "output_type": "stream",
          "name": "stdout",
          "text": [
            "tensor([[0.9995, 0.9544, 0.9422, 0.4753, 0.4576, 0.6310],\n",
            "        [0.9544, 1.4950, 1.4754, 0.8434, 0.7070, 1.0865],\n",
            "        [0.9422, 1.4754, 1.4570, 0.8296, 0.7154, 1.0605],\n",
            "        [0.4753, 0.8434, 0.8296, 0.4937, 0.3474, 0.6565],\n",
            "        [0.4576, 0.7070, 0.7154, 0.3474, 0.6654, 0.2935],\n",
            "        [0.6310, 1.0865, 1.0605, 0.6565, 0.2935, 0.9450]])\n"
          ]
        }
      ]
    },
    {
      "cell_type": "code",
      "source": [
        "attn_weights = torch.softmax(attn_scores, dim=-1)\n",
        "print(attn_weights)"
      ],
      "metadata": {
        "colab": {
          "base_uri": "https://localhost:8080/"
        },
        "id": "wl6LQZQYbekj",
        "outputId": "5fad55fa-66a4-4e26-ac3f-3d2e9cc6a156"
      },
      "execution_count": null,
      "outputs": [
        {
          "output_type": "stream",
          "name": "stdout",
          "text": [
            "tensor([[0.2098, 0.2006, 0.1981, 0.1242, 0.1220, 0.1452],\n",
            "        [0.1385, 0.2379, 0.2333, 0.1240, 0.1082, 0.1581],\n",
            "        [0.1390, 0.2369, 0.2326, 0.1242, 0.1108, 0.1565],\n",
            "        [0.1435, 0.2074, 0.2046, 0.1462, 0.1263, 0.1720],\n",
            "        [0.1526, 0.1958, 0.1975, 0.1367, 0.1879, 0.1295],\n",
            "        [0.1385, 0.2184, 0.2128, 0.1420, 0.0988, 0.1896]])\n"
          ]
        }
      ]
    },
    {
      "cell_type": "code",
      "source": [
        "row_2_sum = sum([0.1385, 0.2379, 0.2333, 0.1240, 0.1082, 0.1581])\n",
        "print(\"Row 2 sum:\", row_2_sum)\n",
        "print(\"All row sums:\", attn_weights.sum(dim=-1))"
      ],
      "metadata": {
        "colab": {
          "base_uri": "https://localhost:8080/"
        },
        "id": "WViDh9yVbiT-",
        "outputId": "03be775e-4d5c-4a8a-ba98-7f7f2e55fe64"
      },
      "execution_count": null,
      "outputs": [
        {
          "output_type": "stream",
          "name": "stdout",
          "text": [
            "Row 2 sum: 1.0\n",
            "All row sums: tensor([1.0000, 1.0000, 1.0000, 1.0000, 1.0000, 1.0000])\n"
          ]
        }
      ]
    },
    {
      "cell_type": "code",
      "source": [
        "all_context_vecs = attn_weights @ inputs\n",
        "print(all_context_vecs)"
      ],
      "metadata": {
        "colab": {
          "base_uri": "https://localhost:8080/"
        },
        "id": "OJp1QvrAbiWy",
        "outputId": "0088138a-f3f4-4e34-fae1-572f820713f4"
      },
      "execution_count": null,
      "outputs": [
        {
          "output_type": "stream",
          "name": "stdout",
          "text": [
            "tensor([[0.4421, 0.5931, 0.5790],\n",
            "        [0.4419, 0.6515, 0.5683],\n",
            "        [0.4431, 0.6496, 0.5671],\n",
            "        [0.4304, 0.6298, 0.5510],\n",
            "        [0.4671, 0.5910, 0.5266],\n",
            "        [0.4177, 0.6503, 0.5645]])\n"
          ]
        }
      ]
    },
    {
      "cell_type": "code",
      "source": [
        "import torch.nn as nn\n",
        "class SelfAttention_v1(nn.Module):\n",
        " def __init__(self, d_in, d_out):\n",
        "  super().__init__()\n",
        "  self.W_query = nn.Parameter(torch.rand(d_in, d_out))\n",
        "  self.W_key = nn.Parameter(torch.rand(d_in, d_out))\n",
        "  self.W_value = nn.Parameter(torch.rand(d_in, d_out))\n",
        " def forward(self, x):\n",
        "  keys = x @ self.W_key\n",
        "  queries = x @ self.W_query\n",
        "  values = x @ self.W_value\n",
        "  attn_scores = queries @ keys.T # omega\n",
        "  attn_weights = torch.softmax(attn_scores / keys.shape[-1]**0.5, dim=-1)\n",
        "  context_vec = attn_weights@values\n",
        "  return context_vec"
      ],
      "metadata": {
        "id": "Nq4CDRzdbiaE"
      },
      "execution_count": null,
      "outputs": []
    },
    {
      "cell_type": "code",
      "source": [
        "class SelfAttention_v2(nn.Module):\n",
        "  def __init__(self, d_in, d_out, qkv_bias=False):\n",
        "    super().__init__()\n",
        "    self.W_query = nn.Linear(d_in, d_out, bias=qkv_bias)\n",
        "    self.W_key = nn.Linear(d_in, d_out, bias=qkv_bias)\n",
        "    self.W_value = nn.Linear(d_in, d_out, bias=qkv_bias)\n",
        "  def forward(self, x):\n",
        "    keys = self.W_key(x)\n",
        "    queries = self.W_query(x)\n",
        "    values = self.W_value(x)\n",
        "    attn_scores = queries @ keys.T\n",
        "    attn_weights = torch.softmax(\n",
        "    attn_scores / keys.shape[-1]**0.5, dim=-1\n",
        ")\n",
        "    context_vec = attn_weights @ values\n",
        "    return context_vec"
      ],
      "metadata": {
        "id": "HIB8UsvSfny_"
      },
      "execution_count": null,
      "outputs": []
    },
    {
      "cell_type": "code",
      "source": [
        "torch.manual_seed(789)\n",
        "sa_v2 = SelfAttention_v2(d_in, d_out)\n",
        "print(sa_v2(inputs))"
      ],
      "metadata": {
        "id": "3ZdzCHRSf9Dq"
      },
      "execution_count": null,
      "outputs": []
    },
    {
      "cell_type": "code",
      "source": [],
      "metadata": {
        "id": "jGS6bnZsgCAb"
      },
      "execution_count": null,
      "outputs": []
    },
    {
      "cell_type": "markdown",
      "source": [
        "##In class"
      ],
      "metadata": {
        "id": "A8JExWA9KrgU"
      }
    },
    {
      "cell_type": "code",
      "source": [
        "import torch\n",
        "\n",
        "d=3 #hyper parameter hai (d) jo humari dimension hai 20000 ki dic hai toh suppose 3 ka leliya vector jisse related sab kuch h\n",
        "T=10  #number of words\n",
        "X=torch.rand((T,d))\n",
        "print(X)\n",
        "print(X.shape)"
      ],
      "metadata": {
        "colab": {
          "base_uri": "https://localhost:8080/"
        },
        "id": "T2xxQUE2KdG7",
        "outputId": "0b334893-97e0-4a0b-b2c8-a2feac97d2a7"
      },
      "execution_count": null,
      "outputs": [
        {
          "output_type": "stream",
          "name": "stdout",
          "text": [
            "tensor([[0.9912, 0.3442, 0.8502],\n",
            "        [0.2069, 0.4965, 0.5921],\n",
            "        [0.7286, 0.2027, 0.7271],\n",
            "        [0.6794, 0.2125, 0.0641],\n",
            "        [0.5085, 0.6832, 0.5739],\n",
            "        [0.2131, 0.7319, 0.0365],\n",
            "        [0.7083, 0.2075, 0.4922],\n",
            "        [0.5517, 0.0164, 0.4870],\n",
            "        [0.3207, 0.8134, 0.8000],\n",
            "        [0.4720, 0.8059, 0.5039]])\n",
            "torch.Size([10, 3])\n"
          ]
        }
      ]
    },
    {
      "cell_type": "code",
      "source": [
        "dk=dv=embed_dim=6 #number of columns in Wq,Wk,Wv (This means that after applying the Linear layers, each token in the input will be projected into a 6-dimensional vector.)\n",
        "\n",
        "qLayer=torch.nn.Linear(d,embed_dim);Q=qLayer(X) #we are creating pipeline\n",
        "kLayer=torch.nn.Linear(d,embed_dim);K=kLayer(X)\n",
        "vLayer=torch.nn.Linear(d,embed_dim);V=vLayer(X)\n",
        "\n",
        "\n",
        "print(\"Q Shape:\", Q.shape)\n",
        "print(\"K Shape:\", K.shape)\n",
        "print(\"V Shape:\", V.shape)"
      ],
      "metadata": {
        "colab": {
          "base_uri": "https://localhost:8080/"
        },
        "id": "9bnld3XZKhpS",
        "outputId": "2e63f2d3-005a-4382-847b-a14b4a787d3c"
      },
      "execution_count": null,
      "outputs": [
        {
          "output_type": "stream",
          "name": "stdout",
          "text": [
            "Q Shape: torch.Size([10, 6])\n",
            "K Shape: torch.Size([10, 6])\n",
            "V Shape: torch.Size([10, 6])\n"
          ]
        }
      ]
    },
    {
      "cell_type": "code",
      "source": [
        "print(qLayer.weight.shape)\n",
        "print(qLayer.bias.shape)"
      ],
      "metadata": {
        "colab": {
          "base_uri": "https://localhost:8080/"
        },
        "id": "7yqE55RO5xtM",
        "outputId": "2cdade0f-91b0-4dc8-a19f-995ab91dba16"
      },
      "execution_count": null,
      "outputs": [
        {
          "output_type": "stream",
          "name": "stdout",
          "text": [
            "torch.Size([6, 3])\n",
            "torch.Size([6])\n"
          ]
        }
      ]
    },
    {
      "cell_type": "code",
      "source": [
        "num_heads=1 #self\n",
        "attentionLayer=torch.nn.MultiheadAttention(embed_dim,num_heads)\n",
        "content_vector, attn_weight = attentionLayer(Q, K, V)\n",
        "print(content_vector.shape)\n",
        "\n",
        "\n",
        "print(attn_weight.shape)"
      ],
      "metadata": {
        "colab": {
          "base_uri": "https://localhost:8080/"
        },
        "id": "nubKnGDbKhsm",
        "outputId": "827279bf-cbfe-4bfb-99fc-a827a03dec59"
      },
      "execution_count": null,
      "outputs": [
        {
          "output_type": "stream",
          "name": "stdout",
          "text": [
            "torch.Size([10, 6])\n",
            "torch.Size([10, 10])\n"
          ]
        }
      ]
    },
    {
      "cell_type": "code",
      "source": [
        "class MyToyAttention_2(torch.nn.Module):\n",
        "    def __init__(self, d, dk):\n",
        "        super().__init__()\n",
        "        self.qLayer = torch.nn.Linear(d, dk)\n",
        "        self.kLayer = torch.nn.Linear(d, dk)\n",
        "        self.vLayer = torch.nn.Linear(d, dk)\n",
        "\n",
        "    def forward(self, X):\n",
        "        Q = self.qLayer(X); K = self.kLayer(X); V = self.vLayer(X)\n",
        "        score = Q @ K.T /dk**0.5\n",
        "        attn_weight=torch.softmax(score,dim=-1)\n",
        "        context_vector=attn_weight @V\n",
        "        return context_vector,attn_weight\n",
        "\n",
        "\n",
        "MyAttentionLayer2=MyToyAttention_2(d,dk)"
      ],
      "metadata": {
        "id": "Om2n3__4Khvl"
      },
      "execution_count": null,
      "outputs": []
    },
    {
      "cell_type": "code",
      "source": [
        "MyAttentionLayer2(X)"
      ],
      "metadata": {
        "id": "k_tKzAktKhyc"
      },
      "execution_count": null,
      "outputs": []
    },
    {
      "cell_type": "code",
      "source": [
        "class Myattention(MyToyAttention_2):\n",
        "   def __init__(self,d,dk):\n",
        "     super().__init__(d, dk)\n",
        "\n",
        "   def times(self, i):\n",
        "    for x in range(i):\n",
        "      context_vector, attn_weight = self.forward(X)\n",
        "\n",
        "attn_layer = Myattention(d, dk)\n",
        "attn_layer.times(3)"
      ],
      "metadata": {
        "id": "__5cqQ3jKh1N"
      },
      "execution_count": null,
      "outputs": []
    },
    {
      "cell_type": "code",
      "source": [],
      "metadata": {
        "id": "6Yi6hr9NbgX4"
      },
      "execution_count": null,
      "outputs": []
    },
    {
      "cell_type": "code",
      "source": [],
      "metadata": {
        "id": "HbuPcY1lbgdU"
      },
      "execution_count": null,
      "outputs": []
    },
    {
      "cell_type": "markdown",
      "source": [
        "#Hugging face"
      ],
      "metadata": {
        "id": "52Hm2TdhvkMT"
      }
    },
    {
      "cell_type": "code",
      "source": [
        "from transformers import pipeline"
      ],
      "metadata": {
        "id": "rBlIMJafvx19"
      },
      "execution_count": null,
      "outputs": []
    },
    {
      "cell_type": "code",
      "source": [
        "import torch\n",
        "import os\n",
        "torch.cuda.empty_cache()  # Clear any existing allocationstorch.backends.cudnn.benchmark = True  # Enable cuDNN auto-tuner\n",
        "    # Add this before creating your pipeline\n",
        "os.environ[\"PYTORCH_CUDA_ALLOC_CONF\"] = \"max_split_size_mb:64\""
      ],
      "metadata": {
        "id": "JsKuSh6l4Sxr"
      },
      "execution_count": null,
      "outputs": []
    },
    {
      "cell_type": "code",
      "source": [
        "# memory footprint support libraries/code\n",
        "!ln -sf /opt/bin/nvidia-smi /usr/bin/nvidia-smi\n",
        "!pip install gputil\n",
        "!pip install psutil\n",
        "!pip install humanize\n",
        "\n",
        "import psutil\n",
        "import humanize\n",
        "import os\n",
        "import GPUtil as GPU\n",
        "\n",
        "GPUs = GPU.getGPUs()\n",
        "\n",
        "gpu = GPUs[0]\n",
        "def printm():\n",
        "    process = psutil.Process(os.getpid())\n",
        "    print(\"Gen RAM Free: \" + humanize.naturalsize(psutil.virtual_memory().available), \" |     Proc size: \" + humanize.naturalsize(process.memory_info().rss))\n",
        "    print(\"GPU RAM Free: {0:.0f}MB | Used: {1:.0f}MB | Util {2:3.0f}% | Total     {3:.0f}MB\".format(gpu.memoryFree, gpu.memoryUsed, gpu.memoryUtil*100, gpu.memoryTotal))\n",
        "printm()"
      ],
      "metadata": {
        "colab": {
          "base_uri": "https://localhost:8080/"
        },
        "id": "l4nxQG2P8mQA",
        "outputId": "dd40c907-bc88-4fd8-cb01-b3e02750caff"
      },
      "execution_count": null,
      "outputs": [
        {
          "output_type": "stream",
          "name": "stdout",
          "text": [
            "Collecting gputil\n",
            "  Downloading GPUtil-1.4.0.tar.gz (5.5 kB)\n",
            "  Preparing metadata (setup.py) ... \u001b[?25l\u001b[?25hdone\n",
            "Building wheels for collected packages: gputil\n",
            "  Building wheel for gputil (setup.py) ... \u001b[?25l\u001b[?25hdone\n",
            "  Created wheel for gputil: filename=GPUtil-1.4.0-py3-none-any.whl size=7392 sha256=ad6091740d91958810f70d7ef4cf06632db7a38179896a535e4969b626e7fbd2\n",
            "  Stored in directory: /root/.cache/pip/wheels/2b/4d/8f/55fb4f7b9b591891e8d3f72977c4ec6c7763b39c19f0861595\n",
            "Successfully built gputil\n",
            "Installing collected packages: gputil\n",
            "Successfully installed gputil-1.4.0\n",
            "Requirement already satisfied: psutil in /usr/local/lib/python3.11/dist-packages (5.9.5)\n",
            "Requirement already satisfied: humanize in /usr/local/lib/python3.11/dist-packages (4.11.0)\n",
            "Gen RAM Free: 11.8 GB  |     Proc size: 132.3 MB\n",
            "GPU RAM Free: 15095MB | Used: 0MB | Util   0% | Total     15360MB\n"
          ]
        }
      ]
    },
    {
      "cell_type": "code",
      "source": [
        "transcriber=pipeline(task=\"automatic-speech-recognition\")"
      ],
      "metadata": {
        "colab": {
          "base_uri": "https://localhost:8080/",
          "height": 420,
          "referenced_widgets": [
            "2fa36ffff58d40139357d7ee184004e1",
            "90c7a2bcb974434aaaf6166852ab35eb",
            "0cb89d748443481598b75195559aee27",
            "019b8e37b0b64d688f56d48ad454bc8f",
            "3c216db498b748079f8597d9f7561bae",
            "b913b3dba4024b02985d8e2887b21ae9",
            "ac0ebe0cdd774aada6beda4cdb479de1",
            "21701c8457ad4811851a8bf643a7f619",
            "8c4e375c9e4140a7b20c505a69a4f353",
            "4d48877e554e459b91a041fdcc2369e6",
            "fc494196bf5e4a67bda983adc34efcc6",
            "e9ef732346d34e8f827670f8014ddd59",
            "124ecfab58c7415d83a490aba6fe250d",
            "d7be0286f08d4081b0a139bc4fa961ab",
            "25489f42d4954998afd2985558a3fb8b",
            "32e098068418410d83b9e2fa80f45e18",
            "4d0068fd3b854f0994f4f287ad0fee7b",
            "728e484a7b5543358d7c379d9a47d342",
            "63c6105bd4fe433f8de361f014010c87",
            "8a1f6c02b9364b6dbe54f192406cc70f",
            "92eecd7fda664393ab89f9e6943a8970",
            "efadceedccfc4d04a873447560c781f4",
            "c648a73788fa435a927d94cf6ce0b732",
            "7137f22554ce4bb28c43b4e65650a372",
            "25c4ec90cf5a4edaa9e797608a05c825",
            "207344cf6fdb40bf87cd81c21e63c03c",
            "267ae5d4178d4910a4e4579886f0bfb0",
            "08d5dd77fad34def8079d4a05eedfd0f",
            "7a952e1f488f48e3b55ff01c87b56383",
            "56a825c806c94aefbf7f3846eddcaf88",
            "5ba36404ed5a4d899127cb19326df7fe",
            "80dcfe43b9e4463fa5879689dd54bdac",
            "9cda7698e19a4e0aad94b07e63b07767",
            "cfc1682e85834c348550404a15c01b17",
            "631c13b116be4741824cc0cd56a42fee",
            "f5000e533094460fa095d28cde850ede",
            "465449fc658f40629afd9783615b2792",
            "6b062d1757744604932ac1e52bbdc973",
            "17bf53ab56994a7fb5da7bf61c4d1ecc",
            "a0b6e47e6d9a42919b05aaf923b0608c",
            "3de7e7ce2d3d4221baf76eced8741e27",
            "8aef4f956bbd40eba63984fda1907bed",
            "d95c084934eb4c12a3154c6161d4dc6c",
            "e4adebf3ab054c8e944c25f8af3a3597",
            "2e1cb05fddb34c8988d4a9260c8da82b",
            "78cdff0c923f481b99eef2e09f2a4c2a",
            "525237739e784f7990591b423afeafa8",
            "65308b2e3297420ba85e62cb222dff20",
            "24e05e7cc56a42acaa5a2ded1490ab0b",
            "348bf798583049449aad07efd63481da",
            "dbf49591655546b39e406d3cf88f7800",
            "995ee5d1e94e4d3c9336986806428151",
            "7c147580ee064a9b96b2b4c6211b2bff",
            "323a3e09040a438980c5bc282b1f6b55",
            "64f8ccc932f64b74819d7e30138f5b38",
            "a7f12cbb7ba448c09a48087202f9fc14",
            "3ab9ec7f7d094779bd690cd79f4b1aea",
            "cc9c91fcfd0e489094953d3d94b7c968",
            "6058780332ad4509b005a6348190c887",
            "8805b0e332254aceb1b751925d691072",
            "6700a92172d044638b10193a48200f83",
            "c7d9b2b98d99494da577ea5c53ca86ab",
            "a1ebd732fec64864b53909bd9a059686",
            "e6cf9ee2cb554317bcfe2815d44ac312",
            "7c1ac86c54894d7186b96dfca80f5eaa",
            "7ff584c59d4b477f8fca3e19c137def5"
          ]
        },
        "id": "ymsf-5ft1BBT",
        "outputId": "adc3bfbb-31c8-4f5d-eb97-e70b26f61024"
      },
      "execution_count": null,
      "outputs": [
        {
          "output_type": "stream",
          "name": "stderr",
          "text": [
            "No model was supplied, defaulted to facebook/wav2vec2-base-960h and revision 22aad52 (https://huggingface.co/facebook/wav2vec2-base-960h).\n",
            "Using a pipeline without specifying a model name and revision in production is not recommended.\n",
            "/usr/local/lib/python3.11/dist-packages/huggingface_hub/utils/_auth.py:94: UserWarning: \n",
            "The secret `HF_TOKEN` does not exist in your Colab secrets.\n",
            "To authenticate with the Hugging Face Hub, create a token in your settings tab (https://huggingface.co/settings/tokens), set it as secret in your Google Colab and restart your session.\n",
            "You will be able to reuse this secret in all of your notebooks.\n",
            "Please note that authentication is recommended but still optional to access public models or datasets.\n",
            "  warnings.warn(\n"
          ]
        },
        {
          "output_type": "display_data",
          "data": {
            "text/plain": [
              "config.json:   0%|          | 0.00/1.60k [00:00<?, ?B/s]"
            ],
            "application/vnd.jupyter.widget-view+json": {
              "version_major": 2,
              "version_minor": 0,
              "model_id": "2fa36ffff58d40139357d7ee184004e1"
            }
          },
          "metadata": {}
        },
        {
          "output_type": "display_data",
          "data": {
            "text/plain": [
              "model.safetensors:   0%|          | 0.00/378M [00:00<?, ?B/s]"
            ],
            "application/vnd.jupyter.widget-view+json": {
              "version_major": 2,
              "version_minor": 0,
              "model_id": "e9ef732346d34e8f827670f8014ddd59"
            }
          },
          "metadata": {}
        },
        {
          "output_type": "stream",
          "name": "stderr",
          "text": [
            "Some weights of Wav2Vec2ForCTC were not initialized from the model checkpoint at facebook/wav2vec2-base-960h and are newly initialized: ['wav2vec2.masked_spec_embed']\n",
            "You should probably TRAIN this model on a down-stream task to be able to use it for predictions and inference.\n"
          ]
        },
        {
          "output_type": "display_data",
          "data": {
            "text/plain": [
              "tokenizer_config.json:   0%|          | 0.00/163 [00:00<?, ?B/s]"
            ],
            "application/vnd.jupyter.widget-view+json": {
              "version_major": 2,
              "version_minor": 0,
              "model_id": "c648a73788fa435a927d94cf6ce0b732"
            }
          },
          "metadata": {}
        },
        {
          "output_type": "display_data",
          "data": {
            "text/plain": [
              "vocab.json:   0%|          | 0.00/291 [00:00<?, ?B/s]"
            ],
            "application/vnd.jupyter.widget-view+json": {
              "version_major": 2,
              "version_minor": 0,
              "model_id": "cfc1682e85834c348550404a15c01b17"
            }
          },
          "metadata": {}
        },
        {
          "output_type": "display_data",
          "data": {
            "text/plain": [
              "special_tokens_map.json:   0%|          | 0.00/85.0 [00:00<?, ?B/s]"
            ],
            "application/vnd.jupyter.widget-view+json": {
              "version_major": 2,
              "version_minor": 0,
              "model_id": "2e1cb05fddb34c8988d4a9260c8da82b"
            }
          },
          "metadata": {}
        },
        {
          "output_type": "display_data",
          "data": {
            "text/plain": [
              "preprocessor_config.json:   0%|          | 0.00/159 [00:00<?, ?B/s]"
            ],
            "application/vnd.jupyter.widget-view+json": {
              "version_major": 2,
              "version_minor": 0,
              "model_id": "a7f12cbb7ba448c09a48087202f9fc14"
            }
          },
          "metadata": {}
        },
        {
          "output_type": "stream",
          "name": "stderr",
          "text": [
            "Device set to use cuda:0\n"
          ]
        }
      ]
    },
    {
      "cell_type": "code",
      "source": [
        "transcriber(\"https://huggingface.co/datasets/Narsil/asr_dummy/resolve/main/mlk.flac\")\n"
      ],
      "metadata": {
        "colab": {
          "base_uri": "https://localhost:8080/"
        },
        "id": "YzGEuJDu1HKd",
        "outputId": "83f9080d-16a6-46f9-b7e1-3129e8f79888"
      },
      "execution_count": null,
      "outputs": [
        {
          "output_type": "execute_result",
          "data": {
            "text/plain": [
              "{'text': 'I HAVE A DREAM BUT ONE DAY THIS NATION WILL RISE UP LIVE UP THE TRUE MEANING OF ITS TREES'}"
            ]
          },
          "metadata": {},
          "execution_count": 3
        }
      ]
    },
    {
      "cell_type": "markdown",
      "source": [
        " https://huggingface.co/models?pipeline_tag=automatic-speech-recognition&sort=trending"
      ],
      "metadata": {
        "id": "2q3VhwGb12FQ"
      }
    },
    {
      "cell_type": "code",
      "source": [
        "transcriber =pipeline(model=\"openai/whisper-large-v3-turbo\",torch_dtype='auto')"
      ],
      "metadata": {
        "colab": {
          "base_uri": "https://localhost:8080/",
          "height": 386,
          "referenced_widgets": [
            "22954a936d7f46308e3bb705f57eda7c",
            "48d029e1a8ea44f3b65489b6d32538ce",
            "2fd5d1599f0742fcbe40e2df586a226b",
            "db2ba2bd292340e1889458d4f471792a",
            "2ed8fd49fa4f4a5389b416da5ca63e7f",
            "0057dfbba4344a21982f4437df64c279",
            "daff819c7d4343a59056d3673c0b940f",
            "ff6dd1f3c0384551a36f2ec74baf1402",
            "d005f6de39354313b6b4df7547fb5a5e",
            "f612b37c28ba45259522635ff1492924",
            "22bb71356a0f414891b961ff31bf73c7",
            "b1059b368dde4938b42a18277c086b15",
            "fc306c9544654fd884d22749a761d8e0",
            "c876e0e150ef465bbb4c4ae7b2be675c",
            "bf05e54a196240e49c22156c90447e8c",
            "fb7ea96e8d3b48d3b6f9451c51df8706",
            "0da302dd45ee424db7126703f93ae594",
            "2959399ec5084cdda4d887a6d8640b8c",
            "3aa0c0da91104918b96492aa2c852ce1",
            "37ac621ccd9849518b8fc6d4a2f48c28",
            "ea9ccaa2ccf94529b3b2d668c655d417",
            "f3c49a4fcfe349b2950a20ce2b14be43",
            "a6c8c529ca69477ba96276531dc7c46a",
            "731951f4d4fa4504a9142c7b88811363",
            "4c025e26d446429689bfc06873189fc1",
            "c9517ad0fd224c3389e9e513ffe60075",
            "a69204a55443464fa43067e3ebae3b05",
            "5b3187e5fe464afabce9063a49e47ceb",
            "c4ef3f56d62846a8bb386f7808621167",
            "8dd8e104ab32481c84d17c14ca331752",
            "4dd6cb59af1548659f28024397cc7643",
            "dbfa02b2761d4ecc8b05171fbfe0b42b",
            "0eb00d3f6e9044219aec768c63705a71",
            "a7efbeff02554feca5253b90f3ad8786",
            "ed325e8f667c4a78a5f0d5317d864d91",
            "8467127865fe4ec89cdd8b71cfde33f8",
            "971a4ffc6a7647239dfd9583e3586f61",
            "c21f2f0402fd49099906f850fdebb044",
            "d3ee80f3325e4f30a8735d9136afa930",
            "5d3abeb1ce804bcea1869fe47a77e112",
            "df5974b0b303422c9b9123432246888a",
            "14ed71e19fa14b78b87b6b0867d7af65",
            "75f6ed019fd341718e9f5c953ccdc02c",
            "a6deb212fef34376b1bb477da17f6f16",
            "2c7d3034db3f4193bf041d9ff796a7f9",
            "62bf9f2958104c20bcf6565a0f3aa57e",
            "5ffac9c60e764863ac213c2fa3ec012a",
            "48814b610e8b4a54ba8a642c0859cb1d",
            "f245a1a1152941c9bfe02d332cf4a917",
            "96dee4f744bd4bdfb4cfe1c7877e1009",
            "1be6ce35c32e409193197b2a8c6cc96f",
            "cc479b9f806a4cc0b028968771f85afa",
            "65c29bd50b974b6c9ac1020c5f6fec4b",
            "0a30d63d5109417f97c7d2f24ebe9b96",
            "59c9fecdab0f45b1a01d344b701ff660",
            "c539caca7e934976b37b7ebbad9dd446",
            "a5fd1ded41a0423ab24d203bbdeca7a3",
            "cd29cb3bf7274e54b837c0b8fb4ed102",
            "235e7075da4d41f39f690302948f6456",
            "f06a8842bf0a4ed88a02a36f11fcd30f",
            "ff3bb9ce7d744f01b9101022f43cecda",
            "2c37464af3cc4861aebe7b1f46e9fa8f",
            "002182b1e2dd47fcbfc58416d79b7f4d",
            "740adbe64e84430ab2ae8fa1b8b92e24",
            "ab6f461786634a9ab410182e2dfd9d49",
            "4b4e35b55dea46a998d1ef7abcad0139",
            "22529e06f7c04c088d0e0cef5ded8514",
            "ad748b84230e4013a515f56adb2c1663",
            "13ae9347aff642d69f8772f66fd3519e",
            "3fe68dfc92c841ae83cc8088761e7328",
            "6acc2a606be641e588809ff11cd0fd64",
            "97c20cbafbc84d42b23e796e0b2beac9",
            "74b0806cfbd74173aad71f73771010ea",
            "42a139ac89764a528c0f629da296fb8c",
            "eb63846dc49f4a7081fdeefed58862d6",
            "5533f99c0cde477aa7608bef730e25c5",
            "29f4dca81c10441aa78519d191bbe017",
            "92d477feed5140918e977ff10875e6a0",
            "3bbc976c5a444a1bb98c26c2f47cee96",
            "692dae9612ca4a57a2ba432344514a57",
            "b10375aa680a47cabc34ec6bb681c0d7",
            "cd79723c515449ab8bebe2dae3f02014",
            "4dee31bb948c46b7b8638d1febcbbc0e",
            "e73b557be3b549699ee0405e7cb894a6",
            "a9f4e6f6c156427189afff3549c088a4",
            "d25a28768f8643598ca44146d958c34b",
            "b788968e1bff46678a060c62de147294",
            "7c80fd5fa42d45f4bd4562a36c17f972",
            "77db9b4fda814f25b5e833707acfbb80",
            "21964b753ad442c0a4f994517e5f612b",
            "12926889b78142a3bb6e1ee294fb4421",
            "c37034205ede48e8a4d5d3628ee5730f",
            "fb0c1041939247f5a1f9c9a6b27c46ab",
            "d7b5bf41ca2b45eb9ce0c3f5013e4950",
            "a05a24de041441c695380e3be1324305",
            "c4b17a95744b46e68e13aafcdaf0f38d",
            "fba35e0cf4904113a22182e4ead2deec",
            "c148de85e9e64e15ac1a6ae385dfc69b",
            "415832f07f8c4f708cf7e2a041dcc295",
            "d14c886435f0493ba1b71d05cc75ac17",
            "20eb4ec3d5a742af8d30b1880327a689",
            "2613da098f0b46839d5102ae60af8e44",
            "23e330bd46ad47b0a5cd40515fa7b14b",
            "ad0f1997caa54fed8734887944fefb0e",
            "3a384e90e9d84d1f887dfa5c0431716a",
            "58b8d10b4a2e409c9d220b2a764d3bc8",
            "2e09741077d849a9956919b88819c578",
            "42c3ca88ab6d4a768c8b26aab6391d7e",
            "c7ca0028b1644d27920c112443c785bc",
            "a992e68f869547e28c64ca8508c55af4",
            "7cef5955e25f4f35a51b1e0b17d00716",
            "bfe4def06d9147bfa6f67bfb0397e0af",
            "67fd5a3dfc4b4d62b92e921cb7b45243",
            "3d6ab765da054eb7bb382f720eee0dd3",
            "bb8d2863890147938d82b5e4b4dfc5fb",
            "1e777ad8fa654230b1fdd8c0924648de",
            "866289385a4f4240a9b503e4584824e8",
            "c5ef4b16c33d48a7b177c07fa0515a2b",
            "9c4c0bed962d48f182b0c574413b8ed4",
            "304677a039b8439bb20c4e5038ee0bd4",
            "64dd3f39707840259403dec2d0b5330f"
          ]
        },
        "id": "N0feyO2I1cVh",
        "outputId": "1fa37808-4b8f-40d5-b90a-37c4be2565ce"
      },
      "execution_count": null,
      "outputs": [
        {
          "output_type": "display_data",
          "data": {
            "text/plain": [
              "config.json:   0%|          | 0.00/1.26k [00:00<?, ?B/s]"
            ],
            "application/vnd.jupyter.widget-view+json": {
              "version_major": 2,
              "version_minor": 0,
              "model_id": "22954a936d7f46308e3bb705f57eda7c"
            }
          },
          "metadata": {}
        },
        {
          "output_type": "display_data",
          "data": {
            "text/plain": [
              "model.safetensors:   0%|          | 0.00/1.62G [00:00<?, ?B/s]"
            ],
            "application/vnd.jupyter.widget-view+json": {
              "version_major": 2,
              "version_minor": 0,
              "model_id": "b1059b368dde4938b42a18277c086b15"
            }
          },
          "metadata": {}
        },
        {
          "output_type": "display_data",
          "data": {
            "text/plain": [
              "generation_config.json:   0%|          | 0.00/3.77k [00:00<?, ?B/s]"
            ],
            "application/vnd.jupyter.widget-view+json": {
              "version_major": 2,
              "version_minor": 0,
              "model_id": "a6c8c529ca69477ba96276531dc7c46a"
            }
          },
          "metadata": {}
        },
        {
          "output_type": "display_data",
          "data": {
            "text/plain": [
              "tokenizer_config.json:   0%|          | 0.00/283k [00:00<?, ?B/s]"
            ],
            "application/vnd.jupyter.widget-view+json": {
              "version_major": 2,
              "version_minor": 0,
              "model_id": "a7efbeff02554feca5253b90f3ad8786"
            }
          },
          "metadata": {}
        },
        {
          "output_type": "display_data",
          "data": {
            "text/plain": [
              "vocab.json:   0%|          | 0.00/1.04M [00:00<?, ?B/s]"
            ],
            "application/vnd.jupyter.widget-view+json": {
              "version_major": 2,
              "version_minor": 0,
              "model_id": "2c7d3034db3f4193bf041d9ff796a7f9"
            }
          },
          "metadata": {}
        },
        {
          "output_type": "display_data",
          "data": {
            "text/plain": [
              "tokenizer.json:   0%|          | 0.00/2.71M [00:00<?, ?B/s]"
            ],
            "application/vnd.jupyter.widget-view+json": {
              "version_major": 2,
              "version_minor": 0,
              "model_id": "c539caca7e934976b37b7ebbad9dd446"
            }
          },
          "metadata": {}
        },
        {
          "output_type": "display_data",
          "data": {
            "text/plain": [
              "merges.txt:   0%|          | 0.00/494k [00:00<?, ?B/s]"
            ],
            "application/vnd.jupyter.widget-view+json": {
              "version_major": 2,
              "version_minor": 0,
              "model_id": "22529e06f7c04c088d0e0cef5ded8514"
            }
          },
          "metadata": {}
        },
        {
          "output_type": "display_data",
          "data": {
            "text/plain": [
              "normalizer.json:   0%|          | 0.00/52.7k [00:00<?, ?B/s]"
            ],
            "application/vnd.jupyter.widget-view+json": {
              "version_major": 2,
              "version_minor": 0,
              "model_id": "92d477feed5140918e977ff10875e6a0"
            }
          },
          "metadata": {}
        },
        {
          "output_type": "display_data",
          "data": {
            "text/plain": [
              "added_tokens.json:   0%|          | 0.00/34.6k [00:00<?, ?B/s]"
            ],
            "application/vnd.jupyter.widget-view+json": {
              "version_major": 2,
              "version_minor": 0,
              "model_id": "77db9b4fda814f25b5e833707acfbb80"
            }
          },
          "metadata": {}
        },
        {
          "output_type": "display_data",
          "data": {
            "text/plain": [
              "special_tokens_map.json:   0%|          | 0.00/2.19k [00:00<?, ?B/s]"
            ],
            "application/vnd.jupyter.widget-view+json": {
              "version_major": 2,
              "version_minor": 0,
              "model_id": "d14c886435f0493ba1b71d05cc75ac17"
            }
          },
          "metadata": {}
        },
        {
          "output_type": "display_data",
          "data": {
            "text/plain": [
              "preprocessor_config.json:   0%|          | 0.00/340 [00:00<?, ?B/s]"
            ],
            "application/vnd.jupyter.widget-view+json": {
              "version_major": 2,
              "version_minor": 0,
              "model_id": "7cef5955e25f4f35a51b1e0b17d00716"
            }
          },
          "metadata": {}
        },
        {
          "output_type": "stream",
          "name": "stderr",
          "text": [
            "Device set to use cuda:0\n"
          ]
        }
      ]
    },
    {
      "cell_type": "code",
      "source": [
        "transcriber(\"https://huggingface.co/datasets/Narsil/asr_dummy/resolve/main/mlk.flac\")"
      ],
      "metadata": {
        "colab": {
          "base_uri": "https://localhost:8080/"
        },
        "id": "nbwsAXRr1u_q",
        "outputId": "fc3914fb-5d75-4acd-90e5-dc264e08e624"
      },
      "execution_count": null,
      "outputs": [
        {
          "output_type": "stream",
          "name": "stderr",
          "text": [
            "/usr/local/lib/python3.11/dist-packages/transformers/models/whisper/generation_whisper.py:573: FutureWarning: The input name `inputs` is deprecated. Please make sure to use `input_features` instead.\n",
            "  warnings.warn(\n",
            "Due to a bug fix in https://github.com/huggingface/transformers/pull/28687 transcription using a multilingual Whisper will default to language detection followed by transcription instead of translation to English.This might be a breaking change for your use case. If you want to instead always translate your audio to English, make sure to pass `language='en'`.\n",
            "Passing a tuple of `past_key_values` is deprecated and will be removed in Transformers v4.43.0. You should pass an instance of `EncoderDecoderCache` instead, e.g. `past_key_values=EncoderDecoderCache.from_legacy_cache(past_key_values)`.\n"
          ]
        },
        {
          "output_type": "execute_result",
          "data": {
            "text/plain": [
              "{'text': ' I have a dream that one day this nation will rise up and live out the true meaning of its creed.'}"
            ]
          },
          "metadata": {},
          "execution_count": 5
        }
      ]
    },
    {
      "cell_type": "code",
      "source": [
        "\n",
        "transcriber = pipeline(model=\"openai/whisper-large-v2\", my_parameter=1)"
      ],
      "metadata": {
        "id": "dItkYhPY17lk",
        "colab": {
          "base_uri": "https://localhost:8080/",
          "height": 673,
          "referenced_widgets": [
            "16a4058d94ae489d967e211b4ec7b9c7",
            "9d32458c77eb4e01963abead18cd8540",
            "0c5c09d38f2a48c290a2c1b998415dba",
            "3ef8a41709da44e3860ce7dcc6640574",
            "741f6027bce1421ea73e45bcbbebcc48",
            "8f7d84176cef4a1dbf97daa377f53b3b",
            "389fdcea306d4e53bdd70c37fba535d1",
            "aeea731383e9415f9af96789e0afcb1f",
            "6818e6e71ddd40ea8ef8cbf17a8c7731",
            "8abc8eec02e74e0395649e88d54425d8",
            "008e56e368fb439fb95579238954703f",
            "1cd868da1aa840c7ac500fc22eea955f",
            "d85b4aa39520405b912c3091c8f47ef6",
            "ba10dd55daf34baf931d578ba4991e17",
            "80ff2fbc15c249cebb906e059be7467d",
            "83b3ea6abb5546e084a0fead7b246945",
            "1525a7e1c1f84872a35bcd63883bb5ac",
            "6062afa2d0514b9089979acc872bed4c",
            "1026636c67a54fb9ac0eb9f1acfdfcc5",
            "e5dad0dff2fd43499c1b248559c44057",
            "2da5c0db50df4ac88b16b33a29083b04",
            "ed357b78a13344fb8c7f1ee6ad8cbfb8",
            "959331a4f65e42af8ee37a2acb16245f",
            "2b5c0c377b9a42d7bd5190fe7a1036f2",
            "919a20a23e574ee5af47360fe586c8ef",
            "1369cbda43e342659ace029455b5c77d",
            "9a86ee41839e464b95acd6646b744fa0",
            "de37403e9b3540c6bb2ef36fff36fadf",
            "0bf234d701c341f0b313b72d971092be",
            "421bf2c332c94f07a6c3b80ebe0a7289",
            "e540e57d388a4e3f975a4b58ddc96800",
            "670e22103a744f2ba7cf08fc6b1c9476",
            "04729e84fd764936a38a035120216573",
            "4de52e350e9c4d658f8f4b83c296d1b5",
            "db6f75c9461e40a6825db35895c4a23e",
            "0b6e7d7479dd46ad8ed7a30293aedf1d",
            "6431ac5ec9d849f9b4c124ce8feaead8",
            "dd2cce1f3aaf448386586f385a787d8e",
            "b399bebba61e4834a75e6ab783d9152d",
            "2b481c2d95cf4268997c0b228016526d",
            "8a4a04d69a2e4f7990dcd335a2d9256e",
            "5a027793ab8a4a3388ef3c5430e399e4",
            "33f181f99e734e97a67ab119e8793ffb",
            "16e4c25404724f7bb31b59bdd8b2028f",
            "181e75434f2e483fb69ab9fda2929f48",
            "ff2a2ad41fea41f78548f1e5aeb8b18f",
            "ae4a1167f3254087a3141d5425ca4e5c",
            "3638e7472b3c4299baaa934e386b64c6",
            "912822a151ed4f11bdb2cbbe9c5b0391",
            "55728e600e2a4e7281e615ad6031e2b2",
            "bbff54f5d737418d87eef835e71c1349",
            "4a9b39aa17fe4417bce5a4aa1cebc6da",
            "ff24e5f5b5614d3e9d9d50c3eb8da7ba",
            "32744a8372ff4f79bde1b2c86cb6819f",
            "b1d1ac3412b24b2ea947b920c387a9e1",
            "35d695d4d2b8452e831b6ef063647776",
            "354fe78ba84e459bbb0545b9ac0cad21",
            "73acfae156cf4d55821aa8771d44c81d",
            "3abbc09559064ac5b4c8eb2fdb8999f0",
            "48e51cd2077043d0b92514b5a7c8cab0",
            "196c177ed6174b9baf58bf83e582506b",
            "d9ff9a47da9744ac85338c8bc007a9b7",
            "ecec8e0f4a584ed59b10eeb312bb85ee",
            "326a59bab61740afb8450b5193d3b823",
            "32888986515c4f81ab457e2ced1365f4",
            "003eee006aa94b16a24bcf96c766665c",
            "b3bc49f977a94591921c46dd5c9b0efb",
            "82d853ff678f4ceba02660e8a3fd7bb2",
            "606e4824d0434079b032cf86aed5e7ba",
            "126131676395488d9a9d33fc947f4c12",
            "28d2fd5f761449178d0b528b3c847c0e",
            "ff4638253dfc43bcb690ff38ce309805",
            "f1be1b00ea8a4ca391cd061fc0f9dfb6",
            "978050c046394ce98283d575d8011bb2",
            "82fca40307574fa9bd2153b539216d60",
            "f4d4f976dcec470e9d12723e82b436f2",
            "31def0b8261c4839b45015d28848d61b",
            "c677ba15ce464fba9568436592de0d68",
            "302488bab7674ef0b9e20754f678f607",
            "ad57ff959180475092b6fd4d415654d3",
            "1f0b28c7d45846a29a50dc6e6b1832d9",
            "11a10531fea84841b9c960c1b4ca1b7f",
            "6b324487d0e94ef7a4e01c677f9cc173",
            "185c024f8c084dfa994d562048979061",
            "b8a5912536df4ca9b0aa4e4e7cd9a845",
            "f7df6437ab3f49f0b5d7f53c5e1c92ba",
            "1b7d9dd4e9eb4d4382be8a98363b00db",
            "9007f7430dae4f14945132845c16d689",
            "b89c38dd8be1451a8139cc3c837be542",
            "0342daf4077d417b924be7c5d1b9a177",
            "f092a14d9bb04e608d9e64bc0a2b5909",
            "608d751346cd4b6ba91fb5f22a579881",
            "b8fb6d675d454f2bac84d8ef06319ab3",
            "22f5e3c1491346e3a36c9ebb265c333b",
            "ee75637141c84ed6b2264946d6a79924",
            "722a4c58994542ecac2005fa6d93d5a2",
            "75a39a2ff3cd49f19a698d8810a09a19",
            "cdd2437707b244b9bbb04f4cb8e0e804",
            "9a2a6dea903248d9b5e89ca421155d3d",
            "964361a31d0a48b28b040f49fcacc926",
            "f86d2dd5932548deb6a16697e03546e2",
            "8978374f983f4a7ab7d5db73e384985c",
            "7103be24d90f4433b6aa9cffa0125ef6",
            "6180f5cde0d54c26ad3f0110a56f2d99",
            "fc42c3bf3d5d49ed9db6a3f8cb717510",
            "d8e4a6ad18d3436b9fc2646dcc9601f4",
            "b7e8f80d11cb4d649d01580864bd4028",
            "5ba2ea9fe1494152b4f3b936b1ef548d",
            "8ae873026ea54dbcb0e995910510311f",
            "69c33b1365dc48fe829c2ba003637b4e",
            "fff4dfbc19bf4ee5a6e1246461094d28",
            "a083d61168d94486aeec741038798607",
            "50d10eb9ffce4d2d909026d970f70b59",
            "b9788ddbe1df49fbbf7133cd6e057306",
            "27e35ac551064f689719c2eb8a496aaf",
            "17d238148bd54982872ece28b5a89828",
            "fc279f61d5a0485a8725f06de97d514e",
            "b825f96d270d41508d54197952d8a2d1",
            "61b8ddd534ee41c3b86cfc0a4303ef4c",
            "25620c9aef904a63b7994713420ec683",
            "ff43b5ee4b4a49dcaae880f0c0e074ad"
          ]
        },
        "outputId": "41101ca1-1433-4237-f663-09847df83f45"
      },
      "execution_count": null,
      "outputs": [
        {
          "output_type": "display_data",
          "data": {
            "text/plain": [
              "config.json:   0%|          | 0.00/1.99k [00:00<?, ?B/s]"
            ],
            "application/vnd.jupyter.widget-view+json": {
              "version_major": 2,
              "version_minor": 0,
              "model_id": "16a4058d94ae489d967e211b4ec7b9c7"
            }
          },
          "metadata": {}
        },
        {
          "output_type": "display_data",
          "data": {
            "text/plain": [
              "model.safetensors:   0%|          | 0.00/6.17G [00:00<?, ?B/s]"
            ],
            "application/vnd.jupyter.widget-view+json": {
              "version_major": 2,
              "version_minor": 0,
              "model_id": "1cd868da1aa840c7ac500fc22eea955f"
            }
          },
          "metadata": {}
        },
        {
          "output_type": "display_data",
          "data": {
            "text/plain": [
              "generation_config.json:   0%|          | 0.00/4.29k [00:00<?, ?B/s]"
            ],
            "application/vnd.jupyter.widget-view+json": {
              "version_major": 2,
              "version_minor": 0,
              "model_id": "959331a4f65e42af8ee37a2acb16245f"
            }
          },
          "metadata": {}
        },
        {
          "output_type": "display_data",
          "data": {
            "text/plain": [
              "tokenizer_config.json:   0%|          | 0.00/283k [00:00<?, ?B/s]"
            ],
            "application/vnd.jupyter.widget-view+json": {
              "version_major": 2,
              "version_minor": 0,
              "model_id": "4de52e350e9c4d658f8f4b83c296d1b5"
            }
          },
          "metadata": {}
        },
        {
          "output_type": "display_data",
          "data": {
            "text/plain": [
              "vocab.json:   0%|          | 0.00/836k [00:00<?, ?B/s]"
            ],
            "application/vnd.jupyter.widget-view+json": {
              "version_major": 2,
              "version_minor": 0,
              "model_id": "181e75434f2e483fb69ab9fda2929f48"
            }
          },
          "metadata": {}
        },
        {
          "output_type": "display_data",
          "data": {
            "text/plain": [
              "tokenizer.json:   0%|          | 0.00/2.48M [00:00<?, ?B/s]"
            ],
            "application/vnd.jupyter.widget-view+json": {
              "version_major": 2,
              "version_minor": 0,
              "model_id": "35d695d4d2b8452e831b6ef063647776"
            }
          },
          "metadata": {}
        },
        {
          "output_type": "display_data",
          "data": {
            "text/plain": [
              "merges.txt:   0%|          | 0.00/494k [00:00<?, ?B/s]"
            ],
            "application/vnd.jupyter.widget-view+json": {
              "version_major": 2,
              "version_minor": 0,
              "model_id": "b3bc49f977a94591921c46dd5c9b0efb"
            }
          },
          "metadata": {}
        },
        {
          "output_type": "display_data",
          "data": {
            "text/plain": [
              "normalizer.json:   0%|          | 0.00/52.7k [00:00<?, ?B/s]"
            ],
            "application/vnd.jupyter.widget-view+json": {
              "version_major": 2,
              "version_minor": 0,
              "model_id": "c677ba15ce464fba9568436592de0d68"
            }
          },
          "metadata": {}
        },
        {
          "output_type": "display_data",
          "data": {
            "text/plain": [
              "added_tokens.json:   0%|          | 0.00/34.6k [00:00<?, ?B/s]"
            ],
            "application/vnd.jupyter.widget-view+json": {
              "version_major": 2,
              "version_minor": 0,
              "model_id": "b89c38dd8be1451a8139cc3c837be542"
            }
          },
          "metadata": {}
        },
        {
          "output_type": "display_data",
          "data": {
            "text/plain": [
              "special_tokens_map.json:   0%|          | 0.00/2.19k [00:00<?, ?B/s]"
            ],
            "application/vnd.jupyter.widget-view+json": {
              "version_major": 2,
              "version_minor": 0,
              "model_id": "964361a31d0a48b28b040f49fcacc926"
            }
          },
          "metadata": {}
        },
        {
          "output_type": "display_data",
          "data": {
            "text/plain": [
              "preprocessor_config.json:   0%|          | 0.00/185k [00:00<?, ?B/s]"
            ],
            "application/vnd.jupyter.widget-view+json": {
              "version_major": 2,
              "version_minor": 0,
              "model_id": "fff4dfbc19bf4ee5a6e1246461094d28"
            }
          },
          "metadata": {}
        },
        {
          "output_type": "stream",
          "name": "stderr",
          "text": [
            "Device set to use cuda:0\n"
          ]
        },
        {
          "output_type": "error",
          "ename": "TypeError",
          "evalue": "AutomaticSpeechRecognitionPipeline._sanitize_parameters() got an unexpected keyword argument 'my_parameter'",
          "traceback": [
            "\u001b[0;31m---------------------------------------------------------------------------\u001b[0m",
            "\u001b[0;31mTypeError\u001b[0m                                 Traceback (most recent call last)",
            "\u001b[0;32m<ipython-input-6-65da4c24dcf0>\u001b[0m in \u001b[0;36m<cell line: 0>\u001b[0;34m()\u001b[0m\n\u001b[0;32m----> 1\u001b[0;31m \u001b[0mtranscriber\u001b[0m \u001b[0;34m=\u001b[0m \u001b[0mpipeline\u001b[0m\u001b[0;34m(\u001b[0m\u001b[0mmodel\u001b[0m\u001b[0;34m=\u001b[0m\u001b[0;34m\"openai/whisper-large-v2\"\u001b[0m\u001b[0;34m,\u001b[0m \u001b[0mmy_parameter\u001b[0m\u001b[0;34m=\u001b[0m\u001b[0;36m1\u001b[0m\u001b[0;34m)\u001b[0m\u001b[0;34m\u001b[0m\u001b[0;34m\u001b[0m\u001b[0m\n\u001b[0m",
            "\u001b[0;32m/usr/local/lib/python3.11/dist-packages/transformers/pipelines/__init__.py\u001b[0m in \u001b[0;36mpipeline\u001b[0;34m(task, model, config, tokenizer, feature_extractor, image_processor, processor, framework, revision, use_fast, token, device, device_map, torch_dtype, trust_remote_code, model_kwargs, pipeline_class, **kwargs)\u001b[0m\n\u001b[1;32m   1176\u001b[0m         \u001b[0mkwargs\u001b[0m\u001b[0;34m[\u001b[0m\u001b[0;34m\"processor\"\u001b[0m\u001b[0;34m]\u001b[0m \u001b[0;34m=\u001b[0m \u001b[0mprocessor\u001b[0m\u001b[0;34m\u001b[0m\u001b[0;34m\u001b[0m\u001b[0m\n\u001b[1;32m   1177\u001b[0m \u001b[0;34m\u001b[0m\u001b[0m\n\u001b[0;32m-> 1178\u001b[0;31m     \u001b[0;32mreturn\u001b[0m \u001b[0mpipeline_class\u001b[0m\u001b[0;34m(\u001b[0m\u001b[0mmodel\u001b[0m\u001b[0;34m=\u001b[0m\u001b[0mmodel\u001b[0m\u001b[0;34m,\u001b[0m \u001b[0mframework\u001b[0m\u001b[0;34m=\u001b[0m\u001b[0mframework\u001b[0m\u001b[0;34m,\u001b[0m \u001b[0mtask\u001b[0m\u001b[0;34m=\u001b[0m\u001b[0mtask\u001b[0m\u001b[0;34m,\u001b[0m \u001b[0;34m**\u001b[0m\u001b[0mkwargs\u001b[0m\u001b[0;34m)\u001b[0m\u001b[0;34m\u001b[0m\u001b[0;34m\u001b[0m\u001b[0m\n\u001b[0m",
            "\u001b[0;32m/usr/local/lib/python3.11/dist-packages/transformers/pipelines/automatic_speech_recognition.py\u001b[0m in \u001b[0;36m__init__\u001b[0;34m(self, model, feature_extractor, tokenizer, decoder, device, torch_dtype, **kwargs)\u001b[0m\n\u001b[1;32m    218\u001b[0m             \u001b[0mself\u001b[0m\u001b[0;34m.\u001b[0m\u001b[0mtype\u001b[0m \u001b[0;34m=\u001b[0m \u001b[0;34m\"ctc\"\u001b[0m\u001b[0;34m\u001b[0m\u001b[0;34m\u001b[0m\u001b[0m\n\u001b[1;32m    219\u001b[0m \u001b[0;34m\u001b[0m\u001b[0m\n\u001b[0;32m--> 220\u001b[0;31m         \u001b[0msuper\u001b[0m\u001b[0;34m(\u001b[0m\u001b[0;34m)\u001b[0m\u001b[0;34m.\u001b[0m\u001b[0m__init__\u001b[0m\u001b[0;34m(\u001b[0m\u001b[0mmodel\u001b[0m\u001b[0;34m,\u001b[0m \u001b[0mtokenizer\u001b[0m\u001b[0;34m,\u001b[0m \u001b[0mfeature_extractor\u001b[0m\u001b[0;34m,\u001b[0m \u001b[0mdevice\u001b[0m\u001b[0;34m=\u001b[0m\u001b[0mdevice\u001b[0m\u001b[0;34m,\u001b[0m \u001b[0mtorch_dtype\u001b[0m\u001b[0;34m=\u001b[0m\u001b[0mtorch_dtype\u001b[0m\u001b[0;34m,\u001b[0m \u001b[0;34m**\u001b[0m\u001b[0mkwargs\u001b[0m\u001b[0;34m)\u001b[0m\u001b[0;34m\u001b[0m\u001b[0;34m\u001b[0m\u001b[0m\n\u001b[0m\u001b[1;32m    221\u001b[0m \u001b[0;34m\u001b[0m\u001b[0m\n\u001b[1;32m    222\u001b[0m     def __call__(\n",
            "\u001b[0;32m/usr/local/lib/python3.11/dist-packages/transformers/pipelines/base.py\u001b[0m in \u001b[0;36m__init__\u001b[0;34m(self, model, tokenizer, feature_extractor, image_processor, processor, modelcard, framework, task, args_parser, device, torch_dtype, binary_output, **kwargs)\u001b[0m\n\u001b[1;32m   1011\u001b[0m         \u001b[0mself\u001b[0m\u001b[0;34m.\u001b[0m\u001b[0m_batch_size\u001b[0m \u001b[0;34m=\u001b[0m \u001b[0mkwargs\u001b[0m\u001b[0;34m.\u001b[0m\u001b[0mpop\u001b[0m\u001b[0;34m(\u001b[0m\u001b[0;34m\"batch_size\"\u001b[0m\u001b[0;34m,\u001b[0m \u001b[0;32mNone\u001b[0m\u001b[0;34m)\u001b[0m\u001b[0;34m\u001b[0m\u001b[0;34m\u001b[0m\u001b[0m\n\u001b[1;32m   1012\u001b[0m         \u001b[0mself\u001b[0m\u001b[0;34m.\u001b[0m\u001b[0m_num_workers\u001b[0m \u001b[0;34m=\u001b[0m \u001b[0mkwargs\u001b[0m\u001b[0;34m.\u001b[0m\u001b[0mpop\u001b[0m\u001b[0;34m(\u001b[0m\u001b[0;34m\"num_workers\"\u001b[0m\u001b[0;34m,\u001b[0m \u001b[0;32mNone\u001b[0m\u001b[0;34m)\u001b[0m\u001b[0;34m\u001b[0m\u001b[0;34m\u001b[0m\u001b[0m\n\u001b[0;32m-> 1013\u001b[0;31m         \u001b[0mself\u001b[0m\u001b[0;34m.\u001b[0m\u001b[0m_preprocess_params\u001b[0m\u001b[0;34m,\u001b[0m \u001b[0mself\u001b[0m\u001b[0;34m.\u001b[0m\u001b[0m_forward_params\u001b[0m\u001b[0;34m,\u001b[0m \u001b[0mself\u001b[0m\u001b[0;34m.\u001b[0m\u001b[0m_postprocess_params\u001b[0m \u001b[0;34m=\u001b[0m \u001b[0mself\u001b[0m\u001b[0;34m.\u001b[0m\u001b[0m_sanitize_parameters\u001b[0m\u001b[0;34m(\u001b[0m\u001b[0;34m**\u001b[0m\u001b[0mkwargs\u001b[0m\u001b[0;34m)\u001b[0m\u001b[0;34m\u001b[0m\u001b[0;34m\u001b[0m\u001b[0m\n\u001b[0m\u001b[1;32m   1014\u001b[0m \u001b[0;34m\u001b[0m\u001b[0m\n\u001b[1;32m   1015\u001b[0m         \u001b[0;31m# In processor only mode, we can get the modality processors from the processor\u001b[0m\u001b[0;34m\u001b[0m\u001b[0;34m\u001b[0m\u001b[0m\n",
            "\u001b[0;31mTypeError\u001b[0m: AutomaticSpeechRecognitionPipeline._sanitize_parameters() got an unexpected keyword argument 'my_parameter'"
          ]
        }
      ]
    },
    {
      "cell_type": "code",
      "source": [
        "transcriber = pipeline(model=\"openai/whisper-large-v2\", device=0)"
      ],
      "metadata": {
        "colab": {
          "base_uri": "https://localhost:8080/"
        },
        "id": "YzD28r-B2ezo",
        "outputId": "99cf7051-7335-482d-943a-ddd721541b40"
      },
      "execution_count": null,
      "outputs": [
        {
          "output_type": "stream",
          "name": "stderr",
          "text": [
            "Device set to use cuda:0\n"
          ]
        }
      ]
    },
    {
      "cell_type": "code",
      "source": [
        "pip install accelerate"
      ],
      "metadata": {
        "id": "Bnv-ozRJ2uI_",
        "colab": {
          "base_uri": "https://localhost:8080/"
        },
        "outputId": "5c0e10b3-0260-42dd-c182-427aaf6a5bfd"
      },
      "execution_count": null,
      "outputs": [
        {
          "output_type": "stream",
          "name": "stdout",
          "text": [
            "Requirement already satisfied: accelerate in /usr/local/lib/python3.11/dist-packages (1.3.0)\n",
            "Requirement already satisfied: numpy<3.0.0,>=1.17 in /usr/local/lib/python3.11/dist-packages (from accelerate) (1.26.4)\n",
            "Requirement already satisfied: packaging>=20.0 in /usr/local/lib/python3.11/dist-packages (from accelerate) (24.2)\n",
            "Requirement already satisfied: psutil in /usr/local/lib/python3.11/dist-packages (from accelerate) (5.9.5)\n",
            "Requirement already satisfied: pyyaml in /usr/local/lib/python3.11/dist-packages (from accelerate) (6.0.2)\n",
            "Requirement already satisfied: torch>=2.0.0 in /usr/local/lib/python3.11/dist-packages (from accelerate) (2.5.1+cu124)\n",
            "Requirement already satisfied: huggingface-hub>=0.21.0 in /usr/local/lib/python3.11/dist-packages (from accelerate) (0.28.1)\n",
            "Requirement already satisfied: safetensors>=0.4.3 in /usr/local/lib/python3.11/dist-packages (from accelerate) (0.5.2)\n",
            "Requirement already satisfied: filelock in /usr/local/lib/python3.11/dist-packages (from huggingface-hub>=0.21.0->accelerate) (3.17.0)\n",
            "Requirement already satisfied: fsspec>=2023.5.0 in /usr/local/lib/python3.11/dist-packages (from huggingface-hub>=0.21.0->accelerate) (2024.10.0)\n",
            "Requirement already satisfied: requests in /usr/local/lib/python3.11/dist-packages (from huggingface-hub>=0.21.0->accelerate) (2.32.3)\n",
            "Requirement already satisfied: tqdm>=4.42.1 in /usr/local/lib/python3.11/dist-packages (from huggingface-hub>=0.21.0->accelerate) (4.67.1)\n",
            "Requirement already satisfied: typing-extensions>=3.7.4.3 in /usr/local/lib/python3.11/dist-packages (from huggingface-hub>=0.21.0->accelerate) (4.12.2)\n",
            "Requirement already satisfied: networkx in /usr/local/lib/python3.11/dist-packages (from torch>=2.0.0->accelerate) (3.4.2)\n",
            "Requirement already satisfied: jinja2 in /usr/local/lib/python3.11/dist-packages (from torch>=2.0.0->accelerate) (3.1.5)\n",
            "Collecting nvidia-cuda-nvrtc-cu12==12.4.127 (from torch>=2.0.0->accelerate)\n",
            "  Downloading nvidia_cuda_nvrtc_cu12-12.4.127-py3-none-manylinux2014_x86_64.whl.metadata (1.5 kB)\n",
            "Collecting nvidia-cuda-runtime-cu12==12.4.127 (from torch>=2.0.0->accelerate)\n",
            "  Downloading nvidia_cuda_runtime_cu12-12.4.127-py3-none-manylinux2014_x86_64.whl.metadata (1.5 kB)\n",
            "Collecting nvidia-cuda-cupti-cu12==12.4.127 (from torch>=2.0.0->accelerate)\n",
            "  Downloading nvidia_cuda_cupti_cu12-12.4.127-py3-none-manylinux2014_x86_64.whl.metadata (1.6 kB)\n",
            "Collecting nvidia-cudnn-cu12==9.1.0.70 (from torch>=2.0.0->accelerate)\n",
            "  Downloading nvidia_cudnn_cu12-9.1.0.70-py3-none-manylinux2014_x86_64.whl.metadata (1.6 kB)\n",
            "Collecting nvidia-cublas-cu12==12.4.5.8 (from torch>=2.0.0->accelerate)\n",
            "  Downloading nvidia_cublas_cu12-12.4.5.8-py3-none-manylinux2014_x86_64.whl.metadata (1.5 kB)\n",
            "Collecting nvidia-cufft-cu12==11.2.1.3 (from torch>=2.0.0->accelerate)\n",
            "  Downloading nvidia_cufft_cu12-11.2.1.3-py3-none-manylinux2014_x86_64.whl.metadata (1.5 kB)\n",
            "Collecting nvidia-curand-cu12==10.3.5.147 (from torch>=2.0.0->accelerate)\n",
            "  Downloading nvidia_curand_cu12-10.3.5.147-py3-none-manylinux2014_x86_64.whl.metadata (1.5 kB)\n",
            "Collecting nvidia-cusolver-cu12==11.6.1.9 (from torch>=2.0.0->accelerate)\n",
            "  Downloading nvidia_cusolver_cu12-11.6.1.9-py3-none-manylinux2014_x86_64.whl.metadata (1.6 kB)\n",
            "Collecting nvidia-cusparse-cu12==12.3.1.170 (from torch>=2.0.0->accelerate)\n",
            "  Downloading nvidia_cusparse_cu12-12.3.1.170-py3-none-manylinux2014_x86_64.whl.metadata (1.6 kB)\n",
            "Requirement already satisfied: nvidia-nccl-cu12==2.21.5 in /usr/local/lib/python3.11/dist-packages (from torch>=2.0.0->accelerate) (2.21.5)\n",
            "Requirement already satisfied: nvidia-nvtx-cu12==12.4.127 in /usr/local/lib/python3.11/dist-packages (from torch>=2.0.0->accelerate) (12.4.127)\n",
            "Collecting nvidia-nvjitlink-cu12==12.4.127 (from torch>=2.0.0->accelerate)\n",
            "  Downloading nvidia_nvjitlink_cu12-12.4.127-py3-none-manylinux2014_x86_64.whl.metadata (1.5 kB)\n",
            "Requirement already satisfied: triton==3.1.0 in /usr/local/lib/python3.11/dist-packages (from torch>=2.0.0->accelerate) (3.1.0)\n",
            "Requirement already satisfied: sympy==1.13.1 in /usr/local/lib/python3.11/dist-packages (from torch>=2.0.0->accelerate) (1.13.1)\n",
            "Requirement already satisfied: mpmath<1.4,>=1.1.0 in /usr/local/lib/python3.11/dist-packages (from sympy==1.13.1->torch>=2.0.0->accelerate) (1.3.0)\n",
            "Requirement already satisfied: MarkupSafe>=2.0 in /usr/local/lib/python3.11/dist-packages (from jinja2->torch>=2.0.0->accelerate) (3.0.2)\n",
            "Requirement already satisfied: charset-normalizer<4,>=2 in /usr/local/lib/python3.11/dist-packages (from requests->huggingface-hub>=0.21.0->accelerate) (3.4.1)\n",
            "Requirement already satisfied: idna<4,>=2.5 in /usr/local/lib/python3.11/dist-packages (from requests->huggingface-hub>=0.21.0->accelerate) (3.10)\n",
            "Requirement already satisfied: urllib3<3,>=1.21.1 in /usr/local/lib/python3.11/dist-packages (from requests->huggingface-hub>=0.21.0->accelerate) (2.3.0)\n",
            "Requirement already satisfied: certifi>=2017.4.17 in /usr/local/lib/python3.11/dist-packages (from requests->huggingface-hub>=0.21.0->accelerate) (2025.1.31)\n",
            "Downloading nvidia_cublas_cu12-12.4.5.8-py3-none-manylinux2014_x86_64.whl (363.4 MB)\n",
            "\u001b[2K   \u001b[90m━━━━━━━━━━━━━━━━━━━━━━━━━━━━━━━━━━━━━━━━\u001b[0m \u001b[32m363.4/363.4 MB\u001b[0m \u001b[31m3.4 MB/s\u001b[0m eta \u001b[36m0:00:00\u001b[0m\n",
            "\u001b[?25hDownloading nvidia_cuda_cupti_cu12-12.4.127-py3-none-manylinux2014_x86_64.whl (13.8 MB)\n",
            "\u001b[2K   \u001b[90m━━━━━━━━━━━━━━━━━━━━━━━━━━━━━━━━━━━━━━━━\u001b[0m \u001b[32m13.8/13.8 MB\u001b[0m \u001b[31m82.8 MB/s\u001b[0m eta \u001b[36m0:00:00\u001b[0m\n",
            "\u001b[?25hDownloading nvidia_cuda_nvrtc_cu12-12.4.127-py3-none-manylinux2014_x86_64.whl (24.6 MB)\n",
            "\u001b[2K   \u001b[90m━━━━━━━━━━━━━━━━━━━━━━━━━━━━━━━━━━━━━━━━\u001b[0m \u001b[32m24.6/24.6 MB\u001b[0m \u001b[31m65.7 MB/s\u001b[0m eta \u001b[36m0:00:00\u001b[0m\n",
            "\u001b[?25hDownloading nvidia_cuda_runtime_cu12-12.4.127-py3-none-manylinux2014_x86_64.whl (883 kB)\n",
            "\u001b[2K   \u001b[90m━━━━━━━━━━━━━━━━━━━━━━━━━━━━━━━━━━━━━━━━\u001b[0m \u001b[32m883.7/883.7 kB\u001b[0m \u001b[31m45.2 MB/s\u001b[0m eta \u001b[36m0:00:00\u001b[0m\n",
            "\u001b[?25hDownloading nvidia_cudnn_cu12-9.1.0.70-py3-none-manylinux2014_x86_64.whl (664.8 MB)\n",
            "\u001b[2K   \u001b[90m━━━━━━━━━━━━━━━━━━━━━━━━━━━━━━━━━━━━━━━━\u001b[0m \u001b[32m664.8/664.8 MB\u001b[0m \u001b[31m1.3 MB/s\u001b[0m eta \u001b[36m0:00:00\u001b[0m\n",
            "\u001b[?25hDownloading nvidia_cufft_cu12-11.2.1.3-py3-none-manylinux2014_x86_64.whl (211.5 MB)\n",
            "\u001b[2K   \u001b[90m━━━━━━━━━━━━━━━━━━━━━━━━━━━━━━━━━━━━━━━━\u001b[0m \u001b[32m211.5/211.5 MB\u001b[0m \u001b[31m5.5 MB/s\u001b[0m eta \u001b[36m0:00:00\u001b[0m\n",
            "\u001b[?25hDownloading nvidia_curand_cu12-10.3.5.147-py3-none-manylinux2014_x86_64.whl (56.3 MB)\n",
            "\u001b[2K   \u001b[90m━━━━━━━━━━━━━━━━━━━━━━━━━━━━━━━━━━━━━━━━\u001b[0m \u001b[32m56.3/56.3 MB\u001b[0m \u001b[31m10.6 MB/s\u001b[0m eta \u001b[36m0:00:00\u001b[0m\n",
            "\u001b[?25hDownloading nvidia_cusolver_cu12-11.6.1.9-py3-none-manylinux2014_x86_64.whl (127.9 MB)\n",
            "\u001b[2K   \u001b[90m━━━━━━━━━━━━━━━━━━━━━━━━━━━━━━━━━━━━━━━━\u001b[0m \u001b[32m127.9/127.9 MB\u001b[0m \u001b[31m8.5 MB/s\u001b[0m eta \u001b[36m0:00:00\u001b[0m\n",
            "\u001b[?25hDownloading nvidia_cusparse_cu12-12.3.1.170-py3-none-manylinux2014_x86_64.whl (207.5 MB)\n",
            "\u001b[2K   \u001b[90m━━━━━━━━━━━━━━━━━━━━━━━━━━━━━━━━━━━━━━━━\u001b[0m \u001b[32m207.5/207.5 MB\u001b[0m \u001b[31m5.4 MB/s\u001b[0m eta \u001b[36m0:00:00\u001b[0m\n",
            "\u001b[?25hDownloading nvidia_nvjitlink_cu12-12.4.127-py3-none-manylinux2014_x86_64.whl (21.1 MB)\n",
            "\u001b[2K   \u001b[90m━━━━━━━━━━━━━━━━━━━━━━━━━━━━━━━━━━━━━━━━\u001b[0m \u001b[32m21.1/21.1 MB\u001b[0m \u001b[31m61.6 MB/s\u001b[0m eta \u001b[36m0:00:00\u001b[0m\n",
            "\u001b[?25hInstalling collected packages: nvidia-nvjitlink-cu12, nvidia-curand-cu12, nvidia-cufft-cu12, nvidia-cuda-runtime-cu12, nvidia-cuda-nvrtc-cu12, nvidia-cuda-cupti-cu12, nvidia-cublas-cu12, nvidia-cusparse-cu12, nvidia-cudnn-cu12, nvidia-cusolver-cu12\n",
            "  Attempting uninstall: nvidia-nvjitlink-cu12\n",
            "    Found existing installation: nvidia-nvjitlink-cu12 12.5.82\n",
            "    Uninstalling nvidia-nvjitlink-cu12-12.5.82:\n",
            "      Successfully uninstalled nvidia-nvjitlink-cu12-12.5.82\n",
            "  Attempting uninstall: nvidia-curand-cu12\n",
            "    Found existing installation: nvidia-curand-cu12 10.3.6.82\n",
            "    Uninstalling nvidia-curand-cu12-10.3.6.82:\n",
            "      Successfully uninstalled nvidia-curand-cu12-10.3.6.82\n",
            "  Attempting uninstall: nvidia-cufft-cu12\n",
            "    Found existing installation: nvidia-cufft-cu12 11.2.3.61\n",
            "    Uninstalling nvidia-cufft-cu12-11.2.3.61:\n",
            "      Successfully uninstalled nvidia-cufft-cu12-11.2.3.61\n",
            "  Attempting uninstall: nvidia-cuda-runtime-cu12\n",
            "    Found existing installation: nvidia-cuda-runtime-cu12 12.5.82\n",
            "    Uninstalling nvidia-cuda-runtime-cu12-12.5.82:\n",
            "      Successfully uninstalled nvidia-cuda-runtime-cu12-12.5.82\n",
            "  Attempting uninstall: nvidia-cuda-nvrtc-cu12\n",
            "    Found existing installation: nvidia-cuda-nvrtc-cu12 12.5.82\n",
            "    Uninstalling nvidia-cuda-nvrtc-cu12-12.5.82:\n",
            "      Successfully uninstalled nvidia-cuda-nvrtc-cu12-12.5.82\n",
            "  Attempting uninstall: nvidia-cuda-cupti-cu12\n",
            "    Found existing installation: nvidia-cuda-cupti-cu12 12.5.82\n",
            "    Uninstalling nvidia-cuda-cupti-cu12-12.5.82:\n",
            "      Successfully uninstalled nvidia-cuda-cupti-cu12-12.5.82\n",
            "  Attempting uninstall: nvidia-cublas-cu12\n",
            "    Found existing installation: nvidia-cublas-cu12 12.5.3.2\n",
            "    Uninstalling nvidia-cublas-cu12-12.5.3.2:\n",
            "      Successfully uninstalled nvidia-cublas-cu12-12.5.3.2\n",
            "  Attempting uninstall: nvidia-cusparse-cu12\n",
            "    Found existing installation: nvidia-cusparse-cu12 12.5.1.3\n",
            "    Uninstalling nvidia-cusparse-cu12-12.5.1.3:\n",
            "      Successfully uninstalled nvidia-cusparse-cu12-12.5.1.3\n",
            "  Attempting uninstall: nvidia-cudnn-cu12\n",
            "    Found existing installation: nvidia-cudnn-cu12 9.3.0.75\n",
            "    Uninstalling nvidia-cudnn-cu12-9.3.0.75:\n",
            "      Successfully uninstalled nvidia-cudnn-cu12-9.3.0.75\n",
            "  Attempting uninstall: nvidia-cusolver-cu12\n",
            "    Found existing installation: nvidia-cusolver-cu12 11.6.3.83\n",
            "    Uninstalling nvidia-cusolver-cu12-11.6.3.83:\n",
            "      Successfully uninstalled nvidia-cusolver-cu12-11.6.3.83\n",
            "Successfully installed nvidia-cublas-cu12-12.4.5.8 nvidia-cuda-cupti-cu12-12.4.127 nvidia-cuda-nvrtc-cu12-12.4.127 nvidia-cuda-runtime-cu12-12.4.127 nvidia-cudnn-cu12-9.1.0.70 nvidia-cufft-cu12-11.2.1.3 nvidia-curand-cu12-10.3.5.147 nvidia-cusolver-cu12-11.6.1.9 nvidia-cusparse-cu12-12.3.1.170 nvidia-nvjitlink-cu12-12.4.127\n"
          ]
        }
      ]
    },
    {
      "cell_type": "code",
      "source": [
        "transcriber = pipeline(model=\"openai/whisper-large-v2\", device_map=\"auto\")"
      ],
      "metadata": {
        "id": "lj_fxtm9223b",
        "colab": {
          "base_uri": "https://localhost:8080/"
        },
        "outputId": "a68ea3c7-29e1-4824-8c7b-2214eaaed443"
      },
      "execution_count": null,
      "outputs": [
        {
          "output_type": "stream",
          "name": "stderr",
          "text": [
            "WARNING:accelerate.big_modeling:Some parameters are on the meta device because they were offloaded to the cpu.\n",
            "Device set to use cuda:0\n"
          ]
        }
      ]
    },
    {
      "cell_type": "code",
      "source": [
        "transcriber = pipeline(model=\"openai/whisper-large-v2\", device=0, batch_size=2)\n",
        "audio_filenames = [f\"https://huggingface.co/datasets/Narsil/asr_dummy/resolve/main/{i}.flac\" for i in range(1, 5)]\n",
        "texts = transcriber(audio_filenames)"
      ],
      "metadata": {
        "colab": {
          "base_uri": "https://localhost:8080/"
        },
        "id": "DeXS4kus27fA",
        "outputId": "d63cea76-6036-4d9b-9927-f093a0bd68a9"
      },
      "execution_count": null,
      "outputs": [
        {
          "output_type": "stream",
          "name": "stderr",
          "text": [
            "Device set to use cuda:0\n",
            "/usr/local/lib/python3.11/dist-packages/transformers/models/whisper/generation_whisper.py:573: FutureWarning: The input name `inputs` is deprecated. Please make sure to use `input_features` instead.\n",
            "  warnings.warn(\n",
            "/usr/local/lib/python3.11/dist-packages/transformers/models/whisper/generation_whisper.py:573: FutureWarning: The input name `inputs` is deprecated. Please make sure to use `input_features` instead.\n",
            "  warnings.warn(\n"
          ]
        }
      ]
    },
    {
      "cell_type": "code",
      "source": [
        "transcriber = pipeline(model=\"openai/whisper-large-v2\", return_timestamps=True)\n",
        "transcriber(\"https://huggingface.co/datasets/Narsil/asr_dummy/resolve/main/mlk.flac\")"
      ],
      "metadata": {
        "id": "EZUY963l3cnu",
        "colab": {
          "base_uri": "https://localhost:8080/",
          "height": 373
        },
        "outputId": "45fad593-b37f-442a-96fd-dd12d17ddc61"
      },
      "execution_count": null,
      "outputs": [
        {
          "output_type": "stream",
          "name": "stderr",
          "text": [
            "Device set to use cuda:0\n"
          ]
        },
        {
          "output_type": "error",
          "ename": "OutOfMemoryError",
          "evalue": "CUDA out of memory. Tried to allocate 26.00 MiB. GPU 0 has a total capacity of 14.74 GiB of which 16.12 MiB is free. Process 6114 has 14.72 GiB memory in use. Of the allocated memory 14.11 GiB is allocated by PyTorch, and 492.92 MiB is reserved by PyTorch but unallocated. If reserved but unallocated memory is large try setting PYTORCH_CUDA_ALLOC_CONF=expandable_segments:True to avoid fragmentation.  See documentation for Memory Management  (https://pytorch.org/docs/stable/notes/cuda.html#environment-variables)",
          "traceback": [
            "\u001b[0;31m---------------------------------------------------------------------------\u001b[0m",
            "\u001b[0;31mOutOfMemoryError\u001b[0m                          Traceback (most recent call last)",
            "\u001b[0;32m<ipython-input-11-904a9dc828da>\u001b[0m in \u001b[0;36m<cell line: 0>\u001b[0;34m()\u001b[0m\n\u001b[0;32m----> 1\u001b[0;31m \u001b[0mtranscriber\u001b[0m \u001b[0;34m=\u001b[0m \u001b[0mpipeline\u001b[0m\u001b[0;34m(\u001b[0m\u001b[0mmodel\u001b[0m\u001b[0;34m=\u001b[0m\u001b[0;34m\"openai/whisper-large-v2\"\u001b[0m\u001b[0;34m,\u001b[0m \u001b[0mreturn_timestamps\u001b[0m\u001b[0;34m=\u001b[0m\u001b[0;32mTrue\u001b[0m\u001b[0;34m)\u001b[0m\u001b[0;34m\u001b[0m\u001b[0;34m\u001b[0m\u001b[0m\n\u001b[0m\u001b[1;32m      2\u001b[0m \u001b[0mtranscriber\u001b[0m\u001b[0;34m(\u001b[0m\u001b[0;34m\"https://huggingface.co/datasets/Narsil/asr_dummy/resolve/main/mlk.flac\"\u001b[0m\u001b[0;34m)\u001b[0m\u001b[0;34m\u001b[0m\u001b[0;34m\u001b[0m\u001b[0m\n",
            "\u001b[0;32m/usr/local/lib/python3.11/dist-packages/transformers/pipelines/__init__.py\u001b[0m in \u001b[0;36mpipeline\u001b[0;34m(task, model, config, tokenizer, feature_extractor, image_processor, processor, framework, revision, use_fast, token, device, device_map, torch_dtype, trust_remote_code, model_kwargs, pipeline_class, **kwargs)\u001b[0m\n\u001b[1;32m   1176\u001b[0m         \u001b[0mkwargs\u001b[0m\u001b[0;34m[\u001b[0m\u001b[0;34m\"processor\"\u001b[0m\u001b[0;34m]\u001b[0m \u001b[0;34m=\u001b[0m \u001b[0mprocessor\u001b[0m\u001b[0;34m\u001b[0m\u001b[0;34m\u001b[0m\u001b[0m\n\u001b[1;32m   1177\u001b[0m \u001b[0;34m\u001b[0m\u001b[0m\n\u001b[0;32m-> 1178\u001b[0;31m     \u001b[0;32mreturn\u001b[0m \u001b[0mpipeline_class\u001b[0m\u001b[0;34m(\u001b[0m\u001b[0mmodel\u001b[0m\u001b[0;34m=\u001b[0m\u001b[0mmodel\u001b[0m\u001b[0;34m,\u001b[0m \u001b[0mframework\u001b[0m\u001b[0;34m=\u001b[0m\u001b[0mframework\u001b[0m\u001b[0;34m,\u001b[0m \u001b[0mtask\u001b[0m\u001b[0;34m=\u001b[0m\u001b[0mtask\u001b[0m\u001b[0;34m,\u001b[0m \u001b[0;34m**\u001b[0m\u001b[0mkwargs\u001b[0m\u001b[0;34m)\u001b[0m\u001b[0;34m\u001b[0m\u001b[0;34m\u001b[0m\u001b[0m\n\u001b[0m",
            "\u001b[0;32m/usr/local/lib/python3.11/dist-packages/transformers/pipelines/automatic_speech_recognition.py\u001b[0m in \u001b[0;36m__init__\u001b[0;34m(self, model, feature_extractor, tokenizer, decoder, device, torch_dtype, **kwargs)\u001b[0m\n\u001b[1;32m    218\u001b[0m             \u001b[0mself\u001b[0m\u001b[0;34m.\u001b[0m\u001b[0mtype\u001b[0m \u001b[0;34m=\u001b[0m \u001b[0;34m\"ctc\"\u001b[0m\u001b[0;34m\u001b[0m\u001b[0;34m\u001b[0m\u001b[0m\n\u001b[1;32m    219\u001b[0m \u001b[0;34m\u001b[0m\u001b[0m\n\u001b[0;32m--> 220\u001b[0;31m         \u001b[0msuper\u001b[0m\u001b[0;34m(\u001b[0m\u001b[0;34m)\u001b[0m\u001b[0;34m.\u001b[0m\u001b[0m__init__\u001b[0m\u001b[0;34m(\u001b[0m\u001b[0mmodel\u001b[0m\u001b[0;34m,\u001b[0m \u001b[0mtokenizer\u001b[0m\u001b[0;34m,\u001b[0m \u001b[0mfeature_extractor\u001b[0m\u001b[0;34m,\u001b[0m \u001b[0mdevice\u001b[0m\u001b[0;34m=\u001b[0m\u001b[0mdevice\u001b[0m\u001b[0;34m,\u001b[0m \u001b[0mtorch_dtype\u001b[0m\u001b[0;34m=\u001b[0m\u001b[0mtorch_dtype\u001b[0m\u001b[0;34m,\u001b[0m \u001b[0;34m**\u001b[0m\u001b[0mkwargs\u001b[0m\u001b[0;34m)\u001b[0m\u001b[0;34m\u001b[0m\u001b[0;34m\u001b[0m\u001b[0m\n\u001b[0m\u001b[1;32m    221\u001b[0m \u001b[0;34m\u001b[0m\u001b[0m\n\u001b[1;32m    222\u001b[0m     def __call__(\n",
            "\u001b[0;32m/usr/local/lib/python3.11/dist-packages/transformers/pipelines/base.py\u001b[0m in \u001b[0;36m__init__\u001b[0;34m(self, model, tokenizer, feature_extractor, image_processor, processor, modelcard, framework, task, args_parser, device, torch_dtype, binary_output, **kwargs)\u001b[0m\n\u001b[1;32m    980\u001b[0m             \u001b[0;32mand\u001b[0m \u001b[0mhf_device_map\u001b[0m \u001b[0;32mis\u001b[0m \u001b[0;32mNone\u001b[0m\u001b[0;34m\u001b[0m\u001b[0;34m\u001b[0m\u001b[0m\n\u001b[1;32m    981\u001b[0m         ):\n\u001b[0;32m--> 982\u001b[0;31m             \u001b[0mself\u001b[0m\u001b[0;34m.\u001b[0m\u001b[0mmodel\u001b[0m\u001b[0;34m.\u001b[0m\u001b[0mto\u001b[0m\u001b[0;34m(\u001b[0m\u001b[0mself\u001b[0m\u001b[0;34m.\u001b[0m\u001b[0mdevice\u001b[0m\u001b[0;34m)\u001b[0m\u001b[0;34m\u001b[0m\u001b[0;34m\u001b[0m\u001b[0m\n\u001b[0m\u001b[1;32m    983\u001b[0m \u001b[0;34m\u001b[0m\u001b[0m\n\u001b[1;32m    984\u001b[0m         \u001b[0;31m# If the model can generate:\u001b[0m\u001b[0;34m\u001b[0m\u001b[0;34m\u001b[0m\u001b[0m\n",
            "\u001b[0;32m/usr/local/lib/python3.11/dist-packages/transformers/modeling_utils.py\u001b[0m in \u001b[0;36mto\u001b[0;34m(self, *args, **kwargs)\u001b[0m\n\u001b[1;32m   3108\u001b[0m                     \u001b[0;34m\" `dtype` by passing the correct `torch_dtype` argument.\"\u001b[0m\u001b[0;34m\u001b[0m\u001b[0;34m\u001b[0m\u001b[0m\n\u001b[1;32m   3109\u001b[0m                 )\n\u001b[0;32m-> 3110\u001b[0;31m         \u001b[0;32mreturn\u001b[0m \u001b[0msuper\u001b[0m\u001b[0;34m(\u001b[0m\u001b[0;34m)\u001b[0m\u001b[0;34m.\u001b[0m\u001b[0mto\u001b[0m\u001b[0;34m(\u001b[0m\u001b[0;34m*\u001b[0m\u001b[0margs\u001b[0m\u001b[0;34m,\u001b[0m \u001b[0;34m**\u001b[0m\u001b[0mkwargs\u001b[0m\u001b[0;34m)\u001b[0m\u001b[0;34m\u001b[0m\u001b[0;34m\u001b[0m\u001b[0m\n\u001b[0m\u001b[1;32m   3111\u001b[0m \u001b[0;34m\u001b[0m\u001b[0m\n\u001b[1;32m   3112\u001b[0m     \u001b[0;32mdef\u001b[0m \u001b[0mhalf\u001b[0m\u001b[0;34m(\u001b[0m\u001b[0mself\u001b[0m\u001b[0;34m,\u001b[0m \u001b[0;34m*\u001b[0m\u001b[0margs\u001b[0m\u001b[0;34m)\u001b[0m\u001b[0;34m:\u001b[0m\u001b[0;34m\u001b[0m\u001b[0;34m\u001b[0m\u001b[0m\n",
            "\u001b[0;32m/usr/local/lib/python3.11/dist-packages/torch/nn/modules/module.py\u001b[0m in \u001b[0;36mto\u001b[0;34m(self, *args, **kwargs)\u001b[0m\n\u001b[1;32m   1338\u001b[0m                     \u001b[0;32mraise\u001b[0m\u001b[0;34m\u001b[0m\u001b[0;34m\u001b[0m\u001b[0m\n\u001b[1;32m   1339\u001b[0m \u001b[0;34m\u001b[0m\u001b[0m\n\u001b[0;32m-> 1340\u001b[0;31m         \u001b[0;32mreturn\u001b[0m \u001b[0mself\u001b[0m\u001b[0;34m.\u001b[0m\u001b[0m_apply\u001b[0m\u001b[0;34m(\u001b[0m\u001b[0mconvert\u001b[0m\u001b[0;34m)\u001b[0m\u001b[0;34m\u001b[0m\u001b[0;34m\u001b[0m\u001b[0m\n\u001b[0m\u001b[1;32m   1341\u001b[0m \u001b[0;34m\u001b[0m\u001b[0m\n\u001b[1;32m   1342\u001b[0m     def register_full_backward_pre_hook(\n",
            "\u001b[0;32m/usr/local/lib/python3.11/dist-packages/torch/nn/modules/module.py\u001b[0m in \u001b[0;36m_apply\u001b[0;34m(self, fn, recurse)\u001b[0m\n\u001b[1;32m    898\u001b[0m         \u001b[0;32mif\u001b[0m \u001b[0mrecurse\u001b[0m\u001b[0;34m:\u001b[0m\u001b[0;34m\u001b[0m\u001b[0;34m\u001b[0m\u001b[0m\n\u001b[1;32m    899\u001b[0m             \u001b[0;32mfor\u001b[0m \u001b[0mmodule\u001b[0m \u001b[0;32min\u001b[0m \u001b[0mself\u001b[0m\u001b[0;34m.\u001b[0m\u001b[0mchildren\u001b[0m\u001b[0;34m(\u001b[0m\u001b[0;34m)\u001b[0m\u001b[0;34m:\u001b[0m\u001b[0;34m\u001b[0m\u001b[0;34m\u001b[0m\u001b[0m\n\u001b[0;32m--> 900\u001b[0;31m                 \u001b[0mmodule\u001b[0m\u001b[0;34m.\u001b[0m\u001b[0m_apply\u001b[0m\u001b[0;34m(\u001b[0m\u001b[0mfn\u001b[0m\u001b[0;34m)\u001b[0m\u001b[0;34m\u001b[0m\u001b[0;34m\u001b[0m\u001b[0m\n\u001b[0m\u001b[1;32m    901\u001b[0m \u001b[0;34m\u001b[0m\u001b[0m\n\u001b[1;32m    902\u001b[0m         \u001b[0;32mdef\u001b[0m \u001b[0mcompute_should_use_set_data\u001b[0m\u001b[0;34m(\u001b[0m\u001b[0mtensor\u001b[0m\u001b[0;34m,\u001b[0m \u001b[0mtensor_applied\u001b[0m\u001b[0;34m)\u001b[0m\u001b[0;34m:\u001b[0m\u001b[0;34m\u001b[0m\u001b[0;34m\u001b[0m\u001b[0m\n",
            "\u001b[0;32m/usr/local/lib/python3.11/dist-packages/torch/nn/modules/module.py\u001b[0m in \u001b[0;36m_apply\u001b[0;34m(self, fn, recurse)\u001b[0m\n\u001b[1;32m    898\u001b[0m         \u001b[0;32mif\u001b[0m \u001b[0mrecurse\u001b[0m\u001b[0;34m:\u001b[0m\u001b[0;34m\u001b[0m\u001b[0;34m\u001b[0m\u001b[0m\n\u001b[1;32m    899\u001b[0m             \u001b[0;32mfor\u001b[0m \u001b[0mmodule\u001b[0m \u001b[0;32min\u001b[0m \u001b[0mself\u001b[0m\u001b[0;34m.\u001b[0m\u001b[0mchildren\u001b[0m\u001b[0;34m(\u001b[0m\u001b[0;34m)\u001b[0m\u001b[0;34m:\u001b[0m\u001b[0;34m\u001b[0m\u001b[0;34m\u001b[0m\u001b[0m\n\u001b[0;32m--> 900\u001b[0;31m                 \u001b[0mmodule\u001b[0m\u001b[0;34m.\u001b[0m\u001b[0m_apply\u001b[0m\u001b[0;34m(\u001b[0m\u001b[0mfn\u001b[0m\u001b[0;34m)\u001b[0m\u001b[0;34m\u001b[0m\u001b[0;34m\u001b[0m\u001b[0m\n\u001b[0m\u001b[1;32m    901\u001b[0m \u001b[0;34m\u001b[0m\u001b[0m\n\u001b[1;32m    902\u001b[0m         \u001b[0;32mdef\u001b[0m \u001b[0mcompute_should_use_set_data\u001b[0m\u001b[0;34m(\u001b[0m\u001b[0mtensor\u001b[0m\u001b[0;34m,\u001b[0m \u001b[0mtensor_applied\u001b[0m\u001b[0;34m)\u001b[0m\u001b[0;34m:\u001b[0m\u001b[0;34m\u001b[0m\u001b[0;34m\u001b[0m\u001b[0m\n",
            "\u001b[0;32m/usr/local/lib/python3.11/dist-packages/torch/nn/modules/module.py\u001b[0m in \u001b[0;36m_apply\u001b[0;34m(self, fn, recurse)\u001b[0m\n\u001b[1;32m    898\u001b[0m         \u001b[0;32mif\u001b[0m \u001b[0mrecurse\u001b[0m\u001b[0;34m:\u001b[0m\u001b[0;34m\u001b[0m\u001b[0;34m\u001b[0m\u001b[0m\n\u001b[1;32m    899\u001b[0m             \u001b[0;32mfor\u001b[0m \u001b[0mmodule\u001b[0m \u001b[0;32min\u001b[0m \u001b[0mself\u001b[0m\u001b[0;34m.\u001b[0m\u001b[0mchildren\u001b[0m\u001b[0;34m(\u001b[0m\u001b[0;34m)\u001b[0m\u001b[0;34m:\u001b[0m\u001b[0;34m\u001b[0m\u001b[0;34m\u001b[0m\u001b[0m\n\u001b[0;32m--> 900\u001b[0;31m                 \u001b[0mmodule\u001b[0m\u001b[0;34m.\u001b[0m\u001b[0m_apply\u001b[0m\u001b[0;34m(\u001b[0m\u001b[0mfn\u001b[0m\u001b[0;34m)\u001b[0m\u001b[0;34m\u001b[0m\u001b[0;34m\u001b[0m\u001b[0m\n\u001b[0m\u001b[1;32m    901\u001b[0m \u001b[0;34m\u001b[0m\u001b[0m\n\u001b[1;32m    902\u001b[0m         \u001b[0;32mdef\u001b[0m \u001b[0mcompute_should_use_set_data\u001b[0m\u001b[0;34m(\u001b[0m\u001b[0mtensor\u001b[0m\u001b[0;34m,\u001b[0m \u001b[0mtensor_applied\u001b[0m\u001b[0;34m)\u001b[0m\u001b[0;34m:\u001b[0m\u001b[0;34m\u001b[0m\u001b[0;34m\u001b[0m\u001b[0m\n",
            "\u001b[0;32m/usr/local/lib/python3.11/dist-packages/torch/nn/modules/module.py\u001b[0m in \u001b[0;36m_apply\u001b[0;34m(self, fn, recurse)\u001b[0m\n\u001b[1;32m    898\u001b[0m         \u001b[0;32mif\u001b[0m \u001b[0mrecurse\u001b[0m\u001b[0;34m:\u001b[0m\u001b[0;34m\u001b[0m\u001b[0;34m\u001b[0m\u001b[0m\n\u001b[1;32m    899\u001b[0m             \u001b[0;32mfor\u001b[0m \u001b[0mmodule\u001b[0m \u001b[0;32min\u001b[0m \u001b[0mself\u001b[0m\u001b[0;34m.\u001b[0m\u001b[0mchildren\u001b[0m\u001b[0;34m(\u001b[0m\u001b[0;34m)\u001b[0m\u001b[0;34m:\u001b[0m\u001b[0;34m\u001b[0m\u001b[0;34m\u001b[0m\u001b[0m\n\u001b[0;32m--> 900\u001b[0;31m                 \u001b[0mmodule\u001b[0m\u001b[0;34m.\u001b[0m\u001b[0m_apply\u001b[0m\u001b[0;34m(\u001b[0m\u001b[0mfn\u001b[0m\u001b[0;34m)\u001b[0m\u001b[0;34m\u001b[0m\u001b[0;34m\u001b[0m\u001b[0m\n\u001b[0m\u001b[1;32m    901\u001b[0m \u001b[0;34m\u001b[0m\u001b[0m\n\u001b[1;32m    902\u001b[0m         \u001b[0;32mdef\u001b[0m \u001b[0mcompute_should_use_set_data\u001b[0m\u001b[0;34m(\u001b[0m\u001b[0mtensor\u001b[0m\u001b[0;34m,\u001b[0m \u001b[0mtensor_applied\u001b[0m\u001b[0;34m)\u001b[0m\u001b[0;34m:\u001b[0m\u001b[0;34m\u001b[0m\u001b[0;34m\u001b[0m\u001b[0m\n",
            "\u001b[0;32m/usr/local/lib/python3.11/dist-packages/torch/nn/modules/module.py\u001b[0m in \u001b[0;36m_apply\u001b[0;34m(self, fn, recurse)\u001b[0m\n\u001b[1;32m    898\u001b[0m         \u001b[0;32mif\u001b[0m \u001b[0mrecurse\u001b[0m\u001b[0;34m:\u001b[0m\u001b[0;34m\u001b[0m\u001b[0;34m\u001b[0m\u001b[0m\n\u001b[1;32m    899\u001b[0m             \u001b[0;32mfor\u001b[0m \u001b[0mmodule\u001b[0m \u001b[0;32min\u001b[0m \u001b[0mself\u001b[0m\u001b[0;34m.\u001b[0m\u001b[0mchildren\u001b[0m\u001b[0;34m(\u001b[0m\u001b[0;34m)\u001b[0m\u001b[0;34m:\u001b[0m\u001b[0;34m\u001b[0m\u001b[0;34m\u001b[0m\u001b[0m\n\u001b[0;32m--> 900\u001b[0;31m                 \u001b[0mmodule\u001b[0m\u001b[0;34m.\u001b[0m\u001b[0m_apply\u001b[0m\u001b[0;34m(\u001b[0m\u001b[0mfn\u001b[0m\u001b[0;34m)\u001b[0m\u001b[0;34m\u001b[0m\u001b[0;34m\u001b[0m\u001b[0m\n\u001b[0m\u001b[1;32m    901\u001b[0m \u001b[0;34m\u001b[0m\u001b[0m\n\u001b[1;32m    902\u001b[0m         \u001b[0;32mdef\u001b[0m \u001b[0mcompute_should_use_set_data\u001b[0m\u001b[0;34m(\u001b[0m\u001b[0mtensor\u001b[0m\u001b[0;34m,\u001b[0m \u001b[0mtensor_applied\u001b[0m\u001b[0;34m)\u001b[0m\u001b[0;34m:\u001b[0m\u001b[0;34m\u001b[0m\u001b[0;34m\u001b[0m\u001b[0m\n",
            "\u001b[0;32m/usr/local/lib/python3.11/dist-packages/torch/nn/modules/module.py\u001b[0m in \u001b[0;36m_apply\u001b[0;34m(self, fn, recurse)\u001b[0m\n\u001b[1;32m    925\u001b[0m             \u001b[0;31m# `with torch.no_grad():`\u001b[0m\u001b[0;34m\u001b[0m\u001b[0;34m\u001b[0m\u001b[0m\n\u001b[1;32m    926\u001b[0m             \u001b[0;32mwith\u001b[0m \u001b[0mtorch\u001b[0m\u001b[0;34m.\u001b[0m\u001b[0mno_grad\u001b[0m\u001b[0;34m(\u001b[0m\u001b[0;34m)\u001b[0m\u001b[0;34m:\u001b[0m\u001b[0;34m\u001b[0m\u001b[0;34m\u001b[0m\u001b[0m\n\u001b[0;32m--> 927\u001b[0;31m                 \u001b[0mparam_applied\u001b[0m \u001b[0;34m=\u001b[0m \u001b[0mfn\u001b[0m\u001b[0;34m(\u001b[0m\u001b[0mparam\u001b[0m\u001b[0;34m)\u001b[0m\u001b[0;34m\u001b[0m\u001b[0;34m\u001b[0m\u001b[0m\n\u001b[0m\u001b[1;32m    928\u001b[0m             \u001b[0mp_should_use_set_data\u001b[0m \u001b[0;34m=\u001b[0m \u001b[0mcompute_should_use_set_data\u001b[0m\u001b[0;34m(\u001b[0m\u001b[0mparam\u001b[0m\u001b[0;34m,\u001b[0m \u001b[0mparam_applied\u001b[0m\u001b[0;34m)\u001b[0m\u001b[0;34m\u001b[0m\u001b[0;34m\u001b[0m\u001b[0m\n\u001b[1;32m    929\u001b[0m \u001b[0;34m\u001b[0m\u001b[0m\n",
            "\u001b[0;32m/usr/local/lib/python3.11/dist-packages/torch/nn/modules/module.py\u001b[0m in \u001b[0;36mconvert\u001b[0;34m(t)\u001b[0m\n\u001b[1;32m   1324\u001b[0m                         \u001b[0mmemory_format\u001b[0m\u001b[0;34m=\u001b[0m\u001b[0mconvert_to_format\u001b[0m\u001b[0;34m,\u001b[0m\u001b[0;34m\u001b[0m\u001b[0;34m\u001b[0m\u001b[0m\n\u001b[1;32m   1325\u001b[0m                     )\n\u001b[0;32m-> 1326\u001b[0;31m                 return t.to(\n\u001b[0m\u001b[1;32m   1327\u001b[0m                     \u001b[0mdevice\u001b[0m\u001b[0;34m,\u001b[0m\u001b[0;34m\u001b[0m\u001b[0;34m\u001b[0m\u001b[0m\n\u001b[1;32m   1328\u001b[0m                     \u001b[0mdtype\u001b[0m \u001b[0;32mif\u001b[0m \u001b[0mt\u001b[0m\u001b[0;34m.\u001b[0m\u001b[0mis_floating_point\u001b[0m\u001b[0;34m(\u001b[0m\u001b[0;34m)\u001b[0m \u001b[0;32mor\u001b[0m \u001b[0mt\u001b[0m\u001b[0;34m.\u001b[0m\u001b[0mis_complex\u001b[0m\u001b[0;34m(\u001b[0m\u001b[0;34m)\u001b[0m \u001b[0;32melse\u001b[0m \u001b[0;32mNone\u001b[0m\u001b[0;34m,\u001b[0m\u001b[0;34m\u001b[0m\u001b[0;34m\u001b[0m\u001b[0m\n",
            "\u001b[0;31mOutOfMemoryError\u001b[0m: CUDA out of memory. Tried to allocate 26.00 MiB. GPU 0 has a total capacity of 14.74 GiB of which 16.12 MiB is free. Process 6114 has 14.72 GiB memory in use. Of the allocated memory 14.11 GiB is allocated by PyTorch, and 492.92 MiB is reserved by PyTorch but unallocated. If reserved but unallocated memory is large try setting PYTORCH_CUDA_ALLOC_CONF=expandable_segments:True to avoid fragmentation.  See documentation for Memory Management  (https://pytorch.org/docs/stable/notes/cuda.html#environment-variables)"
          ]
        }
      ]
    },
    {
      "cell_type": "code",
      "source": [
        "transcriber = pipeline(model=\"openai/whisper-large-v2\", chunk_length_s=30)\n",
        "transcriber(\"https://huggingface.co/datasets/reach-vb/random-audios/resolve/main/ted_60.wav\")"
      ],
      "metadata": {
        "id": "tVIcuB_p-oO_"
      },
      "execution_count": null,
      "outputs": []
    },
    {
      "cell_type": "code",
      "source": [
        "def data():\n",
        "    for i in range(1000):\n",
        "        yield f\"My example {i}\"\n",
        "\n",
        "\n",
        "pipe = pipeline(model=\"openai-community/gpt2\", device=0)\n",
        "generated_characters = 0\n",
        "for out in pipe(data()):\n",
        "    generated_characters += len(out[0][\"generated_text\"])"
      ],
      "metadata": {
        "id": "6XYXw1HS_FOE"
      },
      "execution_count": null,
      "outputs": []
    },
    {
      "cell_type": "code",
      "source": [
        "from transformers.pipelines.pt_utils import KeyDataset\n",
        "from datasets import load_dataset\n",
        "\n",
        "pipe = pipeline(model=\"hf-internal-testing/tiny-random-wav2vec2\", device=0)\n",
        "dataset = load_dataset(\"hf-internal-testing/librispeech_asr_dummy\", \"clean\", split=\"validation[:10]\")\n",
        "\n",
        "for out in pipe(KeyDataset(dataset, \"audio\")):\n",
        "    print(out)"
      ],
      "metadata": {
        "id": "mEbb54hO_Ync"
      },
      "execution_count": null,
      "outputs": []
    },
    {
      "cell_type": "code",
      "source": [
        "from transformers import pipeline\n",
        "\n",
        "vision_classifier = pipeline(model=\"google/vit-base-patch16-224\")\n",
        "preds = vision_classifier(\n",
        "    images=\"https://huggingface.co/datasets/huggingface/documentation-images/resolve/main/pipeline-cat-chonk.jpeg\"\n",
        ")\n",
        "preds = [{\"score\": round(pred[\"score\"], 4), \"label\": pred[\"label\"]} for pred in preds]\n",
        "preds"
      ],
      "metadata": {
        "id": "Bf40q9fy_fO_"
      },
      "execution_count": null,
      "outputs": []
    },
    {
      "cell_type": "code",
      "source": [
        "classifier = pipeline(model=\"facebook/bart-large-mnli\")\n",
        "classifier(\n",
        "    \"I have a problem with my iphone that needs to be resolved asap!!\",\n",
        "    candidate_labels=[\"urgent\", \"not urgent\", \"phone\", \"tablet\", \"computer\"],\n",
        ")"
      ],
      "metadata": {
        "id": "QbPtzUIp_xxG"
      },
      "execution_count": null,
      "outputs": []
    },
    {
      "cell_type": "code",
      "source": [
        "vqa = pipeline(model=\"impira/layoutlm-document-qa\")\n",
        "output = vqa(\n",
        "    image=\"https://huggingface.co/spaces/impira/docquery/resolve/2359223c1837a7587402bda0f2643382a6eefeab/invoice.png\",\n",
        "    question=\"What is the invoice number?\",\n",
        ")\n",
        "output[0][\"score\"] = round(output[0][\"score\"], 3)\n",
        "output"
      ],
      "metadata": {
        "id": "5i-Kkmv4_5WQ"
      },
      "execution_count": null,
      "outputs": []
    },
    {
      "cell_type": "code",
      "source": [
        "\n",
        "pipe = pipeline(model=\"facebook/opt-1.3b\", torch_dtype=torch.bfloat16, device_map=\"auto\")\n",
        "output = pipe(\"This is a cool example!\", do_sample=True, top_p=0.95)"
      ],
      "metadata": {
        "id": "Oi_gLET4_-aQ"
      },
      "execution_count": null,
      "outputs": []
    },
    {
      "cell_type": "code",
      "source": [
        "\n",
        "pipe = pipeline(model=\"facebook/opt-1.3b\", device_map=\"auto\", model_kwargs={\"load_in_8bit\": True})\n",
        "output = pipe(\"This is a cool example!\", do_sample=True, top_p=0.95)"
      ],
      "metadata": {
        "id": "dW-l-cUAACFE"
      },
      "execution_count": null,
      "outputs": []
    },
    {
      "cell_type": "code",
      "source": [
        "pip install gradio"
      ],
      "metadata": {
        "id": "QKB6K2M3AGPd"
      },
      "execution_count": null,
      "outputs": []
    },
    {
      "cell_type": "code",
      "source": [
        "from transformers import pipeline\n",
        "import gradio as gr\n",
        "\n",
        "pipe = pipeline(\"image-classification\", model=\"google/vit-base-patch16-224\")\n",
        "\n",
        "gr.Interface.from_pipeline(pipe).launch()"
      ],
      "metadata": {
        "id": "lmV1iggfAIcB"
      },
      "execution_count": null,
      "outputs": []
    },
    {
      "cell_type": "code",
      "source": [],
      "metadata": {
        "id": "ea2g9G5sAQKe"
      },
      "execution_count": null,
      "outputs": []
    }
  ]
}